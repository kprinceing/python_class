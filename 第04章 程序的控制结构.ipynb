{
 "cells": [
  {
   "cell_type": "markdown",
   "metadata": {},
   "source": [
    "# 第4章 程序的控制结构"
   ]
  },
  {
   "cell_type": "markdown",
   "metadata": {},
   "source": [
    "## 4.1 程序的三种基本控制结构"
   ]
  },
  {
   "cell_type": "markdown",
   "metadata": {},
   "source": [
    "### 4.1.1 程序的流程图\n"
   ]
  },
  {
   "cell_type": "markdown",
   "metadata": {},
   "source": [
    "### 4.1.2 程序的基本结构及其实例\n",
    "**程序由3种基本结构组成：**<br>\n",
    "- 顺序结构<br><br>\n",
    "- 分支结构<br><br>\n",
    "- 循环结构<br><br>\n",
    "  - 这些基本结构都有一个入口和一个出口。任何程序都由这三种基本结构组合而成，程序整体是顺序结构的\n",
    "\n",
    "**1. 顺序结构及其实例**<br>\n",
    "- 是程序按照语句的自然先后顺序依次执行的一种运行方式。"
   ]
  },
  {
   "cell_type": "code",
   "execution_count": null,
   "metadata": {},
   "outputs": [],
   "source": [
    "R = float(input(\"请输入圆半径:\"))\n",
    "S = 3.1415 * R * R\n",
    "L = 2 * 3.1415 * R \n",
    "print(\"面积和周长:\", S , L)"
   ]
  },
  {
   "cell_type": "code",
   "execution_count": null,
   "metadata": {},
   "outputs": [],
   "source": [
    "from math import *\n",
    "R = float(input(\"请输入圆半径:\"))\n",
    "S = pi * R * R\n",
    "L = 2 * pi * R \n",
    "print(\"半径为{}的面积是{}，其周长是{}。\".format( R , S , L)) "
   ]
  },
  {
   "cell_type": "markdown",
   "metadata": {
    "collapsed": true
   },
   "source": [
    "**2. 分支结构及其实例**<br>\n",
    "- 是程序根据条件判断结果而选择不同向前执行路径的一种运行方式.<br><br>\n",
    "- 包括:<br>\n",
    "  - 单分支结构<br>\n",
    "  - 二分支结构<br>\n",
    "  - 多分支结构"
   ]
  },
  {
   "cell_type": "code",
   "execution_count": null,
   "metadata": {},
   "outputs": [],
   "source": []
  },
  {
   "cell_type": "markdown",
   "metadata": {},
   "source": [
    "**3. 循环结构及其实例**<br>\n",
    "- 循环结构是程序根据条件判断结果向后反复执行的一种运行方式。<br><br>\n",
    "  - 有时需要重复做相同或相似的事情，程序中如何表达?<br><br>\n",
    "\n",
    "- 根据循环体触发条件不同，循环结构包括:<br><br>\n",
    "  - 条件循环结构<br><br>\n",
    "  - 遍历循环结构"
   ]
  },
  {
   "cell_type": "code",
   "execution_count": null,
   "metadata": {},
   "outputs": [],
   "source": [
    "R = int(input(\"请输入正整数:\"))\n",
    "i , S = 1 , 0    #或 i = S = 0\n",
    "while (i<=R):\n",
    "    S = S + i\n",
    "    i = i + 1\n",
    "print(\"累加求和\",S)"
   ]
  },
  {
   "cell_type": "code",
   "execution_count": null,
   "metadata": {},
   "outputs": [],
   "source": [
    "R = int(input(\"请输入正整数:\"))\n",
    "S =  0    \n",
    "for i in range(1,R+1):\n",
    "    S = S + i\n",
    "print(\"累加求和\",S)"
   ]
  },
  {
   "cell_type": "markdown",
   "metadata": {},
   "source": [
    "### 4.1.3 程序控制结构扩展\n",
    "-异常处理\n",
    "  - **try-except**<br><br>\n",
    "\n",
    "- 两个循环语句<br><br>\n",
    "  - break控制符用来结束当前循环；<br><br>\n",
    "  - continue控制符用来结束当前循环的当次循环过程。"
   ]
  },
  {
   "cell_type": "code",
   "execution_count": null,
   "metadata": {},
   "outputs": [],
   "source": [
    "#异常处理\n",
    "from math import *\n",
    "try:\n",
    "    R = float(input(\"请输入圆半径:\"))\n",
    "    S = pi * R * R\n",
    "    L = 2 * pi * R \n",
    "    print(\"半径为{}的面积是{}，其周长是{}。\".format( R , S , L)) \n",
    "except:\n",
    "    print('数据输入错误！！！')"
   ]
  },
  {
   "cell_type": "markdown",
   "metadata": {},
   "source": [
    "## 4.2 程序的分支结构"
   ]
  },
  {
   "cell_type": "markdown",
   "metadata": {},
   "source": [
    "### 4.2.1 单分支结构: if语句"
   ]
  },
  {
   "cell_type": "markdown",
   "metadata": {
    "collapsed": true
   },
   "source": [
    "例4.1 实数绝对值的计算"
   ]
  },
  {
   "cell_type": "code",
   "execution_count": null,
   "metadata": {},
   "outputs": [],
   "source": [
    "R = float(input(\"输入实数:\"))\n",
    "if (R < 0):\n",
    "    R = -R\n",
    "print(\"其绝对值是{}\".format(R))"
   ]
  },
  {
   "cell_type": "markdown",
   "metadata": {},
   "source": [
    "例 4.2 判断用户输入数字的是否为偶数"
   ]
  },
  {
   "cell_type": "code",
   "execution_count": null,
   "metadata": {},
   "outputs": [],
   "source": [
    "s = int(input(\"请输出一个整数：\"))\n",
    "if s % 2 == 0:\n",
    "    print(\"这是个偶数\")\n",
    "print(\"输入数字是:\", s)"
   ]
  },
  {
   "cell_type": "markdown",
   "metadata": {},
   "source": [
    "例4.3 判断用户输入的数字是否被3和5同时整除"
   ]
  },
  {
   "cell_type": "code",
   "execution_count": null,
   "metadata": {},
   "outputs": [],
   "source": [
    "s = int(input('请输入一个整数：'))\n",
    "if s % 3 == 0 and s % 5 == 0:\n",
    "    print ('{:d}能够被3和5同时整除'.format( s ))"
   ]
  },
  {
   "cell_type": "code",
   "execution_count": null,
   "metadata": {},
   "outputs": [],
   "source": []
  },
  {
   "cell_type": "markdown",
   "metadata": {},
   "source": [
    "多个条件分别用单分支实现，即每种情况的处理都分别用一个单分支语句实现\n",
    "\n",
    "例4.4 判断用户输入数字的是否为偶数（使用两个单分支语句）"
   ]
  },
  {
   "cell_type": "code",
   "execution_count": null,
   "metadata": {},
   "outputs": [],
   "source": [
    "s = int(input(\"请输出一个整数：\"))\n",
    "if s % 2 == 0:\n",
    "    print(\"这是个偶数\")\n",
    "if s % 2 != 0:\n",
    "    print(\"这是个奇数\")\n",
    "print(\"输入数字是:\", s)"
   ]
  },
  {
   "cell_type": "code",
   "execution_count": null,
   "metadata": {},
   "outputs": [],
   "source": []
  },
  {
   "cell_type": "markdown",
   "metadata": {},
   "source": [
    "### 4.2.2 二分支结构: if-else语句\n",
    "<font size=3>  \n",
    "- if和else是非此即彼的关系，二者选其一 "
   ]
  },
  {
   "cell_type": "markdown",
   "metadata": {},
   "source": [
    "例4.4 判断用户输入数字的奇偶性（使用双分支语句实现）"
   ]
  },
  {
   "cell_type": "code",
   "execution_count": null,
   "metadata": {},
   "outputs": [],
   "source": [
    "#判断用户输入数字的奇偶性\n",
    "s = int(input('请输入一个整数：'))\n",
    "if s % 2 == 0:\n",
    "    print ('{:d}是一个偶数'.format( s ) )\n",
    "else:\n",
    "    print ('{:d}是一个奇数'.format( s ))"
   ]
  },
  {
   "cell_type": "markdown",
   "metadata": {},
   "source": [
    "例4.5 判断用户输入的数字是否被3和5同时整除（使用双分支语句实现）"
   ]
  },
  {
   "cell_type": "code",
   "execution_count": null,
   "metadata": {},
   "outputs": [],
   "source": [
    "#判断用户输入的数字是否被3和5同时整除\n",
    "s = int(input('请输入一个整数：'))\n",
    "if s % 3 == 0 and s % 5 == 0:\n",
    "    print ('{:d}能够被3和5同时整除'.format( s ))\n",
    "else:\n",
    "    print ('{:d}不能够被3和5同时整除'.format( s ))"
   ]
  },
  {
   "cell_type": "code",
   "execution_count": null,
   "metadata": {},
   "outputs": [],
   "source": []
  },
  {
   "cell_type": "markdown",
   "metadata": {},
   "source": [
    "### 条件结构课堂练习\n",
    "\n",
    "输入一个年份，输出是否为闰年。#闰年条件：能被4整除但不能被100整除，或者能被400整除的年份都是闰年。"
   ]
  },
  {
   "cell_type": "code",
   "execution_count": null,
   "metadata": {},
   "outputs": [],
   "source": [
    "y = int(input('请输入年份：'))\n",
    "if y % 4 == 0 and y % 100 != 0 or y % 400 == 0:\n",
    "    print('{}是闰年。'.format(y))\n",
    "else:\n",
    "    print('{}不是闰年。'.format(y))"
   ]
  },
  {
   "cell_type": "markdown",
   "metadata": {},
   "source": [
    "**三元表达式**\n",
    "- if…else的紧凑结构,非常适合对特殊值处理的情况"
   ]
  },
  {
   "cell_type": "markdown",
   "metadata": {},
   "source": [
    "例4.4 判断用户输入数字的奇偶性（使用三元表达式实现）"
   ]
  },
  {
   "cell_type": "code",
   "execution_count": null,
   "metadata": {},
   "outputs": [],
   "source": [
    "#判断用户输入数字的奇偶性\n",
    "s = int(input('请输入一个整数：'))\n",
    "print ('{:d}是一个{}数'.format( s, '偶' if s % 2 == 0 else '奇' ) )"
   ]
  },
  {
   "cell_type": "markdown",
   "metadata": {},
   "source": [
    "例4.5 判断用户输入的数字是否被3和5同时整除（使用三元表达式实现）"
   ]
  },
  {
   "cell_type": "code",
   "execution_count": null,
   "metadata": {},
   "outputs": [],
   "source": [
    "#判断用户输入的数字是否被3和5同时整除\n",
    "s = int(input('请输入一个整数：'))\n",
    "print ('{}{}能够被3和5同时整除'.format(s , '' if s % 3 == 0 and s % 5 == 0  else '不'))"
   ]
  },
  {
   "cell_type": "code",
   "execution_count": null,
   "metadata": {},
   "outputs": [],
   "source": []
  },
  {
   "cell_type": "markdown",
   "metadata": {},
   "source": [
    "### 条件结构课堂练习\n",
    "<font size=4>\n",
    "输入一个年份，用三元表达式判断是否为闰年并输出。"
   ]
  },
  {
   "cell_type": "code",
   "execution_count": null,
   "metadata": {},
   "outputs": [],
   "source": []
  },
  {
   "cell_type": "markdown",
   "metadata": {},
   "source": [
    "### 4.2.3 多分支结构: if-elif-else语句"
   ]
  },
  {
   "cell_type": "markdown",
   "metadata": {},
   "source": [
    "利用if-else语句的嵌套实现多分支结构"
   ]
  },
  {
   "cell_type": "markdown",
   "metadata": {},
   "source": [
    "例4.6 求一元二次方程的实根（使用if语句的嵌套实现）"
   ]
  },
  {
   "cell_type": "code",
   "execution_count": null,
   "metadata": {},
   "outputs": [],
   "source": [
    "#求一元二次方程的实根\n",
    "#使用if语句的嵌套实现多分支结构\n",
    "from math import *\n",
    "a = float(input('请输入一元二次方程的系数a：'))\n",
    "b = float(input('请输入一元二次方程的系数b：')) \n",
    "c = float(input('请输入一元二次方程的系数c：'))\n",
    "d = b * b - 4 * a * c\n",
    "if d > 0:\n",
    "    x1 = (-b + sqrt(d))/(2 * a)\n",
    "    x2 = (-b - sqrt(d))/(2 * a)\n",
    "    print ('两个实根，x1=' ,x1 , '  x2=' , x2)\n",
    "else:\n",
    "    if d == 0:\n",
    "        x= -b/(2 * a)\n",
    "        print ('只有一个实根，x=' , x)\n",
    "    else:\n",
    "        print ('无实根')"
   ]
  },
  {
   "cell_type": "code",
   "execution_count": null,
   "metadata": {},
   "outputs": [],
   "source": []
  },
  {
   "cell_type": "markdown",
   "metadata": {},
   "source": [
    "if-elif-else语句"
   ]
  },
  {
   "cell_type": "markdown",
   "metadata": {},
   "source": [
    "例4.6 求一元二次方程的实根（使用if-elif-else语句实现）"
   ]
  },
  {
   "cell_type": "code",
   "execution_count": null,
   "metadata": {},
   "outputs": [],
   "source": [
    "#求一元二次方程的实根\n",
    "#使用if-elif-else语句实现多分支结构\n",
    "from math import *\n",
    "a = float(input('请输入一元二次方程的系数a：'))\n",
    "b = float(input('请输入一元二次方程的系数b：')) \n",
    "c = float(input('请输入一元二次方程的系数c：'))\n",
    "d = b * b - 4 * a * c\n",
    "if d > 0:\n",
    "    x1 = (-b + sqrt(d))/(2 * a)\n",
    "    x2 = (-b - sqrt(d))/(2 * a)\n",
    "    print ('两个实根，x1=' ,x1 , '  x2=' , x2)\n",
    "elif d == 0:\n",
    "    x= -b/(2 * a)\n",
    "    print ('只有一个实根，x=' , x)\n",
    "else:\n",
    "    print ('无实根')"
   ]
  },
  {
   "cell_type": "markdown",
   "metadata": {},
   "source": [
    "例4.7 由键盘输入空气质量指数AQI，输出对应的空气质量（优、良、轻度污染等）并给出相应的是否适应活动的措施"
   ]
  },
  {
   "cell_type": "code",
   "execution_count": null,
   "metadata": {},
   "outputs": [],
   "source": [
    "AQI = float(input(\"请输入空气质量指数（非负数）：\"))\n",
    "if 0<= AQI <=50:\n",
    "    print(\"优，各类人群可正常活动\")\n",
    "elif 50< AQI <=100:\n",
    "    print(\"良，极少数敏感人群应减少户外活动\")\n",
    "elif 100< AQI <=150:\n",
    "    print(\"轻度污染，老人、儿童、呼吸系统等疾病患者减少长时间、高强度的户外活动\")\n",
    "elif 150< AQI <=200:\n",
    "    print(\"中度污染，儿童、老人、呼吸系统等疾病患者及一般人群减少户外活动\")\n",
    "elif 200<AQI <=300:\n",
    "    print(\"重度污染，儿童、老人、呼吸系统等疾病患者及一般人群停止或减少户外运动\")\n",
    "else:\n",
    "    print(\"严重污染，儿童、老人、呼吸系统等疾病患者及一般人群停止户外活动\")"
   ]
  },
  {
   "cell_type": "code",
   "execution_count": null,
   "metadata": {},
   "outputs": [],
   "source": [
    "AQI = float(input(\"请输入空气质量指数（非负数）：\"))\n",
    "if 0<= AQI <=50:\n",
    "    print(\"优，各类人群可正常活动\")\n",
    "elif AQI <=100:\n",
    "    print(\"良，极少数敏感人群应减少户外活动\")\n",
    "elif AQI <=150:\n",
    "    print(\"轻度污染，老人、儿童、呼吸系统等疾病患者减少长时间、高强度的户外活动\")\n",
    "elif AQI <=200:\n",
    "    print(\"中度污染，儿童、老人、呼吸系统等疾病患者及一般人群减少户外活动\")\n",
    "elif AQI <=300:\n",
    "    print(\"重度污染，儿童、老人、呼吸系统等疾病患者及一般人群停止或减少户外运动\")\n",
    "else:\n",
    "    print(\"严重污染，儿童、老人、呼吸系统等疾病患者及一般人群停止户外活动\")"
   ]
  },
  {
   "cell_type": "code",
   "execution_count": null,
   "metadata": {},
   "outputs": [],
   "source": [
    "#使用多个单分支语句实现\n",
    "AQI = float(input(\"请输入空气质量指数（非负数）：\"))\n",
    "if 0 <= AQI <= 50:\n",
    "    print(\"优，各类人群可正常活动\")\n",
    "if 50 < AQI <= 100:\n",
    "    print(\"良，极少数敏感人群应减少户外活动\")\n",
    "if 100 < AQI <= 150:\n",
    "    print(\"轻度污染，老人、儿童、呼吸系统等疾病患者减少长时间、高强度的户外活动\")\n",
    "if 150 < AQI <= 200:\n",
    "    print(\"中度污染，儿童、老人、呼吸系统等疾病患者及一般人群减少户外活动\")\n",
    "if 200 <AQI <= 300:\n",
    "        print(\"重度污染，儿童、老人、呼吸系统等疾病患者及一般人群停止或减少户外运动\")\n",
    "    else:\n",
    "        print(\"严重污染，儿童、老人、呼吸系统等疾病患者及一般人群停止户外活动\")"
   ]
  },
  {
   "cell_type": "markdown",
   "metadata": {},
   "source": [
    "例4.8 获取用户输入的一个百分制成绩，转换成五分制，给出对应的A、B、C、D、E等级。"
   ]
  },
  {
   "cell_type": "code",
   "execution_count": null,
   "metadata": {},
   "outputs": [],
   "source": [
    "# 将百分制成绩转换为五分制成绩\n",
    "#逻辑存在错误\n",
    "score = float(input(\"请输出一个百分制成绩：\"))\n",
    "if score >= 60.0:\n",
    "    grade = \"D\"\n",
    "elif score >= 70.0:\n",
    "    grade = \"C\"\n",
    "elif score >= 80.0:\n",
    "    grade = \"B\"\n",
    "elif score >= 90.0:\n",
    "    grade = \"A\"\n",
    "else:\n",
    "    grade = \"E\"\n",
    "print(\"对应的五分制成绩是：{}\".format(grade))"
   ]
  },
  {
   "cell_type": "code",
   "execution_count": null,
   "metadata": {},
   "outputs": [],
   "source": [
    "# 将百分制成绩转换为五分制成绩\n",
    "#逻辑正确\n",
    "score = float(input(\"请输出一个百分制成绩：\"))\n",
    "if score >= 90.0:\n",
    "    grade = \"A\"\n",
    "elif score >= 80.0:\n",
    "    grade = \"B\"\n",
    "elif score >= 70.0:\n",
    "    grade = \"C\"\n",
    "elif score >= 60.0:\n",
    "    grade = \"D\"\n",
    "else:\n",
    "    grade = \"E\"\n",
    "print(\"对应的五分制成绩是：{}\".format(grade))"
   ]
  },
  {
   "cell_type": "markdown",
   "metadata": {},
   "source": [
    "**综合例题：博彩，“押大押小”**"
   ]
  },
  {
   "cell_type": "code",
   "execution_count": null,
   "metadata": {},
   "outputs": [],
   "source": [
    "from random import randint\n",
    "a = randint(1 , 6)\n",
    "b = randint(1 , 6)\n",
    "c = randint(1 , 6)\n",
    "guess = input(\"押大押小（1 or 0）：\")\n",
    "print( \"骰子的点数：\" , a , b , c)\n",
    "if a == b == c:\n",
    "    answer = '2'\n",
    "elif a + b + c >= 11:\n",
    "    answer = '1'\n",
    "else:\n",
    "    answer = '0'\n",
    "if guess == answer:\n",
    "    print('恭喜你，押对了！')\n",
    "else:\n",
    "    print('很遗憾，押错了！')"
   ]
  },
  {
   "cell_type": "markdown",
   "metadata": {},
   "source": [
    "**多分支结构有时通过对字典进行索引运算或搜索列表来实现更合适。（结合第6章的6.5）**<br>\n",
    "- 因为字典和列表可在运行时创建，有时会比硬编码的if逻辑更有灵活性。<br><br>  \n",
    "**字典实现多分支结构例题**<br><br>\n",
    ">choice = 'ham'<br><br>\n",
    "dic = {'spam': 1.25, 'ham': 1.99, 'eggs': 0.99, 'bacon': 1.10}<br><br>\n",
    "print (dic[choice])<br><br>\n",
    "\n",
    "- **字典适用于将值和键相关联，值也可以是函数，因此可以用于更多灵活的处理。**\n"
   ]
  },
  {
   "cell_type": "code",
   "execution_count": null,
   "metadata": {},
   "outputs": [],
   "source": [
    "choice = 'ham'\n",
    "dic = {'spam': 1.25, 'ham': 1.99, 'eggs': 0.99, 'bacon': 1.10}\n",
    "print (dic[choice])"
   ]
  },
  {
   "cell_type": "code",
   "execution_count": null,
   "metadata": {},
   "outputs": [],
   "source": [
    "#若用if语句就显麻烦\n",
    "choice = 'ham'\n",
    "if choice == 'spam':\n",
    "    print (1.25)\n",
    "elif choice == 'ham':\n",
    "    print (1.99)\n",
    "elif choice == 'eggs':\n",
    "    print (0.99)\n",
    "elif choice == 'bacon':\n",
    "    print (1.10)\n",
    "else:\n",
    "    print ('bad choice')"
   ]
  },
  {
   "cell_type": "code",
   "execution_count": null,
   "metadata": {},
   "outputs": [],
   "source": []
  },
  {
   "cell_type": "markdown",
   "metadata": {},
   "source": [
    "## 4.3 程序的循环结构\n",
    "**循环**<br>\n",
    "- 用很少的语句表达重复执行的很多语句，用于重复处理相同或相似的事情。<br><br>\n",
    "- 根据循环执行次数的确定性，循环可以分为：<br><br>\n",
    "  - 确定次数循环<br><br>\n",
    "  - 非确定次数循环<br><br>\n",
    "\n",
    "**确定次数循环**<br>\n",
    "- 指循环体对循环次数有明确的定义，称为“**遍历循环**”。<br><br>\n",
    "  - 循环次数采用遍历结构中**元素个数**来体现；<br><br>\n",
    "  - 采用$for$语句实现。<br><br>\n",
    "\n",
    "**非确定次数循环**<br>\n",
    "- 指程序不确定循环体可能的执行次数，而是**通过循环条件的True或False判断是否继续执行循环体**。<br><br>\n",
    "  - 采用while语句实现。"
   ]
  },
  {
   "cell_type": "code",
   "execution_count": null,
   "metadata": {},
   "outputs": [],
   "source": []
  },
  {
   "cell_type": "markdown",
   "metadata": {},
   "source": [
    "### 4.4.1 遍历循环: for语句"
   ]
  },
  {
   "cell_type": "code",
   "execution_count": null,
   "metadata": {},
   "outputs": [],
   "source": [
    "for c in \"Python\":\n",
    "    print(c)"
   ]
  },
  {
   "cell_type": "code",
   "execution_count": null,
   "metadata": {},
   "outputs": [],
   "source": []
  },
  {
   "cell_type": "markdown",
   "metadata": {},
   "source": [
    "**for语句中序列的作用**<br>\n",
    "- **计数器**：序列只是用来控制循环的次数.<br><br>\n",
    ">for i in range(10):<br><br>\n",
    "&nbsp;&nbsp;&nbsp;&nbsp;&nbsp;&nbsp;&nbsp;&nbsp;print (\"好\")<br><br>\n",
    "  - 循环体不引用循环变量.<br><br>\n",
    "- **数据**：序列本身是循环体内要处理的数据，即每次循环其循环控制变量读取序列的元素本身是循环体要处理的数据.<br><br>\n",
    ">for i in range(10):<br><br>\n",
    "&nbsp;&nbsp;&nbsp;&nbsp;&nbsp;&nbsp;&nbsp;&nbsp;print (i*i)<br><br>\n",
    "  - 循环体引用循环变量."
   ]
  },
  {
   "cell_type": "code",
   "execution_count": null,
   "metadata": {},
   "outputs": [],
   "source": [
    "#用作计数器：序列只是用来控制循环的次数\n",
    "for i in range(5):\n",
    "    print (\"好\")"
   ]
  },
  {
   "cell_type": "code",
   "execution_count": null,
   "metadata": {},
   "outputs": [],
   "source": [
    "'''\n",
    "用于数据：\n",
    "range序列本身是循环体内要处理的数据，\n",
    "每次循环其循环控制变量读取序列的元素本身是循环体要处理的数据'''\n",
    "\n",
    "for i in range(10):\n",
    "    print (i * i , end = ' ')"
   ]
  },
  {
   "cell_type": "markdown",
   "metadata": {},
   "source": [
    "#### 例4.9：求一个正整数的阶乘"
   ]
  },
  {
   "cell_type": "code",
   "execution_count": null,
   "metadata": {},
   "outputs": [],
   "source": [
    "#计算n! \n",
    "n = int(input(\"请输入一个正整数：\"))\n",
    "tmp = 1\n",
    "for j in range( 1, n + 1 ):      #j分别取1、2、。。。。。。、n\n",
    "    tmp *= j\n",
    "print(\"n!是：{}\".format(tmp))  "
   ]
  },
  {
   "cell_type": "code",
   "execution_count": null,
   "metadata": {},
   "outputs": [],
   "source": []
  },
  {
   "cell_type": "markdown",
   "metadata": {},
   "source": [
    "#### for循环结构课堂练习\n",
    "<font size=3> \n",
    "使用Python编程，求1～100间所有偶数的和"
   ]
  },
  {
   "cell_type": "code",
   "execution_count": null,
   "metadata": {},
   "outputs": [],
   "source": []
  },
  {
   "cell_type": "markdown",
   "metadata": {},
   "source": [
    "#### 例4.10：判断一个正整数是否是素数——只能被1和自身整除的正整数"
   ]
  },
  {
   "cell_type": "code",
   "execution_count": null,
   "metadata": {},
   "outputs": [],
   "source": [
    "#例：求一个正整数是否素数（1）-- 使用for语句的else\n",
    "num = int(input (\"请输入一个正整数：\"))\n",
    "c = 0\n",
    "for j in range(2,num):\n",
    "    c += 1\n",
    "    if not(num % j):                          #或 i % j == 0\n",
    "        print (num, \" 不是素数\")\n",
    "        break\n",
    "else:\n",
    "    print (num, \" 是素数\")\n",
    "print (\"Good bye!\",c)"
   ]
  },
  {
   "cell_type": "code",
   "execution_count": null,
   "metadata": {},
   "outputs": [],
   "source": [
    "#例：求一个正整数是否素数（2）-- 使用for语句的else\n",
    "import math\n",
    "num = int(input (\"请输入一个正整数：\"))\n",
    "c = 0\n",
    "for j in range(2, int(math.sqrt(num)+1)):   #除到i的平方根即可\n",
    "    c += 1\n",
    "    if not(num % j): \n",
    "        print (num, \" 不是素数\")\n",
    "        break\n",
    "else:\n",
    "    print (num, \" 是素数\")\n",
    "print (\"Good bye!\",c)"
   ]
  },
  {
   "cell_type": "code",
   "execution_count": null,
   "metadata": {},
   "outputs": [],
   "source": []
  },
  {
   "cell_type": "markdown",
   "metadata": {},
   "source": [
    "### 4.3.2 条件循环: while"
   ]
  },
  {
   "cell_type": "code",
   "execution_count": null,
   "metadata": {},
   "outputs": [],
   "source": [
    "n = 0\n",
    "while  n < 10:\n",
    "    print(n)\n",
    "    n = n + 3"
   ]
  },
  {
   "cell_type": "code",
   "execution_count": null,
   "metadata": {},
   "outputs": [],
   "source": [
    "n = 0\n",
    "while  n < 10:\n",
    "    print(n)\n"
   ]
  },
  {
   "cell_type": "markdown",
   "metadata": {},
   "source": [
    "##### 对比一下上面的用while实现的循环与用for实现的循环的区别？\n",
    "##### 用while实现的循环多了哪些？"
   ]
  },
  {
   "cell_type": "code",
   "execution_count": null,
   "metadata": {},
   "outputs": [],
   "source": []
  },
  {
   "cell_type": "markdown",
   "metadata": {},
   "source": [
    "**常用while循环模式**<br><br>\n",
    "（1）用while实现计数器循环<br>\n",
    ">count = 0 #计数器count置为0<br><br>\n",
    "while count < n:<br><br>\n",
    "&nbsp;&nbsp;&nbsp;&nbsp;&nbsp;&nbsp;&nbsp;&nbsp;处理代码<br><br>\n",
    "&nbsp;&nbsp;&nbsp;&nbsp;&nbsp;&nbsp;&nbsp;&nbsp;count ＝ count + 1或count += 1"
   ]
  },
  {
   "cell_type": "markdown",
   "metadata": {},
   "source": [
    "#### 例4.11，计算第n个斐波那契数"
   ]
  },
  {
   "cell_type": "code",
   "execution_count": null,
   "metadata": {},
   "outputs": [],
   "source": [
    "#用while循环计算，第n个斐波那契数列的值\n",
    "n = int(input('请输入一个自然数n：'))\n",
    "if n in {1 , 2}:\n",
    "    print('F({})={}'.format(n, 1))\n",
    "elif n >= 3 :\n",
    "    F_1 = 1                       #F(2)=1\n",
    "    F_2 = 1                       #F(1)=1\n",
    "    i = 3\n",
    "    while i <= n :\n",
    "        F = F_1 + F_2                    #F(i)=F(i-1)+ F(i-2)\n",
    "        F_2 , F_1 = F_1 , F              #F(i-1) ➾ F(i-2), F(i) ➾ F(i-1)\n",
    "        i += 1\n",
    "    print('F({})={}'.format(n, F))\n",
    "else:\n",
    "    print('输入的n值错误！')"
   ]
  },
  {
   "cell_type": "code",
   "execution_count": null,
   "metadata": {},
   "outputs": [],
   "source": [
    "#用for循环计算，第n个斐波那契数列的值\n",
    "n = int(input('请输入一个自然数n：'))\n",
    "if n in {1 , 2}:\n",
    "    print('F({})={}'.format(n, 1))\n",
    "elif n >= 3 :\n",
    "    F_1 = 1                       #F(2)=1\n",
    "    F_2 = 1                       #F(1)=1\n",
    "    for i in range(3,n+1):\n",
    "        F = F_1 + F_2                    #F(i)=F(i-1)+ F(i-2)\n",
    "        F_2 , F_1 = F_1 , F            #F(i-1) ➾ F(i-2), F(i) ➾ F(i-1)\n",
    "    print('F({})={}'.format(n, F))\n",
    "else:\n",
    "    print('输入的n值错误！')"
   ]
  },
  {
   "cell_type": "markdown",
   "metadata": {},
   "source": [
    "**常用while循环模式（续）**<br><br>\n",
    "（2）条件测试循环"
   ]
  },
  {
   "cell_type": "markdown",
   "metadata": {},
   "source": [
    "#### 例4.12，求出不大于1000的斐波那契数列的值"
   ]
  },
  {
   "cell_type": "code",
   "execution_count": null,
   "metadata": {},
   "outputs": [],
   "source": [
    "#求出不大于1000的斐波那契数列的值\n",
    "\n",
    "F = 1                                  #F(1)=1\n",
    "F1 = 1                                #F(2)=1\n",
    "while F <= 1000 :\n",
    "    print(F , end = ' ')\n",
    "    F2 = F + F1                #F(i+2)=F(i)+F(i+1)\n",
    "    F1 , F = F2 , F1         #F(i+2) ➾F(i+1), F(i+1) ➾ F(i)"
   ]
  },
  {
   "cell_type": "code",
   "execution_count": null,
   "metadata": {},
   "outputs": [],
   "source": []
  },
  {
   "cell_type": "markdown",
   "metadata": {},
   "source": [
    "**常用while循环模式（续）**<br><br>\n",
    "（3）后测试循环<br><br>\n",
    "输入验证问题:<br>\n",
    "- 检查用户输入是否符合要求,不符合就要求用户重新输入,直至符合为止.<br><br>\n",
    "\n",
    "<br>这是一种后测试循环:<br>\n",
    "- 执行循环体后才测试条件<br><br>\n",
    "- 循环体至少执行一次<br><br>\n",
    "- 直至条件成立才退出循环<br><br>\n",
    "\n",
    "结合异常处理在后面讲授。"
   ]
  },
  {
   "cell_type": "code",
   "execution_count": null,
   "metadata": {},
   "outputs": [],
   "source": []
  },
  {
   "cell_type": "markdown",
   "metadata": {},
   "source": [
    "<font size=3>  \n",
    "条件循环也有一种使用保留字else的扩展模式：<br>\n",
    ">while  <条件>:<br><br>\n",
    "&nbsp;&nbsp;&nbsp;&nbsp;&nbsp;&nbsp;&nbsp;&nbsp;<语句块1><br><br>\n",
    "else:<br><br>\n",
    "&nbsp;&nbsp;&nbsp;&nbsp;&nbsp;&nbsp;&nbsp;&nbsp;<语句块2>"
   ]
  },
  {
   "cell_type": "code",
   "execution_count": null,
   "metadata": {},
   "outputs": [],
   "source": []
  },
  {
   "cell_type": "markdown",
   "metadata": {},
   "source": [
    "#### while循环结构课堂练习\n",
    "假设一年期定期利率为1.65%，计算一下需要过多少年，10000元的一年定期存款连本带息能翻番。"
   ]
  },
  {
   "cell_type": "code",
   "execution_count": null,
   "metadata": {},
   "outputs": [],
   "source": []
  },
  {
   "cell_type": "markdown",
   "metadata": {},
   "source": [
    "### 4.4.3 循环语句的嵌套\n",
    "Python 允许在一个循环体里嵌入另一个循环。<br>\n",
    "\n",
    "- 在while循环中可以嵌入for循环， 反之，也可以在for循环中嵌入while循环。<br><br>\n",
    "- 尽量少用循环语句的嵌套（why？）<br><br>"
   ]
  },
  {
   "cell_type": "markdown",
   "metadata": {},
   "source": [
    "#### 4.13 输出“九九乘法表”"
   ]
  },
  {
   "cell_type": "code",
   "execution_count": null,
   "metadata": {
    "scrolled": true
   },
   "outputs": [],
   "source": [
    "#输出“九九乘法表”\n",
    "for i in range( 1, 10 ):               #外层循环：i的范围为1~9，代表行\n",
    "    for j in range( 1, i + 1 ):        #内层循环：j的范围为1~i，随着外层i递增，每行输出的算式个数会越来越多\n",
    "        print(\"{}*{}={:2} \".format( j , i , i * j ), end = ' ')    #字符格式化输出\n",
    "    print('')                          #print(\"\")或者('')表示换行，不输出这句的话输出的乘法表的格式会错乱"
   ]
  },
  {
   "cell_type": "markdown",
   "metadata": {},
   "source": [
    "#### 例4.9：求一个正整数的阶乘"
   ]
  },
  {
   "cell_type": "code",
   "execution_count": null,
   "metadata": {},
   "outputs": [],
   "source": [
    "#计算n! \n",
    "n = int(input(\"请输入一个正整数：\"))\n",
    "tmp = 1\n",
    "for j in range( 1, n + 1 ):      #j分别取1、2、。。。。。。、n\n",
    "    tmp *= j\n",
    "print(\"n!是：{}\".format(tmp))  "
   ]
  },
  {
   "cell_type": "markdown",
   "metadata": {},
   "source": [
    "#### 例4.14：求1到10的阶乘的和"
   ]
  },
  {
   "cell_type": "code",
   "execution_count": null,
   "metadata": {},
   "outputs": [],
   "source": [
    "#计算前十个正整数的阶乘和∑i! (i from 1 to 10)，用双重循环\n",
    "sum = c = 0                      \n",
    "for n in range( 1, 11 ):                \n",
    "    tmp = 1\n",
    "    for j in range( 1, n + 1 ):\n",
    "        tmp *= j\n",
    "        c += 1\n",
    "    sum += tmp                         \n",
    "print(\"运算结果是：{}\".format(sum))  \n",
    "print(\"内循环次数：{}\".format(c))"
   ]
  },
  {
   "cell_type": "code",
   "execution_count": null,
   "metadata": {},
   "outputs": [],
   "source": [
    "#计算前十个正整数的阶乘和 ∑i! (i from 1 to 10)，用单循环\n",
    "sum, tmp = 0,1                       #声明变量sum(和)、tmp（临时变量），sum初值为0表示和运算的单位元，tmp初值为1表示积运算的单位元\n",
    "for n in range( 1, 11 ):                #for循环：i的范围为1~10\n",
    "    tmp *= n                           #将tmp*i赋值给tmp\n",
    "    sum += tmp                         #将sum+tmp赋值给sum\n",
    "print(\"运算结果是：{}\".format(sum))   #将循环累加的和sum输出"
   ]
  },
  {
   "cell_type": "code",
   "execution_count": null,
   "metadata": {},
   "outputs": [],
   "source": []
  },
  {
   "cell_type": "markdown",
   "metadata": {},
   "source": [
    "### 4.4.4 循环保留字: break和continue\n",
    "循环结构有两个辅助保留字：break和continue，它们用来辅助控制循环执行。<br>\n",
    "- 用在while和for循环中，可以更改循环体语句执行的顺序；<br><br>\n",
    "- 一般结合if语句使用。"
   ]
  },
  {
   "cell_type": "markdown",
   "metadata": {},
   "source": [
    "#### 例4.15 输入n个数，求其平均值"
   ]
  },
  {
   "cell_type": "code",
   "execution_count": null,
   "metadata": {},
   "outputs": [],
   "source": [
    "s = 0\n",
    "n = 0\n",
    "while True:\n",
    "    num = input(\"请输入第\" + str(n+1) + \"个数(按Q退出): \")\n",
    "    if num.upper() == \"Q\":\n",
    "        break\n",
    "    s += float(num)\n",
    "    n += 1\n",
    "print(\"{}个数的平均值是：{:.2f}\".format( n , s / n ))"
   ]
  },
  {
   "cell_type": "markdown",
   "metadata": {
    "scrolled": true
   },
   "source": [
    "#### 例4.16  continue语句实例：计算已修完的学分数"
   ]
  },
  {
   "cell_type": "code",
   "execution_count": null,
   "metadata": {},
   "outputs": [],
   "source": [
    "#continue语句实例：计算已修完的学分数\n",
    "scores = [(98 , 2) , (78 , 3) , (86 , 3) , (55 , 4) , (89 , 2)]\n",
    "g = 0\n",
    "for s in scores:\n",
    "    if s[0] < 60 :\n",
    "        continue\n",
    "    g = g + s[1]\n",
    "print(scores , '已完成的学分数为：' , g)"
   ]
  },
  {
   "cell_type": "markdown",
   "metadata": {},
   "source": [
    "#### 例题：求一个正整数是否是素数"
   ]
  },
  {
   "cell_type": "code",
   "execution_count": null,
   "metadata": {},
   "outputs": [],
   "source": [
    "#例：求一个正整数是否素数（1）-- 使用for语句的else\n",
    "import time\n",
    "start = time.time()\n",
    "num = int(input('请输入一个正整数：'))\n",
    "c = 0\n",
    "for j in range( 2, num ):\n",
    "    c += 1\n",
    "    if num % j == 0: \n",
    "        print (num , \" 不是素数\")\n",
    "        break\n",
    "else:\n",
    "    print (num , \" 是素数\")\n",
    "print (\"Good bye!\" , '循环次数为：{}；所用时间：{}'.format( c , time.time() - start))"
   ]
  },
  {
   "cell_type": "code",
   "execution_count": null,
   "metadata": {},
   "outputs": [],
   "source": [
    "#例：求一个正整数是否素数（2）\n",
    "import time\n",
    "start = time.time()\n",
    "num = int(input('请输入一个正整数：'))\n",
    "c = 0\n",
    "n = int(num / 2)\n",
    "for j in range( 2, n ):\n",
    "    c += 1\n",
    "    if not(num % j): \n",
    "        print (num , \" 不是素数\")\n",
    "        break\n",
    "else:\n",
    "    print (num , \" 是素数\")\n",
    "print (\"Good bye!\" , '循环次数为：{}；所用时间：{}'.format( c , time.time() - start))"
   ]
  },
  {
   "cell_type": "code",
   "execution_count": null,
   "metadata": {},
   "outputs": [],
   "source": [
    "#例：求一个正整数是否素数（3）\n",
    "import time\n",
    "start = time.time()\n",
    "num = int(input('请输入一个正整数：'))\n",
    "c = 0\n",
    "for j in range(2,int(num ** 0.5) + 1):\n",
    "    c += 1\n",
    "    if not(num % j): \n",
    "        print (num , \" 不是素数\")\n",
    "        break\n",
    "else:\n",
    "    print (num , \" 是素数\")\n",
    "print (\"Good bye!\" , '循环次数为：{}；所用时间：{}'.format( c , time.time() - start))"
   ]
  },
  {
   "cell_type": "code",
   "execution_count": null,
   "metadata": {},
   "outputs": [],
   "source": [
    "#例：求一个正整数是否素数（4）\n",
    "import math\n",
    "import time\n",
    "start = time.clock()\n",
    "num = int(input (\"请输入一个正整数：\"))\n",
    "c = 0\n",
    "for j in range(2 , math.ceil(math.sqrt(num))):\n",
    "    c += 1\n",
    "    if not(num % j): \n",
    "        print (num , \" 不是素数\")\n",
    "        break\n",
    "else:\n",
    "    print (num , \" 是素数\")\n",
    "print (\"Good bye!\" , '循环次数为：{}；所用时间：{}'.format( c , time.time() - start))"
   ]
  },
  {
   "cell_type": "markdown",
   "metadata": {},
   "source": [
    "#### 例4.17：求 2~100之间的素数"
   ]
  },
  {
   "cell_type": "code",
   "execution_count": null,
   "metadata": {},
   "outputs": [],
   "source": [
    "#例：求 2~100之间的素数\n",
    "c = 0\n",
    "for i in range(2,100):\n",
    "    for j in range(2,int(i ** 0.5) + 1):\n",
    "        c += 1\n",
    "        if not(i%j): \n",
    "            break\n",
    "    else: \n",
    "        print (i, \" 是素数\")\n",
    "print (\"Good bye!\",c)"
   ]
  },
  {
   "cell_type": "code",
   "execution_count": null,
   "metadata": {},
   "outputs": [],
   "source": []
  },
  {
   "cell_type": "markdown",
   "metadata": {},
   "source": [
    "## 4.4 程序的异常处理\n",
    "### 4.4.1 异常处理: try-except语句\n",
    "观察下面这段小程序：<br>\n",
    ">num = eval(input(\"请输入一个整数: \")) <br><br>\n",
    "print(num**2)<br>\n",
    "\n",
    "当用户输入的不是数字呢？<br>\n",
    "<br>\n",
    "Python解释器返回了异常信息，同时程序退出<br>\n",
    "<br>\n",
    "Python异常信息中最重要的部分是**异常类型**，它表明了发生异常的原因，也是程序处理异常的依据。"
   ]
  },
  {
   "cell_type": "code",
   "execution_count": null,
   "metadata": {},
   "outputs": [],
   "source": [
    "#若输入的不是数字字符，则出现异常\n",
    "from math import *\n",
    "R = float(input(\"请输入圆半径:\"))\n",
    "S = pi * R * R\n",
    "L = 2 * pi * R \n",
    "print(\"半径为{}的面积是{}，其周长是{}。\".format( R , S , L)) "
   ]
  },
  {
   "cell_type": "markdown",
   "metadata": {},
   "source": [
    "### 4.4.1 异常处理: try-except语句（续）\n",
    "Python使用try-except语句实现异常处理，**基本的语法格式**如下：<br>\n",
    ">**try:**<br><br>\n",
    "&nbsp;&nbsp;&nbsp;&nbsp;&nbsp;&nbsp;&nbsp;&nbsp;<语句块1><br><br>\n",
    "**except <异常类型>:**<br><br>\n",
    "&nbsp;&nbsp;&nbsp;&nbsp;&nbsp;&nbsp;&nbsp;&nbsp;<语句块2><br><br>\n",
    "- <语句块1>是正常执行的程序内容，当发生异常时执行except保留字后面的<语句块2>中的语句。"
   ]
  },
  {
   "cell_type": "markdown",
   "metadata": {},
   "source": [
    "#### 例4.18，输入圆半径，求圆面积及周长（含异常处理）"
   ]
  },
  {
   "cell_type": "code",
   "execution_count": null,
   "metadata": {},
   "outputs": [],
   "source": [
    "#异常处理\n",
    "from math import *\n",
    "try:\n",
    "    R = float(input(\"请输入圆半径:\"))\n",
    "    S = pi * R * R\n",
    "    L = 2 * pi * R \n",
    "    print(\"半径为{}的面积是{}，其周长是{}。\".format( R , S , L)) \n",
    "except:\n",
    "    print('数据输入错误！！！')"
   ]
  },
  {
   "cell_type": "code",
   "execution_count": null,
   "metadata": {},
   "outputs": [],
   "source": [
    "#异常处理，反复输入，直到输出正确为止\n",
    "from math import *\n",
    "while True:\n",
    "    try:\n",
    "        R = float(input(\"请输入圆半径:\"))\n",
    "        break\n",
    "    except:\n",
    "        print('数据输入错误,请重新输入！！！')\n",
    "S = pi * R * R\n",
    "L = 2 * pi * R \n",
    "print(\"半径为{}的面积是{}，其周长是{}。\".format( R , S , L)) "
   ]
  },
  {
   "cell_type": "code",
   "execution_count": null,
   "metadata": {},
   "outputs": [],
   "source": [
    "#异常处理并判断负数需反复输入，直到输出正确为止\n",
    "from math import *\n",
    "while True:\n",
    "    try:\n",
    "        R = float(input(\"请输入圆半径（非负数）:\"))\n",
    "        if R < 0 :\n",
    "            print('半径不能为负数！！！')\n",
    "            continue\n",
    "        break\n",
    "    except:\n",
    "        print('数据输入错误,请重新输入！！！')\n",
    "S = pi * R * R\n",
    "L = 2 * pi * R \n",
    "print(\"半径为{}的面积是{:.2f}，其周长是{:.2f}。\".format( R , S , L)) "
   ]
  },
  {
   "cell_type": "code",
   "execution_count": null,
   "metadata": {},
   "outputs": [],
   "source": [
    "#异常处理还可以处理程序执行中的运行异常\n",
    "for i in range(5):\n",
    "    print(10/i, end=\" \")"
   ]
  },
  {
   "cell_type": "code",
   "execution_count": null,
   "metadata": {},
   "outputs": [],
   "source": [
    "try:\n",
    "    for i in range(5):\n",
    "        print(10/i, end=\" \")\n",
    "except:\n",
    "    print(\"某种原因，出错了！\")"
   ]
  },
  {
   "cell_type": "markdown",
   "metadata": {},
   "source": [
    "### 4.4.2 异常的高级用法（自学）\n",
    "try-except语句可以支持多个except语句，语法格式如下：<br>\n",
    ">**try:**<br><br>\n",
    "&nbsp;&nbsp;&nbsp;&nbsp;&nbsp;&nbsp;&nbsp;&nbsp;<语句块1><br><br>\n",
    "**except <异常类型1>:**<br><br>\n",
    "&nbsp;&nbsp;&nbsp;&nbsp;&nbsp;&nbsp;&nbsp;&nbsp;<语句块2><br><br>\n",
    "….<br><br>\n",
    "**except <异常类型N>:**<br><br>\n",
    "&nbsp;&nbsp;&nbsp;&nbsp;&nbsp;&nbsp;&nbsp;&nbsp;<语句块N+1><br><br>\n",
    "**except:**<br><br>\n",
    "&nbsp;&nbsp;&nbsp;&nbsp;&nbsp;&nbsp;&nbsp;&nbsp;<语句块N+2><br><br>\n",
    "- 最后一个except语句没有指定任何异常类型，表示它对应的语句块可以处理所有其他异常。<br><br>\n",
    "  - 这个过程与if-elif-else语句类似，是分支结构的一种表达方式。"
   ]
  },
  {
   "cell_type": "code",
   "execution_count": null,
   "metadata": {},
   "outputs": [],
   "source": [
    "try:\n",
    "    num = eval(input(\"请输入一个整数: \"))\n",
    "    print( num ** 2 )\n",
    "except NameError:\n",
    "     print(\"输入错误1，请输入一个整数!\")\n",
    "except:\n",
    "    print(\"其他错误\")"
   ]
  },
  {
   "cell_type": "code",
   "execution_count": null,
   "metadata": {},
   "outputs": [],
   "source": [
    "while True:\n",
    "    try:\n",
    "        num = int(input(\"请输入一个整数: \"))\n",
    "        print( num ** 2 )\n",
    "        break\n",
    "    except NameError:\n",
    "        print(\"输入错误1，请重新输入一个整数!\")\n",
    "    except:\n",
    "        print(\"其他错误，请重新输入一个整数!\")"
   ]
  },
  {
   "cell_type": "code",
   "execution_count": null,
   "metadata": {
    "scrolled": true
   },
   "outputs": [],
   "source": [
    "try:\n",
    "    alp = \"ABCDEFGHIJKLMNOPQRSTUVWXYZ\"\n",
    "    idx = int(input(\"请输入一个整数[0,25]: \"))\n",
    "    print(alp[idx])\n",
    "except NameError:\n",
    "    print(\"输入错误，请输入一个整数!\")\n",
    "except:\n",
    "    print(\"其他错误\")"
   ]
  },
  {
   "cell_type": "markdown",
   "metadata": {},
   "source": [
    "#### Python常见异常类型"
   ]
  },
  {
   "cell_type": "markdown",
   "metadata": {
    "collapsed": true
   },
   "source": [
    "大概分为以下类：<br><br>\n",
    "1.AssertionError：当assert断言条件为假的时候抛出的异常<br><br>\n",
    "2.AttributeError：当访问的对象属性不存在的时候抛出的异常<br><br>\n",
    "3.IndexError：超出对象索引的范围时抛出的异常<br><br>\n",
    "4.KeyError：在字典中查找一个不存在的key抛出的异常<br><br>\n",
    "5.NameError：访问一个不存在的变量时抛出的异常<br><br>\n",
    "6.OSError：操作系统产生的异常<br><br>\n",
    "7.SyntaxError：语法错误时会抛出此异常<br><br>\n",
    "8.TypeError：类型错误，通常是不通类型之间的操作会出现此异常<br><br>\n",
    "9.ZeroDivisionError：进行数学运算时除数为0时会出现此异常<br><br>\n",
    "关于更多异常请参考官方文档：<br><br>\n",
    "[2.7版本链接](https://docs.python.org/2/library/exceptions.html)<br><br>\n",
    "[3.6版本链接](https://docs.python.org/3/library/exceptions.html) "
   ]
  },
  {
   "cell_type": "code",
   "execution_count": null,
   "metadata": {},
   "outputs": [],
   "source": [
    "try:\n",
    "    for i in range(5):\n",
    "        print(10/i, end=\" \")\n",
    "except ZeroDivisionError:\n",
    "    print(i, \"分母不能为零！\")"
   ]
  },
  {
   "cell_type": "markdown",
   "metadata": {},
   "source": [
    "### 4.7.2 异常的高级用法（续）\n",
    "除了try和except保留字外，异常语句还可以与else和finally保留字配合使用，语法格式如下：<br>\n",
    ">try:<br><br>\n",
    "&nbsp;&nbsp;&nbsp;&nbsp;&nbsp;&nbsp;&nbsp;&nbsp;<语句块1><br><br>\n",
    "except <异常类型1>:<br><br>\n",
    "&nbsp;&nbsp;&nbsp;&nbsp;&nbsp;&nbsp;&nbsp;&nbsp;<语句块2><br><br>\n",
    "else:<br><br>\n",
    "&nbsp;&nbsp;&nbsp;&nbsp;&nbsp;&nbsp;&nbsp;&nbsp;<语句块3><br><br>\n",
    "finally:<br><br>\n",
    "&nbsp;&nbsp;&nbsp;&nbsp;&nbsp;&nbsp;&nbsp;&nbsp;<语句块4>"
   ]
  },
  {
   "cell_type": "code",
   "execution_count": null,
   "metadata": {},
   "outputs": [],
   "source": [
    "#采用else和finally修改代码\n",
    "try:\n",
    "    alp = \"ABCDEFGHIJKLMNOPQRSTUVWXYZ\"\n",
    "    idx = int(input(\"请输入一个整数: \"))\n",
    "    print(alp[idx])\n",
    "except NameError:\n",
    "    print(\"输入错误，请输入一个整数!\")\n",
    "except:\n",
    "    print(\"其他错误\")\n",
    "else:\n",
    "    print(\"没有发生异常\")\n",
    "finally:\n",
    "    print(\"程序执行完毕，不知道是否发生了异常\")"
   ]
  },
  {
   "cell_type": "markdown",
   "metadata": {},
   "source": [
    "## 4.5 实例解析：猜数字游戏\n",
    "编写一个“猜数字游戏”的程序，在1到100 之间随机产生一个数，然后请用户循环猜测这 个数字，对于每个答案只回答“猜大了”或 “猜小了”，直到猜测准确为止，输出用户的 猜测次数。<br>\n",
    "  - 为了产生随机数，需要使用Python语言的随机数标准库\n",
    ">import random<br><br>\n",
    "target = random.randint(1,100)"
   ]
  },
  {
   "cell_type": "code",
   "execution_count": null,
   "metadata": {},
   "outputs": [],
   "source": [
    "# Example_4_1.py\n",
    "import random\n",
    "target = random.randint(1,100)\n",
    "count = 0\n",
    "while True:\n",
    "    guess = int(input('请输入一个猜测的整数(1至100)：'))\n",
    "    count = count + 1\n",
    "    if guess > target:\n",
    "        print('猜大了')\n",
    "    elif guess < target:\n",
    "        print('猜小了')\n",
    "    else:\n",
    "        print('猜对了')\n",
    "        break\n",
    "print(\"此轮的猜测次数是:\", count)"
   ]
  },
  {
   "cell_type": "code",
   "execution_count": null,
   "metadata": {},
   "outputs": [],
   "source": []
  },
  {
   "cell_type": "code",
   "execution_count": null,
   "metadata": {},
   "outputs": [],
   "source": [
    "# Example_4_2.py\n",
    "#增加异常处理\n",
    "import random\n",
    "target = random.randint(1,100)\n",
    "count = 0\n",
    "while True:\n",
    "    try:\n",
    "        guess = int(input('请输入一个猜测的整数(1至1000)：'))\n",
    "    except:\n",
    "        print('输入有误，请重试，不计入猜测次数哦！')\n",
    "        continue\n",
    "    count = count + 1\n",
    "    if guess > target:\n",
    "        print('猜大了')\n",
    "    elif guess < target:\n",
    "        print('猜小了')\n",
    "    else:\n",
    "        print('猜对了')\n",
    "        break\n",
    "print(\"此轮的猜测次数是:\", count)"
   ]
  },
  {
   "cell_type": "markdown",
   "metadata": {},
   "source": [
    "### 二分查找法？？"
   ]
  },
  {
   "cell_type": "code",
   "execution_count": null,
   "metadata": {},
   "outputs": [],
   "source": [
    "#让计算机猜数字\n",
    "import random\n",
    "target = random.randint(1,10000000)\n",
    "count = 0\n",
    "start , end = 1 , 10000000\n",
    "while True:\n",
    "    guess = int( (start + end) / 2)\n",
    "    count = count + 1\n",
    "    if guess > target:\n",
    "        print(guess, '猜大了')\n",
    "        end = guess - 1\n",
    "    elif guess < target:\n",
    "        print(guess, '猜小了')\n",
    "        start = guess + 1\n",
    "    else:\n",
    "        print(guess, '猜对了')\n",
    "        break\n",
    "print(\"此轮的猜测次数是:\", count)"
   ]
  },
  {
   "cell_type": "markdown",
   "metadata": {},
   "source": [
    "### 循环及异常处理课堂练习\n",
    "以下是两数相加的程序：<br>\n",
    ">x = int(input(\"x=\"))<br><br>\n",
    "y = int(input(\"y=\"))<br><br>\n",
    "print(\"x+y=\",x+y)<br><br>\n",
    "\n",
    "该程序要求接收两个整数，并输出相加结果。但如果输入的不是整数（如字母、浮点数等），程序就会终止执行并输出异常信息。请对程序进行修改，要求输入非整数时，给出“输入内容必须为整数！”的提示，并提示用户重新输入，直至输入正确。"
   ]
  },
  {
   "cell_type": "code",
   "execution_count": null,
   "metadata": {},
   "outputs": [],
   "source": [
    "x = int(input(\"x=\"))\n",
    "y = int(input(\"y=\"))\n",
    "print(\"x+y=\", x + y )"
   ]
  },
  {
   "cell_type": "code",
   "execution_count": null,
   "metadata": {},
   "outputs": [],
   "source": []
  },
  {
   "cell_type": "markdown",
   "metadata": {},
   "source": [
    "### 综合例题——万年历"
   ]
  },
  {
   "cell_type": "code",
   "execution_count": null,
   "metadata": {},
   "outputs": [],
   "source": [
    "#万年历程序1--给出哪年哪月哪日，输出是星期几\n",
    "import time\n",
    "weekstr = \"一二三四五六日\"\n",
    "date = input(\"请输入年份、月份及日期号(格式为YYYY/MM/DD，例如2022/10/20表示2022年10月20日): \")\n",
    "weekid = time.strptime(date , '%Y/%m/%d').tm_wday      #获取日期date是星期几\n",
    "print(date + \"是星期\" + weekstr[weekid])"
   ]
  },
  {
   "cell_type": "code",
   "execution_count": null,
   "metadata": {},
   "outputs": [],
   "source": [
    "print(NYD_wday)"
   ]
  },
  {
   "cell_type": "code",
   "execution_count": null,
   "metadata": {},
   "outputs": [],
   "source": [
    "#万年历程序2--给出某年的某一月份，输出该月份的日历\n",
    "import time\n",
    "weekdaystr = \"星期一星期二星期三星期四星期五星期六星期日\"\n",
    "daysofmonthstr = \"312831303130313130313031\"\n",
    "YM = input(\"请输入年份和月份(格式为YYYY/MM，例如2022/10表示2022年10月): \")\n",
    "year , month = YM.split('/')                                      #取出年份、月份\n",
    "yday = time.strptime(YM + '/01' , '%Y/%m/%d').tm_wday             #获取该月份1号是星期几\n",
    "days = int(daysofmonthstr[(int(month) - 1) * 2 : int(month) * 2])      #获取该月份的天数\n",
    "\n",
    "if int(month) == 2:\n",
    "    if int(year) % 4 == 0 and int(year) % 100 != 0 or int(year) % 400 == 0 :\n",
    "        days += 1                                     #闰年2月份再加1天\n",
    "print (\"\")\n",
    "\n",
    "for i in range(7):                                     #输出星期几的栏目\n",
    "    print (weekdaystr[i*3 : i*3+3] ,end='  ')\n",
    "print (\"\")\n",
    "\n",
    "for i in range(yday):                                 #输出本月1号前的空格\n",
    "    print (\"{:^6}\".format(\" \"),end='  ')\n",
    "for i in range(days):                              #从本月1号开始输出                   \n",
    "    weekid = (yday + i) % 7\n",
    "    print (\"{:^6}\".format(str(i+1)),end='  ')\n",
    "    if weekid == 6:                                     #星期日输出完后换行\n",
    "        print (\"\")"
   ]
  },
  {
   "cell_type": "markdown",
   "metadata": {},
   "source": [
    "#### 同学们能否编写程序只输入年份，输出该年的日历。"
   ]
  },
  {
   "cell_type": "code",
   "execution_count": null,
   "metadata": {},
   "outputs": [],
   "source": []
  }
 ],
 "metadata": {
  "kernelspec": {
   "display_name": "Python 3 (ipykernel)",
   "language": "python",
   "name": "python3"
  },
  "language_info": {
   "codemirror_mode": {
    "name": "ipython",
    "version": 3
   },
   "file_extension": ".py",
   "mimetype": "text/x-python",
   "name": "python",
   "nbconvert_exporter": "python",
   "pygments_lexer": "ipython3",
   "version": "3.9.13"
  }
 },
 "nbformat": 4,
 "nbformat_minor": 2
}
