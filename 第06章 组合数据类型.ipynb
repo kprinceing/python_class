{
 "cells": [
  {
   "cell_type": "markdown",
   "metadata": {},
   "source": [
    "# 第6章 组合数据类型"
   ]
  },
  {
   "cell_type": "markdown",
   "metadata": {},
   "source": [
    "## 6.1 组合数据类型的基本概念\n",
    "### 6.1.1 组合数据类型 \n",
    "### 6.1.2 集合类型概述"
   ]
  },
  {
   "cell_type": "code",
   "execution_count": null,
   "metadata": {},
   "outputs": [],
   "source": [
    "s = {'sd00233590', 'sd00233123', 'sd00233590', 'sd00233456', 'sd00233002'} \n",
    "s"
   ]
  },
  {
   "cell_type": "code",
   "execution_count": null,
   "metadata": {},
   "outputs": [],
   "source": [
    "type(s)"
   ]
  },
  {
   "cell_type": "code",
   "execution_count": null,
   "metadata": {
    "scrolled": true
   },
   "outputs": [],
   "source": [
    "s = {1,1,2,2,2,3,['山东', '济南']}\n",
    "s"
   ]
  },
  {
   "cell_type": "code",
   "execution_count": null,
   "metadata": {},
   "outputs": [],
   "source": [
    "s = { 1 , 2 , 3 , 1 , 1 , 2 , 3 , 1}\n",
    "s"
   ]
  },
  {
   "cell_type": "code",
   "execution_count": null,
   "metadata": {},
   "outputs": [],
   "source": [
    "{\"张三\", \"男\", 21, \"山东济南\"}"
   ]
  },
  {
   "cell_type": "code",
   "execution_count": null,
   "metadata": {},
   "outputs": [],
   "source": [
    "set('reset')"
   ]
  },
  {
   "cell_type": "code",
   "execution_count": null,
   "metadata": {},
   "outputs": [],
   "source": [
    "set([1,1,1,2,1])"
   ]
  },
  {
   "cell_type": "code",
   "execution_count": null,
   "metadata": {},
   "outputs": [],
   "source": [
    "set((1,2,1,1,2,3,4))"
   ]
  },
  {
   "cell_type": "code",
   "execution_count": null,
   "metadata": {},
   "outputs": [],
   "source": [
    "a={}\n",
    "a"
   ]
  },
  {
   "cell_type": "code",
   "execution_count": null,
   "metadata": {},
   "outputs": [],
   "source": [
    "type(a)"
   ]
  },
  {
   "cell_type": "code",
   "execution_count": null,
   "metadata": {},
   "outputs": [],
   "source": [
    "a=set()\n",
    "a"
   ]
  },
  {
   "cell_type": "code",
   "execution_count": null,
   "metadata": {},
   "outputs": [],
   "source": [
    "type(a)"
   ]
  },
  {
   "cell_type": "code",
   "execution_count": null,
   "metadata": {},
   "outputs": [],
   "source": [
    "len(a)"
   ]
  },
  {
   "cell_type": "code",
   "execution_count": null,
   "metadata": {},
   "outputs": [],
   "source": []
  },
  {
   "cell_type": "markdown",
   "metadata": {},
   "source": [
    "### 6.1.2 集合类型概述（续）\n",
    "\n",
    "**集合运算**<br><br>\n",
    "基本就是数学中的集合运算.<br><br>\n",
    "\n",
    "上述操作符表达了集合类型的4种基本操作，交集（&）、并集（|）、差集（-）、补集（^），操作逻辑与数学定义相同.<br><br>\n",
    "\n",
    "**集合类型有10个操作函数或方法** "
   ]
  },
  {
   "cell_type": "code",
   "execution_count": null,
   "metadata": {},
   "outputs": [],
   "source": [
    "s1 = {1 , 2 , 3 , 4 , 5}\n",
    "s2 = {2 , 4 , 6 , 8}\n",
    "6 in s1                       #包含运算"
   ]
  },
  {
   "cell_type": "code",
   "execution_count": null,
   "metadata": {},
   "outputs": [],
   "source": [
    "s1 | s2                       #并集运算"
   ]
  },
  {
   "cell_type": "code",
   "execution_count": null,
   "metadata": {},
   "outputs": [],
   "source": [
    "s1 & s2                       #交集运算"
   ]
  },
  {
   "cell_type": "code",
   "execution_count": null,
   "metadata": {},
   "outputs": [],
   "source": [
    "s1 - s2                       #差集运算"
   ]
  },
  {
   "cell_type": "code",
   "execution_count": null,
   "metadata": {},
   "outputs": [],
   "source": [
    "s1 ^ s2                      #补集运算"
   ]
  },
  {
   "cell_type": "code",
   "execution_count": null,
   "metadata": {},
   "outputs": [],
   "source": [
    "len(s2)"
   ]
  },
  {
   "cell_type": "code",
   "execution_count": null,
   "metadata": {},
   "outputs": [],
   "source": []
  },
  {
   "cell_type": "code",
   "execution_count": null,
   "metadata": {},
   "outputs": [],
   "source": [
    "a={1,3,2}\n",
    "a"
   ]
  },
  {
   "cell_type": "code",
   "execution_count": null,
   "metadata": {},
   "outputs": [],
   "source": [
    "a.add('xyz')                 #集合对象增加元素的方法\n",
    "a"
   ]
  },
  {
   "cell_type": "code",
   "execution_count": null,
   "metadata": {},
   "outputs": [],
   "source": [
    "a.remove(2)                  #集合对象删除元素的方法\n",
    "a"
   ]
  },
  {
   "cell_type": "code",
   "execution_count": null,
   "metadata": {},
   "outputs": [],
   "source": [
    "a.pop()                     #集合对象弹出并删除的方法"
   ]
  },
  {
   "cell_type": "code",
   "execution_count": null,
   "metadata": {},
   "outputs": [],
   "source": [
    "a"
   ]
  },
  {
   "cell_type": "markdown",
   "metadata": {},
   "source": [
    "**集合类型主要应用场景：**"
   ]
  },
  {
   "cell_type": "code",
   "execution_count": null,
   "metadata": {},
   "outputs": [],
   "source": [
    "select_courses = ('sd00233590', 'sd00233123', 'sd00233590', 'sd00233456', 'sd00233002') "
   ]
  },
  {
   "cell_type": "code",
   "execution_count": null,
   "metadata": {},
   "outputs": [],
   "source": [
    "'sd00233456' in set(select_courses)"
   ]
  },
  {
   "cell_type": "code",
   "execution_count": null,
   "metadata": {},
   "outputs": [],
   "source": [
    "'sd00233456' in select_courses"
   ]
  },
  {
   "cell_type": "code",
   "execution_count": null,
   "metadata": {},
   "outputs": [],
   "source": [
    "for c in select_courses:\n",
    "    print(c)"
   ]
  },
  {
   "cell_type": "code",
   "execution_count": null,
   "metadata": {},
   "outputs": [],
   "source": [
    "courses = set(select_courses)\n",
    "print(courses)\n",
    "for c in courses:\n",
    "    print(c)"
   ]
  },
  {
   "cell_type": "code",
   "execution_count": null,
   "metadata": {},
   "outputs": [],
   "source": [
    "newcourses = tuple(set(select_courses) - {'sd00233456'}) # 去重同时删除数据项\n",
    "print(newcourses)"
   ]
  },
  {
   "cell_type": "markdown",
   "metadata": {},
   "source": [
    "#### 例6.1 英文文章的词频统计分析，以《 AliceInWonderland 》为例"
   ]
  },
  {
   "cell_type": "code",
   "execution_count": null,
   "metadata": {},
   "outputs": [],
   "source": [
    "#(5)统计所有不同的词出现的频数\n",
    "txt = open(\"开篇例题/data/AliceInWonderland.txt\", \"r\").read()\n",
    "txt = txt.lower()\n",
    "for ch in '!\"#$%&()*+,-./:;<=>?@[\\\\]^_‘{|}~\\'0123456789`':\n",
    "    txt = txt.replace(ch, \" \")   #将文本中特殊字符替换为空格\n",
    "words  = txt.split()\n",
    "dif_words = set(words)\n",
    "for word in dif_words:\n",
    "    print(word , txt.count(word))"
   ]
  },
  {
   "cell_type": "code",
   "execution_count": null,
   "metadata": {},
   "outputs": [],
   "source": [
    "print('原单词数量为{}以及去重后的单词数量为{}'.format(len(words) , len(dif_words)))"
   ]
  },
  {
   "cell_type": "code",
   "execution_count": null,
   "metadata": {},
   "outputs": [],
   "source": []
  },
  {
   "cell_type": "markdown",
   "metadata": {
    "collapsed": true
   },
   "source": [
    "### 6.1.3 序列类型概述"
   ]
  },
  {
   "cell_type": "markdown",
   "metadata": {},
   "source": [
    "**元组（tuple）**<br><br>\n",
    "**元组的概念及定义**<br>\n",
    "- 用圆括号括起的成员集合体——用逗号分割的数据项（元素）<br><br>\n",
    "- 元组和列表十分类似，只不过元组和字符串一样是不可变的，即不能修改元组。<br><br>\n",
    "- 元组的使用与列表相同，只是**不能修改、删除、增加其元素**<br><br>\n",
    "- 当一组数据只使用、不修改时可使用元组。<br><br>\n",
    "  - 元组类型在表达固定数据项、函数多返回值、多变量同步赋值、循环遍历等情况下十分有用。<br><br>\n",
    "  \n",
    "**元组的创建**\n",
    "- Python中元组采用逗号和圆括号（可选）来表示。<br><br>\n",
    "- 也可使用函数tuple()将字符串、列表、集合等数据转换为元组。"
   ]
  },
  {
   "cell_type": "code",
   "execution_count": null,
   "metadata": {},
   "outputs": [],
   "source": [
    "creature = \"cat\", \"dog\", \"tiger\", \"human\"\n",
    "creature"
   ]
  },
  {
   "cell_type": "code",
   "execution_count": null,
   "metadata": {},
   "outputs": [],
   "source": [
    "color = (\"red\", 0x001100, \"blue\", creature)\n",
    "color"
   ]
  },
  {
   "cell_type": "code",
   "execution_count": null,
   "metadata": {},
   "outputs": [],
   "source": [
    "#元组的元素不能修改\n",
    "color[2] = 123"
   ]
  },
  {
   "cell_type": "code",
   "execution_count": null,
   "metadata": {},
   "outputs": [],
   "source": [
    "tuple(\"Python\")"
   ]
  },
  {
   "cell_type": "code",
   "execution_count": null,
   "metadata": {},
   "outputs": [],
   "source": [
    "tuple({1,'123','asdas'})"
   ]
  },
  {
   "cell_type": "code",
   "execution_count": null,
   "metadata": {},
   "outputs": [],
   "source": [
    "tuple(range(10))"
   ]
  },
  {
   "cell_type": "code",
   "execution_count": null,
   "metadata": {},
   "outputs": [],
   "source": []
  },
  {
   "cell_type": "markdown",
   "metadata": {},
   "source": [
    "### 6.1.3 序列类型概述（续）\n",
    "**特殊元组的创建**<br><br>\n",
    "一个特殊的问题是构造包含零个（空元组）或一个元素的元组：<br>\n",
    "- 为了适应这种情况，语法上有一些额外的改变。<br><br>\n",
    "  - 一对空的圆括号()或tuple()可以创建空元组；<br><br>\n",
    "  - 要创建一个单元素元组可以在值后面跟一个逗号（在括号中放入一个单值是不够的）。"
   ]
  },
  {
   "cell_type": "code",
   "execution_count": null,
   "metadata": {},
   "outputs": [],
   "source": [
    "tuple()"
   ]
  },
  {
   "cell_type": "code",
   "execution_count": null,
   "metadata": {},
   "outputs": [],
   "source": [
    "()"
   ]
  },
  {
   "cell_type": "code",
   "execution_count": null,
   "metadata": {},
   "outputs": [],
   "source": [
    "type(tuple())"
   ]
  },
  {
   "cell_type": "code",
   "execution_count": null,
   "metadata": {},
   "outputs": [],
   "source": [
    "len(tuple())"
   ]
  },
  {
   "cell_type": "code",
   "execution_count": null,
   "metadata": {},
   "outputs": [],
   "source": [
    "emp = (1)\n",
    "emp"
   ]
  },
  {
   "cell_type": "code",
   "execution_count": null,
   "metadata": {},
   "outputs": [],
   "source": [
    "type(emp)"
   ]
  },
  {
   "cell_type": "code",
   "execution_count": null,
   "metadata": {},
   "outputs": [],
   "source": [
    "single = 'a', #<-- note trailing comma\n",
    "type(single)"
   ]
  },
  {
   "cell_type": "code",
   "execution_count": null,
   "metadata": {},
   "outputs": [],
   "source": [
    "single"
   ]
  },
  {
   "cell_type": "code",
   "execution_count": null,
   "metadata": {},
   "outputs": [],
   "source": [
    "len(single)"
   ]
  },
  {
   "cell_type": "markdown",
   "metadata": {},
   "source": [
    "#### 元组的索引与切片"
   ]
  },
  {
   "cell_type": "code",
   "execution_count": null,
   "metadata": {},
   "outputs": [],
   "source": [
    "creature = \"cat\", \"dog\", \"tiger\", \"human\"\n",
    "color = (\"red\", 0x001100, \"blue\", creature)\n",
    "color"
   ]
  },
  {
   "cell_type": "code",
   "execution_count": null,
   "metadata": {},
   "outputs": [],
   "source": [
    "color[2]"
   ]
  },
  {
   "cell_type": "code",
   "execution_count": null,
   "metadata": {},
   "outputs": [],
   "source": [
    "color[-1][2]"
   ]
  },
  {
   "cell_type": "code",
   "execution_count": null,
   "metadata": {},
   "outputs": [],
   "source": [
    "color[-1][2][3]"
   ]
  },
  {
   "cell_type": "code",
   "execution_count": null,
   "metadata": {},
   "outputs": [],
   "source": [
    "color[2:]"
   ]
  },
  {
   "cell_type": "code",
   "execution_count": null,
   "metadata": {},
   "outputs": [],
   "source": []
  },
  {
   "cell_type": "markdown",
   "metadata": {},
   "source": [
    "### 6.1.3 序列类型概述（续）\n",
    "元组除了用于表达固定数据项外，还冲用于以下3种情况：<br>\n",
    "- 函数多返回值；<br><br>\n",
    "- 多变量同步赋值；<br><br>\n",
    "- 循环遍历。"
   ]
  },
  {
   "cell_type": "code",
   "execution_count": null,
   "metadata": {},
   "outputs": [],
   "source": [
    "def func(x):  #函数多返回值\n",
    "    return x, x**3\n",
    "s = func(2)\n",
    "print (s)"
   ]
  },
  {
   "cell_type": "code",
   "execution_count": null,
   "metadata": {},
   "outputs": [],
   "source": [
    "a, b = ('dog', 'tiger')  #多变量同步赋值\n",
    "print (a,b)"
   ]
  },
  {
   "cell_type": "code",
   "execution_count": null,
   "metadata": {},
   "outputs": [],
   "source": [
    "a, b = b, a      #多变量同步赋值，括号可省略\n",
    "print (a,b)"
   ]
  },
  {
   "cell_type": "code",
   "execution_count": null,
   "metadata": {},
   "outputs": [],
   "source": [
    "import math\n",
    "for z in ((1,0), (2,5), (3,8)):  #循环遍历\n",
    "    x, y = z\n",
    "    print(math.hypot(x,y))   #求多个坐标值到原点的距离"
   ]
  },
  {
   "cell_type": "code",
   "execution_count": null,
   "metadata": {},
   "outputs": [],
   "source": [
    "import math\n",
    "for x,y in ((1,0), (2,5), (3,8)):  #循环遍历\n",
    "    print(math.hypot(x,y))         #求多个坐标值到原点的距离"
   ]
  },
  {
   "cell_type": "markdown",
   "metadata": {},
   "source": [
    "### 6.1.3 序列类型概述（续）\n",
    "**元组封装和解封**<br><br>\n",
    "**元组的封装**<br>\n",
    "- 即任意无符号的对象，以逗号隔开，默认为元组。<br><br>\n",
    "  - 语句t = -12345, 54321, \"hello!\" 是元组封装（sequence packing）的一个例子"
   ]
  },
  {
   "cell_type": "code",
   "execution_count": null,
   "metadata": {},
   "outputs": [],
   "source": [
    "t = -12345, 54321, \"hello!\"\n",
    "t"
   ]
  },
  {
   "cell_type": "code",
   "execution_count": null,
   "metadata": {},
   "outputs": [],
   "source": [
    "lst = [1, 2, 3]\n",
    "t = -12345, lst, \"hello!\"\n",
    "t"
   ]
  },
  {
   "cell_type": "code",
   "execution_count": null,
   "metadata": {},
   "outputs": [],
   "source": [
    "t[1][2] = 12\n",
    "t"
   ]
  },
  {
   "cell_type": "markdown",
   "metadata": {},
   "source": [
    "### 6.1.3 序列类型概述（续）\n",
    "**元组的解装**<br>\n",
    "- 封装的逆操作<br>\n",
    "\n",
    "**拆封操作可以作用于任何序列**。"
   ]
  },
  {
   "cell_type": "code",
   "execution_count": null,
   "metadata": {},
   "outputs": [],
   "source": [
    "t = (3, 2, 1)\n",
    "x, y, z = t\n",
    "print (x, y, z)"
   ]
  },
  {
   "cell_type": "code",
   "execution_count": null,
   "metadata": {},
   "outputs": [],
   "source": [
    "t = (3, 2, 1)\n",
    "x, y = t\n",
    "print (x, y)"
   ]
  },
  {
   "cell_type": "code",
   "execution_count": null,
   "metadata": {},
   "outputs": [],
   "source": [
    "s = \"abc\"\n",
    "x,y,z = s\n",
    "print (x, y, z)"
   ]
  },
  {
   "cell_type": "code",
   "execution_count": null,
   "metadata": {},
   "outputs": [],
   "source": []
  },
  {
   "cell_type": "markdown",
   "metadata": {},
   "source": [
    "### 6.1.4 映射类型概述\n",
    "<font size=3><br>\n",
    "映射类型是“键-值”数据项的组合，每个元素是一个键值对，即元素是(key, value)，元素之间是无序的。<br>\n",
    "- 键值对(key, value)是一种二元关系。<br><br>\n",
    "- 在Python中，映射类型主要以字典（dict）体现。"
   ]
  },
  {
   "cell_type": "code",
   "execution_count": null,
   "metadata": {},
   "outputs": [],
   "source": []
  },
  {
   "cell_type": "markdown",
   "metadata": {},
   "source": [
    "## 6.2 列表类型\n",
    "### 6.2.1 列表类型的概念"
   ]
  },
  {
   "cell_type": "markdown",
   "metadata": {},
   "source": [
    "### 6.2.2 列表的创建"
   ]
  },
  {
   "cell_type": "code",
   "execution_count": null,
   "metadata": {},
   "outputs": [],
   "source": [
    "#用方括号创建列表\n",
    "stu_info = [\"张三\", \"男\", 21, [\"山东\", \"济南\"]]\n",
    "type(stu_info)"
   ]
  },
  {
   "cell_type": "code",
   "execution_count": null,
   "metadata": {},
   "outputs": [],
   "source": [
    "stu_info[-1]          #列表的索引"
   ]
  },
  {
   "cell_type": "code",
   "execution_count": null,
   "metadata": {},
   "outputs": [],
   "source": [
    "stu_info[-1][0]       #列表的索引"
   ]
  },
  {
   "cell_type": "code",
   "execution_count": null,
   "metadata": {},
   "outputs": [],
   "source": [
    "stu_info[-1][0][1]    #序列的索引"
   ]
  },
  {
   "cell_type": "code",
   "execution_count": null,
   "metadata": {},
   "outputs": [],
   "source": [
    "stu_info[1:3]        #列表的切片"
   ]
  },
  {
   "cell_type": "code",
   "execution_count": null,
   "metadata": {},
   "outputs": [],
   "source": [
    "range(10)"
   ]
  },
  {
   "cell_type": "code",
   "execution_count": null,
   "metadata": {},
   "outputs": [],
   "source": [
    "type(range(10))"
   ]
  },
  {
   "cell_type": "code",
   "execution_count": null,
   "metadata": {},
   "outputs": [],
   "source": [
    "list(range(10))     #用list()函数转换"
   ]
  },
  {
   "cell_type": "code",
   "execution_count": null,
   "metadata": {},
   "outputs": [],
   "source": [
    "list(\"山东大学在山东\")"
   ]
  },
  {
   "cell_type": "code",
   "execution_count": null,
   "metadata": {},
   "outputs": [],
   "source": [
    "list(set(['山', '东', '大', '学', '在', '山', '东']))"
   ]
  },
  {
   "cell_type": "code",
   "execution_count": null,
   "metadata": {},
   "outputs": [],
   "source": []
  },
  {
   "cell_type": "code",
   "execution_count": null,
   "metadata": {},
   "outputs": [],
   "source": [
    "for i in range(10):\n",
    "    print(i)"
   ]
  },
  {
   "cell_type": "code",
   "execution_count": null,
   "metadata": {},
   "outputs": [],
   "source": [
    "[]                  #空列表"
   ]
  },
  {
   "cell_type": "code",
   "execution_count": null,
   "metadata": {},
   "outputs": [],
   "source": [
    "ls = list()         #空列表\n",
    "type(ls)"
   ]
  },
  {
   "cell_type": "code",
   "execution_count": null,
   "metadata": {},
   "outputs": [],
   "source": [
    "len(ls)"
   ]
  },
  {
   "cell_type": "code",
   "execution_count": null,
   "metadata": {},
   "outputs": [],
   "source": [
    "#向量\n",
    "grades=[92,       #课程1\n",
    "        85,       #课程2\n",
    "        96]       #课程3\n",
    "grades"
   ]
  },
  {
   "cell_type": "code",
   "execution_count": null,
   "metadata": {},
   "outputs": [],
   "source": [
    "#矩阵\n",
    "friendships = [[0, 1, 1, 0, 0, 0, 0, 0, 0, 0], # user 0\n",
    "               [1, 0, 1, 1, 0, 0, 0, 0, 0, 0], # user 1\n",
    "               [1, 1, 0, 1, 0, 0, 0, 0, 0, 0], # user 2\n",
    "               [0, 1, 1, 0, 1, 0, 0, 0, 0, 0], # user 3\n",
    "               [0, 0, 0, 1, 0, 1, 0, 0, 0, 0], # user 4\n",
    "               [0, 0, 0, 0, 1, 0, 1, 1, 0, 0], # user 5\n",
    "               [0, 0, 0, 0, 0, 1, 0, 0, 1, 0], # user 6\n",
    "               [0, 0, 0, 0, 0, 1, 0, 0, 1, 0], # user 7\n",
    "               [0, 0, 0, 0, 0, 0, 1, 1, 0, 1], # user 8\n",
    "               [0, 0, 0, 0, 0, 0, 0, 0, 1, 0]] # user 9\n",
    "friendships"
   ]
  },
  {
   "cell_type": "code",
   "execution_count": null,
   "metadata": {},
   "outputs": [],
   "source": []
  },
  {
   "cell_type": "markdown",
   "metadata": {},
   "source": [
    "### 6.2.3 列表的索引\n",
    "- 索引是列表的基本操作，用于获得列表的一个元素。<br><br>\n",
    "- 使用中括号作为索引操作符。"
   ]
  },
  {
   "cell_type": "code",
   "execution_count": null,
   "metadata": {},
   "outputs": [],
   "source": [
    "#用方括号创建列表\n",
    "stu_info = [\"张三\", \"男\", 21, [\"山东\", \"济南\"]]\n",
    "type(stu_info)"
   ]
  },
  {
   "cell_type": "code",
   "execution_count": null,
   "metadata": {},
   "outputs": [],
   "source": [
    "stu_info[-1]          #列表的索引"
   ]
  },
  {
   "cell_type": "code",
   "execution_count": null,
   "metadata": {},
   "outputs": [],
   "source": [
    "stu_info[-1][0]       #列表的索引"
   ]
  },
  {
   "cell_type": "code",
   "execution_count": null,
   "metadata": {},
   "outputs": [],
   "source": [
    "stu_info[-1][0][1]    #序列的索引"
   ]
  },
  {
   "cell_type": "code",
   "execution_count": null,
   "metadata": {},
   "outputs": [],
   "source": []
  },
  {
   "cell_type": "markdown",
   "metadata": {},
   "source": [
    "可以使用遍历循环对列表类型的元素进行遍历操 作，基本使用方式如下：<br>\n",
    "> for\t<循环变量>\tin\t<列表数据>:<br><br>\n",
    "&nbsp;&nbsp;&nbsp;&nbsp;&nbsp;&nbsp;&nbsp;&nbsp;<语句块>"
   ]
  },
  {
   "cell_type": "code",
   "execution_count": null,
   "metadata": {},
   "outputs": [],
   "source": [
    "stu_info = [\"张三\", \"男\", 21, [\"山东\", \"济南\"]]\n",
    "for i in stu_info:\n",
    "    print(i)"
   ]
  },
  {
   "cell_type": "code",
   "execution_count": null,
   "metadata": {},
   "outputs": [],
   "source": []
  },
  {
   "cell_type": "markdown",
   "metadata": {},
   "source": [
    "### 6.2.4 列表的切片"
   ]
  },
  {
   "cell_type": "code",
   "execution_count": null,
   "metadata": {},
   "outputs": [],
   "source": [
    "stu_info = [\"张三\", \"男\", 21, [\"山东\", \"济南\"]]\n",
    "stu_info[1:3]         #列表的切片"
   ]
  },
  {
   "cell_type": "code",
   "execution_count": null,
   "metadata": {},
   "outputs": [],
   "source": [
    "stu_info[::2]        #列表的切片"
   ]
  },
  {
   "cell_type": "code",
   "execution_count": null,
   "metadata": {},
   "outputs": [],
   "source": []
  },
  {
   "cell_type": "markdown",
   "metadata": {},
   "source": [
    "### 6.2.5 列表元素的修改"
   ]
  },
  {
   "cell_type": "markdown",
   "metadata": {},
   "source": [
    "<font size=3>使用索引或切片配合赋值号（=）可以对列表元素进行修改"
   ]
  },
  {
   "cell_type": "code",
   "execution_count": null,
   "metadata": {},
   "outputs": [],
   "source": [
    "stu_info = [\"张三\", \"男\", 21, [\"山东\", \"济南\"]]\n",
    "stu_info[1] = '女'         #修改序号1的元素值和类型\n",
    "stu_info"
   ]
  },
  {
   "cell_type": "code",
   "execution_count": null,
   "metadata": {},
   "outputs": [],
   "source": [
    "stu_info[3]=\"山东济南\"   #修改序号3的元素值和类型\n",
    "stu_info"
   ]
  },
  {
   "cell_type": "code",
   "execution_count": null,
   "metadata": {},
   "outputs": [],
   "source": [
    "stu_info[3:]=[\"山东\", \"济南\"]   #修改序号3及以后的元素值和类型\n",
    "stu_info"
   ]
  },
  {
   "cell_type": "markdown",
   "metadata": {},
   "source": [
    "<font size=3>当使用一个列表改变另一个列表值时，Python不要求两个列表长度一样，但遵循“多增少减”的原则，例子如下。"
   ]
  },
  {
   "cell_type": "code",
   "execution_count": null,
   "metadata": {},
   "outputs": [],
   "source": [
    "stu_info[:2]=[\"202000020018\", \"李姣\",'金融学']   #修改序号0,1的元素值和类型\n",
    "stu_info"
   ]
  },
  {
   "cell_type": "code",
   "execution_count": null,
   "metadata": {},
   "outputs": [],
   "source": []
  },
  {
   "cell_type": "markdown",
   "metadata": {},
   "source": [
    "## 6.3 列表类型的处理操作"
   ]
  },
  {
   "cell_type": "markdown",
   "metadata": {},
   "source": [
    "列表数据有+、\\*及in和not in等基本的运算。\n",
    "\n",
    "表6.1中12个序列类型的操作符和函数都可应用于列表类型。\n",
    "\n",
    "表6.4给出了列表类型额外的15个常用函数或方法。<br>\n",
    "- 主要处理列表的增、删、改等操作。"
   ]
  },
  {
   "cell_type": "markdown",
   "metadata": {},
   "source": [
    "### 6.3.1 列表数据的基本运算"
   ]
  },
  {
   "cell_type": "code",
   "execution_count": null,
   "metadata": {},
   "outputs": [],
   "source": [
    "courses = ['数学分析', '大学英语II', '会计学', '大学计算机', '体育I']\n",
    "courses"
   ]
  },
  {
   "cell_type": "code",
   "execution_count": null,
   "metadata": {},
   "outputs": [],
   "source": [
    "courses = courses + ['Python语言程序设计', 'Python与数据分析']\n",
    "courses"
   ]
  },
  {
   "cell_type": "code",
   "execution_count": null,
   "metadata": {},
   "outputs": [],
   "source": [
    "courses = ['数学分析', '大学英语II', '会计学', '大学计算机', '体育I']\n",
    "courses * 2"
   ]
  },
  {
   "cell_type": "code",
   "execution_count": null,
   "metadata": {},
   "outputs": [],
   "source": []
  },
  {
   "cell_type": "markdown",
   "metadata": {},
   "source": [
    "### 6.3.2 列表数据的基本处理函数\n",
    "![](pic/p6-25.jpg)"
   ]
  },
  {
   "cell_type": "code",
   "execution_count": null,
   "metadata": {},
   "outputs": [],
   "source": [
    "stu_info = [\"张三\", \"男\", 21, [\"山东\", \"济南\"]]\n",
    "len(stu_info)"
   ]
  },
  {
   "cell_type": "code",
   "execution_count": null,
   "metadata": {},
   "outputs": [],
   "source": [
    "ls = []\n",
    "len(ls)"
   ]
  },
  {
   "cell_type": "code",
   "execution_count": null,
   "metadata": {},
   "outputs": [],
   "source": [
    "courses = ['数学分析', '大学英语II', '会计学', '大学计算机', '体育I']\n",
    "min(courses)"
   ]
  },
  {
   "cell_type": "code",
   "execution_count": null,
   "metadata": {},
   "outputs": [],
   "source": [
    "stu_info = [\"张三\", \"男\", 21, [\"山东\", \"济南\"]]\n",
    "max(stu_info)"
   ]
  },
  {
   "cell_type": "code",
   "execution_count": null,
   "metadata": {},
   "outputs": [],
   "source": []
  },
  {
   "cell_type": "markdown",
   "metadata": {},
   "source": [
    "<font size=3>list(x)将x转变成列表类型数据，其中x可以是字符串、元组、集合或字典等类型数据。"
   ]
  },
  {
   "cell_type": "code",
   "execution_count": null,
   "metadata": {},
   "outputs": [],
   "source": [
    "list(range(10))     #用list()函数转换"
   ]
  },
  {
   "cell_type": "code",
   "execution_count": null,
   "metadata": {},
   "outputs": [],
   "source": [
    "list(\"山东大学在山东\")"
   ]
  },
  {
   "cell_type": "code",
   "execution_count": null,
   "metadata": {},
   "outputs": [],
   "source": [
    "list(set(['山', '东', '大', '学', '在', '山', '东']))"
   ]
  },
  {
   "cell_type": "code",
   "execution_count": null,
   "metadata": {},
   "outputs": [],
   "source": [
    "list({'张军':95, '李云':92, '王丽':85, '吴小晖':87})"
   ]
  },
  {
   "cell_type": "code",
   "execution_count": null,
   "metadata": {},
   "outputs": [],
   "source": [
    "stu_info = [\"张三\", \"男\", 21, [\"山东\", \"济南\"]]\n",
    "2 in stu_info                                    #判断2是否在列表stu_info中"
   ]
  },
  {
   "cell_type": "code",
   "execution_count": null,
   "metadata": {},
   "outputs": [],
   "source": []
  },
  {
   "cell_type": "markdown",
   "metadata": {},
   "source": [
    "### 6.3.3 列表数据对象的方法\n",
    "<font size=3>列表类型存在一些操作方法，使用语法形式是：\n",
    "><列表数据>.<方法名称>(<方法参数>)"
   ]
  },
  {
   "cell_type": "code",
   "execution_count": null,
   "metadata": {},
   "outputs": [],
   "source": []
  },
  {
   "cell_type": "markdown",
   "metadata": {},
   "source": [
    "<font size=3>ls.append(x)在列表ls最后增加一个元素x"
   ]
  },
  {
   "cell_type": "code",
   "execution_count": null,
   "metadata": {},
   "outputs": [],
   "source": [
    "stu_info = [\"张三\", \"男\", 21, [\"山东\", \"济南\"]]\n",
    "stu_info.append(('微积分', 92))\n",
    "print(stu_info)"
   ]
  },
  {
   "cell_type": "code",
   "execution_count": null,
   "metadata": {},
   "outputs": [],
   "source": [
    "stu_info.append(('大学英语II', 86))\n",
    "print(stu_info)"
   ]
  },
  {
   "cell_type": "markdown",
   "metadata": {},
   "source": [
    "<font size=3>ls.append(x)仅用于在列表中增加一个元素，如果希望增加多个元素，可以使用**加号**，将两个列表合并!"
   ]
  },
  {
   "cell_type": "code",
   "execution_count": null,
   "metadata": {},
   "outputs": [],
   "source": [
    "stu_info = [\"张三\", \"男\", 21, [\"山东\", \"济南\"]]\n",
    "add_courses = [('微积分', 92) , ('大学英语II', 86)]\n",
    "stu_info += add_courses\n",
    "print(stu_info)"
   ]
  },
  {
   "cell_type": "markdown",
   "metadata": {},
   "source": [
    "<font size=3>ls.reverse()将列表ls中元素进行逆序反转"
   ]
  },
  {
   "cell_type": "code",
   "execution_count": null,
   "metadata": {},
   "outputs": [],
   "source": [
    "stu_info = [\"张三\", \"男\", 21, [\"山东\", \"济南\"]]\n",
    "stu_info.reverse()\n",
    "print(stu_info)"
   ]
  },
  {
   "cell_type": "code",
   "execution_count": null,
   "metadata": {},
   "outputs": [],
   "source": [
    "stu_info = [\"张三\", \"男\", 21, [\"山东\", \"济南\"]]\n",
    "stu_info[::-1]"
   ]
  },
  {
   "cell_type": "code",
   "execution_count": null,
   "metadata": {},
   "outputs": [],
   "source": []
  },
  {
   "cell_type": "markdown",
   "metadata": {},
   "source": [
    "<font size=3>ls.copy()复制ls中所有元素生成一个新列表\n",
    "- 深拷贝"
   ]
  },
  {
   "cell_type": "code",
   "execution_count": null,
   "metadata": {},
   "outputs": [],
   "source": [
    "stu_info = [\"张三\", \"男\", 21, [\"山东\", \"济南\"]]\n",
    "stu_info1 = stu_info.copy()\n",
    "stu_info == stu_info1"
   ]
  },
  {
   "cell_type": "code",
   "execution_count": null,
   "metadata": {},
   "outputs": [],
   "source": [
    "stu_info is stu_info1"
   ]
  },
  {
   "cell_type": "code",
   "execution_count": null,
   "metadata": {},
   "outputs": [],
   "source": [
    "stu_info.clear()      # 清空stu_info\n",
    "print(stu_info1)"
   ]
  },
  {
   "cell_type": "code",
   "execution_count": null,
   "metadata": {},
   "outputs": [],
   "source": [
    "stu_info"
   ]
  },
  {
   "cell_type": "markdown",
   "metadata": {},
   "source": [
    "赋值语句\n",
    "- 浅拷贝"
   ]
  },
  {
   "cell_type": "code",
   "execution_count": null,
   "metadata": {},
   "outputs": [],
   "source": [
    "stu_info = [\"张三\", \"男\", 21, [\"山东\", \"济南\"]]\n",
    "stu_info1 = stu_info\n",
    "stu_info == stu_info1"
   ]
  },
  {
   "cell_type": "code",
   "execution_count": null,
   "metadata": {},
   "outputs": [],
   "source": [
    "stu_info is stu_info1"
   ]
  },
  {
   "cell_type": "code",
   "execution_count": null,
   "metadata": {},
   "outputs": [],
   "source": [
    "print(id(stu_info), id(stu_info1))"
   ]
  },
  {
   "cell_type": "code",
   "execution_count": null,
   "metadata": {},
   "outputs": [],
   "source": [
    "stu_info.clear()      # 清空stu_info\n",
    "print(stu_info1)"
   ]
  },
  {
   "cell_type": "code",
   "execution_count": null,
   "metadata": {},
   "outputs": [],
   "source": []
  },
  {
   "cell_type": "markdown",
   "metadata": {},
   "source": [
    "<font size=3>列表元素的排序，可用两种：\n",
    "- 排序函数sorted()——排序结果是生成一个元素按照排序后构成的列表，不改变原列表变量数据。<br><br>\n",
    "- 排序方法ls.sort()——改变了原列表变量的值，由元素排序后构成"
   ]
  },
  {
   "cell_type": "code",
   "execution_count": null,
   "metadata": {},
   "outputs": [],
   "source": [
    "help(sorted)"
   ]
  },
  {
   "cell_type": "code",
   "execution_count": null,
   "metadata": {},
   "outputs": [],
   "source": [
    "help(x.sort)"
   ]
  },
  {
   "cell_type": "code",
   "execution_count": null,
   "metadata": {},
   "outputs": [],
   "source": [
    "#列表元素排序函数sorted()\n",
    "x = [1, 5, 3, 4, 2]\n",
    "x1 = sorted(x, reverse = True)\n",
    "x"
   ]
  },
  {
   "cell_type": "code",
   "execution_count": null,
   "metadata": {},
   "outputs": [],
   "source": [
    "x1"
   ]
  },
  {
   "cell_type": "code",
   "execution_count": null,
   "metadata": {},
   "outputs": [],
   "source": [
    "s = \"Python\"\n",
    "s1 = sorted(s)\n",
    "s1"
   ]
  },
  {
   "cell_type": "code",
   "execution_count": null,
   "metadata": {},
   "outputs": [],
   "source": [
    "y = (1, 5, 3, 4, 2)\n",
    "y1 = sorted(y, reverse = True)\n",
    "y1"
   ]
  },
  {
   "cell_type": "code",
   "execution_count": null,
   "metadata": {},
   "outputs": [],
   "source": [
    "x = [1, 5, 3, 4, 2]\n",
    "x.sort(reverse = True)   #比较方法x.sort()与函数sorted(x)的区别\n",
    "x"
   ]
  },
  {
   "cell_type": "code",
   "execution_count": null,
   "metadata": {},
   "outputs": [],
   "source": [
    "x1 = x.sort(reverse = True)\n",
    "print(x1)"
   ]
  },
  {
   "cell_type": "markdown",
   "metadata": {},
   "source": [
    "<font size=3>ls.insert(i, x)在列表ls中序号i位置上增加一个元素x，序号i之后的元素序号依次增加!"
   ]
  },
  {
   "cell_type": "code",
   "execution_count": null,
   "metadata": {},
   "outputs": [],
   "source": [
    "stu_info.insert(3, '金融学')\n",
    "print(stu_info)"
   ]
  },
  {
   "cell_type": "markdown",
   "metadata": {},
   "source": [
    "<font size=3>ls.clear()将列表ls的所有元素删除，清空列表"
   ]
  },
  {
   "cell_type": "code",
   "execution_count": null,
   "metadata": {},
   "outputs": [],
   "source": [
    "stu_info = [\"张三\", \"男\", 21, [\"山东\", \"济南\"]]\n",
    "stu_info.clear()\n",
    "print(stu_info)"
   ]
  },
  {
   "cell_type": "code",
   "execution_count": null,
   "metadata": {},
   "outputs": [],
   "source": [
    "stu_info = [\"张三\", \"男\", 21, [\"山东\", \"济南\"]]\n",
    "del stu_info[:]\n",
    "print(stu_info)"
   ]
  },
  {
   "cell_type": "code",
   "execution_count": null,
   "metadata": {},
   "outputs": [],
   "source": [
    "stu_info = [\"张三\", \"男\", 21, [\"山东\", \"济南\"]]\n",
    "del stu_info\n",
    "print(stu_info)"
   ]
  },
  {
   "cell_type": "code",
   "execution_count": null,
   "metadata": {},
   "outputs": [],
   "source": []
  },
  {
   "cell_type": "markdown",
   "metadata": {},
   "source": [
    "<font size=3>ls.pop(i)将返回列表ls中序号为i的元素，并将该元素从列表中删除"
   ]
  },
  {
   "cell_type": "code",
   "execution_count": null,
   "metadata": {},
   "outputs": [],
   "source": [
    "stu_info = [\"张三\", \"男\", 21, [\"山东\", \"济南\"]]\n",
    "sex = stu_info.pop(1)         #返回序号为1的元素，并在列表中删除该元素\n",
    "print(stu_info, sex)"
   ]
  },
  {
   "cell_type": "markdown",
   "metadata": {},
   "source": [
    "<font size=3>ls.remove(x)将删除列表ls中第一个出现的x元素"
   ]
  },
  {
   "cell_type": "code",
   "execution_count": null,
   "metadata": {},
   "outputs": [],
   "source": [
    "stu_info = [\"张三\", \"男\", 21, [\"山东\", \"济南\"]]\n",
    "sex = stu_info.remove('男')  #删除列表中第一个出现的该元素\n",
    "print(stu_info, sex)"
   ]
  },
  {
   "cell_type": "code",
   "execution_count": null,
   "metadata": {},
   "outputs": [],
   "source": []
  },
  {
   "cell_type": "markdown",
   "metadata": {},
   "source": [
    "<font size=3>可以使用Python保留字del对列表元素或片段进行删除，使用方法如下：\n",
    ">del\t<列表变量>[<索引序号>]<br>\t\n",
    "或<br><br>\n",
    "del\t<列表变量>[<索引起始>: <索引结束>]"
   ]
  },
  {
   "cell_type": "code",
   "execution_count": null,
   "metadata": {},
   "outputs": [],
   "source": [
    "stu_info = [\"张三\", \"男\", 21, [\"山东\", \"济南\"]]\n",
    "del stu_info[1]\n",
    "stu_info"
   ]
  },
  {
   "cell_type": "code",
   "execution_count": null,
   "metadata": {},
   "outputs": [],
   "source": [
    "stu_info = [\"张三\", \"男\", 21, [\"山东\", \"济南\"]]\n",
    "del stu_info[1:3]\n",
    "stu_info"
   ]
  },
  {
   "cell_type": "code",
   "execution_count": null,
   "metadata": {},
   "outputs": [],
   "source": [
    "stu_info = [\"张三\", \"男\", 21, [\"山东\", \"济南\"]]\n",
    "del stu_info\n",
    "print(stu_info)"
   ]
  },
  {
   "cell_type": "markdown",
   "metadata": {},
   "source": [
    "<font size=3>ls.count(x)统计元素x在列表ls中出现的次数"
   ]
  },
  {
   "cell_type": "code",
   "execution_count": null,
   "metadata": {},
   "outputs": [],
   "source": [
    "ls = [ 1 , 2 , 3 , 1 , 1 , 2 , 3 , 1]\n",
    "ls.count(2)"
   ]
  },
  {
   "cell_type": "code",
   "execution_count": null,
   "metadata": {},
   "outputs": [],
   "source": []
  },
  {
   "cell_type": "markdown",
   "metadata": {},
   "source": [
    "<font size=3>\n",
    "列表是一个十分灵活的数据结构，它具有处理任意长度、混合类型的能力，并提供了丰富的基础操作符和方法。当程序需要使用组合数据类型管理批量数据时，请尽量使用列表类型。"
   ]
  },
  {
   "cell_type": "markdown",
   "metadata": {},
   "source": [
    "### 6.3.4 综合例题"
   ]
  },
  {
   "cell_type": "markdown",
   "metadata": {},
   "source": [
    "#### 英文文章的词频分析，以《 AliceInWonderland 》为例"
   ]
  },
  {
   "cell_type": "code",
   "execution_count": null,
   "metadata": {},
   "outputs": [],
   "source": [
    "#(4)统计某个词出现的频数\n",
    "txt = open(\"开篇例题/data/AliceInWonderland.txt \", \"r\").read()\n",
    "txt = txt.lower()\n",
    "for ch in '!\"#$%&()*+,-./:;<=>?@`[\\\\]^_‘{|}~\\'0123456789':\n",
    "    txt = txt.replace(ch, \" \")   #将文本中特殊字符替换为空格\n",
    "words  = txt.split()\n",
    "words"
   ]
  },
  {
   "cell_type": "code",
   "execution_count": null,
   "metadata": {},
   "outputs": [],
   "source": [
    "words.count('alice')"
   ]
  },
  {
   "cell_type": "code",
   "execution_count": null,
   "metadata": {},
   "outputs": [],
   "source": [
    "words.count('a')"
   ]
  },
  {
   "cell_type": "code",
   "execution_count": null,
   "metadata": {},
   "outputs": [],
   "source": [
    "txt.count('a')"
   ]
  },
  {
   "cell_type": "code",
   "execution_count": null,
   "metadata": {},
   "outputs": [],
   "source": [
    "#(5)统计所有词出现的频数，并输出用时\n",
    "import time\n",
    "start = time.perf_counter()\n",
    "for word in words:\n",
    "    n = words.count(word)\n",
    "    print(word,n)\n",
    "print('用时为：', time.perf_counter() - start)"
   ]
  },
  {
   "cell_type": "code",
   "execution_count": null,
   "metadata": {},
   "outputs": [],
   "source": [
    "#(6)统计所有词出现的频数，将words转换为集合后再遍历循环，并输出用时\n",
    "import time\n",
    "start = time.perf_counter()\n",
    "for word in set(words):\n",
    "    n = words.count(word)\n",
    "    print(word,n)\n",
    "print('用时为：', time.perf_counter() - start)"
   ]
  },
  {
   "cell_type": "code",
   "execution_count": null,
   "metadata": {},
   "outputs": [],
   "source": [
    "#(7)统计所有词出现的频数，每个词及其词频组成一个列表，所有单词词频构成一个列表\n",
    "counts = []\n",
    "for word in set(words):\n",
    "    n = words.count(word)\n",
    "    counts.append((word,n))\n",
    "print(counts)"
   ]
  },
  {
   "cell_type": "code",
   "execution_count": null,
   "metadata": {},
   "outputs": [],
   "source": [
    "#(8)所有单词按词频由高到低排序\n",
    "\n",
    "counts.sort(key = lambda x:x[1], reverse=True)\n",
    "counts"
   ]
  },
  {
   "cell_type": "markdown",
   "metadata": {},
   "source": [
    "#### 综合例题：英文文章的词频分析，以《 AliceInWonderland 》为例\n",
    "- 统计所有词出现的频数，每个词及其词频组成一个列表，所有单词词频构成一个列表\n",
    "- 所有单词按词频由高到低排序\n",
    "- 输出前10个高频词及其出现的频率"
   ]
  },
  {
   "cell_type": "code",
   "execution_count": null,
   "metadata": {},
   "outputs": [],
   "source": [
    "#综合例题：英文文章的词频统计分析\n",
    "\n",
    "#读取英文文章的字符串\n",
    "txt = open(\"开篇例题/data/AliceInWonderland.txt \", \"r\").read()\n",
    "txt = txt.lower()\n",
    "\n",
    "#清洗不必要的标点符号\n",
    "for ch in '!\"#$%&()*+,-./:;<=>?@`[\\\\]^_‘{|}~\\'0123456789':\n",
    "    txt = txt.replace(ch, \" \")   #将文本中特殊字符替换为空格\n",
    "\n",
    "#英文分词\n",
    "words  = txt.split()\n",
    "\n",
    "#统计所有词出现的频数，每个词及其词频组成一个列表，所有单词词频构成一个列表\n",
    "counts = []\n",
    "for word in set(words):\n",
    "    n = words.count(word)\n",
    "    counts.append((word,n))\n",
    "\n",
    "#所有单词按词频由高到低排序\n",
    "counts.sort(key = lambda x:x[1], reverse=True)\n",
    "\n",
    "#输出前10个高频词及其出现的频率\n",
    "for i in range(10):\n",
    "    print(counts[i])"
   ]
  },
  {
   "cell_type": "markdown",
   "metadata": {},
   "source": [
    "**列表在实现基本数据统计时发挥了重要作用，表现在：**<br><br>\n",
    "(1) 列表是一个动态长度的数据结构，可以根据需求增加或减少元素；<br><br>\n",
    "(2) 列表的一系列方法或操作符为计算提供了简单的元素运算手段；<br><br>\n",
    "(3) 列表提供了对每个元素的简单访问方式及所有元素的遍历方式。"
   ]
  },
  {
   "cell_type": "code",
   "execution_count": null,
   "metadata": {},
   "outputs": [],
   "source": []
  },
  {
   "cell_type": "markdown",
   "metadata": {},
   "source": [
    "### 6.3.5 列表推导式"
   ]
  },
  {
   "cell_type": "code",
   "execution_count": null,
   "metadata": {},
   "outputs": [],
   "source": [
    "newyears = [x + 2010 for x in range(7)]\n",
    "print(newyears)"
   ]
  },
  {
   "cell_type": "code",
   "execution_count": null,
   "metadata": {},
   "outputs": [],
   "source": [
    "newyears1 = []\n",
    "for x in range(7):\n",
    "    newyears1.append(x + 2010)\n",
    "print(newyears1)"
   ]
  },
  {
   "cell_type": "code",
   "execution_count": null,
   "metadata": {},
   "outputs": [],
   "source": [
    "splitedLine = '指标,2000年,2015年,2016年\\n'.strip().split(',')\n",
    "print(splitedLine)"
   ]
  },
  {
   "cell_type": "code",
   "execution_count": null,
   "metadata": {},
   "outputs": [],
   "source": [
    "[int(x[:-1]) for x in splitedLine[1:]]"
   ]
  },
  {
   "cell_type": "code",
   "execution_count": null,
   "metadata": {},
   "outputs": [],
   "source": [
    "n = [ -5, 3.6 , -2.7 , 1.2 , 5.1 , 8.2]\n",
    "[x for x in n if x >= 0]                #由n的非负的元素导出一个列表"
   ]
  },
  {
   "cell_type": "code",
   "execution_count": null,
   "metadata": {},
   "outputs": [],
   "source": []
  },
  {
   "cell_type": "markdown",
   "metadata": {},
   "source": [
    "## 6.4 字典类型\n",
    "### 6.4.1 字典的定义"
   ]
  },
  {
   "cell_type": "code",
   "execution_count": null,
   "metadata": {
    "scrolled": true
   },
   "outputs": [],
   "source": [
    "course_infos = { 'sd00233123':['体育I', '必修', 2], 'sd00233590':['大学英语II','必修', 3],'sd00233456':['Python语言程序设计', '限选', 2]} \n",
    "print(course_infos)"
   ]
  },
  {
   "cell_type": "code",
   "execution_count": null,
   "metadata": {},
   "outputs": [],
   "source": [
    "type(course_infos)"
   ]
  },
  {
   "cell_type": "code",
   "execution_count": null,
   "metadata": {},
   "outputs": [],
   "source": [
    "a = {}\n",
    "a"
   ]
  },
  {
   "cell_type": "code",
   "execution_count": null,
   "metadata": {},
   "outputs": [],
   "source": [
    "type(a)"
   ]
  },
  {
   "cell_type": "code",
   "execution_count": null,
   "metadata": {},
   "outputs": [],
   "source": [
    "#无参数的dict()生成一个空字典，作用和{}一致\n",
    "d = dict()\n",
    "print(d)"
   ]
  },
  {
   "cell_type": "markdown",
   "metadata": {},
   "source": [
    "### 6.4.2 字典的索引\n",
    "字典最主要的用法是查找与特定键相对应的值，这通过“键：值”对中的“键”来实现。"
   ]
  },
  {
   "cell_type": "code",
   "execution_count": null,
   "metadata": {},
   "outputs": [],
   "source": [
    "course_infos = { 'sd00233123':['体育I', '必修', 2] , 'sd00233590':['大学英语II','必修', 3], 'sd00233456':['Python语言程序设计', '限选', 2]} "
   ]
  },
  {
   "cell_type": "code",
   "execution_count": null,
   "metadata": {
    "scrolled": true
   },
   "outputs": [],
   "source": [
    "course_infos"
   ]
  },
  {
   "cell_type": "code",
   "execution_count": null,
   "metadata": {},
   "outputs": [],
   "source": [
    "course_infos['sd00233123']"
   ]
  },
  {
   "cell_type": "code",
   "execution_count": null,
   "metadata": {},
   "outputs": [],
   "source": [
    "course_infos[\"sd00233456\"]"
   ]
  },
  {
   "cell_type": "code",
   "execution_count": null,
   "metadata": {},
   "outputs": [],
   "source": [
    "course_infos[\"sd00233789\"]"
   ]
  },
  {
   "cell_type": "markdown",
   "metadata": {},
   "source": [
    "### 6.4.3  字典数据的基本操作\n",
    "**修改某个键对应值**"
   ]
  },
  {
   "cell_type": "code",
   "execution_count": null,
   "metadata": {
    "scrolled": true
   },
   "outputs": [],
   "source": [
    "course_infos"
   ]
  },
  {
   "cell_type": "code",
   "execution_count": null,
   "metadata": {},
   "outputs": [],
   "source": [
    "course_infos['sd00233123'] = ['数学分析I', '必修', 4]\n",
    "course_infos"
   ]
  },
  {
   "cell_type": "markdown",
   "metadata": {},
   "source": [
    "**该方法也可用于向字典增加新元素**<br><br>\n",
    "通过中括号键（[键]）可以增加新的元素<br>"
   ]
  },
  {
   "cell_type": "code",
   "execution_count": null,
   "metadata": {},
   "outputs": [],
   "source": [
    "course_infos['sd00233789'] = ['概率与统计', '必修', 4]\n",
    "course_infos"
   ]
  },
  {
   "cell_type": "code",
   "execution_count": null,
   "metadata": {},
   "outputs": [],
   "source": [
    "course_infos = {}\n",
    "course_infos['sd00233789'] = ['概率与统计', '必修', 4]\n",
    "course_infos"
   ]
  },
  {
   "cell_type": "code",
   "execution_count": null,
   "metadata": {},
   "outputs": [],
   "source": [
    "course_infos['sd00233123'] = ['数学分析I', '必修', 4]\n",
    "course_infos"
   ]
  },
  {
   "cell_type": "markdown",
   "metadata": {},
   "source": [
    "## 6.5 字典类型的操作\n",
    "### 6.5.1 字典数据处理的函数\n",
    "字典类型的一些通用的操作函数"
   ]
  },
  {
   "cell_type": "code",
   "execution_count": null,
   "metadata": {},
   "outputs": [],
   "source": [
    "#len(d)给出字典d的元素个数，也称为长度\n",
    "score = {'张军':95, '李云':92, '王丽':85, '吴小晖':87} \n",
    "len(score)"
   ]
  },
  {
   "cell_type": "markdown",
   "metadata": {},
   "source": [
    "##### min(d)和max(d)分别返回字典d中最小或最大索引值"
   ]
  },
  {
   "cell_type": "code",
   "execution_count": null,
   "metadata": {},
   "outputs": [],
   "source": [
    "min(score)"
   ]
  },
  {
   "cell_type": "code",
   "execution_count": null,
   "metadata": {},
   "outputs": [],
   "source": [
    "max(score)"
   ]
  },
  {
   "cell_type": "code",
   "execution_count": null,
   "metadata": {},
   "outputs": [],
   "source": [
    "#dict(x)函数将x转换为一个字典数据\n",
    "score = dict((['张军', 95], ['李云', 92], ['王丽', 85], ['吴小晖', 87]))\n",
    "print(score)"
   ]
  },
  {
   "cell_type": "code",
   "execution_count": null,
   "metadata": {},
   "outputs": [],
   "source": [
    "x = ['ab','cd']\n",
    "dict(x)"
   ]
  },
  {
   "cell_type": "code",
   "execution_count": null,
   "metadata": {},
   "outputs": [],
   "source": [
    "score = dict({('张军', 95), ('李云', 92), ('王丽', 85), ('吴小晖', 87)})\n",
    "score"
   ]
  },
  {
   "cell_type": "code",
   "execution_count": null,
   "metadata": {},
   "outputs": [],
   "source": []
  },
  {
   "cell_type": "markdown",
   "metadata": {},
   "source": [
    "### 6.5.2 字典数据处理的方法\n",
    "字典类型存在一些操作方法，使用语法形式是：\n",
    "><字典变量>.<方法名称>(<方法参数>)"
   ]
  },
  {
   "cell_type": "code",
   "execution_count": null,
   "metadata": {},
   "outputs": [],
   "source": [
    "#d.keys()返回字典中的所有键信息，返回结果是Python的一种内部数据类型dict_keys，专用于表示字典的键。\n",
    "score = dict({('张军', 95), ('李云', 92), ('王丽', 85), ('吴小晖', 87)})\n",
    "score.keys()"
   ]
  },
  {
   "cell_type": "code",
   "execution_count": null,
   "metadata": {},
   "outputs": [],
   "source": [
    "#如果希望更好的使用返回结果，可以将其转换为列表类型\n",
    "list(score.keys())"
   ]
  },
  {
   "cell_type": "code",
   "execution_count": null,
   "metadata": {},
   "outputs": [],
   "source": [
    "#d.values()返回字典中的所有值信息，返回结果是Python的一种内部数据类型dict_values\n",
    "score.values()"
   ]
  },
  {
   "cell_type": "code",
   "execution_count": null,
   "metadata": {},
   "outputs": [],
   "source": [
    "for value in score.values():\n",
    "    print(value)"
   ]
  },
  {
   "cell_type": "code",
   "execution_count": null,
   "metadata": {},
   "outputs": [],
   "source": [
    "#如果希望更好的使用返回结果，可以将其转换为列表类型。\n",
    "list(score.values())"
   ]
  },
  {
   "cell_type": "code",
   "execution_count": null,
   "metadata": {},
   "outputs": [],
   "source": [
    "#d.items()返回字典中的所有键值对信息，返回结果是Python的一种内部数据类型dict_items\n",
    "#结果类似于一个列表数据，每个元素由每个键值对的键和值构成的元组\n",
    "score.items()   "
   ]
  },
  {
   "cell_type": "code",
   "execution_count": null,
   "metadata": {},
   "outputs": [],
   "source": [
    "list(score.items())"
   ]
  },
  {
   "cell_type": "code",
   "execution_count": null,
   "metadata": {},
   "outputs": [],
   "source": [
    "dict(score.items())"
   ]
  },
  {
   "cell_type": "code",
   "execution_count": null,
   "metadata": {},
   "outputs": [],
   "source": []
  },
  {
   "cell_type": "code",
   "execution_count": null,
   "metadata": {},
   "outputs": [],
   "source": [
    "#d.get(key[, default])根据键信息查找并返回值信息\n",
    "#如果 key存在则返回相应值，否则返回默认值，第二个元素 default可以省略，如果省略则默认值为空。\n",
    "score = dict({('张军', 95), ('李云', 92), ('王丽', 85), ('吴小晖', 87)})\n",
    "score.get('王丽', 0)     #'王丽'在字典中存在"
   ]
  },
  {
   "cell_type": "code",
   "execution_count": null,
   "metadata": {},
   "outputs": [],
   "source": [
    "score.get('王丽')     #'王丽'在字典中存在"
   ]
  },
  {
   "cell_type": "code",
   "execution_count": null,
   "metadata": {},
   "outputs": [],
   "source": [
    "score.get('李丽')     #'李丽'在字典中不存在"
   ]
  },
  {
   "cell_type": "code",
   "execution_count": null,
   "metadata": {},
   "outputs": [],
   "source": [
    "score.get('李丽', 0)     #'李丽'在字典中不存在"
   ]
  },
  {
   "cell_type": "code",
   "execution_count": null,
   "metadata": {},
   "outputs": [],
   "source": [
    "#d.pop(key[, default])根据键信息查找并取出值信息并删除相应的键值对\n",
    "#如果key存在则返回相应值并删除相应的键值对；否则返回默认值，第二个元素 default可以省略，如果省略则默认值为空。\n",
    "#相比d.get() 方法，d.pop()在取出相应值后，将从字典中删除对应的键值对。\n",
    "score = dict({('张军', 95), ('李云', 92), ('王丽', 85), ('吴小晖', 87)})\n",
    "s = score.pop('王丽')\n",
    "print(score, s)"
   ]
  },
  {
   "cell_type": "code",
   "execution_count": null,
   "metadata": {},
   "outputs": [],
   "source": [
    "score = dict({('张军', 95), ('李云', 92), ('王丽', 85), ('吴小晖', 87)})\n",
    "s = score.pop('李丽', '不存在')\n",
    "print(score, s)"
   ]
  },
  {
   "cell_type": "code",
   "execution_count": null,
   "metadata": {},
   "outputs": [],
   "source": [
    "score = dict({('张军', 95), ('李云', 92), ('王丽', 85), ('吴小晖', 87)})\n",
    "s = score.popitem()\n",
    "print(score, s)"
   ]
  },
  {
   "cell_type": "code",
   "execution_count": null,
   "metadata": {},
   "outputs": [],
   "source": [
    "s = score.popitem()\n",
    "print(score, s)"
   ]
  },
  {
   "cell_type": "code",
   "execution_count": null,
   "metadata": {},
   "outputs": [],
   "source": [
    "#d.clear()删除字典中所有键值对\n",
    "score = dict({('张军', 95), ('李云', 92), ('王丽', 85), ('吴小晖', 87)})\n",
    "score.clear()\n",
    "print(score)"
   ]
  },
  {
   "cell_type": "code",
   "execution_count": null,
   "metadata": {},
   "outputs": [],
   "source": [
    "#如果希望删除字典中某一个元素 ，可以使用del命令\n",
    "score = dict({('张军', 95), ('李云', 92), ('王丽', 85), ('吴小晖', 87)})\n",
    "del score[\"王丽\"]\n",
    "print(score)"
   ]
  },
  {
   "cell_type": "code",
   "execution_count": null,
   "metadata": {},
   "outputs": [],
   "source": [
    "del score[\"李丽\"]\n",
    "print(score)"
   ]
  },
  {
   "cell_type": "code",
   "execution_count": null,
   "metadata": {},
   "outputs": [],
   "source": [
    "#字典类型也支持保留字in，用来判断一个键是否在字典 中。如果在则返回True，否则返回False\n",
    "'李丽' in score   #只对键进行判断"
   ]
  },
  {
   "cell_type": "markdown",
   "metadata": {},
   "source": [
    "### 6.5.3 使用字典进行遍历循环\n",
    "与其他组合类型一样，字典可以通过for…in语句对其元素进行遍历，基本语法结构如下：<br>\n",
    ">for \t<变量名>  in  <字典数据>:<br><br>\n",
    "&nbsp;&nbsp;&nbsp;&nbsp;&nbsp;&nbsp;&nbsp;&nbsp;语句块"
   ]
  },
  {
   "cell_type": "code",
   "execution_count": null,
   "metadata": {},
   "outputs": [],
   "source": [
    "score = dict({('张军', 95), ('李云', 92), ('王丽', 85), ('吴小晖', 87)})\n",
    "for s in score:\n",
    "    print('{:5}的成绩是：{:3}'.format(s, score[s]))"
   ]
  },
  {
   "cell_type": "code",
   "execution_count": null,
   "metadata": {},
   "outputs": [],
   "source": [
    "score = dict({('张军', 95), ('李云', 92), ('王丽', 85), ('吴小晖', 87)})\n",
    "for s in score:\n",
    "    print('{:5}的成绩是：{:3}'.format(s, score.get(s)))"
   ]
  },
  {
   "cell_type": "markdown",
   "metadata": {
    "collapsed": true
   },
   "source": [
    "**字典是实现键值对映射的数据结构，请理解如下基本原则：**<br>\n",
    "- 字典是一个键值对的集合，该集合以键为索引，一个键信息只对应一个值信息；<br> <br>\n",
    "- 字典中元素以键信息为索引访问；<br><br>\n",
    "- 字典长度是可变的，可以通过对键信息赋值实现增加或修改键值对。 "
   ]
  },
  {
   "cell_type": "code",
   "execution_count": null,
   "metadata": {},
   "outputs": [],
   "source": []
  },
  {
   "cell_type": "markdown",
   "metadata": {},
   "source": [
    "## 6.6 实例解析：文本词频统计"
   ]
  },
  {
   "cell_type": "markdown",
   "metadata": {},
   "source": [
    "**思路**<br><br>\n",
    "词频统计只是一个累加问题，即对文档中的每个词设计一个计数器，词语每出现一次，相应的计数器加1。<br><br>\n",
    "如果用字典，以词语为键，计数器为值，构成了**<单词>:<出现次数>**的键值对，很好地解决词频统计问题。<br><br>\n",
    "\n",
    "**统计《哈姆雷特》英文词频**<br>\n",
    "具体思路：<br>\n",
    ">第一步：分解并提取英文文章的单词<br><br>\n",
    "第二步：对每个单词进行计数<br><br>\n",
    "第三走：对单词的统计值从高到低进行排序"
   ]
  },
  {
   "cell_type": "markdown",
   "metadata": {},
   "source": [
    "<font size=3>  \n",
    "**第一步 英文文本分词**<br>\n",
    "1. 通过txt.lower()函数将字母变成小写，排除原文大小写差异对词频统计的干扰。<br><br>\n",
    "2. 为统一分隔方式，可以将各种特殊字符和标点符号使用txt.replace()方法替换成空格，再提取单词。<br><br>\n",
    "3. 提取英文文本中的单词，只需使用**字符串处理的split()方法**即可。<br>\n",
    "- 因为英文文本可以通过空格或标点符号分割单词。<br><br>\n",
    "例如：\"China is a great country\".split()"
   ]
  },
  {
   "cell_type": "code",
   "execution_count": null,
   "metadata": {},
   "outputs": [],
   "source": [
    "#读取文档中的文本（字符串）\n",
    "txt = open(\"hamlet.txt\", \"r\").read()\n",
    "txt"
   ]
  },
  {
   "cell_type": "code",
   "execution_count": null,
   "metadata": {},
   "outputs": [],
   "source": [
    "#将字母变成小写\n",
    "txt = txt.lower()\n",
    "txt"
   ]
  },
  {
   "cell_type": "code",
   "execution_count": null,
   "metadata": {},
   "outputs": [],
   "source": [
    "#依次将文本中特殊字符替换为空格\n",
    "for ch in '\\'!\"#$%&()*+,-./:;<=>?@[\\\\]^_‘{|}~':\n",
    "    txt = txt.replace(ch, \" \")  \n",
    "txt"
   ]
  },
  {
   "cell_type": "code",
   "execution_count": null,
   "metadata": {},
   "outputs": [],
   "source": [
    "#提取英文文本中的单词\n",
    "words  = txt.split()\n",
    "words"
   ]
  },
  {
   "cell_type": "code",
   "execution_count": null,
   "metadata": {},
   "outputs": [],
   "source": []
  },
  {
   "cell_type": "markdown",
   "metadata": {},
   "source": [
    "**第二步 对每个单词进行计数**<br><br>\n",
    "    用一个字典变量counts统计每个单词的频数，每个单词的频数是字典的一个“单词:频数”键值对。起始counts为一个空字典。<br>\n",
    ">counts = {}\n",
    "    \n",
    "当某个单词又出现一次时,统计用下面代码实现：<br>\n",
    ">$counts[word] = counts[word] + 1$\n",
    "\n",
    "若是一个新词，可需在字典中田建一个新键值对：<br>\n",
    ">$counts[word] = 1$\n",
    "\n",
    "因此，无论是否为新词，其一个单词的频数统计如下代码：<br>\n",
    ">if word in counts:<br><br>\n",
    "&nbsp;&nbsp;&nbsp;&nbsp;counts[word] = counts[word] + 1<br><br>\n",
    "else:<br><br>\n",
    "&nbsp;&nbsp;&nbsp;&nbsp;counts[word] = 1<br>\n",
    "\n",
    "或者，这个处理逻辑可以更简洁的表示为如下代码：<br><br>\n",
    "counts[word] = counts.get(word,0) + 1"
   ]
  },
  {
   "cell_type": "code",
   "execution_count": null,
   "metadata": {},
   "outputs": [],
   "source": [
    "import time\n",
    "start = time.perf_counter()\n",
    "counts = {}\n",
    "for word in words:\n",
    "    counts[word] = counts.get(word,0) + 1\n",
    "print('用时：', time.perf_counter() - start)"
   ]
  },
  {
   "cell_type": "code",
   "execution_count": null,
   "metadata": {},
   "outputs": [],
   "source": [
    "print(counts)"
   ]
  },
  {
   "cell_type": "markdown",
   "metadata": {},
   "source": [
    "**第三步 对单词的统计值从高到低进行排序**<br><br>\n",
    "由于字典类型没有顺序，需要将其转换为有顺序的列表类型，再使用sort()方法和lambda函数配合实现根据单词次数对元素进行排序。"
   ]
  },
  {
   "cell_type": "code",
   "execution_count": null,
   "metadata": {},
   "outputs": [],
   "source": [
    "items = list(counts.items())#将字典转换为记录列表 \n",
    "\n",
    "items.sort(key=lambda x:x[1], reverse=True)\t#以第2列排序\n",
    "print(items)"
   ]
  },
  {
   "cell_type": "markdown",
   "metadata": {},
   "source": [
    "<font size=3>\n",
    "显示出现最多的前10个单词"
   ]
  },
  {
   "cell_type": "code",
   "execution_count": null,
   "metadata": {},
   "outputs": [],
   "source": [
    "for i in range(10):\n",
    "    word, count = items[i]\n",
    "    print (\"{0:<10}{1:>5}\".format(word, count))"
   ]
  },
  {
   "cell_type": "code",
   "execution_count": null,
   "metadata": {},
   "outputs": [],
   "source": []
  },
  {
   "cell_type": "markdown",
   "metadata": {},
   "source": [
    "**综合**"
   ]
  },
  {
   "cell_type": "code",
   "execution_count": null,
   "metadata": {},
   "outputs": [],
   "source": [
    "#读取文件内容\n",
    "txt = open(\"hamlet.txt\", \"r\").read()\n",
    "#将全部字母转换为小写字母\n",
    "txt = txt.lower()\n",
    "#清洗特殊的符号\n",
    "for ch in '!\"#$%&()*+,-./:;<=>?@[\\\\]^_‘{|}~':\n",
    "    txt = txt.replace(ch, \" \")   #将文本中特殊字符替换为空格\n",
    "#分词\n",
    "words  = txt.split()\n",
    "#词频统计\n",
    "counts = {}\n",
    "for word in words:\n",
    "    counts[word] = counts.get(word,0) + 1\n",
    "#按照词频由高到低排序\n",
    "items = list(counts.items())\n",
    "items.sort(key=lambda x:x[1], reverse=True) \n",
    "#显示前10的高频词\n",
    "for i in range(10):\n",
    "    word, count = items[i]\n",
    "    print (\"{0:<10}{1:>5}\".format(word, count))"
   ]
  },
  {
   "cell_type": "code",
   "execution_count": null,
   "metadata": {},
   "outputs": [],
   "source": []
  },
  {
   "cell_type": "markdown",
   "metadata": {},
   "source": [
    "去掉停用词"
   ]
  },
  {
   "cell_type": "code",
   "execution_count": null,
   "metadata": {},
   "outputs": [],
   "source": [
    "print(len(counts))"
   ]
  },
  {
   "cell_type": "code",
   "execution_count": null,
   "metadata": {},
   "outputs": [],
   "source": [
    "#去掉单个字母\n",
    "for a in 'abcdefghijklmnopqrstuvwxyz':\n",
    "    counts.pop(a, 0)"
   ]
  },
  {
   "cell_type": "code",
   "execution_count": null,
   "metadata": {},
   "outputs": [],
   "source": [
    "print(len(counts))"
   ]
  },
  {
   "cell_type": "code",
   "execution_count": null,
   "metadata": {},
   "outputs": [],
   "source": [
    "#创建停用词\n",
    "stopwords = {\"the\",\"and\",\"of\",\"you\",\"my\",\"in\",\"to\",\"it\",'this','is','not','that','at','his'}\n",
    "#去掉停用词\n",
    "for w in stopwords:\n",
    "    counts.pop(w, 0)"
   ]
  },
  {
   "cell_type": "code",
   "execution_count": null,
   "metadata": {},
   "outputs": [],
   "source": [
    "print(len(counts))"
   ]
  },
  {
   "cell_type": "markdown",
   "metadata": {},
   "source": [
    "综合代码（去掉停用词）"
   ]
  },
  {
   "cell_type": "code",
   "execution_count": null,
   "metadata": {},
   "outputs": [],
   "source": [
    "#创建停用词\n",
    "stopwords = {\"the\",\"and\",\"of\",\"in\",\"to\",\"it\",'is','not','at',\n",
    "            'but', 'with',  'for',  'be', 'as', 'so', 'have', 'will', 'do'}\n",
    "#读取文件内容\n",
    "txt = open(\"hamlet.txt\", \"r\").read()\n",
    "#将字母转换为小写字母\n",
    "txt = txt.lower()\n",
    "#清洗特殊的符号\n",
    "for ch in '!\"#$%&()*+,-./:;<=>?@[\\\\]^_‘{|}~0123456789':\n",
    "    txt = txt.replace(ch, \" \")   #将文本中特殊字符替换为空格\n",
    "#分词\n",
    "words  = txt.split()\n",
    "#词频统计\n",
    "counts = {}\n",
    "for word in words:\n",
    "    counts[word] = counts.get(word,0) + 1\n",
    "#去掉单个字母的词\n",
    "for i in 'abcdefghijklmnopqrstuvwxyz':\n",
    "    counts.pop(i,0)\n",
    "#去掉停用词\n",
    "for word in stopwords:\n",
    "    del(counts[word])\n",
    "#按照单词的词频共有高到低的排序\n",
    "items = list(counts.items())\n",
    "items.sort(key=lambda x:x[1], reverse=True) \n",
    "#输出前10的高频词\n",
    "for i in range(10):\n",
    "    word, count = items[i]\n",
    "    print (\"{0:<10}{1:>5}\".format(word, count))"
   ]
  },
  {
   "cell_type": "markdown",
   "metadata": {},
   "source": [
    "### 更好的词频统计可进一步学习nltk库"
   ]
  },
  {
   "cell_type": "code",
   "execution_count": null,
   "metadata": {},
   "outputs": [],
   "source": []
  },
  {
   "cell_type": "code",
   "execution_count": null,
   "metadata": {},
   "outputs": [],
   "source": []
  }
 ],
 "metadata": {
  "kernelspec": {
   "display_name": "Python 3 (ipykernel)",
   "language": "python",
   "name": "python3"
  },
  "language_info": {
   "codemirror_mode": {
    "name": "ipython",
    "version": 3
   },
   "file_extension": ".py",
   "mimetype": "text/x-python",
   "name": "python",
   "nbconvert_exporter": "python",
   "pygments_lexer": "ipython3",
   "version": "3.9.13"
  }
 },
 "nbformat": 4,
 "nbformat_minor": 2
}
