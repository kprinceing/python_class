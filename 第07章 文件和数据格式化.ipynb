{
 "cells": [
  {
   "cell_type": "markdown",
   "metadata": {},
   "source": [
    "# 第7章 文件和数据格式化"
   ]
  },
  {
   "cell_type": "markdown",
   "metadata": {},
   "source": [
    "## 7.1 文件的使用\n",
    "### 7.1.1 文件的类型"
   ]
  },
  {
   "cell_type": "code",
   "execution_count": null,
   "metadata": {},
   "outputs": [],
   "source": [
    "#以文本方式打开\n",
    "#r表示只读方式打开，t表示文本文件方式\n",
    "text = open(\"开篇例题/data/changan.txt\", \"rt\",encoding = 'utf-8') \n",
    "print(text.readlines())\n",
    "text.close()"
   ]
  },
  {
   "cell_type": "code",
   "execution_count": null,
   "metadata": {},
   "outputs": [],
   "source": [
    "#以文本方式打开\n",
    "#r表示只读方式打开，b表示二进制文件方式\n",
    "bin = open(\"开篇例题/data/changan.txt\", \"rb\")   \n",
    "print(bin.readlines())\n",
    "bin.close()"
   ]
  },
  {
   "cell_type": "code",
   "execution_count": null,
   "metadata": {},
   "outputs": [],
   "source": [
    "#图片文件需用二进制方式打开进行操作\n",
    "binPic = open(\"test.png\",\"rb\")   #r表示二进制文件方式\n",
    "print(binPic.read())\n",
    "binPic.close()"
   ]
  },
  {
   "cell_type": "code",
   "execution_count": null,
   "metadata": {},
   "outputs": [],
   "source": [
    "from PIL import Image, ImageFilter      #引入PIL库的Image、ImageFilter模块\n",
    "im = Image.open('test.png')             #用引Image模块的open函数打开要处理的图片文件，注意：文件的路径\n",
    "display(im)"
   ]
  },
  {
   "cell_type": "markdown",
   "metadata": {},
   "source": [
    "## 7.1.2 文件的打开关闭\n",
    "**文件的操作**<br>\n",
    "Python对文本文件和二进制文件采用统一的操作步骤，即**“打开-操作-关闭”**"
   ]
  },
  {
   "cell_type": "markdown",
   "metadata": {},
   "source": [
    "**1. 文件的打开**"
   ]
  },
  {
   "cell_type": "code",
   "execution_count": null,
   "metadata": {},
   "outputs": [],
   "source": [
    "help(open)"
   ]
  },
  {
   "cell_type": "code",
   "execution_count": null,
   "metadata": {},
   "outputs": [],
   "source": [
    "#r表示只读方式打开，t表示文本文件方式\n",
    "path = \"开篇例题/data/\"\n",
    "text = open(path + \"changan.txt\", \"rt\",encoding = 'utf-8') \n",
    "for line in text:\n",
    "    print(line)\n",
    "text.close()"
   ]
  },
  {
   "cell_type": "code",
   "execution_count": null,
   "metadata": {},
   "outputs": [],
   "source": [
    "file = open('红楼梦.txt')\n",
    "for line in file:\n",
    "    print(line)"
   ]
  },
  {
   "cell_type": "code",
   "execution_count": null,
   "metadata": {},
   "outputs": [],
   "source": [
    "file = open('红楼梦.txt'  , encoding = 'utf-8')\n",
    "for line in file:\n",
    "    print(line)"
   ]
  },
  {
   "cell_type": "markdown",
   "metadata": {},
   "source": [
    "**2. 文件的关闭**"
   ]
  },
  {
   "cell_type": "markdown",
   "metadata": {},
   "source": [
    "**3、综合例题**"
   ]
  },
  {
   "cell_type": "code",
   "execution_count": null,
   "metadata": {},
   "outputs": [],
   "source": [
    "path = \"开篇例题/data/\"\n",
    "text = open(path + \"changan.txt\", encoding = 'utf-8') \n",
    "print(text.readline())\n",
    "print(text.readline())\n",
    "text.close()"
   ]
  },
  {
   "cell_type": "code",
   "execution_count": null,
   "metadata": {},
   "outputs": [],
   "source": [
    "print(text.readline())"
   ]
  },
  {
   "cell_type": "code",
   "execution_count": null,
   "metadata": {},
   "outputs": [],
   "source": []
  },
  {
   "cell_type": "markdown",
   "metadata": {},
   "source": [
    "### 7.1.3文件的读写\n",
    "根据打开方式不同可以对文件进行相应的读写操作。<br><br>\n",
    "\n",
    "#### 1、文件的读取<br>\n",
    "Python提供4个常用的文件内容读取方法."
   ]
  },
  {
   "cell_type": "code",
   "execution_count": null,
   "metadata": {},
   "outputs": [],
   "source": [
    "#f.read()是最常用的一次性读入文件的方法，其结果是一个字符串"
   ]
  },
  {
   "cell_type": "code",
   "execution_count": null,
   "metadata": {},
   "outputs": [],
   "source": [
    "#r表示只读方式打开，t表示文本文件方式\n",
    "path = \"开篇例题/data/\"\n",
    "text = open(path + \"changan.txt\", encoding = 'utf-8') \n",
    "print(text.read())\n",
    "text.close()"
   ]
  },
  {
   "cell_type": "code",
   "execution_count": null,
   "metadata": {},
   "outputs": [],
   "source": []
  },
  {
   "cell_type": "code",
   "execution_count": null,
   "metadata": {},
   "outputs": [],
   "source": [
    "txt = open(\"开篇例题/data/AliceInWonderland.txt\", \"r\").read()\n",
    "txt.lower()"
   ]
  },
  {
   "cell_type": "code",
   "execution_count": null,
   "metadata": {},
   "outputs": [],
   "source": [
    "#f.readlines()也是一次性读入文件的函数，其结果是一个列表，每个元素是文件的一行。\n",
    "#r表示只读方式打开，t表示文本文件方式\n",
    "path = \"开篇例题/data/\"\n",
    "text = open(path + \"changan.txt\", \"rt\",encoding = 'utf-8') \n",
    "textlines = text.readlines()\n",
    "print(textlines)\n",
    "text.close()"
   ]
  },
  {
   "cell_type": "code",
   "execution_count": null,
   "metadata": {},
   "outputs": [],
   "source": [
    "print(textlines)"
   ]
  },
  {
   "cell_type": "code",
   "execution_count": null,
   "metadata": {},
   "outputs": [],
   "source": [
    "#f.readline()是一次读入文件的一行，其结果是一个字符串，指针移到下一行（即为下一行的读取做准备）\n",
    "path = \"开篇例题/data/\"\n",
    "text = open(path + \"changan.txt\", \"rt\",encoding = 'utf-8') \n",
    "print(text.readline())\n",
    "print(text.readline())\n",
    "text.close()"
   ]
  },
  {
   "cell_type": "markdown",
   "metadata": {},
   "source": [
    "**逐行遍历文件内容**"
   ]
  },
  {
   "cell_type": "markdown",
   "metadata": {},
   "source": [
    "**注：文件换行符**<br>  \n",
    "- 采用二进制方式打开文件，换行符只是一个符号，对应一个字节，表示\"\\n\"；<br><br>\n",
    "- 采用文本方式打开文件，换行符表示一行的结束，辅助程序对文件的处理。"
   ]
  },
  {
   "cell_type": "code",
   "execution_count": null,
   "metadata": {},
   "outputs": [],
   "source": [
    "path = \"开篇例题/data/\"\n",
    "textfile = open(path + \"changan.txt\", \"rt\",encoding = 'utf-8') \n",
    "for line in textfile:\n",
    "    print(line)         #打开的文件可以用于遍历循环，每次读取文件的一行字符串\n",
    "text.close()"
   ]
  },
  {
   "cell_type": "code",
   "execution_count": null,
   "metadata": {},
   "outputs": [],
   "source": [
    "#文件打开后，对文件的读写有一个读取指针，当从文件中读入内容后，读取指针将向前进，再次读取的内容将从指针的新位置开始。\n",
    "path = \"开篇例题/data/\"\n",
    "textfile = open(path + \"changan.txt\", \"rt\",encoding = 'utf-8') \n",
    "t = textfile.read()\n",
    "#print(t)"
   ]
  },
  {
   "cell_type": "code",
   "execution_count": null,
   "metadata": {},
   "outputs": [],
   "source": [
    "l = textfile.readline()\n",
    "print(l)"
   ]
  },
  {
   "cell_type": "code",
   "execution_count": null,
   "metadata": {},
   "outputs": [],
   "source": [
    "l"
   ]
  },
  {
   "cell_type": "code",
   "execution_count": null,
   "metadata": {},
   "outputs": [],
   "source": [
    "textfile.close()"
   ]
  },
  {
   "cell_type": "code",
   "execution_count": null,
   "metadata": {},
   "outputs": [],
   "source": [
    "#f.seek()方法能够移动读取指针的位置，f.seek(0)将读取指针移动到文件开头，f.seek(2)将读取指针移动到文件结尾。\n",
    "path = \"开篇例题/data/\"\n",
    "textfile = open(path + \"changan.txt\", \"rt\",encoding = 'utf-8') \n",
    "t = textfile.read()\n",
    "#print(t)\n",
    "\n",
    "textfile.seek(0) # 将读取指针重置到文件开头\n",
    "l = textfile.readline()\n",
    "print(l)"
   ]
  },
  {
   "cell_type": "code",
   "execution_count": null,
   "metadata": {},
   "outputs": [],
   "source": [
    "textfile.close()"
   ]
  },
  {
   "cell_type": "code",
   "execution_count": null,
   "metadata": {},
   "outputs": [],
   "source": []
  },
  {
   "cell_type": "markdown",
   "metadata": {},
   "source": [
    "### 2、文件的写入\n",
    "文件必须以能写入的模式打开，如'w'、'a'、'x'、'w+'、'a+'、'r+'等。<br><br>\n",
    "Python提供3个与文件内容写入有关的方法。"
   ]
  },
  {
   "cell_type": "code",
   "execution_count": null,
   "metadata": {},
   "outputs": [],
   "source": [
    "#f.write(s)向文件写入字符串s，每次写入后，将会记录一个写入指针。该方法可以反复调用，将在写入指针后分批写入内容，直至文件被关闭。\n",
    "f = open(\"山东大学校歌.txt\", \"w+\")       #w为覆盖性写入模式打开文件，不能读。与x打开模式的区别？\n",
    "f.write('东临黄海，南望泰山，')\n",
    "f.write('这里是我们追求真理的乐园。')\n",
    "f.write('天行健，君子以自强不息；')\n",
    "f.write('薪火传，学子要与前贤比肩。\\n')\n",
    "f.write('为天下储人才，放眼五洲；\\n')\n",
    "f.write('为国家图富强，求索万年。\\n')\n",
    "f.write('要志向远大，气养浩然；\\n')\n",
    "f.write('学无止境，不畏登攀。\\n')\n",
    "f.write('奋斗啊，奋斗啊，为了中华民族崛起；\\n')\n",
    "f.write('奋斗啊，奋斗啊，为了人类美好明天。\\n')\n",
    "f.write('我们是崇实与求新的朝气勃发的青年！\\n')"
   ]
  },
  {
   "cell_type": "code",
   "execution_count": null,
   "metadata": {},
   "outputs": [],
   "source": [
    "f.seek(0)\n",
    "t = f.read()\n",
    "print(t)\n",
    "f.close()"
   ]
  },
  {
   "cell_type": "code",
   "execution_count": null,
   "metadata": {},
   "outputs": [],
   "source": [
    "t"
   ]
  },
  {
   "cell_type": "code",
   "execution_count": null,
   "metadata": {},
   "outputs": [],
   "source": []
  },
  {
   "cell_type": "code",
   "execution_count": null,
   "metadata": {},
   "outputs": [],
   "source": [
    "#f.writelines(lines)直接将列表类型的各元素连接起来写入文件f。\n",
    "\n",
    "f = open(\"SDUsong.txt\", \"w+\", encoding = 'utf-8')   \n",
    "song = ['东临黄海，南望泰山，\\n'\n",
    "'这里是我们追求真理的乐园。\\n'\n",
    "'天行健，君子以自强不息；\\n'\n",
    "'薪火传，学子要与前贤比肩。\\n'\n",
    "'为天下储人才，放眼五洲；\\n'\n",
    "'为国家图富强，求索万年。\\n'\n",
    "'要志向远大，气养浩然；\\n'\n",
    "'学无止境，不畏登攀。\\n'\n",
    "'奋斗啊，奋斗啊，为了中华民族崛起；\\n'\n",
    "'奋斗啊，奋斗啊，为了人类美好明天。\\n'\n",
    "'我们是崇实与求新的朝气勃发的青年！\\n']\n",
    "f.writelines(song)\n",
    "f.close()"
   ]
  },
  {
   "cell_type": "code",
   "execution_count": null,
   "metadata": {},
   "outputs": [],
   "source": [
    "f = open(\"SDUsong.txt\")     #字符编码？\n",
    "print(f.read())\n",
    "f.close()"
   ]
  },
  {
   "cell_type": "code",
   "execution_count": null,
   "metadata": {},
   "outputs": [],
   "source": [
    "f = open(\"SDUsong.txt\", encoding = 'utf-8')     #字符编码方案为utf-8\n",
    "song = f.read()\n",
    "print(song)\n",
    "f.close()"
   ]
  },
  {
   "cell_type": "code",
   "execution_count": null,
   "metadata": {},
   "outputs": [],
   "source": [
    "song"
   ]
  },
  {
   "cell_type": "markdown",
   "metadata": {},
   "source": [
    "###### 二进制文件的写入"
   ]
  },
  {
   "cell_type": "code",
   "execution_count": 1,
   "metadata": {},
   "outputs": [],
   "source": [
    "import requests\n",
    "r = requests.get('https://www.view.sdu.edu.cn/__local/2/95/8A/4EDCD42CD5A22714F2ECE1439EA_C410E334_72A1E.jpg')\n",
    "f = open('sdu_news_pic.jpg', 'wb')\n",
    "f.write(r.content)\n",
    "f.close()"
   ]
  },
  {
   "cell_type": "markdown",
   "metadata": {},
   "source": [
    "### 7.1.5 用with打开及关闭文件\n",
    "> **with open(路径及文件名, 打开模式) as 文件变量:**<br><br>\n",
    "&nbsp;&nbsp;&nbsp;&nbsp;&nbsp;&nbsp;文件的处理语句"
   ]
  },
  {
   "cell_type": "code",
   "execution_count": null,
   "metadata": {},
   "outputs": [],
   "source": [
    "with open('SDUsong.txt', 'r', encoding = 'utf-8') as f:\n",
    "    for l in f:\n",
    "        print(l)"
   ]
  },
  {
   "cell_type": "code",
   "execution_count": null,
   "metadata": {},
   "outputs": [],
   "source": [
    "with open('SDUsong.txt', 'r', encoding = 'utf-8') as f:\n",
    "    for l in f:\n",
    "        print(l.strip())"
   ]
  },
  {
   "cell_type": "code",
   "execution_count": null,
   "metadata": {},
   "outputs": [],
   "source": []
  },
  {
   "cell_type": "markdown",
   "metadata": {},
   "source": [
    "## 7.2 数据组织的维度\n",
    "一组数据在被计算机处理前需要进行一定的组织，**表明数据之间的基本关系和逻辑**，进而形成“数据的维度”。<br><br>\n",
    "根据数据的关系不同，数据组织可分为：<br>\n",
    "- 一维数据<br><br>\n",
    "- 二维数据<br><br>\n",
    "- 高维数据"
   ]
  },
  {
   "cell_type": "markdown",
   "metadata": {},
   "source": [
    "数据包含文件存储和程序使用两个状态。<br>\n",
    "- 存储不同纬度的数据需要合适维度特点的文件存储格式；<br><br>\n",
    "- 处理不同纬度数据的程序需要使用相适应的数据类型或结构。<br>\n",
    "\n",
    "<br>因此，对于数据处理，需要**考虑存储格式以及表示和读写**等两个问题。"
   ]
  },
  {
   "cell_type": "markdown",
   "metadata": {},
   "source": [
    "## 7.3 一维数据的处理\n",
    "### 7.3.1 一维数据的表示"
   ]
  },
  {
   "cell_type": "code",
   "execution_count": null,
   "metadata": {},
   "outputs": [],
   "source": [
    "ls = ['北京', '上海', '天津', '重庆']\n",
    "print(ls)"
   ]
  },
  {
   "cell_type": "markdown",
   "metadata": {},
   "source": [
    "### 7.3.2 一维数据的存储"
   ]
  },
  {
   "cell_type": "code",
   "execution_count": null,
   "metadata": {},
   "outputs": [],
   "source": [
    "ls = ['北京', '上海', '天津', '重庆']\n",
    "f = open(\"city.csv\", \"w\")\n",
    "f.write(\",\".join(ls)+ \"\\n\")\n",
    "f.close()"
   ]
  },
  {
   "cell_type": "markdown",
   "metadata": {},
   "source": [
    "**二维数据的CSV格式**<br>\n",
    "- 逗号分割数据的存储格式叫做**CSV格式**（Comma-Separated Values，即逗号分隔值）。<br><br>\n",
    "  - 它是一种通用的、相对简单的文件格式，在商业和科学上广泛应用，尤其应用在程序之间转移表格数据。<br><br>\n",
    "  \n",
    "CSV格式的应用有一些基本规则：<br><br>\n",
    "（1）纯文本格式，通过单一编码表示字符；<br><br>\n",
    "（2）以行为单位，开头不留空行，行之间没有空行；<br><br>\n",
    "（3）**每行表示一个一维数据，多行表示二维数据**；<br><br>\n",
    "（4）以逗号分隔每列数据，列数据为空也要保留逗号；<br><br>\n",
    "（5）可以包含或不包含列名，包含时列名放置在文件第一行。<br><br>\n",
    "\n",
    "CSV格式存储的文件一般采用**.csv**为扩展名，可以通过Windows平台上的记事本或微软Office Excel工具打开，也可以在其他操作系统平台上用文本编辑工具打开。<br>\n",
    "- 一般的表格数据处理工具（如MS Office Excel等）都可以将数据另存为或导出为CSV格式的文件，用于不同软件间数据的交换。\n",
    "\n",
    "#列表对象输出为CSV格式文件方法如下，采用字符串的join()方法最为方便。"
   ]
  },
  {
   "cell_type": "code",
   "execution_count": null,
   "metadata": {},
   "outputs": [],
   "source": [
    "ls = ['北京', '上海', '天津', '重庆']\n",
    "f = open(\"city.csv\", \"w\")\n",
    "f.write(\",\".join(ls)+ \"\\n\")\n",
    "f.close()"
   ]
  },
  {
   "cell_type": "code",
   "execution_count": null,
   "metadata": {},
   "outputs": [],
   "source": [
    "ls = [103.1, 102.3, 104.6]\n",
    "f = open(\"num_file.csv\", \"w\")\n",
    "f.write(\",\".join([ str(x) for x in ls])+ \"\\n\")\n",
    "f.close()"
   ]
  },
  {
   "cell_type": "code",
   "execution_count": null,
   "metadata": {},
   "outputs": [],
   "source": []
  },
  {
   "cell_type": "markdown",
   "metadata": {},
   "source": [
    "### 7.3.3 一维数据的处理\n",
    "对一维数据进行处理首先需要从CSV格式文件读入一维数据（一行），并将其表示为列表对象。<br>\n",
    "- 注：从CSV文件中读取一维数据时，最后一个字符为换行符（\"\\n\"），对于数据的表达和使用来说，这个换行符是多余的。如何去掉（可以有多种方法，试一试）？"
   ]
  },
  {
   "cell_type": "code",
   "execution_count": null,
   "metadata": {},
   "outputs": [],
   "source": [
    "f = open(\"city.csv\", \"r\")\n",
    "ls = f.read()\n",
    "ls"
   ]
  },
  {
   "cell_type": "code",
   "execution_count": null,
   "metadata": {},
   "outputs": [],
   "source": [
    "l = ls.strip('\\n').split(\",\")\n",
    "f.close()\n",
    "print(l)"
   ]
  },
  {
   "cell_type": "code",
   "execution_count": null,
   "metadata": {},
   "outputs": [],
   "source": [
    "print(ls)"
   ]
  },
  {
   "cell_type": "code",
   "execution_count": null,
   "metadata": {},
   "outputs": [],
   "source": []
  },
  {
   "cell_type": "code",
   "execution_count": null,
   "metadata": {},
   "outputs": [],
   "source": [
    "f = open(\"num_file.csv\")\n",
    "s = f.read()\n",
    "ls = s.strip('\\n').split(\",\")\n",
    "f.close()\n",
    "ls"
   ]
  },
  {
   "cell_type": "code",
   "execution_count": null,
   "metadata": {},
   "outputs": [],
   "source": [
    "[ float(x) for x in ls ]"
   ]
  },
  {
   "cell_type": "code",
   "execution_count": null,
   "metadata": {},
   "outputs": [],
   "source": []
  },
  {
   "cell_type": "markdown",
   "metadata": {},
   "source": [
    "## 7.4 二维数据的处理\n",
    "### 7.4.1 二维数据的表示  "
   ]
  },
  {
   "cell_type": "code",
   "execution_count": null,
   "metadata": {},
   "outputs": [],
   "source": [
    "ls = [\n",
    "['指标', '2014年', '2015年', '2016年'],\n",
    "['居民消费价格指数', '102', '101.4', '102'],\n",
    "['食品', '103.1', '102.3', '104.6'],\n",
    "['烟酒及用品', '994', '102.1', '101.5'],\n",
    "['衣着', '102.4', '102.7', '101.4'],\n",
    "['家庭设备用品', '101.2', '101', '100.5'],\n",
    "['医疗保健和个人用品', '101.3', '102', '101.1'],\n",
    "['交通和通信', '99.9', '98.3', '98.7'],\n",
    "['娱乐教育文化', '101.9', '101.4', '101.6'],\n",
    "['居住', '102', '100.7', '101.6'],\n",
    "]"
   ]
  },
  {
   "cell_type": "markdown",
   "metadata": {},
   "source": [
    "### 7.4.2 二维数据的存储\n",
    "二维数据由一维数据组成，通常用CSV格式文件存储。 "
   ]
  },
  {
   "cell_type": "code",
   "execution_count": null,
   "metadata": {},
   "outputs": [],
   "source": [
    "# ls代表二维列表\n",
    "ls = [\n",
    "['指标', '2014年', '2015年', '2016年'],\n",
    "['居民消费价格指数', '102', '101.4', '102'],\n",
    "['食品', '103.1', '102.3', '104.6'],\n",
    "['烟酒及用品', '994', '102.1', '101.5'],\n",
    "['衣着', '102.4', '102.7', '101.4'],\n",
    "['家庭设备用品', '101.2', '101', '100.5'],\n",
    "['医疗保健和个人用品', '101.3', '102', '101.1'],\n",
    "['交通和通信', '99.9', '98.3', '98.7'],\n",
    "['娱乐教育文化', '101.9', '101.4', '101.6'],\n",
    "['居住', '102', '100.7', '101.6'],\n",
    "]\n",
    "f = open(\"cpi.csv\", \"w\") \n",
    "for row in ls:\n",
    "    f.write(\",\".join(row)+ \"\\n\")\n",
    "f.close()"
   ]
  },
  {
   "cell_type": "markdown",
   "metadata": {},
   "source": [
    "### 7.4.3 二维数据的处理\n",
    "对二维数据进行处理首先需要从CSV格式文件读入二维数据，并将其表示为二维列表对象。\n",
    "- 借鉴一维数据读取方法，从CSV文件读入数据的方法如下:"
   ]
  },
  {
   "cell_type": "code",
   "execution_count": null,
   "metadata": {},
   "outputs": [],
   "source": [
    "f = open(\"cpi.csv\", \"r\") \n",
    "ls = []\n",
    "for line in f:\n",
    "    #print(line)\n",
    "    #print(line.strip('\\n').split(\",\"))\n",
    "    ls.append(line.strip('\\n').split(\",\"))\n",
    "f.close() \n",
    "print(ls)"
   ]
  },
  {
   "cell_type": "code",
   "execution_count": null,
   "metadata": {},
   "outputs": [],
   "source": [
    "#对二维数据进行格式化输出，打印成表格形状\n",
    "#接前一例题，此处略去从CSV获取数据到二维列表ls\n",
    "for row in ls:\n",
    "    line = \"\"\n",
    "    for item in row:\n",
    "        #print(item)\n",
    "        line += \"{:14}\\t\".format(item)\n",
    "    print(line)"
   ]
  },
  {
   "cell_type": "code",
   "execution_count": null,
   "metadata": {},
   "outputs": [],
   "source": []
  },
  {
   "cell_type": "markdown",
   "metadata": {},
   "source": [
    "##### 列表推导式"
   ]
  },
  {
   "cell_type": "code",
   "execution_count": null,
   "metadata": {},
   "outputs": [],
   "source": [
    "newyears = [x + 2010 for x in range(7)]\n",
    "print(newyears)"
   ]
  },
  {
   "cell_type": "code",
   "execution_count": null,
   "metadata": {},
   "outputs": [],
   "source": [
    "newyears1 = []\n",
    "for x in range(7):\n",
    "    newyears1.append(x + 2010)\n",
    "print(newyears1)"
   ]
  },
  {
   "cell_type": "code",
   "execution_count": null,
   "metadata": {},
   "outputs": [],
   "source": [
    "splitedLine = '指标,2000年,2015年,2016年\\n'.strip().split(',')\n",
    "print(splitedLine)"
   ]
  },
  {
   "cell_type": "code",
   "execution_count": null,
   "metadata": {},
   "outputs": [],
   "source": [
    "[int(x[:-1]) for x in splitedLine[1:]]"
   ]
  },
  {
   "cell_type": "code",
   "execution_count": null,
   "metadata": {},
   "outputs": [],
   "source": []
  },
  {
   "cell_type": "code",
   "execution_count": null,
   "metadata": {},
   "outputs": [],
   "source": []
  },
  {
   "cell_type": "markdown",
   "metadata": {},
   "source": [
    "## 7.5 实例解析：国家财政数据趋势演算\n",
    "以国家财政收支的公开数据为例，这里展示如何利用Python挖掘数据变化的规律。将从网上获取的公开信息存为finance.csv文件。"
   ]
  },
  {
   "cell_type": "code",
   "execution_count": null,
   "metadata": {},
   "outputs": [],
   "source": [
    "# FinancePredict.py\n",
    "def parseCSV(filename):\n",
    "    dataNames, datas = [], []\n",
    "    f = open(filename, 'r', encoding='utf-8')\n",
    "    for line in f:\n",
    "        splitedLine = line.strip().split(',')\n",
    "        if '指标' in splitedLine[0]:\n",
    "            years = [int(x[:-1]) for x in splitedLine[1:]]     #列表推导式\n",
    "        else:\n",
    "            dataNames.append('{:10}'.format(splitedLine[0]))\n",
    "            datas.append([float(x) for x in splitedLine[1:]])\n",
    "    f.close()\n",
    "    return years, dataNames, datas\n",
    "    \n",
    "def means(data):\n",
    "    return sum(data) / len(data)\n",
    "    \n",
    "def linearRegression(xlist, ylist):\n",
    "    xmeans, ymeans = means(xlist), means(ylist)\n",
    "    bNumerator = - len(xlist) * xmeans * ymeans\n",
    "    bDenominator =  - len(xlist) * xmeans ** 2\n",
    "    for x, y in zip(xlist, ylist):             #zip()函数是将两个列表的对应元素组合成一个两元素的元组并生成一个新列表\n",
    "        bNumerator += x * y\n",
    "        bDenominator += x ** 2\n",
    "    b = bNumerator / bDenominator\n",
    "    a = ymeans - b * xmeans\n",
    "    return a, b\n",
    "    \n",
    "def calNewData(newyears, a, b):\n",
    "    return [(a + b * x) for x in newyears]\n",
    "    \n",
    "def showResults(years, dataNames, newDatas):\n",
    "    print('{:^60}'.format('国家财政收支线性估计'))\n",
    "    header = '指标       '\n",
    "    for year in years:\n",
    "        header += '{:10}'.format(year)\n",
    "    print(header)\n",
    "    for name, lineData in zip(dataNames, newDatas):\n",
    "        line = name\n",
    "        for data in lineData:\n",
    "            line += '{:>10.1f}'.format(data)\n",
    "        print(line)\n",
    "    \n",
    "def main():\n",
    "    years, dataNames, datas = parseCSV('finance.csv')\n",
    "    \n",
    "    newyears = [x + 2010 for x in range(7)]\n",
    "    newDatas = []\n",
    "    for data in datas:\n",
    "        a, b = linearRegression(years, data)\n",
    "        newDatas.append(calNewData(newyears, a, b))\n",
    "    \n",
    "    showResults(newyears, dataNames, newDatas)\n",
    "    \n",
    "\n",
    "main()"
   ]
  },
  {
   "cell_type": "code",
   "execution_count": null,
   "metadata": {},
   "outputs": [],
   "source": [
    "years, dataNames, datas = parseCSV('finance.csv')\n",
    "years"
   ]
  },
  {
   "cell_type": "code",
   "execution_count": null,
   "metadata": {},
   "outputs": [],
   "source": [
    "dataNames"
   ]
  },
  {
   "cell_type": "code",
   "execution_count": null,
   "metadata": {},
   "outputs": [],
   "source": [
    "datas"
   ]
  },
  {
   "cell_type": "code",
   "execution_count": null,
   "metadata": {},
   "outputs": [],
   "source": [
    "newyears = [x + 2010 for x in range(7)]\n",
    "newyears"
   ]
  },
  {
   "cell_type": "code",
   "execution_count": null,
   "metadata": {},
   "outputs": [],
   "source": [
    "print(newyears)"
   ]
  },
  {
   "cell_type": "code",
   "execution_count": null,
   "metadata": {},
   "outputs": [],
   "source": [
    "newyears1 = []\n",
    "for x in range(7):\n",
    "    newyears1.append(x + 2010)\n",
    "print(newyears1)"
   ]
  },
  {
   "cell_type": "code",
   "execution_count": null,
   "metadata": {},
   "outputs": [],
   "source": [
    "filename = 'finance.csv'\n",
    "f = open(filename, 'r', encoding='utf-8')\n",
    "line = f.readline()     #读取第一行\n",
    "line"
   ]
  },
  {
   "cell_type": "code",
   "execution_count": null,
   "metadata": {},
   "outputs": [],
   "source": [
    "splitedLine = line.strip().split(',')\n",
    "splitedLine"
   ]
  },
  {
   "cell_type": "code",
   "execution_count": null,
   "metadata": {},
   "outputs": [],
   "source": [
    "if '指标' in splitedLine[0]:\n",
    "    years = [int(x[:-1]) for x in splitedLine[1:]]\n",
    "years"
   ]
  },
  {
   "cell_type": "code",
   "execution_count": null,
   "metadata": {},
   "outputs": [],
   "source": [
    "#读取第二行\n",
    "line = f.readline()\n",
    "line"
   ]
  },
  {
   "cell_type": "code",
   "execution_count": null,
   "metadata": {},
   "outputs": [],
   "source": [
    "splitedLine = line.strip().split(',')\n",
    "splitedLine"
   ]
  },
  {
   "cell_type": "code",
   "execution_count": null,
   "metadata": {},
   "outputs": [],
   "source": [
    "dataNames, datas = [], []\n",
    "if '指标' in splitedLine[0]:\n",
    "    years = [int(x[:-1]) for x in splitedLine[1:]]     #列表推导式\n",
    "else:\n",
    "    dataNames.append('{:10}'.format(splitedLine[0]))\n",
    "    datas.append([float(x) for x in splitedLine[1:]])\n",
    "f.close()\n",
    "dataNames"
   ]
  },
  {
   "cell_type": "code",
   "execution_count": null,
   "metadata": {},
   "outputs": [],
   "source": [
    "datas"
   ]
  },
  {
   "cell_type": "code",
   "execution_count": null,
   "metadata": {},
   "outputs": [],
   "source": [
    "a = zip([2000, 2015, 2016],[120000,150000,160000])"
   ]
  },
  {
   "cell_type": "code",
   "execution_count": null,
   "metadata": {},
   "outputs": [],
   "source": [
    "for i in a:\n",
    "    print(i)"
   ]
  },
  {
   "cell_type": "code",
   "execution_count": null,
   "metadata": {},
   "outputs": [],
   "source": [
    "a = zip([2000, 2015, 2016],[120000,150000,160000])\n",
    "for x, y in a:\n",
    "    print(x , y)"
   ]
  },
  {
   "cell_type": "markdown",
   "metadata": {},
   "source": [
    "## 7.6 综合例题：——就餐信息基本分析"
   ]
  },
  {
   "cell_type": "code",
   "execution_count": 2,
   "metadata": {},
   "outputs": [],
   "source": [
    "f = open('tips.csv')"
   ]
  },
  {
   "cell_type": "code",
   "execution_count": 3,
   "metadata": {},
   "outputs": [
    {
     "data": {
      "text/plain": [
       "'total_bill,tip,sex,smoker,day,time,size\\n'"
      ]
     },
     "execution_count": 3,
     "metadata": {},
     "output_type": "execute_result"
    }
   ],
   "source": [
    "l = f.readline()\n",
    "l"
   ]
  },
  {
   "cell_type": "code",
   "execution_count": 4,
   "metadata": {},
   "outputs": [
    {
     "data": {
      "text/plain": [
       "'total_bill,tip,sex,smoker,day,time,size'"
      ]
     },
     "execution_count": 4,
     "metadata": {},
     "output_type": "execute_result"
    }
   ],
   "source": [
    "l.strip()"
   ]
  },
  {
   "cell_type": "code",
   "execution_count": 5,
   "metadata": {},
   "outputs": [
    {
     "data": {
      "text/plain": [
       "['total_bill', 'tip', 'sex', 'smoker', 'day', 'time', 'size']"
      ]
     },
     "execution_count": 5,
     "metadata": {},
     "output_type": "execute_result"
    }
   ],
   "source": [
    "l.strip().split(',')"
   ]
  },
  {
   "cell_type": "code",
   "execution_count": 6,
   "metadata": {},
   "outputs": [
    {
     "data": {
      "text/plain": [
       "['16.99', '1.01', 'Female', 'No', 'Sun', 'Dinner', '2']"
      ]
     },
     "execution_count": 6,
     "metadata": {},
     "output_type": "execute_result"
    }
   ],
   "source": [
    "l = f.readline()\n",
    "l.strip().split(',')"
   ]
  },
  {
   "cell_type": "code",
   "execution_count": 7,
   "metadata": {},
   "outputs": [],
   "source": [
    "f.close()"
   ]
  },
  {
   "cell_type": "code",
   "execution_count": 8,
   "metadata": {},
   "outputs": [],
   "source": [
    "#准备数据\n",
    "f = open('tips.csv')\n",
    "data = []\n",
    "for d in f:\n",
    "    data.append(d.strip().split(','))\n",
    "f.close()"
   ]
  },
  {
   "cell_type": "code",
   "execution_count": 9,
   "metadata": {},
   "outputs": [
    {
     "name": "stdout",
     "output_type": "stream",
     "text": [
      "[['total_bill', 'tip', 'sex', 'smoker', 'day', 'time', 'size'], ['16.99', '1.01', 'Female', 'No', 'Sun', 'Dinner', '2'], ['10.34', '1.66', 'Male', 'No', 'Sun', 'Dinner', '3'], ['21.01', '3.5', 'Male', 'No', 'Sun', 'Dinner', '3'], ['23.68', '3.31', 'Male', 'No', 'Sun', 'Dinner', '2'], ['24.59', '3.61', 'Female', 'No', 'Sun', 'Dinner', '4'], ['25.29', '4.71', 'Male', 'No', 'Sun', 'Dinner', '4'], ['8.77', '2.0', 'Male', 'No', 'Sun', 'Dinner', '2'], ['26.88', '3.12', 'Male', 'No', 'Sun', 'Dinner', '4'], ['15.04', '1.96', 'Male', 'No', 'Sun', 'Dinner', '2'], ['14.78', '3.23', 'Male', 'No', 'Sun', 'Dinner', '2'], ['10.27', '1.71', 'Male', 'No', 'Sun', 'Dinner', '2'], ['35.26', '5.0', 'Female', 'No', 'Sun', 'Dinner', '4'], ['15.42', '1.57', 'Male', 'No', 'Sun', 'Dinner', '2'], ['18.43', '3.0', 'Male', 'No', 'Sun', 'Dinner', '4'], ['14.83', '3.02', 'Female', 'No', 'Sun', 'Dinner', '2'], ['21.58', '3.92', 'Male', 'No', 'Sun', 'Dinner', '2'], ['10.33', '1.67', 'Female', 'No', 'Sun', 'Dinner', '3'], ['16.29', '3.71', 'Male', 'No', 'Sun', 'Dinner', '3'], ['16.97', '3.5', 'Female', 'No', 'Sun', 'Dinner', '3'], ['20.65', '3.35', 'Male', 'No', 'Sat', 'Dinner', '3'], ['17.92', '4.08', 'Male', 'No', 'Sat', 'Dinner', '2'], ['20.29', '2.75', 'Female', 'No', 'Sat', 'Dinner', '2'], ['15.77', '2.23', 'Female', 'No', 'Sat', 'Dinner', '2'], ['39.42', '7.58', 'Male', 'No', 'Sat', 'Dinner', '4'], ['19.82', '3.18', 'Male', 'No', 'Sat', 'Dinner', '2'], ['17.81', '2.34', 'Male', 'No', 'Sat', 'Dinner', '4'], ['13.37', '2.0', 'Male', 'No', 'Sat', 'Dinner', '2'], ['12.69', '2.0', 'Male', 'No', 'Sat', 'Dinner', '2'], ['21.7', '4.3', 'Male', 'No', 'Sat', 'Dinner', '2'], ['19.65', '3.0', 'Female', 'No', 'Sat', 'Dinner', '2'], ['9.55', '1.45', 'Male', 'No', 'Sat', 'Dinner', '2'], ['18.35', '2.5', 'Male', 'No', 'Sat', 'Dinner', '4'], ['15.06', '3.0', 'Female', 'No', 'Sat', 'Dinner', '2'], ['20.69', '2.45', 'Female', 'No', 'Sat', 'Dinner', '4'], ['17.78', '3.27', 'Male', 'No', 'Sat', 'Dinner', '2'], ['24.06', '3.6', 'Male', 'No', 'Sat', 'Dinner', '3'], ['16.31', '2.0', 'Male', 'No', 'Sat', 'Dinner', '3'], ['16.93', '3.07', 'Female', 'No', 'Sat', 'Dinner', '3'], ['18.69', '2.31', 'Male', 'No', 'Sat', 'Dinner', '3'], ['31.27', '5.0', 'Male', 'No', 'Sat', 'Dinner', '3'], ['16.04', '2.24', 'Male', 'No', 'Sat', 'Dinner', '3'], ['17.46', '2.54', 'Male', 'No', 'Sun', 'Dinner', '2'], ['13.94', '3.06', 'Male', 'No', 'Sun', 'Dinner', '2'], ['9.68', '1.32', 'Male', 'No', 'Sun', 'Dinner', '2'], ['30.4', '5.6', 'Male', 'No', 'Sun', 'Dinner', '4'], ['18.29', '3.0', 'Male', 'No', 'Sun', 'Dinner', '2'], ['22.23', '5.0', 'Male', 'No', 'Sun', 'Dinner', '2'], ['32.4', '6.0', 'Male', 'No', 'Sun', 'Dinner', '4'], ['28.55', '2.05', 'Male', 'No', 'Sun', 'Dinner', '3'], ['18.04', '3.0', 'Male', 'No', 'Sun', 'Dinner', '2'], ['12.54', '2.5', 'Male', 'No', 'Sun', 'Dinner', '2'], ['10.29', '2.6', 'Female', 'No', 'Sun', 'Dinner', '2'], ['34.81', '5.2', 'Female', 'No', 'Sun', 'Dinner', '4'], ['9.94', '1.56', 'Male', 'No', 'Sun', 'Dinner', '2'], ['25.56', '4.34', 'Male', 'No', 'Sun', 'Dinner', '4'], ['19.49', '3.51', 'Male', 'No', 'Sun', 'Dinner', '2'], ['38.01', '3.0', 'Male', 'Yes', 'Sat', 'Dinner', '4'], ['26.41', '1.5', 'Female', 'No', 'Sat', 'Dinner', '2'], ['11.24', '1.76', 'Male', 'Yes', 'Sat', 'Dinner', '2'], ['48.27', '6.73', 'Male', 'No', 'Sat', 'Dinner', '4'], ['20.29', '3.21', 'Male', 'Yes', 'Sat', 'Dinner', '2'], ['13.81', '2.0', 'Male', 'Yes', 'Sat', 'Dinner', '2'], ['11.02', '1.98', 'Male', 'Yes', 'Sat', 'Dinner', '2'], ['18.29', '3.76', 'Male', 'Yes', 'Sat', 'Dinner', '4'], ['17.59', '2.64', 'Male', 'No', 'Sat', 'Dinner', '3'], ['20.08', '3.15', 'Male', 'No', 'Sat', 'Dinner', '3'], ['16.45', '2.47', 'Female', 'No', 'Sat', 'Dinner', '2'], ['3.07', '1.0', 'Female', 'Yes', 'Sat', 'Dinner', '1'], ['20.23', '2.01', 'Male', 'No', 'Sat', 'Dinner', '2'], ['15.01', '2.09', 'Male', 'Yes', 'Sat', 'Dinner', '2'], ['12.02', '1.97', 'Male', 'No', 'Sat', 'Dinner', '2'], ['17.07', '3.0', 'Female', 'No', 'Sat', 'Dinner', '3'], ['26.86', '3.14', 'Female', 'Yes', 'Sat', 'Dinner', '2'], ['25.28', '5.0', 'Female', 'Yes', 'Sat', 'Dinner', '2'], ['14.73', '2.2', 'Female', 'No', 'Sat', 'Dinner', '2'], ['10.51', '1.25', 'Male', 'No', 'Sat', 'Dinner', '2'], ['17.92', '3.08', 'Male', 'Yes', 'Sat', 'Dinner', '2'], ['27.2', '4.0', 'Male', 'No', 'Thur', 'Lunch', '4'], ['22.76', '3.0', 'Male', 'No', 'Thur', 'Lunch', '2'], ['17.29', '2.71', 'Male', 'No', 'Thur', 'Lunch', '2'], ['19.44', '3.0', 'Male', 'Yes', 'Thur', 'Lunch', '2'], ['16.66', '3.4', 'Male', 'No', 'Thur', 'Lunch', '2'], ['10.07', '1.83', 'Female', 'No', 'Thur', 'Lunch', '1'], ['32.68', '5.0', 'Male', 'Yes', 'Thur', 'Lunch', '2'], ['15.98', '2.03', 'Male', 'No', 'Thur', 'Lunch', '2'], ['34.83', '5.17', 'Female', 'No', 'Thur', 'Lunch', '4'], ['13.03', '2.0', 'Male', 'No', 'Thur', 'Lunch', '2'], ['18.28', '4.0', 'Male', 'No', 'Thur', 'Lunch', '2'], ['24.71', '5.85', 'Male', 'No', 'Thur', 'Lunch', '2'], ['21.16', '3.0', 'Male', 'No', 'Thur', 'Lunch', '2'], ['28.97', '3.0', 'Male', 'Yes', 'Fri', 'Dinner', '2'], ['22.49', '3.5', 'Male', 'No', 'Fri', 'Dinner', '2'], ['5.75', '1.0', 'Female', 'Yes', 'Fri', 'Dinner', '2'], ['16.32', '4.3', 'Female', 'Yes', 'Fri', 'Dinner', '2'], ['22.75', '3.25', 'Female', 'No', 'Fri', 'Dinner', '2'], ['40.17', '4.73', 'Male', 'Yes', 'Fri', 'Dinner', '4'], ['27.28', '4.0', 'Male', 'Yes', 'Fri', 'Dinner', '2'], ['12.03', '1.5', 'Male', 'Yes', 'Fri', 'Dinner', '2'], ['21.01', '3.0', 'Male', 'Yes', 'Fri', 'Dinner', '2'], ['12.46', '1.5', 'Male', 'No', 'Fri', 'Dinner', '2'], ['11.35', '2.5', 'Female', 'Yes', 'Fri', 'Dinner', '2'], ['15.38', '3.0', 'Female', 'Yes', 'Fri', 'Dinner', '2'], ['44.3', '2.5', 'Female', 'Yes', 'Sat', 'Dinner', '3'], ['22.42', '3.48', 'Female', 'Yes', 'Sat', 'Dinner', '2'], ['20.92', '4.08', 'Female', 'No', 'Sat', 'Dinner', '2'], ['15.36', '1.64', 'Male', 'Yes', 'Sat', 'Dinner', '2'], ['20.49', '4.06', 'Male', 'Yes', 'Sat', 'Dinner', '2'], ['25.21', '4.29', 'Male', 'Yes', 'Sat', 'Dinner', '2'], ['18.24', '3.76', 'Male', 'No', 'Sat', 'Dinner', '2'], ['14.31', '4.0', 'Female', 'Yes', 'Sat', 'Dinner', '2'], ['14.0', '3.0', 'Male', 'No', 'Sat', 'Dinner', '2'], ['7.25', '1.0', 'Female', 'No', 'Sat', 'Dinner', '1'], ['38.07', '4.0', 'Male', 'No', 'Sun', 'Dinner', '3'], ['23.95', '2.55', 'Male', 'No', 'Sun', 'Dinner', '2'], ['25.71', '4.0', 'Female', 'No', 'Sun', 'Dinner', '3'], ['17.31', '3.5', 'Female', 'No', 'Sun', 'Dinner', '2'], ['29.93', '5.07', 'Male', 'No', 'Sun', 'Dinner', '4'], ['10.65', '1.5', 'Female', 'No', 'Thur', 'Lunch', '2'], ['12.43', '1.8', 'Female', 'No', 'Thur', 'Lunch', '2'], ['24.08', '2.92', 'Female', 'No', 'Thur', 'Lunch', '4'], ['11.69', '2.31', 'Male', 'No', 'Thur', 'Lunch', '2'], ['13.42', '1.68', 'Female', 'No', 'Thur', 'Lunch', '2'], ['14.26', '2.5', 'Male', 'No', 'Thur', 'Lunch', '2'], ['15.95', '2.0', 'Male', 'No', 'Thur', 'Lunch', '2'], ['12.48', '2.52', 'Female', 'No', 'Thur', 'Lunch', '2'], ['29.8', '4.2', 'Female', 'No', 'Thur', 'Lunch', '6'], ['8.52', '1.48', 'Male', 'No', 'Thur', 'Lunch', '2'], ['14.52', '2.0', 'Female', 'No', 'Thur', 'Lunch', '2'], ['11.38', '2.0', 'Female', 'No', 'Thur', 'Lunch', '2'], ['22.82', '2.18', 'Male', 'No', 'Thur', 'Lunch', '3'], ['19.08', '1.5', 'Male', 'No', 'Thur', 'Lunch', '2'], ['20.27', '2.83', 'Female', 'No', 'Thur', 'Lunch', '2'], ['11.17', '1.5', 'Female', 'No', 'Thur', 'Lunch', '2'], ['12.26', '2.0', 'Female', 'No', 'Thur', 'Lunch', '2'], ['18.26', '3.25', 'Female', 'No', 'Thur', 'Lunch', '2'], ['8.51', '1.25', 'Female', 'No', 'Thur', 'Lunch', '2'], ['10.33', '2.0', 'Female', 'No', 'Thur', 'Lunch', '2'], ['14.15', '2.0', 'Female', 'No', 'Thur', 'Lunch', '2'], ['16.0', '2.0', 'Male', 'Yes', 'Thur', 'Lunch', '2'], ['13.16', '2.75', 'Female', 'No', 'Thur', 'Lunch', '2'], ['17.47', '3.5', 'Female', 'No', 'Thur', 'Lunch', '2'], ['34.3', '6.7', 'Male', 'No', 'Thur', 'Lunch', '6'], ['41.19', '5.0', 'Male', 'No', 'Thur', 'Lunch', '5'], ['27.05', '5.0', 'Female', 'No', 'Thur', 'Lunch', '6'], ['16.43', '2.3', 'Female', 'No', 'Thur', 'Lunch', '2'], ['8.35', '1.5', 'Female', 'No', 'Thur', 'Lunch', '2'], ['18.64', '1.36', 'Female', 'No', 'Thur', 'Lunch', '3'], ['11.87', '1.63', 'Female', 'No', 'Thur', 'Lunch', '2'], ['9.78', '1.73', 'Male', 'No', 'Thur', 'Lunch', '2'], ['7.51', '2.0', 'Male', 'No', 'Thur', 'Lunch', '2'], ['14.07', '2.5', 'Male', 'No', 'Sun', 'Dinner', '2'], ['13.13', '2.0', 'Male', 'No', 'Sun', 'Dinner', '2'], ['17.26', '2.74', 'Male', 'No', 'Sun', 'Dinner', '3'], ['24.55', '2.0', 'Male', 'No', 'Sun', 'Dinner', '4'], ['19.77', '2.0', 'Male', 'No', 'Sun', 'Dinner', '4'], ['29.85', '5.14', 'Female', 'No', 'Sun', 'Dinner', '5'], ['48.17', '5.0', 'Male', 'No', 'Sun', 'Dinner', '6'], ['25.0', '3.75', 'Female', 'No', 'Sun', 'Dinner', '4'], ['13.39', '2.61', 'Female', 'No', 'Sun', 'Dinner', '2'], ['16.49', '2.0', 'Male', 'No', 'Sun', 'Dinner', '4'], ['21.5', '3.5', 'Male', 'No', 'Sun', 'Dinner', '4'], ['12.66', '2.5', 'Male', 'No', 'Sun', 'Dinner', '2'], ['16.21', '2.0', 'Female', 'No', 'Sun', 'Dinner', '3'], ['13.81', '2.0', 'Male', 'No', 'Sun', 'Dinner', '2'], ['17.51', '3.0', 'Female', 'Yes', 'Sun', 'Dinner', '2'], ['24.52', '3.48', 'Male', 'No', 'Sun', 'Dinner', '3'], ['20.76', '2.24', 'Male', 'No', 'Sun', 'Dinner', '2'], ['31.71', '4.5', 'Male', 'No', 'Sun', 'Dinner', '4'], ['10.59', '1.61', 'Female', 'Yes', 'Sat', 'Dinner', '2'], ['10.63', '2.0', 'Female', 'Yes', 'Sat', 'Dinner', '2'], ['50.81', '10.0', 'Male', 'Yes', 'Sat', 'Dinner', '3'], ['15.81', '3.16', 'Male', 'Yes', 'Sat', 'Dinner', '2'], ['7.25', '5.15', 'Male', 'Yes', 'Sun', 'Dinner', '2'], ['31.85', '3.18', 'Male', 'Yes', 'Sun', 'Dinner', '2'], ['16.82', '4.0', 'Male', 'Yes', 'Sun', 'Dinner', '2'], ['32.9', '3.11', 'Male', 'Yes', 'Sun', 'Dinner', '2'], ['17.89', '2.0', 'Male', 'Yes', 'Sun', 'Dinner', '2'], ['14.48', '2.0', 'Male', 'Yes', 'Sun', 'Dinner', '2'], ['9.6', '4.0', 'Female', 'Yes', 'Sun', 'Dinner', '2'], ['34.63', '3.55', 'Male', 'Yes', 'Sun', 'Dinner', '2'], ['34.65', '3.68', 'Male', 'Yes', 'Sun', 'Dinner', '4'], ['23.33', '5.65', 'Male', 'Yes', 'Sun', 'Dinner', '2'], ['45.35', '3.5', 'Male', 'Yes', 'Sun', 'Dinner', '3'], ['23.17', '6.5', 'Male', 'Yes', 'Sun', 'Dinner', '4'], ['40.55', '3.0', 'Male', 'Yes', 'Sun', 'Dinner', '2'], ['20.69', '5.0', 'Male', 'No', 'Sun', 'Dinner', '5'], ['20.9', '3.5', 'Female', 'Yes', 'Sun', 'Dinner', '3'], ['30.46', '2.0', 'Male', 'Yes', 'Sun', 'Dinner', '5'], ['18.15', '3.5', 'Female', 'Yes', 'Sun', 'Dinner', '3'], ['23.1', '4.0', 'Male', 'Yes', 'Sun', 'Dinner', '3'], ['15.69', '1.5', 'Male', 'Yes', 'Sun', 'Dinner', '2'], ['19.81', '4.19', 'Female', 'Yes', 'Thur', 'Lunch', '2'], ['28.44', '2.56', 'Male', 'Yes', 'Thur', 'Lunch', '2'], ['15.48', '2.02', 'Male', 'Yes', 'Thur', 'Lunch', '2'], ['16.58', '4.0', 'Male', 'Yes', 'Thur', 'Lunch', '2'], ['7.56', '1.44', 'Male', 'No', 'Thur', 'Lunch', '2'], ['10.34', '2.0', 'Male', 'Yes', 'Thur', 'Lunch', '2'], ['43.11', '5.0', 'Female', 'Yes', 'Thur', 'Lunch', '4'], ['13.0', '2.0', 'Female', 'Yes', 'Thur', 'Lunch', '2'], ['13.51', '2.0', 'Male', 'Yes', 'Thur', 'Lunch', '2'], ['18.71', '4.0', 'Male', 'Yes', 'Thur', 'Lunch', '3'], ['12.74', '2.01', 'Female', 'Yes', 'Thur', 'Lunch', '2'], ['13.0', '2.0', 'Female', 'Yes', 'Thur', 'Lunch', '2'], ['16.4', '2.5', 'Female', 'Yes', 'Thur', 'Lunch', '2'], ['20.53', '4.0', 'Male', 'Yes', 'Thur', 'Lunch', '4'], ['16.47', '3.23', 'Female', 'Yes', 'Thur', 'Lunch', '3'], ['26.59', '3.41', 'Male', 'Yes', 'Sat', 'Dinner', '3'], ['38.73', '3.0', 'Male', 'Yes', 'Sat', 'Dinner', '4'], ['24.27', '2.03', 'Male', 'Yes', 'Sat', 'Dinner', '2'], ['12.76', '2.23', 'Female', 'Yes', 'Sat', 'Dinner', '2'], ['30.06', '2.0', 'Male', 'Yes', 'Sat', 'Dinner', '3'], ['25.89', '5.16', 'Male', 'Yes', 'Sat', 'Dinner', '4'], ['48.33', '9.0', 'Male', 'No', 'Sat', 'Dinner', '4'], ['13.27', '2.5', 'Female', 'Yes', 'Sat', 'Dinner', '2'], ['28.17', '6.5', 'Female', 'Yes', 'Sat', 'Dinner', '3'], ['12.9', '1.1', 'Female', 'Yes', 'Sat', 'Dinner', '2'], ['28.15', '3.0', 'Male', 'Yes', 'Sat', 'Dinner', '5'], ['11.59', '1.5', 'Male', 'Yes', 'Sat', 'Dinner', '2'], ['7.74', '1.44', 'Male', 'Yes', 'Sat', 'Dinner', '2'], ['30.14', '3.09', 'Female', 'Yes', 'Sat', 'Dinner', '4'], ['12.16', '2.2', 'Male', 'Yes', 'Fri', 'Lunch', '2'], ['13.42', '3.48', 'Female', 'Yes', 'Fri', 'Lunch', '2'], ['8.58', '1.92', 'Male', 'Yes', 'Fri', 'Lunch', '1'], ['15.98', '3.0', 'Female', 'No', 'Fri', 'Lunch', '3'], ['13.42', '1.58', 'Male', 'Yes', 'Fri', 'Lunch', '2'], ['16.27', '2.5', 'Female', 'Yes', 'Fri', 'Lunch', '2'], ['10.09', '2.0', 'Female', 'Yes', 'Fri', 'Lunch', '2'], ['20.45', '3.0', 'Male', 'No', 'Sat', 'Dinner', '4'], ['13.28', '2.72', 'Male', 'No', 'Sat', 'Dinner', '2'], ['22.12', '2.88', 'Female', 'Yes', 'Sat', 'Dinner', '2'], ['24.01', '2.0', 'Male', 'Yes', 'Sat', 'Dinner', '4'], ['15.69', '3.0', 'Male', 'Yes', 'Sat', 'Dinner', '3'], ['11.61', '3.39', 'Male', 'No', 'Sat', 'Dinner', '2'], ['10.77', '1.47', 'Male', 'No', 'Sat', 'Dinner', '2'], ['15.53', '3.0', 'Male', 'Yes', 'Sat', 'Dinner', '2'], ['10.07', '1.25', 'Male', 'No', 'Sat', 'Dinner', '2'], ['12.6', '1.0', 'Male', 'Yes', 'Sat', 'Dinner', '2'], ['32.83', '1.17', 'Male', 'Yes', 'Sat', 'Dinner', '2'], ['35.83', '4.67', 'Female', 'No', 'Sat', 'Dinner', '3'], ['29.03', '5.92', 'Male', 'No', 'Sat', 'Dinner', '3'], ['27.18', '2.0', 'Female', 'Yes', 'Sat', 'Dinner', '2'], ['22.67', '2.0', 'Male', 'Yes', 'Sat', 'Dinner', '2'], ['17.82', '1.75', 'Male', 'No', 'Sat', 'Dinner', '2'], ['18.78', '3.0', 'Female', 'No', 'Thur', 'Dinner', '2']]\n"
     ]
    }
   ],
   "source": [
    "print(data)"
   ]
  },
  {
   "cell_type": "code",
   "execution_count": 10,
   "metadata": {},
   "outputs": [
    {
     "data": {
      "text/plain": [
       "['total_bill', 'tip', 'sex', 'smoker', 'day', 'time', 'size']"
      ]
     },
     "execution_count": 10,
     "metadata": {},
     "output_type": "execute_result"
    }
   ],
   "source": [
    "data[0]"
   ]
  },
  {
   "cell_type": "code",
   "execution_count": 11,
   "metadata": {},
   "outputs": [
    {
     "name": "stdout",
     "output_type": "stream",
     "text": [
      "0\n"
     ]
    }
   ],
   "source": [
    "item = 'total_bill'\n",
    "i = data[0].index(item)\n",
    "print(i)"
   ]
  },
  {
   "cell_type": "code",
   "execution_count": 12,
   "metadata": {},
   "outputs": [
    {
     "name": "stdout",
     "output_type": "stream",
     "text": [
      "total_bill\n",
      "16.99\n",
      "10.34\n",
      "21.01\n",
      "23.68\n",
      "24.59\n",
      "25.29\n",
      "8.77\n",
      "26.88\n",
      "15.04\n",
      "14.78\n",
      "10.27\n",
      "35.26\n",
      "15.42\n",
      "18.43\n",
      "14.83\n",
      "21.58\n",
      "10.33\n",
      "16.29\n",
      "16.97\n",
      "20.65\n",
      "17.92\n",
      "20.29\n",
      "15.77\n",
      "39.42\n",
      "19.82\n",
      "17.81\n",
      "13.37\n",
      "12.69\n",
      "21.7\n",
      "19.65\n",
      "9.55\n",
      "18.35\n",
      "15.06\n",
      "20.69\n",
      "17.78\n",
      "24.06\n",
      "16.31\n",
      "16.93\n",
      "18.69\n",
      "31.27\n",
      "16.04\n",
      "17.46\n",
      "13.94\n",
      "9.68\n",
      "30.4\n",
      "18.29\n",
      "22.23\n",
      "32.4\n",
      "28.55\n",
      "18.04\n",
      "12.54\n",
      "10.29\n",
      "34.81\n",
      "9.94\n",
      "25.56\n",
      "19.49\n",
      "38.01\n",
      "26.41\n",
      "11.24\n",
      "48.27\n",
      "20.29\n",
      "13.81\n",
      "11.02\n",
      "18.29\n",
      "17.59\n",
      "20.08\n",
      "16.45\n",
      "3.07\n",
      "20.23\n",
      "15.01\n",
      "12.02\n",
      "17.07\n",
      "26.86\n",
      "25.28\n",
      "14.73\n",
      "10.51\n",
      "17.92\n",
      "27.2\n",
      "22.76\n",
      "17.29\n",
      "19.44\n",
      "16.66\n",
      "10.07\n",
      "32.68\n",
      "15.98\n",
      "34.83\n",
      "13.03\n",
      "18.28\n",
      "24.71\n",
      "21.16\n",
      "28.97\n",
      "22.49\n",
      "5.75\n",
      "16.32\n",
      "22.75\n",
      "40.17\n",
      "27.28\n",
      "12.03\n",
      "21.01\n",
      "12.46\n",
      "11.35\n",
      "15.38\n",
      "44.3\n",
      "22.42\n",
      "20.92\n",
      "15.36\n",
      "20.49\n",
      "25.21\n",
      "18.24\n",
      "14.31\n",
      "14.0\n",
      "7.25\n",
      "38.07\n",
      "23.95\n",
      "25.71\n",
      "17.31\n",
      "29.93\n",
      "10.65\n",
      "12.43\n",
      "24.08\n",
      "11.69\n",
      "13.42\n",
      "14.26\n",
      "15.95\n",
      "12.48\n",
      "29.8\n",
      "8.52\n",
      "14.52\n",
      "11.38\n",
      "22.82\n",
      "19.08\n",
      "20.27\n",
      "11.17\n",
      "12.26\n",
      "18.26\n",
      "8.51\n",
      "10.33\n",
      "14.15\n",
      "16.0\n",
      "13.16\n",
      "17.47\n",
      "34.3\n",
      "41.19\n",
      "27.05\n",
      "16.43\n",
      "8.35\n",
      "18.64\n",
      "11.87\n",
      "9.78\n",
      "7.51\n",
      "14.07\n",
      "13.13\n",
      "17.26\n",
      "24.55\n",
      "19.77\n",
      "29.85\n",
      "48.17\n",
      "25.0\n",
      "13.39\n",
      "16.49\n",
      "21.5\n",
      "12.66\n",
      "16.21\n",
      "13.81\n",
      "17.51\n",
      "24.52\n",
      "20.76\n",
      "31.71\n",
      "10.59\n",
      "10.63\n",
      "50.81\n",
      "15.81\n",
      "7.25\n",
      "31.85\n",
      "16.82\n",
      "32.9\n",
      "17.89\n",
      "14.48\n",
      "9.6\n",
      "34.63\n",
      "34.65\n",
      "23.33\n",
      "45.35\n",
      "23.17\n",
      "40.55\n",
      "20.69\n",
      "20.9\n",
      "30.46\n",
      "18.15\n",
      "23.1\n",
      "15.69\n",
      "19.81\n",
      "28.44\n",
      "15.48\n",
      "16.58\n",
      "7.56\n",
      "10.34\n",
      "43.11\n",
      "13.0\n",
      "13.51\n",
      "18.71\n",
      "12.74\n",
      "13.0\n",
      "16.4\n",
      "20.53\n",
      "16.47\n",
      "26.59\n",
      "38.73\n",
      "24.27\n",
      "12.76\n",
      "30.06\n",
      "25.89\n",
      "48.33\n",
      "13.27\n",
      "28.17\n",
      "12.9\n",
      "28.15\n",
      "11.59\n",
      "7.74\n",
      "30.14\n",
      "12.16\n",
      "13.42\n",
      "8.58\n",
      "15.98\n",
      "13.42\n",
      "16.27\n",
      "10.09\n",
      "20.45\n",
      "13.28\n",
      "22.12\n",
      "24.01\n",
      "15.69\n",
      "11.61\n",
      "10.77\n",
      "15.53\n",
      "10.07\n",
      "12.6\n",
      "32.83\n",
      "35.83\n",
      "29.03\n",
      "27.18\n",
      "22.67\n",
      "17.82\n",
      "18.78\n"
     ]
    }
   ],
   "source": [
    "for line in data:\n",
    "    print(line[i])"
   ]
  },
  {
   "cell_type": "code",
   "execution_count": 13,
   "metadata": {},
   "outputs": [
    {
     "name": "stdout",
     "output_type": "stream",
     "text": [
      "['16.99', '10.34', '21.01', '23.68', '24.59', '25.29', '8.77', '26.88', '15.04', '14.78', '10.27', '35.26', '15.42', '18.43', '14.83', '21.58', '10.33', '16.29', '16.97', '20.65', '17.92', '20.29', '15.77', '39.42', '19.82', '17.81', '13.37', '12.69', '21.7', '19.65', '9.55', '18.35', '15.06', '20.69', '17.78', '24.06', '16.31', '16.93', '18.69', '31.27', '16.04', '17.46', '13.94', '9.68', '30.4', '18.29', '22.23', '32.4', '28.55', '18.04', '12.54', '10.29', '34.81', '9.94', '25.56', '19.49', '38.01', '26.41', '11.24', '48.27', '20.29', '13.81', '11.02', '18.29', '17.59', '20.08', '16.45', '3.07', '20.23', '15.01', '12.02', '17.07', '26.86', '25.28', '14.73', '10.51', '17.92', '27.2', '22.76', '17.29', '19.44', '16.66', '10.07', '32.68', '15.98', '34.83', '13.03', '18.28', '24.71', '21.16', '28.97', '22.49', '5.75', '16.32', '22.75', '40.17', '27.28', '12.03', '21.01', '12.46', '11.35', '15.38', '44.3', '22.42', '20.92', '15.36', '20.49', '25.21', '18.24', '14.31', '14.0', '7.25', '38.07', '23.95', '25.71', '17.31', '29.93', '10.65', '12.43', '24.08', '11.69', '13.42', '14.26', '15.95', '12.48', '29.8', '8.52', '14.52', '11.38', '22.82', '19.08', '20.27', '11.17', '12.26', '18.26', '8.51', '10.33', '14.15', '16.0', '13.16', '17.47', '34.3', '41.19', '27.05', '16.43', '8.35', '18.64', '11.87', '9.78', '7.51', '14.07', '13.13', '17.26', '24.55', '19.77', '29.85', '48.17', '25.0', '13.39', '16.49', '21.5', '12.66', '16.21', '13.81', '17.51', '24.52', '20.76', '31.71', '10.59', '10.63', '50.81', '15.81', '7.25', '31.85', '16.82', '32.9', '17.89', '14.48', '9.6', '34.63', '34.65', '23.33', '45.35', '23.17', '40.55', '20.69', '20.9', '30.46', '18.15', '23.1', '15.69', '19.81', '28.44', '15.48', '16.58', '7.56', '10.34', '43.11', '13.0', '13.51', '18.71', '12.74', '13.0', '16.4', '20.53', '16.47', '26.59', '38.73', '24.27', '12.76', '30.06', '25.89', '48.33', '13.27', '28.17', '12.9', '28.15', '11.59', '7.74', '30.14', '12.16', '13.42', '8.58', '15.98', '13.42', '16.27', '10.09', '20.45', '13.28', '22.12', '24.01', '15.69', '11.61', '10.77', '15.53', '10.07', '12.6', '32.83', '35.83', '29.03', '27.18', '22.67', '17.82', '18.78']\n"
     ]
    }
   ],
   "source": [
    "item_data = [d[i] for d in data[1:]]\n",
    "print(item_data)"
   ]
  },
  {
   "cell_type": "code",
   "execution_count": 14,
   "metadata": {},
   "outputs": [
    {
     "name": "stdout",
     "output_type": "stream",
     "text": [
      "[16.99, 10.34, 21.01, 23.68, 24.59, 25.29, 8.77, 26.88, 15.04, 14.78, 10.27, 35.26, 15.42, 18.43, 14.83, 21.58, 10.33, 16.29, 16.97, 20.65, 17.92, 20.29, 15.77, 39.42, 19.82, 17.81, 13.37, 12.69, 21.7, 19.65, 9.55, 18.35, 15.06, 20.69, 17.78, 24.06, 16.31, 16.93, 18.69, 31.27, 16.04, 17.46, 13.94, 9.68, 30.4, 18.29, 22.23, 32.4, 28.55, 18.04, 12.54, 10.29, 34.81, 9.94, 25.56, 19.49, 38.01, 26.41, 11.24, 48.27, 20.29, 13.81, 11.02, 18.29, 17.59, 20.08, 16.45, 3.07, 20.23, 15.01, 12.02, 17.07, 26.86, 25.28, 14.73, 10.51, 17.92, 27.2, 22.76, 17.29, 19.44, 16.66, 10.07, 32.68, 15.98, 34.83, 13.03, 18.28, 24.71, 21.16, 28.97, 22.49, 5.75, 16.32, 22.75, 40.17, 27.28, 12.03, 21.01, 12.46, 11.35, 15.38, 44.3, 22.42, 20.92, 15.36, 20.49, 25.21, 18.24, 14.31, 14.0, 7.25, 38.07, 23.95, 25.71, 17.31, 29.93, 10.65, 12.43, 24.08, 11.69, 13.42, 14.26, 15.95, 12.48, 29.8, 8.52, 14.52, 11.38, 22.82, 19.08, 20.27, 11.17, 12.26, 18.26, 8.51, 10.33, 14.15, 16.0, 13.16, 17.47, 34.3, 41.19, 27.05, 16.43, 8.35, 18.64, 11.87, 9.78, 7.51, 14.07, 13.13, 17.26, 24.55, 19.77, 29.85, 48.17, 25.0, 13.39, 16.49, 21.5, 12.66, 16.21, 13.81, 17.51, 24.52, 20.76, 31.71, 10.59, 10.63, 50.81, 15.81, 7.25, 31.85, 16.82, 32.9, 17.89, 14.48, 9.6, 34.63, 34.65, 23.33, 45.35, 23.17, 40.55, 20.69, 20.9, 30.46, 18.15, 23.1, 15.69, 19.81, 28.44, 15.48, 16.58, 7.56, 10.34, 43.11, 13.0, 13.51, 18.71, 12.74, 13.0, 16.4, 20.53, 16.47, 26.59, 38.73, 24.27, 12.76, 30.06, 25.89, 48.33, 13.27, 28.17, 12.9, 28.15, 11.59, 7.74, 30.14, 12.16, 13.42, 8.58, 15.98, 13.42, 16.27, 10.09, 20.45, 13.28, 22.12, 24.01, 15.69, 11.61, 10.77, 15.53, 10.07, 12.6, 32.83, 35.83, 29.03, 27.18, 22.67, 17.82, 18.78]\n"
     ]
    }
   ],
   "source": [
    "item_data = [float(d[i]) for d in data[1:]]\n",
    "print(item_data)"
   ]
  },
  {
   "cell_type": "code",
   "execution_count": 19,
   "metadata": {},
   "outputs": [],
   "source": [
    "def calcData(item,data):\n",
    "    \"求某个项目的最大值、最小值、均值\"\n",
    "    i = data[0].index(item)\n",
    "    item_data = [float(d[i]) for d in data[1:]]\n",
    "    M = max(item_data)\n",
    "    m = min(item_data)\n",
    "    mean = sum(item_data) / len(item_data)\n",
    "    return M , m , mean\n",
    "\n",
    "def statData(item,data):\n",
    "    \"分类统计某个项目各类别的次数\"\n",
    "    i = data[0].index(item)\n",
    "    item_data = [d[i] for d in data[1:]]\n",
    "    C_dict = {}\n",
    "    for c in item_data:\n",
    "        C_dict[c] = C_dict.get(c , 0) + 1\n",
    "    return C_dict"
   ]
  },
  {
   "cell_type": "code",
   "execution_count": 17,
   "metadata": {},
   "outputs": [
    {
     "data": {
      "text/plain": [
       "(10.0, 1.0, 2.9982786885245902)"
      ]
     },
     "execution_count": 17,
     "metadata": {},
     "output_type": "execute_result"
    }
   ],
   "source": [
    "#调用函数计算tip的最大值、最小值和均值\n",
    "calcData('tip', data)    "
   ]
  },
  {
   "cell_type": "code",
   "execution_count": 18,
   "metadata": {},
   "outputs": [
    {
     "data": {
      "text/plain": [
       "(50.81, 3.07, 19.785942622950824)"
      ]
     },
     "execution_count": 18,
     "metadata": {},
     "output_type": "execute_result"
    }
   ],
   "source": [
    "#调用函数计算total_bill的最大值、最小值和均值\n",
    "calcData('total_bill', data)"
   ]
  },
  {
   "cell_type": "code",
   "execution_count": 20,
   "metadata": {},
   "outputs": [
    {
     "data": {
      "text/plain": [
       "{'Female': 87, 'Male': 157}"
      ]
     },
     "execution_count": 20,
     "metadata": {},
     "output_type": "execute_result"
    }
   ],
   "source": [
    "#统计sex各类别（Female与male）的人次数\n",
    "statData('sex' , data)"
   ]
  },
  {
   "cell_type": "code",
   "execution_count": 21,
   "metadata": {},
   "outputs": [
    {
     "data": {
      "text/plain": [
       "{'No': 151, 'Yes': 93}"
      ]
     },
     "execution_count": 21,
     "metadata": {},
     "output_type": "execute_result"
    }
   ],
   "source": [
    "#统计smoker各类别（No与Yes）的人次数\n",
    "statData('smoker' , data)"
   ]
  },
  {
   "cell_type": "code",
   "execution_count": 22,
   "metadata": {},
   "outputs": [
    {
     "data": {
      "text/plain": [
       "{'Sun': 76, 'Sat': 87, 'Thur': 62, 'Fri': 19}"
      ]
     },
     "execution_count": 22,
     "metadata": {},
     "output_type": "execute_result"
    }
   ],
   "source": [
    "#统计每周几的就餐数\n",
    "statData('day' , data)"
   ]
  },
  {
   "cell_type": "code",
   "execution_count": 23,
   "metadata": {},
   "outputs": [
    {
     "data": {
      "text/plain": [
       "{'Dinner': 176, 'Lunch': 68}"
      ]
     },
     "execution_count": 23,
     "metadata": {},
     "output_type": "execute_result"
    }
   ],
   "source": [
    "##统计午餐和晚餐的就餐数\n",
    "statData('time' , data)"
   ]
  },
  {
   "cell_type": "code",
   "execution_count": 24,
   "metadata": {},
   "outputs": [
    {
     "data": {
      "text/plain": [
       "{'2': 156, '3': 38, '4': 37, '1': 4, '6': 4, '5': 5}"
      ]
     },
     "execution_count": 24,
     "metadata": {},
     "output_type": "execute_result"
    }
   ],
   "source": [
    "#统计不同用餐时间的就餐数\n",
    "statData('size' , data)"
   ]
  },
  {
   "cell_type": "code",
   "execution_count": null,
   "metadata": {},
   "outputs": [],
   "source": []
  }
 ],
 "metadata": {
  "kernelspec": {
   "display_name": "Python 3 (ipykernel)",
   "language": "python",
   "name": "python3"
  },
  "language_info": {
   "codemirror_mode": {
    "name": "ipython",
    "version": 3
   },
   "file_extension": ".py",
   "mimetype": "text/x-python",
   "name": "python",
   "nbconvert_exporter": "python",
   "pygments_lexer": "ipython3",
   "version": "3.9.13"
  }
 },
 "nbformat": 4,
 "nbformat_minor": 2
}
