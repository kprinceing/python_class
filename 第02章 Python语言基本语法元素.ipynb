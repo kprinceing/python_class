{
 "cells": [
  {
   "cell_type": "markdown",
   "metadata": {},
   "source": [
    "# 第2章 Python语言基本语法元素"
   ]
  },
  {
   "cell_type": "markdown",
   "metadata": {},
   "source": [
    "### 本章导入案例"
   ]
  },
  {
   "cell_type": "markdown",
   "metadata": {},
   "source": [
    "##### 求解一元二次方程的实根："
   ]
  },
  {
   "cell_type": "code",
   "execution_count": null,
   "metadata": {},
   "outputs": [],
   "source": [
    "a = eval(input('请输入系数a:'))\n",
    "b = eval(input('请输入系数b:'))\n",
    "c = eval(input('请输入系数c:'))\n",
    "d = b ** 2 -4 * a * c\n",
    "if d > 0 :\n",
    "    print('两个实根：', (- b + d ** 0.5) / (2 * a), (- b - d ** 0.5) / (2 * a))\n",
    "elif d == 0 :\n",
    "    print('一个实根：', - b / (2 * a))\n",
    "elif d < 0:\n",
    "    print('无实根！')"
   ]
  },
  {
   "cell_type": "code",
   "execution_count": null,
   "metadata": {},
   "outputs": [],
   "source": []
  },
  {
   "cell_type": "markdown",
   "metadata": {},
   "source": [
    "## 2.1 程序的格式框架"
   ]
  },
  {
   "cell_type": "markdown",
   "metadata": {},
   "source": [
    "### 2.1.1 缩进"
   ]
  },
  {
   "cell_type": "code",
   "execution_count": null,
   "metadata": {},
   "outputs": [],
   "source": [
    "for i in range(10,22,2):\n",
    "    print(i)"
   ]
  },
  {
   "cell_type": "code",
   "execution_count": null,
   "metadata": {},
   "outputs": [],
   "source": []
  },
  {
   "cell_type": "markdown",
   "metadata": {},
   "source": [
    "### 2.1.2 注释"
   ]
  },
  {
   "cell_type": "code",
   "execution_count": null,
   "metadata": {},
   "outputs": [],
   "source": [
    "# 作者名称：Hanzhen\n",
    "# 编写时间：2019-09-10\n",
    "# 版权声明：按照CC BY-NC-SA方式开源\n",
    "print(\"期待同学们明天更美好！\")    # 2019年的良好祝愿"
   ]
  },
  {
   "cell_type": "code",
   "execution_count": null,
   "metadata": {},
   "outputs": [],
   "source": [
    "'''作者名称：Hanzhen\n",
    " 编写时间：2019-09-10\n",
    " 版权声明：按照CC BY-NC-SA方式开源 \n",
    " '''\n",
    "print(\"期待同学们明天更美好！\")   # 2019年的良好祝愿\n"
   ]
  },
  {
   "cell_type": "code",
   "execution_count": null,
   "metadata": {},
   "outputs": [],
   "source": [
    "#山大体育馆浮雕图\n",
    "from PIL import Image, ImageFilter      #引入PIL库的Image模块\n",
    "im = Image.open('D:\\python-exp\\开篇例题\\data\\ch0/sddx3.jpg')    #用引Image模块的open函数打开要处理的图片文件，注意：文件的路径\n",
    "om = im.filter(ImageFilter.EMBOSS)      #打开文件的filter方法里再用ImageFilter的CONTOUR函数处理生成轮廓图\n",
    "om.save('D:\\python-exp\\开篇例题\\data\\ch0/sddxEMBOSS.jpg')          \n",
    "om.show()                               #显示轮廓图"
   ]
  },
  {
   "cell_type": "code",
   "execution_count": null,
   "metadata": {},
   "outputs": [],
   "source": []
  },
  {
   "cell_type": "markdown",
   "metadata": {},
   "source": [
    "### 2.1.3 续行符"
   ]
  },
  {
   "cell_type": "code",
   "execution_count": null,
   "metadata": {},
   "outputs": [],
   "source": [
    "print(\"{}是{}的首都。\".format(\"北京\", \"中国\"))"
   ]
  },
  {
   "cell_type": "code",
   "execution_count": null,
   "metadata": {},
   "outputs": [],
   "source": [
    "print(\"{}是{}的首都。\".format(\\\n",
    "                         \"北京\",\\\n",
    "                         \"中国\"\\\n",
    "                        ))"
   ]
  },
  {
   "cell_type": "code",
   "execution_count": null,
   "metadata": {},
   "outputs": [],
   "source": [
    "print(\"{}是{}的首都。\".format(\n",
    "                         \"北京\",\n",
    "                         \"中国\"\n",
    "                        ))"
   ]
  },
  {
   "cell_type": "code",
   "execution_count": null,
   "metadata": {},
   "outputs": [],
   "source": [
    "from wordcloud import WordCloud \n",
    "from scipy.misc import imread\n",
    "\n",
    "mask = imread('data/ch0/AliceMask.png')                                         #读取图片文件\n",
    "with open('data/ch0/AliceInWonderland.txt', 'r', encoding='utf-8') as file:     #打开文本文件，别名为flie\n",
    "    text = file.read()\n",
    "    wordcloud = WordCloud(background_color=\"white\", \n",
    "                          width = 800, \n",
    "                          height = 600, \n",
    "                          max_words=200, \n",
    "                          max_font_size=80, \n",
    "                          mask = mask\n",
    "                         ).generate(text)\n",
    "    image = wordcloud.to_image()\n",
    "    image.show()\n",
    "    #wordcloud.to_file('data/ch0/AliceInWonderland.png')     # 保存图片"
   ]
  },
  {
   "cell_type": "code",
   "execution_count": null,
   "metadata": {},
   "outputs": [],
   "source": []
  },
  {
   "cell_type": "markdown",
   "metadata": {},
   "source": [
    "### 2.1.4 一行多个命令（语句）\n",
    "\n",
    "不建议这样使用"
   ]
  },
  {
   "cell_type": "code",
   "execution_count": null,
   "metadata": {},
   "outputs": [],
   "source": [
    "r = eval(input('请输入圆的半径：')) ; print('圆面积为：', 3.1415926 * r * r)"
   ]
  },
  {
   "cell_type": "code",
   "execution_count": null,
   "metadata": {},
   "outputs": [],
   "source": [
    "for i in range(10,21,2): print(i)"
   ]
  },
  {
   "cell_type": "code",
   "execution_count": null,
   "metadata": {},
   "outputs": [],
   "source": []
  },
  {
   "cell_type": "markdown",
   "metadata": {},
   "source": [
    "### 2.1.5 表达式内部增加空格"
   ]
  },
  {
   "cell_type": "markdown",
   "metadata": {},
   "source": [
    "- 适度增加空格有助于提高代码可读性，但要注意不能改变与缩进相关的空格数量，也不能在变量名等命名中间增加空格。"
   ]
  },
  {
   "cell_type": "code",
   "execution_count": null,
   "metadata": {},
   "outputs": [],
   "source": [
    "#未增加空格的\n",
    "hello=123456\n",
    "x=(hello+2)*3\n",
    "print(x)"
   ]
  },
  {
   "cell_type": "code",
   "execution_count": null,
   "metadata": {},
   "outputs": [],
   "source": [
    "#适当增加空格的，注意不能是全角空格\n",
    "hello = 123456\n",
    "x = ( hello + 2 ) * 3\n",
    "print ( x )"
   ]
  },
  {
   "cell_type": "code",
   "execution_count": null,
   "metadata": {},
   "outputs": [],
   "source": [
    "a = [1,\n",
    "     2,\n",
    "     3,\n",
    "     4,\n",
    "     5,\n",
    "     6]\n",
    "print (a)"
   ]
  },
  {
   "cell_type": "code",
   "execution_count": null,
   "metadata": {},
   "outputs": [],
   "source": []
  },
  {
   "cell_type": "markdown",
   "metadata": {},
   "source": [
    "## 2.2 语法元素的名称"
   ]
  },
  {
   "cell_type": "markdown",
   "metadata": {},
   "source": [
    "### 本节导入案例"
   ]
  },
  {
   "cell_type": "code",
   "execution_count": null,
   "metadata": {},
   "outputs": [],
   "source": [
    "r = eval(input('请输入圆的半径：'))        #键盘输入圆半径\n",
    "print( '圆面积为：',3.1415926 * r * r)        #显示计算的圆面积"
   ]
  },
  {
   "cell_type": "code",
   "execution_count": null,
   "metadata": {},
   "outputs": [],
   "source": []
  },
  {
   "cell_type": "code",
   "execution_count": null,
   "metadata": {},
   "outputs": [],
   "source": [
    "r = 25\n",
    "print( '圆面积为：' , 3.1415926 * r * r )"
   ]
  },
  {
   "cell_type": "code",
   "execution_count": null,
   "metadata": {},
   "outputs": [],
   "source": []
  },
  {
   "cell_type": "markdown",
   "metadata": {},
   "source": [
    "### 2.2.1 常量\n",
    "<font size=4> \n",
    "**1、常量**"
   ]
  },
  {
   "cell_type": "code",
   "execution_count": null,
   "metadata": {},
   "outputs": [],
   "source": [
    "#若一个程序的数据都是常量，那程序执行的结果永远只有一个，程序就不具备通用性\n",
    "\n",
    "print( '圆面积为： ' , 3.1415926 * 10 * 10 )"
   ]
  },
  {
   "cell_type": "markdown",
   "metadata": {},
   "source": [
    "<font size=4> \n",
    "**2、不同数据类型的常量**"
   ]
  },
  {
   "cell_type": "markdown",
   "metadata": {},
   "source": [
    "**(1)常数**\n",
    "<br><br>\n",
    "在Python中有3种类型的常数<br>\n",
    "- 整数\n",
    "  - 2是一个整数的例子。 <br><br>\n",
    "- 浮点数\n",
    "  - 3.23和52.3E-4是浮点数的例子。E标记表示10的幂。在这里，52.3E-4表示52.3×$10^{-4}$。<br><br> \n",
    "- 复数\n",
    "  - (-5+4j)和(2.3-4.6j)是复数的例子"
   ]
  },
  {
   "cell_type": "code",
   "execution_count": null,
   "metadata": {},
   "outputs": [],
   "source": [
    "print(3, -6.7, 0, 0.0, -3-6.7j)"
   ]
  },
  {
   "cell_type": "code",
   "execution_count": null,
   "metadata": {},
   "outputs": [],
   "source": []
  },
  {
   "cell_type": "markdown",
   "metadata": {},
   "source": [
    "**(2)字符串**"
   ]
  },
  {
   "cell_type": "code",
   "execution_count": null,
   "metadata": {},
   "outputs": [],
   "source": [
    "print('201500303002')"
   ]
  },
  {
   "cell_type": "code",
   "execution_count": null,
   "metadata": {},
   "outputs": [],
   "source": [
    " \"张三\""
   ]
  },
  {
   "cell_type": "code",
   "execution_count": null,
   "metadata": {},
   "outputs": [],
   "source": [
    "\"张三\"[0]"
   ]
  },
  {
   "cell_type": "code",
   "execution_count": null,
   "metadata": {},
   "outputs": [],
   "source": []
  },
  {
   "cell_type": "markdown",
   "metadata": {},
   "source": [
    "**(3) 元组**"
   ]
  },
  {
   "cell_type": "code",
   "execution_count": null,
   "metadata": {},
   "outputs": [],
   "source": [
    "( '201500303002',  \"张三\",  '男', 22, '社会学', '社会学' )"
   ]
  },
  {
   "cell_type": "code",
   "execution_count": null,
   "metadata": {},
   "outputs": [],
   "source": [
    "( '201500303002',  \"张三\",  '男', 22, '社会学', '社会学' )[3]"
   ]
  },
  {
   "cell_type": "code",
   "execution_count": null,
   "metadata": {},
   "outputs": [],
   "source": [
    "( '201500303002',  \"张三\",  '男', 22, '社会学', '社会学' )[3] = 25    #不能改变其元素"
   ]
  },
  {
   "cell_type": "code",
   "execution_count": null,
   "metadata": {},
   "outputs": [],
   "source": []
  },
  {
   "cell_type": "markdown",
   "metadata": {},
   "source": [
    "**(4) 列表**"
   ]
  },
  {
   "cell_type": "code",
   "execution_count": null,
   "metadata": {},
   "outputs": [],
   "source": [
    "[ '201500303002',  \"张三\",  '男', 22, '社会学', '社会学' ]"
   ]
  },
  {
   "cell_type": "code",
   "execution_count": null,
   "metadata": {},
   "outputs": [],
   "source": [
    "[ '201500303002',  \"张三\",  '男', 22, '社会学', '社会学' ][3]"
   ]
  },
  {
   "cell_type": "code",
   "execution_count": null,
   "metadata": {},
   "outputs": [],
   "source": [
    "[ '201500303002',  \"张三\",  '男', 22, '社会学', '社会学' ][3] = 25    #可以改变其元素"
   ]
  },
  {
   "cell_type": "code",
   "execution_count": null,
   "metadata": {},
   "outputs": [],
   "source": [
    "#可以改变其元素\n",
    "L = [ '201500201002',  \"张三\",  '男', 22, '社会学', '社会学' ]\n",
    "L[3] = 25\n",
    "print(L)"
   ]
  },
  {
   "cell_type": "code",
   "execution_count": null,
   "metadata": {},
   "outputs": [],
   "source": []
  },
  {
   "cell_type": "markdown",
   "metadata": {},
   "source": [
    "**(5)集合**"
   ]
  },
  {
   "cell_type": "code",
   "execution_count": null,
   "metadata": {},
   "outputs": [],
   "source": [
    "{ '201500201002',  \"张三\",  '男', '社会学', '社会学'}"
   ]
  },
  {
   "cell_type": "code",
   "execution_count": null,
   "metadata": {},
   "outputs": [],
   "source": [
    "{ '201500201002',  \"张三\",  '男', 22, '社会学', '社会学'}"
   ]
  },
  {
   "cell_type": "code",
   "execution_count": null,
   "metadata": {},
   "outputs": [],
   "source": []
  },
  {
   "cell_type": "markdown",
   "metadata": {},
   "source": [
    "**(6)字典**"
   ]
  },
  {
   "cell_type": "code",
   "execution_count": null,
   "metadata": {},
   "outputs": [],
   "source": [
    "{'五花肉':800, '葱':20, '姜':5, '八角':5, '香叶':5, '花生油':50, '酱油':20, '冰糖':50, '盐':5, '花椒':5 , '桂皮':'适量'}"
   ]
  },
  {
   "cell_type": "code",
   "execution_count": null,
   "metadata": {},
   "outputs": [],
   "source": [
    "{'五花肉':800, '葱':20, '姜':5, '八角':5, '香叶':5, '花生油':50, '酱油':20, '冰糖':50, '盐':5, '花椒':5 , '桂皮':'适量'}['花生油']"
   ]
  },
  {
   "cell_type": "code",
   "execution_count": null,
   "metadata": {},
   "outputs": [],
   "source": []
  },
  {
   "cell_type": "markdown",
   "metadata": {},
   "source": [
    "**(7)布尔值**<br>\n",
    "- 只有**True**、**False**两种值，要么是True，要么是False。<br><br>\n",
    "- 在Python中，可直接用True、False表示布尔值（请注意大小写），也可通过布尔运算（比较运算或逻辑运算）计算出来<br><br>\n",
    "  - 例如，3>2为True，3>5为False"
   ]
  },
  {
   "cell_type": "code",
   "execution_count": null,
   "metadata": {},
   "outputs": [],
   "source": [
    "3>2"
   ]
  },
  {
   "cell_type": "code",
   "execution_count": null,
   "metadata": {},
   "outputs": [],
   "source": [
    "3>5"
   ]
  },
  {
   "cell_type": "code",
   "execution_count": null,
   "metadata": {},
   "outputs": [],
   "source": []
  },
  {
   "cell_type": "markdown",
   "metadata": {},
   "source": [
    "<font size=4> \n",
    "**(8)空值**<br><br>\n",
    "- 空值是Python里一个特殊的值，用**None**表示。<br><br>\n",
    "  - None不能理解为0，因为0是有意义的，而None是一个特殊的空值。\n",
    "  \n",
    "<br><br>\n",
    "此外，Python还允许创建自定义数据类型。"
   ]
  },
  {
   "cell_type": "code",
   "execution_count": null,
   "metadata": {},
   "outputs": [],
   "source": []
  },
  {
   "cell_type": "markdown",
   "metadata": {},
   "source": [
    "<font size=4> \n",
    "**3、序列数据**"
   ]
  },
  {
   "cell_type": "markdown",
   "metadata": {},
   "source": [
    "**（2）序列数据的索引**"
   ]
  },
  {
   "cell_type": "code",
   "execution_count": null,
   "metadata": {},
   "outputs": [],
   "source": [
    "\"张三\"[0]"
   ]
  },
  {
   "cell_type": "code",
   "execution_count": null,
   "metadata": {},
   "outputs": [],
   "source": [
    "( '201500201002',  \"张三\",  '男', '社会学', '社会学' )[-3]"
   ]
  },
  {
   "cell_type": "code",
   "execution_count": null,
   "metadata": {},
   "outputs": [],
   "source": [
    "[ '201500201002',  \"张三\",  '男', 22, '社会学', '社会学' ] [3]"
   ]
  },
  {
   "cell_type": "markdown",
   "metadata": {},
   "source": [
    "**（3）序列数据的切片**"
   ]
  },
  {
   "cell_type": "code",
   "execution_count": null,
   "metadata": {},
   "outputs": [],
   "source": [
    "'201500201002'[0:4]"
   ]
  },
  {
   "cell_type": "code",
   "execution_count": null,
   "metadata": {},
   "outputs": [],
   "source": [
    "'201500201002'[:4]"
   ]
  },
  {
   "cell_type": "code",
   "execution_count": null,
   "metadata": {},
   "outputs": [],
   "source": [
    "'201500201002'[::2]"
   ]
  },
  {
   "cell_type": "code",
   "execution_count": null,
   "metadata": {},
   "outputs": [],
   "source": [
    "'201500201002'[7:4]"
   ]
  },
  {
   "cell_type": "code",
   "execution_count": null,
   "metadata": {},
   "outputs": [],
   "source": [
    "'201500201002'[0:4:-1]"
   ]
  },
  {
   "cell_type": "code",
   "execution_count": null,
   "metadata": {},
   "outputs": [],
   "source": [
    "'201500201002'[7:4:-1]"
   ]
  },
  {
   "cell_type": "code",
   "execution_count": null,
   "metadata": {},
   "outputs": [],
   "source": [
    "'201500201002'[::-1]"
   ]
  },
  {
   "cell_type": "code",
   "execution_count": null,
   "metadata": {},
   "outputs": [],
   "source": [
    "'201500201002'[::-2]"
   ]
  },
  {
   "cell_type": "code",
   "execution_count": null,
   "metadata": {},
   "outputs": [],
   "source": [
    "(  '201500201002',  \"张三\",  '男', '社会学', '社会学')[1:-1]"
   ]
  },
  {
   "cell_type": "code",
   "execution_count": null,
   "metadata": {},
   "outputs": [],
   "source": [
    "[ '201500201002',  \"张三\",  '男', 22, '社会学', '社会学'] [3:]"
   ]
  },
  {
   "cell_type": "code",
   "execution_count": null,
   "metadata": {},
   "outputs": [],
   "source": []
  },
  {
   "cell_type": "markdown",
   "metadata": {},
   "source": [
    "### 2.2.2 变量"
   ]
  },
  {
   "cell_type": "code",
   "execution_count": null,
   "metadata": {},
   "outputs": [],
   "source": [
    "r = 10\n",
    "print( 3.1415926 * r * r )"
   ]
  },
  {
   "cell_type": "code",
   "execution_count": null,
   "metadata": {},
   "outputs": [],
   "source": [
    "r = r / 2\n",
    "print( 3.1415926 * r * r )"
   ]
  },
  {
   "cell_type": "code",
   "execution_count": null,
   "metadata": {},
   "outputs": [],
   "source": [
    "r = eval(input('请输入圆的半径：'))        #键盘输入圆半径\n",
    "print('圆面积为：', 3.1415926 * r * r)        #显示计算的圆面积"
   ]
  },
  {
   "cell_type": "code",
   "execution_count": null,
   "metadata": {},
   "outputs": [],
   "source": [
    "g = [98,96,87,95,93]\n",
    "s = [3,2,3,4,2]\n",
    "t = 0\n",
    "c = 0\n",
    "for i in range(len(g)):\n",
    "    print(i)\n",
    "    t = t + g[i] * s[i]\n",
    "    c = c + s[i]\n",
    "print(t / c)"
   ]
  },
  {
   "cell_type": "code",
   "execution_count": null,
   "metadata": {},
   "outputs": [],
   "source": []
  },
  {
   "cell_type": "markdown",
   "metadata": {},
   "source": [
    "<font size=4>  \n",
    "**变量的特点**\n",
    "- 变量像对象一样不需要声明<br><br>\n",
    "- **变量在第一次赋值时创建**<br><br>\n",
    "  - 例如，x=2<br><br>\n",
    "- 变量在表达式中使用以前必须已经赋值<br><br>\n",
    "- 变量在表达式中使用将被替换为他们的**当前值**<br><br>\n",
    "- 例如<br>\n",
    "  &nbsp;&nbsp;&nbsp;&nbsp;&nbsp;&nbsp;&nbsp;&nbsp;y=12<br>\n",
    "  &nbsp;&nbsp;&nbsp;&nbsp;&nbsp;&nbsp;&nbsp;&nbsp;x=y*3-6<br>\n",
    "  &nbsp;&nbsp;&nbsp;&nbsp;&nbsp;&nbsp;&nbsp;&nbsp;print (x,y)"
   ]
  },
  {
   "cell_type": "code",
   "execution_count": null,
   "metadata": {},
   "outputs": [],
   "source": [
    "qa * 2"
   ]
  },
  {
   "cell_type": "code",
   "execution_count": null,
   "metadata": {},
   "outputs": [],
   "source": [
    "qa = 5\n",
    "qa * 2"
   ]
  },
  {
   "cell_type": "code",
   "execution_count": null,
   "metadata": {},
   "outputs": [],
   "source": [
    "y = 12\n",
    "x = y * 3 - 6\n",
    "print( a, y )"
   ]
  },
  {
   "cell_type": "code",
   "execution_count": null,
   "metadata": {},
   "outputs": [],
   "source": [
    "y = x - 5\n",
    "print( x, y )"
   ]
  },
  {
   "cell_type": "code",
   "execution_count": null,
   "metadata": {},
   "outputs": [],
   "source": []
  },
  {
   "cell_type": "markdown",
   "metadata": {},
   "source": [
    "### 2.2.3 命名"
   ]
  },
  {
   "cell_type": "code",
   "execution_count": null,
   "metadata": {},
   "outputs": [],
   "source": []
  },
  {
   "cell_type": "markdown",
   "metadata": {},
   "source": [
    "### 2.2.4 保留字"
   ]
  },
  {
   "cell_type": "code",
   "execution_count": null,
   "metadata": {},
   "outputs": [],
   "source": []
  },
  {
   "cell_type": "markdown",
   "metadata": {},
   "source": [
    "### 2.2.5 Python的帮助"
   ]
  },
  {
   "cell_type": "markdown",
   "metadata": {},
   "source": [
    "#### 1、help()函数"
   ]
  },
  {
   "cell_type": "code",
   "execution_count": null,
   "metadata": {},
   "outputs": [],
   "source": [
    "help(print)"
   ]
  },
  {
   "cell_type": "code",
   "execution_count": null,
   "metadata": {},
   "outputs": [],
   "source": [
    "import turtle\n",
    "#help(turtle)"
   ]
  },
  {
   "cell_type": "code",
   "execution_count": null,
   "metadata": {},
   "outputs": [],
   "source": [
    "help(turtle.circle)"
   ]
  },
  {
   "cell_type": "code",
   "execution_count": null,
   "metadata": {},
   "outputs": [],
   "source": [
    "help()     #进入帮助状态，需用quit退出帮助"
   ]
  },
  {
   "cell_type": "code",
   "execution_count": null,
   "metadata": {},
   "outputs": [],
   "source": []
  },
  {
   "cell_type": "markdown",
   "metadata": {},
   "source": [
    "#### 2、?命令"
   ]
  },
  {
   "cell_type": "code",
   "execution_count": null,
   "metadata": {},
   "outputs": [],
   "source": [
    "?print"
   ]
  },
  {
   "cell_type": "code",
   "execution_count": null,
   "metadata": {},
   "outputs": [],
   "source": [
    "print?"
   ]
  },
  {
   "cell_type": "code",
   "execution_count": null,
   "metadata": {},
   "outputs": [],
   "source": [
    "import turtle\n",
    "?turtle"
   ]
  },
  {
   "cell_type": "code",
   "execution_count": null,
   "metadata": {},
   "outputs": [],
   "source": [
    "?turtle.fd"
   ]
  },
  {
   "cell_type": "code",
   "execution_count": null,
   "metadata": {},
   "outputs": [],
   "source": []
  },
  {
   "cell_type": "markdown",
   "metadata": {},
   "source": [
    "### 2.2.6 Python的一般格式描述"
   ]
  },
  {
   "cell_type": "markdown",
   "metadata": {},
   "source": [
    "#### 命令的一般格式描述"
   ]
  },
  {
   "cell_type": "code",
   "execution_count": null,
   "metadata": {},
   "outputs": [],
   "source": [
    "print?"
   ]
  },
  {
   "cell_type": "code",
   "execution_count": null,
   "metadata": {},
   "outputs": [],
   "source": [
    "print(3 , 5 , 'abc', sep=';')      #指定sep参数，输出的数据间隔用一个分号"
   ]
  },
  {
   "cell_type": "code",
   "execution_count": null,
   "metadata": {},
   "outputs": [],
   "source": [
    "print(3 , 5 , 'abc')              #sep参数缺省，默认输出的数据间隔用一个空额"
   ]
  },
  {
   "cell_type": "code",
   "execution_count": null,
   "metadata": {},
   "outputs": [],
   "source": [
    "print(3)                #end参数缺省，默认本次输出以换行符结束，即下个print输出另起一行\n",
    "print(5 , end = ',')    #指定end参数，则本次输出以逗号结束，下个print接着这个逗号输出\n",
    "print('abc')"
   ]
  },
  {
   "cell_type": "markdown",
   "metadata": {},
   "source": [
    "#### 函数的一般格式描述"
   ]
  },
  {
   "cell_type": "code",
   "execution_count": null,
   "metadata": {},
   "outputs": [],
   "source": [
    "?pow"
   ]
  },
  {
   "cell_type": "code",
   "execution_count": null,
   "metadata": {},
   "outputs": [],
   "source": [
    "print(pow(30, 2, 7))    #求x的y次方再被z整除的余数"
   ]
  },
  {
   "cell_type": "code",
   "execution_count": null,
   "metadata": {},
   "outputs": [],
   "source": [
    "print(pow(30, 2))       #缺省z，则求x的y次方"
   ]
  },
  {
   "cell_type": "markdown",
   "metadata": {},
   "source": [
    "#### 对象方法的一般格式描述"
   ]
  },
  {
   "cell_type": "code",
   "execution_count": null,
   "metadata": {},
   "outputs": [],
   "source": [
    "s = '山东大学经济学院是国家培养经济人才的摇篮'\n",
    "s.find('经济')                    #在整个字符串s中查找子串sub出现的最小索引号"
   ]
  },
  {
   "cell_type": "code",
   "execution_count": null,
   "metadata": {},
   "outputs": [],
   "source": [
    "s = '山东大学经济学院是国家培养经济人才的摇篮'\n",
    "s.find('经济', 8)                #在字符串s中从索引号8开始查找子串sub出现的最小索引号"
   ]
  },
  {
   "cell_type": "code",
   "execution_count": null,
   "metadata": {},
   "outputs": [],
   "source": [
    "s = '山东大学经济学院是国家培养经济人才的摇篮'\n",
    "s.find('经济', 5, 14)     #在字符串s中从索引号8到13（14-1）中查找子串sub出现的最小索引号"
   ]
  },
  {
   "cell_type": "code",
   "execution_count": null,
   "metadata": {},
   "outputs": [],
   "source": [
    "s = '山东大学经济学院是国家培养经济人才的摇篮'\n",
    "s.find('经济', , 8)     #为什么出错？"
   ]
  },
  {
   "cell_type": "markdown",
   "metadata": {},
   "source": [
    "## 2.3 数据类型\n",
    "### 2.3.1 数据类型概述"
   ]
  },
  {
   "cell_type": "markdown",
   "metadata": {},
   "source": [
    "### 2.3.2 Python的对象"
   ]
  },
  {
   "cell_type": "code",
   "execution_count": null,
   "metadata": {},
   "outputs": [],
   "source": [
    "#（1）对象的身份\n",
    "r = 10\n",
    "id( r )         #获取对象r的身份标识"
   ]
  },
  {
   "cell_type": "code",
   "execution_count": null,
   "metadata": {},
   "outputs": [],
   "source": [
    "id(1)           #获取对象1的身份标识"
   ]
  },
  {
   "cell_type": "code",
   "execution_count": null,
   "metadata": {},
   "outputs": [],
   "source": [
    "#（2）对象的类型\n",
    "r = 10\n",
    "type( r )           #获取对象r的数据类型"
   ]
  },
  {
   "cell_type": "markdown",
   "metadata": {},
   "source": [
    "#### 数据类型测试函数type()"
   ]
  },
  {
   "cell_type": "code",
   "execution_count": null,
   "metadata": {},
   "outputs": [],
   "source": [
    "type(12)"
   ]
  },
  {
   "cell_type": "code",
   "execution_count": null,
   "metadata": {},
   "outputs": [],
   "source": [
    "type(12.0)"
   ]
  },
  {
   "cell_type": "code",
   "execution_count": null,
   "metadata": {},
   "outputs": [],
   "source": [
    "type(1+5.6j)"
   ]
  },
  {
   "cell_type": "code",
   "execution_count": null,
   "metadata": {},
   "outputs": [],
   "source": [
    "type('Shandong University')"
   ]
  },
  {
   "cell_type": "code",
   "execution_count": null,
   "metadata": {},
   "outputs": [],
   "source": []
  },
  {
   "cell_type": "code",
   "execution_count": null,
   "metadata": {},
   "outputs": [],
   "source": [
    "r = -100\n",
    "dir(r)"
   ]
  },
  {
   "cell_type": "code",
   "execution_count": null,
   "metadata": {},
   "outputs": [],
   "source": [
    "r.real            #对象r的real属性，真实数值"
   ]
  },
  {
   "cell_type": "code",
   "execution_count": null,
   "metadata": {},
   "outputs": [],
   "source": [
    "r.__abs__()      #对象r的__abs__方法，求r的绝对值"
   ]
  },
  {
   "cell_type": "code",
   "execution_count": null,
   "metadata": {},
   "outputs": [],
   "source": [
    "r.__add__(10)    #对象r的__add__方法，求r与10的和"
   ]
  },
  {
   "cell_type": "code",
   "execution_count": null,
   "metadata": {},
   "outputs": [],
   "source": [
    "#（3）对象的值\n",
    "r = 10\n",
    "r                   #获取对象r的值"
   ]
  },
  {
   "cell_type": "code",
   "execution_count": null,
   "metadata": {},
   "outputs": [],
   "source": []
  },
  {
   "cell_type": "markdown",
   "metadata": {},
   "source": [
    "### 2.3.3 数值类型\n",
    "<font size=4> \n",
    "**Python语言包括三种数字类型**\n",
    "<br>\n",
    "- 整数类型\n",
    "<br><br>\n",
    "- 浮点数类型\n",
    "<br><br>\n",
    "- 复数类型"
   ]
  },
  {
   "cell_type": "code",
   "execution_count": null,
   "metadata": {},
   "outputs": [],
   "source": []
  },
  {
   "cell_type": "markdown",
   "metadata": {},
   "source": [
    "<font size=4> \n",
    "**整数类型**  "
   ]
  },
  {
   "cell_type": "code",
   "execution_count": null,
   "metadata": {},
   "outputs": [],
   "source": [
    "x = 1010\n",
    "x"
   ]
  },
  {
   "cell_type": "code",
   "execution_count": null,
   "metadata": {},
   "outputs": [],
   "source": [
    "0x9a"
   ]
  },
  {
   "cell_type": "code",
   "execution_count": null,
   "metadata": {},
   "outputs": [],
   "source": [
    "0B1010"
   ]
  },
  {
   "cell_type": "code",
   "execution_count": null,
   "metadata": {},
   "outputs": [],
   "source": [
    "0o123"
   ]
  },
  {
   "cell_type": "markdown",
   "metadata": {},
   "source": [
    "浮点数"
   ]
  },
  {
   "cell_type": "code",
   "execution_count": null,
   "metadata": {},
   "outputs": [],
   "source": [
    "-77."
   ]
  },
  {
   "cell_type": "code",
   "execution_count": null,
   "metadata": {},
   "outputs": [],
   "source": [
    "96e4"
   ]
  },
  {
   "cell_type": "code",
   "execution_count": null,
   "metadata": {},
   "outputs": [],
   "source": [
    "type(0.0)"
   ]
  },
  {
   "cell_type": "markdown",
   "metadata": {},
   "source": [
    "<font size=4>  **复数**"
   ]
  },
  {
   "cell_type": "code",
   "execution_count": null,
   "metadata": {
    "scrolled": true
   },
   "outputs": [],
   "source": [
    "1.5+5.76j"
   ]
  },
  {
   "cell_type": "code",
   "execution_count": null,
   "metadata": {},
   "outputs": [],
   "source": [
    "1.5+1j"
   ]
  },
  {
   "cell_type": "code",
   "execution_count": null,
   "metadata": {},
   "outputs": [],
   "source": [
    "1.5+j"
   ]
  },
  {
   "cell_type": "markdown",
   "metadata": {},
   "source": [
    "#### 课堂练习：试一下，自己写几个不同类型的数以及不同进制的整数，你写对了吗？"
   ]
  },
  {
   "cell_type": "code",
   "execution_count": null,
   "metadata": {},
   "outputs": [],
   "source": []
  },
  {
   "cell_type": "markdown",
   "metadata": {},
   "source": [
    "### 2.3.3 字符类型\n",
    "<font size=4> \n",
    "**字符串的索引**"
   ]
  },
  {
   "cell_type": "code",
   "execution_count": null,
   "metadata": {},
   "outputs": [],
   "source": [
    "TempStr = '110C'\n",
    "print (TempStr[3]) \n",
    "print (TempStr[-1])"
   ]
  },
  {
   "cell_type": "code",
   "execution_count": null,
   "metadata": {},
   "outputs": [],
   "source": [
    "w = \"Hello World\"\n",
    "print(w[6])\n",
    "print(w[-5])"
   ]
  },
  {
   "cell_type": "markdown",
   "metadata": {},
   "source": [
    "**字符串的切片**\n",
    "<br>\n",
    "  - Python字符串也提供区间访问形式，采用[N:M]，表示字符串中从N到M-1（**不包含M**）的**子字符串(子串)**。<br><br>\n",
    "    - 其中：<br><br>\n",
    "      - N和M为字符串的索引序号，可混合使用正向递增序号和反向递减序号。"
   ]
  },
  {
   "cell_type": "code",
   "execution_count": null,
   "metadata": {},
   "outputs": [],
   "source": [
    "print (\"370121198508211416\"[6:14])"
   ]
  },
  {
   "cell_type": "code",
   "execution_count": null,
   "metadata": {},
   "outputs": [],
   "source": [
    "\"譬如朝露,去日苦多。\"[2:6]"
   ]
  },
  {
   "cell_type": "code",
   "execution_count": null,
   "metadata": {},
   "outputs": [],
   "source": [
    "\"譬如朝露,去日苦多。\"[5:-2]"
   ]
  },
  {
   "cell_type": "code",
   "execution_count": null,
   "metadata": {},
   "outputs": [],
   "source": []
  },
  {
   "cell_type": "markdown",
   "metadata": {},
   "source": [
    "#### 课堂练习：试一下，自己写一个字符串并提取出你想要的部分（子字符串），你写对了吗？"
   ]
  },
  {
   "cell_type": "code",
   "execution_count": null,
   "metadata": {},
   "outputs": [],
   "source": []
  },
  {
   "cell_type": "markdown",
   "metadata": {},
   "source": [
    "#### 试一试，能从你的身份证号码里提取出你的出生日期吗？"
   ]
  },
  {
   "cell_type": "code",
   "execution_count": null,
   "metadata": {},
   "outputs": [],
   "source": []
  },
  {
   "cell_type": "markdown",
   "metadata": {},
   "source": [
    "<font size=3> \n",
    "**取字符串长度函数len()**\n",
    "<br>\n",
    "  - 可以通过Python默认提供的**len()**函数获取字符串的长度<br><br>\n",
    "    - 一个中文字符和西文字符的长度都记为1。"
   ]
  },
  {
   "cell_type": "code",
   "execution_count": null,
   "metadata": {},
   "outputs": [],
   "source": [
    "len(\"譬如朝露,去日苦多。\") "
   ]
  },
  {
   "cell_type": "code",
   "execution_count": null,
   "metadata": {},
   "outputs": [],
   "source": [
    "len(\"Hello World\")"
   ]
  },
  {
   "cell_type": "code",
   "execution_count": null,
   "metadata": {},
   "outputs": [],
   "source": [
    "len(\"譬如朝露,去日苦多。\"[2:2])"
   ]
  },
  {
   "cell_type": "code",
   "execution_count": null,
   "metadata": {},
   "outputs": [],
   "source": []
  },
  {
   "cell_type": "markdown",
   "metadata": {},
   "source": [
    "**空字符串**<br>\n",
    " - \"\"或''（一对双引号或单引号）不包含任何字符的字符串，其长度为0."
   ]
  },
  {
   "cell_type": "code",
   "execution_count": null,
   "metadata": {},
   "outputs": [],
   "source": [
    "\"\""
   ]
  },
  {
   "cell_type": "code",
   "execution_count": null,
   "metadata": {},
   "outputs": [],
   "source": [
    "len(\"\")            #求空字符串的长度"
   ]
  },
  {
   "cell_type": "code",
   "execution_count": null,
   "metadata": {},
   "outputs": [],
   "source": [
    "len(\"      \")     #求空格字符串的长度"
   ]
  },
  {
   "cell_type": "code",
   "execution_count": null,
   "metadata": {},
   "outputs": [],
   "source": []
  },
  {
   "cell_type": "markdown",
   "metadata": {},
   "source": [
    "## 2.4 赋值语句及基本输入输出函数"
   ]
  },
  {
   "cell_type": "markdown",
   "metadata": {},
   "source": [
    "### 2.4.1 赋值语句\n",
    "<font size=3> \n",
    "**赋值号**<br>  \n",
    "- Python语言中，**=**表示“赋值”，称为赋值号。<br><br>\n",
    "\n",
    "**赋值语句**"
   ]
  },
  {
   "cell_type": "code",
   "execution_count": null,
   "metadata": {},
   "outputs": [],
   "source": [
    "id = \"370121198508211416 \""
   ]
  },
  {
   "cell_type": "code",
   "execution_count": null,
   "metadata": {},
   "outputs": [],
   "source": [
    "r = input('请输入圆半径：')\n",
    "print(r)"
   ]
  },
  {
   "cell_type": "markdown",
   "metadata": {},
   "source": [
    "**同步赋值语句：**同时给多个变量赋值"
   ]
  },
  {
   "cell_type": "code",
   "execution_count": null,
   "metadata": {},
   "outputs": [],
   "source": [
    "x , y , z = 1 , 2 , 3\n",
    "print (x , y , z)"
   ]
  },
  {
   "cell_type": "code",
   "execution_count": null,
   "metadata": {},
   "outputs": [],
   "source": [
    "x = ( y * z ) ** 2\n",
    "print (x)"
   ]
  },
  {
   "cell_type": "code",
   "execution_count": null,
   "metadata": {},
   "outputs": [],
   "source": []
  },
  {
   "cell_type": "markdown",
   "metadata": {},
   "source": [
    "**将变量x和y交换**<br><br>"
   ]
  },
  {
   "cell_type": "code",
   "execution_count": null,
   "metadata": {},
   "outputs": [],
   "source": [
    "x , y = 1 , 2\n",
    "print (x , y)"
   ]
  },
  {
   "cell_type": "code",
   "execution_count": null,
   "metadata": {},
   "outputs": [],
   "source": [
    "t = x\n",
    "x = y\n",
    "y = t\n",
    "print ( x , y )"
   ]
  },
  {
   "cell_type": "code",
   "execution_count": null,
   "metadata": {},
   "outputs": [],
   "source": []
  },
  {
   "cell_type": "code",
   "execution_count": null,
   "metadata": {},
   "outputs": [],
   "source": [
    "x , y = 1 , 2\n",
    "print ( x , y )"
   ]
  },
  {
   "cell_type": "code",
   "execution_count": null,
   "metadata": {},
   "outputs": [],
   "source": [
    "x , y = y , x\n",
    "print ( x , y )"
   ]
  },
  {
   "cell_type": "code",
   "execution_count": null,
   "metadata": {},
   "outputs": [],
   "source": [
    "x , y = y , x + y\n",
    "print ( x , y )"
   ]
  },
  {
   "cell_type": "code",
   "execution_count": null,
   "metadata": {},
   "outputs": [],
   "source": []
  },
  {
   "cell_type": "code",
   "execution_count": null,
   "metadata": {},
   "outputs": [],
   "source": [
    "x = 10\n",
    "print (x)"
   ]
  },
  {
   "cell_type": "code",
   "execution_count": null,
   "metadata": {},
   "outputs": [],
   "source": [
    "x = x + 1\n",
    "print (x)"
   ]
  },
  {
   "cell_type": "code",
   "execution_count": null,
   "metadata": {},
   "outputs": [],
   "source": [
    "a = b = 1\n",
    "print ( a , b )"
   ]
  },
  {
   "cell_type": "code",
   "execution_count": null,
   "metadata": {},
   "outputs": [],
   "source": []
  },
  {
   "cell_type": "markdown",
   "metadata": {},
   "source": [
    "#### 课堂练习：试一下，从键盘输入圆的半径，计算圆周长并输出（圆周率暂用3.1415926）。"
   ]
  },
  {
   "cell_type": "code",
   "execution_count": null,
   "metadata": {},
   "outputs": [],
   "source": []
  },
  {
   "cell_type": "markdown",
   "metadata": {},
   "source": [
    "### 2.4.2 input()函数——键盘输入函数"
   ]
  },
  {
   "cell_type": "code",
   "execution_count": null,
   "metadata": {},
   "outputs": [],
   "source": [
    "input(\"请输入: \")"
   ]
  },
  {
   "cell_type": "code",
   "execution_count": null,
   "metadata": {},
   "outputs": [],
   "source": [
    "input(\"请输入: \")"
   ]
  },
  {
   "cell_type": "code",
   "execution_count": null,
   "metadata": {},
   "outputs": [],
   "source": [
    "del r"
   ]
  },
  {
   "cell_type": "code",
   "execution_count": null,
   "metadata": {},
   "outputs": [],
   "source": [
    "r = input(\"请输入圆半径: \")\n",
    "print ( 3.14 * r * r )"
   ]
  },
  {
   "cell_type": "code",
   "execution_count": null,
   "metadata": {},
   "outputs": [],
   "source": [
    "type(r)"
   ]
  },
  {
   "cell_type": "code",
   "execution_count": null,
   "metadata": {},
   "outputs": [],
   "source": []
  },
  {
   "cell_type": "markdown",
   "metadata": {},
   "source": [
    "### 2.4.3 eval()函数"
   ]
  },
  {
   "cell_type": "code",
   "execution_count": null,
   "metadata": {},
   "outputs": [],
   "source": [
    "a = eval(\"1.2 + 3.4\")\n",
    "print(a)"
   ]
  },
  {
   "cell_type": "code",
   "execution_count": null,
   "metadata": {},
   "outputs": [],
   "source": [
    "print (\"1.1 + 2.2\")\n",
    "eval(\"1.1 + 2.2\")"
   ]
  },
  {
   "cell_type": "code",
   "execution_count": null,
   "metadata": {},
   "outputs": [],
   "source": [
    "w = 12\n",
    "eval(\"w + 1\")"
   ]
  },
  {
   "cell_type": "code",
   "execution_count": null,
   "metadata": {},
   "outputs": [],
   "source": [
    "r = eval(input('请输入圆的半径：'))         #键盘输入圆半径\n",
    "print('圆面积为：', 3.1415926 * r * r)      #显示计算的圆面积"
   ]
  },
  {
   "cell_type": "code",
   "execution_count": null,
   "metadata": {},
   "outputs": [],
   "source": [
    "type(r)"
   ]
  },
  {
   "cell_type": "markdown",
   "metadata": {},
   "source": [
    "<font size=4>  \n",
    "- 需注意合理使用eval()函数。<br><br>\n",
    "  - 例如，若直接使用字符串\"hello\"，则eval(\"hello\")去掉引号，将其解释为变量hello，若hello变量未事先定义，则解释器报错。<br><br>\n",
    ">\\>>>eval(\"hello\")<br><br>\n",
    ">\\>>>eval(\"'hello'\")"
   ]
  },
  {
   "cell_type": "code",
   "execution_count": null,
   "metadata": {},
   "outputs": [],
   "source": [
    "eval(\"hello\")"
   ]
  },
  {
   "cell_type": "code",
   "execution_count": null,
   "metadata": {},
   "outputs": [],
   "source": [
    "hello = 12345\n",
    "eval(\"hello\")"
   ]
  },
  {
   "cell_type": "code",
   "execution_count": null,
   "metadata": {},
   "outputs": [],
   "source": []
  },
  {
   "cell_type": "markdown",
   "metadata": {},
   "source": [
    "### 2.4.4 print()函数——输出函数\n"
   ]
  },
  {
   "cell_type": "code",
   "execution_count": null,
   "metadata": {},
   "outputs": [],
   "source": [
    "print('Hello World!')"
   ]
  },
  {
   "cell_type": "code",
   "execution_count": null,
   "metadata": {},
   "outputs": [],
   "source": [
    "r = 10\n",
    "print(r)"
   ]
  },
  {
   "cell_type": "code",
   "execution_count": null,
   "metadata": {},
   "outputs": [],
   "source": [
    "print( r * 3 )"
   ]
  },
  {
   "cell_type": "code",
   "execution_count": null,
   "metadata": {},
   "outputs": [],
   "source": [
    "#通过字符串的format()方法将待输出变量的值整理成期望输出的格式\n",
    "r = eval(input('请输入圆的半径：'))         #键盘输入圆半径\n",
    "print('半径为{}的圆面积为{:.2f}.'.format(r , 3.1415926 * r * r)"
   ]
  },
  {
   "cell_type": "code",
   "execution_count": null,
   "metadata": {},
   "outputs": [],
   "source": [
    "print ( 1 , 3)\n",
    "print ( 2 )"
   ]
  },
  {
   "cell_type": "code",
   "execution_count": null,
   "metadata": {},
   "outputs": [],
   "source": [
    "print (1,2, sep = '        ', end = ';')\n",
    "print (3)"
   ]
  },
  {
   "cell_type": "code",
   "execution_count": null,
   "metadata": {},
   "outputs": [],
   "source": [
    "print (1 , 2 , end = ',')\n",
    "print (3)"
   ]
  },
  {
   "cell_type": "code",
   "execution_count": null,
   "metadata": {},
   "outputs": [],
   "source": []
  },
  {
   "cell_type": "markdown",
   "metadata": {},
   "source": [
    "### 2.4.5 range()函数"
   ]
  },
  {
   "cell_type": "code",
   "execution_count": null,
   "metadata": {},
   "outputs": [],
   "source": [
    "range(10,100,2)    #产生(10, 12, ……, 96, 98)整数序列的range对象"
   ]
  },
  {
   "cell_type": "code",
   "execution_count": null,
   "metadata": {},
   "outputs": [],
   "source": [
    "range(10)         #产生(0,1,……,9)整数序列的range对象"
   ]
  },
  {
   "cell_type": "code",
   "execution_count": null,
   "metadata": {},
   "outputs": [],
   "source": [
    "range(10,100)     #产生(10, 11, 12, ……, 98, 99)整数序列的range对象"
   ]
  },
  {
   "cell_type": "code",
   "execution_count": null,
   "metadata": {},
   "outputs": [],
   "source": [
    "type(range(10))"
   ]
  },
  {
   "cell_type": "code",
   "execution_count": null,
   "metadata": {},
   "outputs": [],
   "source": [
    "range?"
   ]
  },
  {
   "cell_type": "code",
   "execution_count": null,
   "metadata": {},
   "outputs": [],
   "source": [
    "print(range(10))"
   ]
  },
  {
   "cell_type": "code",
   "execution_count": null,
   "metadata": {},
   "outputs": [],
   "source": [
    "list(range(10))"
   ]
  },
  {
   "cell_type": "code",
   "execution_count": null,
   "metadata": {},
   "outputs": [],
   "source": [
    "for i in range(10,100,3):\n",
    "    print(i,end = ' ')"
   ]
  },
  {
   "cell_type": "code",
   "execution_count": null,
   "metadata": {},
   "outputs": [],
   "source": [
    "for n in range(10):\n",
    "    print(n, end = ' ')\n"
   ]
  },
  {
   "cell_type": "markdown",
   "metadata": {},
   "source": [
    "#### 模仿上面的例题，试着用for循环把一个range()产生的整数序列的所有数据输出出来。"
   ]
  },
  {
   "cell_type": "code",
   "execution_count": null,
   "metadata": {},
   "outputs": [],
   "source": []
  },
  {
   "cell_type": "code",
   "execution_count": null,
   "metadata": {},
   "outputs": [],
   "source": []
  },
  {
   "cell_type": "markdown",
   "metadata": {},
   "source": [
    "## 2.5 数据的处理\n",
    "### 2.5.1 表达式"
   ]
  },
  {
   "cell_type": "code",
   "execution_count": null,
   "metadata": {},
   "outputs": [],
   "source": [
    "1024 * ( 76 - 2.3 ) / 5"
   ]
  },
  {
   "cell_type": "code",
   "execution_count": null,
   "metadata": {},
   "outputs": [],
   "source": [
    "'山东大学' + \"经济学院\""
   ]
  },
  {
   "cell_type": "code",
   "execution_count": null,
   "metadata": {},
   "outputs": [],
   "source": [
    "32 < 12"
   ]
  },
  {
   "cell_type": "code",
   "execution_count": null,
   "metadata": {},
   "outputs": [],
   "source": [
    "('山东大学' + \"经济学院\")[0:3]"
   ]
  },
  {
   "cell_type": "code",
   "execution_count": null,
   "metadata": {},
   "outputs": [],
   "source": [
    "'山东大学' + \"经济学院\"[0:3]"
   ]
  },
  {
   "cell_type": "code",
   "execution_count": null,
   "metadata": {},
   "outputs": [],
   "source": []
  },
  {
   "cell_type": "code",
   "execution_count": null,
   "metadata": {},
   "outputs": [],
   "source": [
    "import math\n",
    "r = eval(input('请输入圆的半径'))\n",
    "print( '圆的半径是：', r )\n",
    "print( '圆面积是：', math.pi * r * r )\n",
    "print( '圆面积是：', int(math.pi * r * r ))    #int()取整数函数"
   ]
  },
  {
   "cell_type": "code",
   "execution_count": null,
   "metadata": {},
   "outputs": [],
   "source": [
    "print(int(math.pi * r * r ))      #int()取整数函数"
   ]
  },
  {
   "cell_type": "code",
   "execution_count": null,
   "metadata": {},
   "outputs": [],
   "source": [
    "cj1 , cj2 , pingce = 98 , 92 , '良好'\n",
    "( cj1 + cj2 ) / 2 >= 80 and pingce == '优秀'"
   ]
  },
  {
   "cell_type": "code",
   "execution_count": null,
   "metadata": {},
   "outputs": [],
   "source": [
    "cj1 , cj2 , pingce = 76 , 82 , '优秀'\n",
    "( cj1 + cj2 ) / 2 >= 80 and pingce == '优秀'"
   ]
  },
  {
   "cell_type": "code",
   "execution_count": null,
   "metadata": {},
   "outputs": [],
   "source": [
    "cj1 , cj2 , pingce = 98 , 85 , '优秀'\n",
    "( cj1 + cj2 ) / 2 >= 80 and pingce == '优秀'"
   ]
  },
  {
   "cell_type": "markdown",
   "metadata": {},
   "source": [
    "##### 关系运算符及其表达式"
   ]
  },
  {
   "cell_type": "code",
   "execution_count": null,
   "metadata": {},
   "outputs": [],
   "source": [
    "a , b = 10 , 20\n",
    "print( a == b , a != b , a < b , a > b , a <= b , a >= b )"
   ]
  },
  {
   "cell_type": "code",
   "execution_count": null,
   "metadata": {},
   "outputs": [],
   "source": [
    "print( 'la' < 'lake')"
   ]
  },
  {
   "cell_type": "code",
   "execution_count": null,
   "metadata": {},
   "outputs": [],
   "source": [
    "print('a' > \"Z\")"
   ]
  },
  {
   "cell_type": "code",
   "execution_count": null,
   "metadata": {},
   "outputs": [],
   "source": [
    "'book'> 'booking'"
   ]
  },
  {
   "cell_type": "markdown",
   "metadata": {},
   "source": [
    "### 2.5.2 函数"
   ]
  },
  {
   "cell_type": "code",
   "execution_count": null,
   "metadata": {},
   "outputs": [],
   "source": [
    "pow(1.5 , 3.1) "
   ]
  },
  {
   "cell_type": "code",
   "execution_count": null,
   "metadata": {},
   "outputs": [],
   "source": []
  },
  {
   "cell_type": "markdown",
   "metadata": {},
   "source": [
    "函数有的参数是可以用也可以不用（缺省用默认）"
   ]
  },
  {
   "cell_type": "code",
   "execution_count": null,
   "metadata": {},
   "outputs": [],
   "source": [
    "round(3.5415926, 4)      #四舍五入保留4位小数"
   ]
  },
  {
   "cell_type": "code",
   "execution_count": null,
   "metadata": {},
   "outputs": [],
   "source": [
    "round(3.5415926)         #四舍五入保留0位小数，即小数部分四舍五入取整"
   ]
  },
  {
   "cell_type": "code",
   "execution_count": null,
   "metadata": {},
   "outputs": [],
   "source": [
    "int(3.5415926)           #舍弃小数部分取整，即小数部分不进行四舍五入取整"
   ]
  },
  {
   "cell_type": "code",
   "execution_count": null,
   "metadata": {},
   "outputs": [],
   "source": []
  },
  {
   "cell_type": "markdown",
   "metadata": {},
   "source": [
    "**函数的类别**<br>\n",
    "- 内置函数<br>\n",
    "  - 系统自带的<br><br>\n",
    "\n",
    "- 功能库的函数<br>\n",
    "  - 内置库的函数\n",
    "  - 第三方库的函数\n",
    "    - 需事先安装第三方函数库，编程时先引入库，才能调用相关的第三方函数\n",
    "   <br><br>\n",
    "   \n",
    "- 自定义函数<br>\n",
    "  - 用户自己定义的"
   ]
  },
  {
   "cell_type": "code",
   "execution_count": null,
   "metadata": {},
   "outputs": [],
   "source": [
    "#内置函数及已安装的第三方库函数的使用\n",
    "import math\n",
    "r = eval(input('请输入圆的半径：'))\n",
    "s = math.pi * r * r\n",
    "print (\"半径为\", r, \"的圆面积是：\", s)"
   ]
  },
  {
   "cell_type": "code",
   "execution_count": null,
   "metadata": {},
   "outputs": [],
   "source": [
    "r = eval(input('请输入圆的半径：'))\n",
    "s = 3.1415926 * r * r\n",
    "print (\"半径为\", r, \"的圆面积是：\", s)"
   ]
  },
  {
   "cell_type": "markdown",
   "metadata": {},
   "source": [
    "#### 第三方库的安装\n",
    "<font size=3>  \n",
    "    \n",
    "最常用且最高效的第三方库安装方式是采用pip安装<br>  \n",
    "\n",
    "- pip是Python内置命令，需要**通过操作系统的命令行执行**，执行pip -h 命令将列出pip常用的子命令<br>\n",
    "  - 注意，不要在IDLE 环境下运行pip 程序<br><br>\n",
    "- pip支持安装（install）、下载（download）、卸载（uninstall）、列表（list）、查看（list）、查找（search）等一系列安装和维护子命令。\n",
    "<br><br>\n",
    "安装一个库的命令格式如下，例如：<br><br>\n",
    "**pip install <拟安装库名>**<br><br>\n",
    "例如，安装jieba 库，pip 工具默认从网络上下载jieba库安装文件并自动安装到系统中。<br><br>\n",
    "pip install jieba"
   ]
  },
  {
   "cell_type": "code",
   "execution_count": null,
   "metadata": {},
   "outputs": [],
   "source": []
  },
  {
   "cell_type": "markdown",
   "metadata": {},
   "source": [
    "#### 自定义函数"
   ]
  },
  {
   "cell_type": "code",
   "execution_count": null,
   "metadata": {},
   "outputs": [],
   "source": [
    "def mean(numbers):\n",
    "    s = 0.0\n",
    "    for num in numbers:\n",
    "        s = s + num\n",
    "    return s / len(numbers)\n",
    "\n",
    "nums = [0,1,2,3,4,5,6,7,8,9]\n",
    "print(mean(nums))"
   ]
  },
  {
   "cell_type": "code",
   "execution_count": null,
   "metadata": {},
   "outputs": [],
   "source": [
    "nums = [98,92,92,93,94,85,96,97,98,89]\n",
    "print(mean(nums))"
   ]
  },
  {
   "cell_type": "markdown",
   "metadata": {},
   "source": [
    "#### 3、库的引入\n",
    "<font size=3> \n",
    "- Python程序会经常使用当前程序之外已有的功能代码， 这个过程叫**“引用”**。<br><br> \n",
    "- Python语言使用**import**保留字引用当前程序以外的功能库。<br><br>\n",
    "**引用功能函数库的两种方式：**<br><br>\n",
    "- **import语句**\n",
    "<br> \n",
    ">**import <库名>**\n",
    "<br><br>\n",
    "  - 用import语句引入库，程序中可调用该库名中所有函数；<br><br>\n",
    "  \n",
    "    - 下例中的第一行使用的是该语句方式引入库，import turtle<br><br>\n",
    "    \n",
    "  - 使用import语句引入库，**库中函数的调用格式**为：\n",
    "  ><**库名>.<函数名>(<函数参数表>)**\n",
    "  \n",
    "    - 下例中除第2-5行都使用这种库函数的调用方式 "
   ]
  },
  {
   "cell_type": "code",
   "execution_count": null,
   "metadata": {},
   "outputs": [],
   "source": [
    "random()"
   ]
  },
  {
   "cell_type": "code",
   "execution_count": null,
   "metadata": {},
   "outputs": [],
   "source": [
    "random.random()"
   ]
  },
  {
   "cell_type": "code",
   "execution_count": null,
   "metadata": {},
   "outputs": [],
   "source": [
    "import random\n",
    "random.random()             #产生[0,1)的随机纯小数"
   ]
  },
  {
   "cell_type": "code",
   "execution_count": null,
   "metadata": {},
   "outputs": [],
   "source": [
    "random.randint(0,10)       #产生[0,10]的随机纯整数"
   ]
  },
  {
   "cell_type": "markdown",
   "metadata": {},
   "source": [
    "<font size=3> \n",
    "- **from  import语句**\n",
    "<br> \n",
    ">**from <库名> import <函数名1,函数名2,...,函数名n>**\n",
    "<br><br> \n",
    ">或 **from <库名> import \\***     &nbsp;&nbsp;&nbsp;&nbsp;&nbsp;&nbsp;&nbsp;&nbsp;#其中，*为通配符，表示所有函数\n",
    "\n",
    "<br>\n",
    "  - 使用from import引入库，调用该库的函数时不再使用库名，即调用格式为：<br> \n",
    "  \n",
    "  >**<函数名>(<函数参数表>)**\n",
    "\n",
    "<br><br>\n",
    "**对初学者建议采用第一种库引入方式，使用<库名>.<库函数名>()调用库函数。**\n",
    "<br><br>\n",
    "**也可以需要哪些函数就引入哪些函数：**\n",
    ">from turtle import setup,penup,fd,pendown\n",
    "<br><br>\n",
    ">from turtle import pensize,pencolor,seth,circle"
   ]
  },
  {
   "cell_type": "code",
   "execution_count": null,
   "metadata": {},
   "outputs": [],
   "source": [
    "from turtle import fd, right, circle, done\n",
    "fd(-200)\n",
    "right(90)\n",
    "circle(200)\n",
    "done()"
   ]
  },
  {
   "cell_type": "code",
   "execution_count": null,
   "metadata": {},
   "outputs": [],
   "source": [
    "#产生[0, 1)随机小数及[0, 10]之间的随机整数\n",
    "from random import random, randint\n",
    "random()"
   ]
  },
  {
   "cell_type": "code",
   "execution_count": null,
   "metadata": {},
   "outputs": [],
   "source": [
    "randint(0, 10)"
   ]
  },
  {
   "cell_type": "code",
   "execution_count": null,
   "metadata": {},
   "outputs": [],
   "source": [
    "#例 电话号码抽奖\n",
    "phone_no_list = [13805311231,15012353211,13005329876,13103571234,18690129856,13678812157,\n",
    "                13753125678,13909126789,18012345678,13105398765]\n",
    "from random import randint\n",
    "n = randint(0,9)          #产生一个[0,9]的随机整数\n",
    "print(n, phone_no_list[n])"
   ]
  },
  {
   "cell_type": "code",
   "execution_count": null,
   "metadata": {},
   "outputs": [],
   "source": [
    "n = randint(0,9)          #产生一个[0,9]的随机整数\n",
    "print(n, phone_no_list[n])"
   ]
  },
  {
   "cell_type": "code",
   "execution_count": null,
   "metadata": {},
   "outputs": [],
   "source": []
  },
  {
   "cell_type": "markdown",
   "metadata": {},
   "source": [
    "### 2.5.3 对象的方法"
   ]
  },
  {
   "cell_type": "code",
   "execution_count": null,
   "metadata": {},
   "outputs": [],
   "source": [
    "dir('I am a teacher')"
   ]
  },
  {
   "cell_type": "code",
   "execution_count": null,
   "metadata": {},
   "outputs": [],
   "source": [
    "a = 'I am a teacher'.__class__\n",
    "a"
   ]
  },
  {
   "cell_type": "code",
   "execution_count": null,
   "metadata": {},
   "outputs": [],
   "source": [
    "type(a)"
   ]
  },
  {
   "cell_type": "code",
   "execution_count": null,
   "metadata": {},
   "outputs": [],
   "source": [
    "'I am a teacher'.split()"
   ]
  },
  {
   "cell_type": "markdown",
   "metadata": {},
   "source": [
    "#### 对象的属性"
   ]
  },
  {
   "cell_type": "code",
   "execution_count": null,
   "metadata": {},
   "outputs": [],
   "source": [
    "import requests  \n",
    "r = requests.get('http://www.sdu.edu.cn/')"
   ]
  },
  {
   "cell_type": "code",
   "execution_count": null,
   "metadata": {},
   "outputs": [],
   "source": [
    "type(r)"
   ]
  },
  {
   "cell_type": "code",
   "execution_count": null,
   "metadata": {},
   "outputs": [],
   "source": [
    "r.text"
   ]
  },
  {
   "cell_type": "code",
   "execution_count": null,
   "metadata": {},
   "outputs": [],
   "source": [
    "r.encoding"
   ]
  },
  {
   "cell_type": "code",
   "execution_count": null,
   "metadata": {
    "scrolled": false
   },
   "outputs": [],
   "source": [
    "r.encoding = 'utf-8'\n",
    "r.text"
   ]
  },
  {
   "cell_type": "code",
   "execution_count": null,
   "metadata": {},
   "outputs": [],
   "source": [
    "dir(r)"
   ]
  },
  {
   "cell_type": "markdown",
   "metadata": {},
   "source": [
    "#### 对象的方法"
   ]
  },
  {
   "cell_type": "code",
   "execution_count": null,
   "metadata": {},
   "outputs": [],
   "source": [
    "f = 'hello world！'       #定义一个字符串"
   ]
  },
  {
   "cell_type": "code",
   "execution_count": null,
   "metadata": {},
   "outputs": [],
   "source": [
    "type(f)"
   ]
  },
  {
   "cell_type": "code",
   "execution_count": null,
   "metadata": {},
   "outputs": [],
   "source": [
    "f.upper()                 #字符串转换为大写的方法，不改变f"
   ]
  },
  {
   "cell_type": "code",
   "execution_count": null,
   "metadata": {},
   "outputs": [],
   "source": [
    "#数字、字符串、元组等自身均不可变，所以应用其方法结果不改变原对象的值\n",
    "f"
   ]
  },
  {
   "cell_type": "code",
   "execution_count": null,
   "metadata": {},
   "outputs": [],
   "source": []
  },
  {
   "cell_type": "code",
   "execution_count": null,
   "metadata": {},
   "outputs": [],
   "source": [
    "s = '山东大学经济学院是国家培养经济人才的摇篮'\n",
    "s.find('经济', 8)                 #在字符串s里从序号8开始查找'经济'出现的起始位置"
   ]
  },
  {
   "cell_type": "code",
   "execution_count": null,
   "metadata": {},
   "outputs": [],
   "source": [
    "#对象支持更新操作，则应用其一些方法的结果会改变它的值，如列表对象\n",
    "names = ['Tencent' , 'Ali' , 'Jingdo' , 'Pingduoduo']\n",
    "names.sort()\n",
    "names"
   ]
  },
  {
   "cell_type": "code",
   "execution_count": null,
   "metadata": {},
   "outputs": [],
   "source": [
    "names = ['Tencent' , 'Ali' , 'Jingdo' , 'Pingduoduo']\n",
    "names.__len__()"
   ]
  },
  {
   "cell_type": "code",
   "execution_count": null,
   "metadata": {},
   "outputs": [],
   "source": [
    "names"
   ]
  },
  {
   "cell_type": "markdown",
   "metadata": {},
   "source": [
    "#### 函数的使用"
   ]
  },
  {
   "cell_type": "code",
   "execution_count": null,
   "metadata": {},
   "outputs": [],
   "source": [
    "f = 'hello world！'      #定义一个字符串\n",
    "len(f)                   #求字符串长度的函数len()"
   ]
  },
  {
   "cell_type": "code",
   "execution_count": null,
   "metadata": {},
   "outputs": [],
   "source": []
  },
  {
   "cell_type": "markdown",
   "metadata": {},
   "source": [
    "### 2.6 基本控制语句"
   ]
  },
  {
   "cell_type": "markdown",
   "metadata": {},
   "source": [
    "<font size=3> \n",
    "Python程序还包括一些控制语句，例如，**分支语句**和**循环语句**等。<br><br>\n",
    "    详细的分支和循环内容将在第4章介绍。<br><br> "
   ]
  },
  {
   "cell_type": "markdown",
   "metadata": {},
   "source": [
    "### 2.6.1 分支语句\n",
    "<font size=3> \n",
    "- 是控制程序运行的一类重要语句，其作用是根据判断条件选择程序执行路径。<br><br>\n",
    "- 分支语句包括：**单分支**、**二分支**和**多分支**。<br><br>\n",
    "- 使用方式如下：\n",
    "<br><br>\n",
    "if <条件1>:\n",
    "<br><br>\n",
    "&nbsp;&nbsp;&nbsp;&nbsp;<语句块1>\n",
    "<br><br>\n",
    "elif <条件2>:\n",
    "<br><br>\n",
    "&nbsp;&nbsp;&nbsp;&nbsp;<语句块2>\n",
    "<br><br>\n",
    "&nbsp;&nbsp;&nbsp;&nbsp;... \n",
    "<br><br>\n",
    "else: \n",
    "<br><br>\n",
    "&nbsp;&nbsp;&nbsp;&nbsp;<语句块N>\n",
    "\n",
    "<br>\n",
    "  - 其中：if、elif、else都是保留字，它们最后都用冒号（:）\n",
    "\n",
    "<br>\n",
    "  - 将在4.2节中详细介绍分支语句"
   ]
  },
  {
   "cell_type": "code",
   "execution_count": null,
   "metadata": {},
   "outputs": [],
   "source": [
    "#单分支语句例题\n",
    "#求一个实数的绝对值\n",
    "num = eval(input(\"请输入一个实数：\"))\n",
    "if num < 0 :\n",
    "    num = -num\n",
    "print('绝对值是：', num)"
   ]
  },
  {
   "cell_type": "code",
   "execution_count": null,
   "metadata": {},
   "outputs": [],
   "source": [
    "#求一个实数的绝对值\n",
    "num = eval(input(\"请输入一个实数：\"))\n",
    "if num < 0 :\n",
    "    num = -num\n",
    "print('绝对值是：', num)"
   ]
  },
  {
   "cell_type": "code",
   "execution_count": null,
   "metadata": {},
   "outputs": [],
   "source": [
    "#单分支语句例题\n",
    "#判断输入的密码正确\n",
    "pw = input(\"请输入密码（6位数字）：\")\n",
    "if pw == '123123' :\n",
    "    print(\"密码正确\")"
   ]
  },
  {
   "cell_type": "code",
   "execution_count": null,
   "metadata": {},
   "outputs": [],
   "source": [
    "#判断输入的密码正确\n",
    "pw = input(\"请输入密码（6位数字）：\")\n",
    "if pw == '123123' :\n",
    "    print(\"密码正确\")"
   ]
  },
  {
   "cell_type": "code",
   "execution_count": null,
   "metadata": {},
   "outputs": [],
   "source": [
    "#双分支语句例题\n",
    "#判断输入的密码是否正确\n",
    "pw = input(\"请输入密码（6位数字）：\")\n",
    "if pw == '123123' :\n",
    "    print(\"密码正确\")\n",
    "else:\n",
    "    print(\"密码错误，请重新操作\")"
   ]
  },
  {
   "cell_type": "code",
   "execution_count": null,
   "metadata": {},
   "outputs": [],
   "source": [
    "#判断输入的密码是否正确\n",
    "pw = input(\"请输入密码（6位数字）：\")\n",
    "if pw == '123123' :\n",
    "    print(\"密码正确\")\n",
    "else:\n",
    "    print(\"密码错误，请重新操作\")"
   ]
  },
  {
   "cell_type": "code",
   "execution_count": null,
   "metadata": {},
   "outputs": [],
   "source": [
    "#将百分成绩转换为合格或不合格\n",
    "num = eval(input(\"请输入百分成绩（0~100）：\"))\n",
    "if num >= 60 :\n",
    "    print(\"合格\")\n",
    "else:\n",
    "    print(\"不合格\")"
   ]
  },
  {
   "cell_type": "code",
   "execution_count": null,
   "metadata": {},
   "outputs": [],
   "source": [
    "#将百分成绩转换为合格或不合格\n",
    "num = eval(input(\"请输入百分成绩（0~100）：\"))\n",
    "if num >= 60 :\n",
    "    print(\"合格\")\n",
    "else:\n",
    "    print(\"不合格\")"
   ]
  },
  {
   "cell_type": "code",
   "execution_count": null,
   "metadata": {},
   "outputs": [],
   "source": [
    "#多分支语句例题\n",
    "#将五级计分法成绩转换为百分计分法成绩\n",
    "g = input(\"请输入五级计分法成绩（优秀、良好、中、及格、不及格）：\")\n",
    "if g == '优秀' :\n",
    "    print('{}的百分计分法成绩为{}'.format(g, 95))\n",
    "elif g == '良好' :\n",
    "    print('{}的百分计分法成绩为{}'.format(g, 85))\n",
    "elif g == '中' :\n",
    "    print('{}的百分计分法成绩为{}'.format(g, 75))\n",
    "elif g == '及格' :\n",
    "    print('{}的百分计分法成绩为{}'.format(g, 65))\n",
    "else:\n",
    "    print('{}的百分计分法成绩为{}'.format(g, 0))"
   ]
  },
  {
   "cell_type": "markdown",
   "metadata": {},
   "source": [
    "### 2.6.2 循环语句\n",
    "<font size=3> \n",
    "- 也是控制程序运行的一类重要语句，它的作用是根据循环判断条件或遍历计数确定一段程序是否再次执行一次或多次。<br><br>\n",
    "- 循环语句包括**遍历循环**和**条件循环**。\n",
    "<br><br>"
   ]
  },
  {
   "cell_type": "markdown",
   "metadata": {},
   "source": [
    "<font size=3> \n",
    "**条件循环（while循环）**\n",
    "<br><br>\n",
    "- 条件循环的格式\n",
    "<br><br>\n",
    "**while <循环条件>:<br><br>\n",
    "&nbsp;&nbsp;&nbsp;&nbsp;<循环语句块>&nbsp;&nbsp;&nbsp;&nbsp;#循环体\n",
    "<br><br><语句块2><br><br>**\n",
    "- 基本过程：\n",
    "<br><br>\n",
    "  - 当<循环条件>为真（True）时，执行<循环语句块>中的语句，这些语句通过缩进表达与while语句的所属关系。\n",
    "  <br><br>\n",
    "  - 当<循环条件>为假（False）时，结束循环语句的执行，继续执行循环语句后的<语句块2>的语句。\n",
    "  <br><br>\n",
    "\n",
    "\n",
    "  - 注：**not in**是保留字，判定不在集合里为真，与**in**判断相反。"
   ]
  },
  {
   "cell_type": "code",
   "execution_count": null,
   "metadata": {},
   "outputs": [],
   "source": [
    "#例题：输出密码，密码正确显示“密码正确”并结束程序，否则，继续输入密码直到正确为止。\n",
    "pw = ''                                   #设置空字符串为密码初始值 \n",
    "while pw != '123123':\n",
    "    pw = input('请输入密码（6位数字）：')\n",
    "print('密码正确，成功了！')"
   ]
  },
  {
   "cell_type": "code",
   "execution_count": null,
   "metadata": {},
   "outputs": [],
   "source": [
    "#欧几里德算法--求最大公约数\n",
    "num1 = eval(input(\"请输入自然数a的值：\"))\n",
    "num2 = eval(input(\"请输入自然数b的值：\"))\n",
    "a , b = num1 ,num2\n",
    "r = a % b                    #a被b整除，取余数\n",
    "print('{}除以{}的余数为{}'.format(a, b, r))\n",
    "while r != 0:               #余数r不等于零\n",
    "    a = b                   #除数b赋给a作为被除数\n",
    "    b = r                   #余数r赋给b作为除数\n",
    "    r = a % b               #a被b整除，取余数\n",
    "    print('{}除以{}的余数为{}'.format(a, b, r))\n",
    "print (\"{}和{}的最大公约数是{}\".format(num1 , num2 , b))"
   ]
  },
  {
   "cell_type": "code",
   "execution_count": null,
   "metadata": {},
   "outputs": [],
   "source": [
    "#例题：用while循环输出10到100(不含)步长为3的全部整数\n",
    "n = 10                              #设置你的初始值为10\n",
    "while n < 100:                     #循环条件为n<100(不超过100）\n",
    "    print( n , end = ' ' )         #print为什么要使用end参数\n",
    "    n = n + 3                      #n自己加上3，相当于步长为3"
   ]
  },
  {
   "cell_type": "code",
   "execution_count": null,
   "metadata": {},
   "outputs": [],
   "source": []
  },
  {
   "cell_type": "markdown",
   "metadata": {},
   "source": [
    "<font size=3> \n",
    "**遍历循环（for循环）**\n",
    "<br><br>\n",
    "- 过程如下：\n",
    "<br><br>\n",
    "for <变量名> in <可遍历的数据>:\n",
    "<br><br>\n",
    "&nbsp;&nbsp;&nbsp;&nbsp;<表达式1>或<代码块>\n",
    "<br><br>\n",
    "- 例如，使某一段程序连续运行10次\n",
    "<br><br>\n",
    "for i in range (10):\n",
    "<br><br>\n",
    "&nbsp;&nbsp;&nbsp;&nbsp;<源代码块>\n",
    "<br><br>\n",
    "其中，**range(n)函数将产生[0，1，。。。，n-1]自然数序列**，变量i每次循环遍历range(10)中的0，1，。。。，9，起到控制循环次数（10次）的作用。\n",
    "<br><br>\n",
    "\n",
    "**循环语句将在4.3节详细介绍**"
   ]
  },
  {
   "cell_type": "code",
   "execution_count": null,
   "metadata": {},
   "outputs": [],
   "source": [
    "#输出10到100(不含)步长为3的全部整数\n",
    "for n in range(10 ,100 , 3):\n",
    "    print (n , end=' ')"
   ]
  },
  {
   "cell_type": "code",
   "execution_count": null,
   "metadata": {},
   "outputs": [],
   "source": [
    "for i in 'asdsfsdfd':\n",
    "    print (i, end = ',')"
   ]
  },
  {
   "cell_type": "code",
   "execution_count": null,
   "metadata": {},
   "outputs": [],
   "source": [
    "#例如：计算绩点成绩\n",
    "scores = [(98 , 2) , (95 , 3) , (92 , 3) , (96 , 4) , (89 , 2)]\n",
    "g = t = 0\n",
    "for i in scores:\n",
    "    g = g + i[0] * i[1]\n",
    "    t = t + i[1]\n",
    "print(scores , '的绩点成绩为：' , g / t)"
   ]
  },
  {
   "cell_type": "code",
   "execution_count": null,
   "metadata": {},
   "outputs": [],
   "source": [
    "#绘制五角星（15行命令）\n",
    "import turtle                   #引入turtle库，从turtle库中调用所有的函数。其中，*是通配符，表示所有函数\n",
    "\n",
    "turtle.color('red','red')       #设置颜色：第一个函数参数red表示设置pencolor为红色，第二个函数参数red表示设置fillcolor为红色\n",
    "turtle.begin_fill()             #开始填充\n",
    "\n",
    "#绘制第1条线\n",
    "turtle.forward(200)         #向小海龟当前行进方向前进200单位距离\n",
    "turtle.right(144)            #让小海龟右转144度\n",
    "\n",
    "#绘制第2条线\n",
    "turtle.forward(200)         #向小海龟当前行进方向前进200单位距离\n",
    "turtle.right(144)            #让小海龟右转144度\n",
    "\n",
    "#绘制第3条线\n",
    "turtle.forward(200)         #向小海龟当前行进方向前进200单位距离\n",
    "turtle.right(144)            #让小海龟右转144度\n",
    "\n",
    "#绘制第4条线\n",
    "turtle.forward(200)         #向小海龟当前行进方向前进200单位距离\n",
    "turtle.right(144)            #让小海龟右转144度\n",
    "\n",
    "#绘制第5条线\n",
    "turtle.forward(200)         #向小海龟当前行进方向前进200单位距离\n",
    "turtle.right(144)            #让小海龟右转144度\n",
    "\n",
    "turtle.end_fill()               #结束填充\n",
    "turtle.done()                   #绘制结束"
   ]
  },
  {
   "cell_type": "code",
   "execution_count": null,
   "metadata": {},
   "outputs": [],
   "source": [
    "#绘制五角星（8行命令）\n",
    "import turtle                   #引入turtle库，从turtle库中调用所有的函数。其中，*是通配符，表示所有函数\n",
    "\n",
    "turtle.color('red','red')       #设置颜色：第一个函数参数red表示设置pencolor为红色，第二个函数参数red表示设置fillcolor为红色\n",
    "turtle.begin_fill()             #开始填充\n",
    "\n",
    "for n in range(5):\n",
    "    turtle.forward(200)         #向小海龟当前行进方向前进200单位距离\n",
    "    turtle.right(144)            #让小海龟右转144度\n",
    "    \n",
    "turtle.end_fill()               #结束填充\n",
    "turtle.done()                   #绘制结束"
   ]
  },
  {
   "cell_type": "code",
   "execution_count": null,
   "metadata": {},
   "outputs": [],
   "source": [
    "#使用循环绘制五角星(8行命令)\n",
    "import turtle                   #引入turtle库，从turtle库中调用所有的函数。其中，*是通配符，表示所有函数\n",
    "turtle.color('red','red')       #设置颜色：第一个函数参数red表示设置pencolor为红色，第二个函数参数red表示设置fillcolor为黄色\n",
    "turtle.begin_fill()             #开始填充\n",
    "for n in range(36):              #for循环，n每次取range（5）产生的整数序列（0,1,2,3,4）\n",
    "    turtle.forward(200)         #向小海龟当前行进方向前进200单位距离\n",
    "    turtle.right(170)           #让小海龟右转144度\n",
    "turtle.end_fill()               #结束填充\n",
    "turtle.done()                   #绘制结束,启动事件循环"
   ]
  },
  {
   "cell_type": "markdown",
   "metadata": {},
   "source": [
    "## 2.7 Python源程序的书写风格\n",
    "<font size=4>  \n",
    "    **Python之禅**<br><br>"
   ]
  },
  {
   "cell_type": "code",
   "execution_count": null,
   "metadata": {
    "scrolled": true
   },
   "outputs": [],
   "source": [
    "import this"
   ]
  },
  {
   "cell_type": "code",
   "execution_count": null,
   "metadata": {},
   "outputs": [],
   "source": []
  },
  {
   "cell_type": "markdown",
   "metadata": {},
   "source": [
    "### Python之禅 by Tim Peters\n",
    "<font size=4>\n",
    "<br>\n",
    " \n",
    "优美胜于丑陋（Python 以编写优美的代码为目标）<br><br>\n",
    "明了胜于晦涩（优美的代码应当是明了的，命名规范，风格相似）<br><br>\n",
    "简洁胜于复杂（优美的代码应当是简洁的，不要有复杂的内部实现）<br><br>\n",
    "复杂胜于凌乱（如果复杂不可避免，那代码间也不能有难懂的关系，要保持接口简洁)<br><br>\n",
    "扁平胜于嵌套（优美的代码应当是扁平的，不能有太多的嵌套）<br><br>\n",
    "间隔胜于紧凑（优美的代码有适当的间隔，不要奢望一行代码解决问题）<br><br>\n",
    "可读性很重要（优美的代码是可读的）<br><br>\n",
    "即便假借特例的实用性之名，也不可违背这些规则（这些规则至高无上）<br><br>\n",
    "不要包容所有错误，除非你确定需要这样做（精准地捕获异常，不写 except:pass 风格的代码）<br><br>\n",
    "当存在多种可能，不要尝试去猜测<br><br>\n",
    "而是尽量找一种，最好是唯一一种明显的解决方案（如果不确定，就用穷举法）<br><br>\n",
    "虽然这并不容易，因为你不是 Python 之父（这里的 Dutch 是指 Guido ）<br><br>\n",
    "做也许好过不做，但不假思索就动手还不如不做（动手之前要细思量）<br><br>\n",
    "如果你无法向人描述你的方案，那肯定不是一个好方案；反之亦然（方案测评标准）<br><br>\n",
    "命名空间是一种绝妙的理念，我们应当多加利用（倡导与号召）"
   ]
  },
  {
   "cell_type": "code",
   "execution_count": null,
   "metadata": {},
   "outputs": [],
   "source": []
  },
  {
   "cell_type": "markdown",
   "metadata": {},
   "source": [
    "## 2.8 实例解析——倒背如流\n",
    "<font size=3>  \n",
    "下面将编写一段程序，获得用户输入，采用倒叙方式将输入内容输出出来。该程序的输入和输出实例如下：<br>  \n",
    "    \n",
    ">输入：To be or not to be, that’s a question. ——莎士比亚<br><br>\n",
    ">输出：亚比士莎—— .noitseuq a s’taht ,eb ot ton ro eb oT"
   ]
  },
  {
   "cell_type": "code",
   "execution_count": null,
   "metadata": {},
   "outputs": [],
   "source": [
    "#实例2.1\n",
    "s = input(\"请输入一段文本：\")   #从键盘输入一字符串并赋值给变量s\n",
    "i = len(s) - 1                  #求s的长度减1并赋值给变量i（why？——字符串s最后一个字符的序号）\n",
    "while i >= 0 :                  #循环条件为满足i>=0(why?——字符串s第一个字符的序号为0)，否则结束循环。在本程序中也就整个程序结束\n",
    "    print(s[i], end=\"\")         #满足循环条件，输出字符串s序号为i的字符，后续输出空一个格不换行\n",
    "    i = i - 1                   #i减1并赋值给i"
   ]
  },
  {
   "cell_type": "code",
   "execution_count": null,
   "metadata": {},
   "outputs": [],
   "source": [
    "#实例2.2，本程序是用字符串逆序的方式输出\n",
    "s = input(\"请输入一段文本：\")\n",
    "i = -1\n",
    "while i >= -1 * len(s):\n",
    "    print(s[i], end=\"\")\n",
    "    i = i - 1"
   ]
  },
  {
   "cell_type": "code",
   "execution_count": null,
   "metadata": {},
   "outputs": [],
   "source": [
    "#实例2.3  用for循环\n",
    "s = input(\"请输入一段文本：\")   #从键盘输入一字符串并赋值给变量s\n",
    "for i in range(1, len(s)+1):  \n",
    "    print(s[len(s) - i], end=\"\") "
   ]
  },
  {
   "cell_type": "code",
   "execution_count": null,
   "metadata": {},
   "outputs": [],
   "source": [
    "#实例2.3  用for循环\n",
    "s = input(\"请输入一段文本：\")   #从键盘输入一字符串并赋值给变量s\n",
    "for i in range(1, len(s)+1):  \n",
    "    print(s[ -1 * i], end=\"\") "
   ]
  },
  {
   "cell_type": "code",
   "execution_count": null,
   "metadata": {},
   "outputs": [],
   "source": [
    "#实例2.4  用for循环\n",
    "s = input(\"请输入一段文本：\")   #从键盘输入一字符串并赋值给变量s\n",
    "for i in range(-1, -1 * (len(s)+1), -1):  \n",
    "    print(s[i], end=\"\") "
   ]
  },
  {
   "cell_type": "code",
   "execution_count": null,
   "metadata": {},
   "outputs": [],
   "source": [
    "#实例2.5  用字符串的切片操作\n",
    "s = input(\"请输入一段文本：\")   #从键盘输入一字符串并赋值给变量s\n",
    "print(s[::-1]) "
   ]
  },
  {
   "cell_type": "code",
   "execution_count": null,
   "metadata": {},
   "outputs": [],
   "source": [
    "print(\"END\")"
   ]
  },
  {
   "cell_type": "code",
   "execution_count": null,
   "metadata": {},
   "outputs": [],
   "source": []
  }
 ],
 "metadata": {
  "kernelspec": {
   "display_name": "Python 3 (ipykernel)",
   "language": "python",
   "name": "python3"
  },
  "language_info": {
   "codemirror_mode": {
    "name": "ipython",
    "version": 3
   },
   "file_extension": ".py",
   "mimetype": "text/x-python",
   "name": "python",
   "nbconvert_exporter": "python",
   "pygments_lexer": "ipython3",
   "version": "3.7.13"
  }
 },
 "nbformat": 4,
 "nbformat_minor": 2
}
