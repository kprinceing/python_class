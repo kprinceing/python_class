{
 "cells": [
  {
   "cell_type": "markdown",
   "metadata": {},
   "source": [
    "# 第9章 Python标准库概览"
   ]
  },
  {
   "cell_type": "markdown",
   "metadata": {},
   "source": [
    "## 9.1 turtle库概述"
   ]
  },
  {
   "cell_type": "markdown",
   "metadata": {},
   "source": [
    "例9.1 绘制五角星"
   ]
  },
  {
   "cell_type": "code",
   "execution_count": null,
   "metadata": {},
   "outputs": [],
   "source": [
    "#绘制五角星（15行命令）\n",
    "import turtle                   #引入turtle库，从turtle库中调用所有的函数。其中，*是通配符，表示所有函数\n",
    "\n",
    "turtle.color('red','red')       #设置颜色：第一个函数参数red表示设置pencolor为红色，第二个函数参数red表示设置fillcolor为红色\n",
    "turtle.begin_fill()             #开始填充\n",
    "\n",
    "#绘制第1条线\n",
    "turtle.forward(200)         #向小海龟当前行进方向前进200单位距离\n",
    "turtle.right(144)            #让小海龟右转144度\n",
    "\n",
    "#绘制第2条线\n",
    "turtle.forward(200)         #向小海龟当前行进方向前进200单位距离\n",
    "turtle.right(144)            #让小海龟右转144度\n",
    "\n",
    "#绘制第3条线\n",
    "turtle.forward(200)         #向小海龟当前行进方向前进200单位距离\n",
    "turtle.right(144)            #让小海龟右转144度\n",
    "\n",
    "#绘制第4条线\n",
    "turtle.forward(200)         #向小海龟当前行进方向前进200单位距离\n",
    "turtle.right(144)            #让小海龟右转144度\n",
    "\n",
    "#绘制第5条线\n",
    "turtle.forward(200)         #向小海龟当前行进方向前进200单位距离\n",
    "turtle.right(144)            #让小海龟右转144度\n",
    "\n",
    "turtle.end_fill()               #结束填充\n",
    "turtle.done()                   #绘制结束"
   ]
  },
  {
   "cell_type": "code",
   "execution_count": null,
   "metadata": {},
   "outputs": [],
   "source": []
  },
  {
   "cell_type": "code",
   "execution_count": null,
   "metadata": {},
   "outputs": [],
   "source": [
    "#使用循环绘制五角星(8行命令)\n",
    "import turtle                   #引入turtle库，从turtle库中调用所有的函数。其中，*是通配符，表示所有函数\n",
    "#turtle.speed(1)\n",
    "turtle.color('red','yellow')       #设置颜色：第一个函数参数red表示设置pencolor为红色，第二个函数参数red表示设置fillcolor为黄色\n",
    "turtle.begin_fill()             #开始填充\n",
    "for n in range(5):              #for循环，n每次取range（5）产生的整数序列（0,1,2,3,4）\n",
    "    turtle.forward(200)         #向小海龟当前行进方向前进200单位距离\n",
    "    turtle.right(144)           #让小海龟右转144度\n",
    "turtle.end_fill()               #结束填充\n",
    "turtle.done()                   #绘制结束,启动事件循环"
   ]
  },
  {
   "cell_type": "markdown",
   "metadata": {},
   "source": [
    "例题9.1 五角星的绘制（细化）"
   ]
  },
  {
   "cell_type": "code",
   "execution_count": null,
   "metadata": {},
   "outputs": [],
   "source": [
    "import turtle                         #引入turtle库\n",
    "turtle.setup(300 , 300)          #设置画布大小300*300像素\n",
    "turtle.shape(name='turtle')    #设置画笔的形状为“海龟”\n",
    "turtle.color('red', 'red')          #设置背景及前景颜色为红色\n",
    "turtle.penup()                        #抬笔\n",
    "turtle.goto(-100 , 0)              #移动画笔至（-100，0）位置\n",
    "turtle.pendown()                   #落笔\n",
    "turtle.begin_fill()                  #开始填充颜色\n",
    "for i in range(5):                   #循环，i分别取0、1、2、3、4，控制循环执行5次\n",
    "    turtle.fd(200)                    #向前移动（爬行）200\n",
    "    turtle.rt(144)                    #右旋144度\n",
    "turtle.end_fill()                    #结束填充颜色\n",
    "turtle.done()                         #结束绘图"
   ]
  },
  {
   "cell_type": "markdown",
   "metadata": {},
   "source": [
    "### 9.1.2 库的引入及其函数的使用方式"
   ]
  },
  {
   "cell_type": "markdown",
   "metadata": {},
   "source": [
    "没有引入库，则使用库函数将出错"
   ]
  },
  {
   "cell_type": "code",
   "execution_count": null,
   "metadata": {},
   "outputs": [],
   "source": [
    "turtle.circle(100)"
   ]
  },
  {
   "cell_type": "code",
   "execution_count": null,
   "metadata": {},
   "outputs": [],
   "source": [
    "circle(100)"
   ]
  },
  {
   "cell_type": "markdown",
   "metadata": {},
   "source": [
    "使用import保留字对turtle库的引用有如下三种方式:<br><br>\n",
    "第一种，**import turtle**，则对turtle库中函数调用采用**turtle.<函数名>()**形式。"
   ]
  },
  {
   "cell_type": "code",
   "execution_count": null,
   "metadata": {},
   "outputs": [],
   "source": [
    "import turtle\n",
    "turtle.circle(100)"
   ]
  },
  {
   "cell_type": "markdown",
   "metadata": {},
   "source": [
    "启动事件循环，必须是乌龟图形程序中的最后一句（使图案画完了不会直接关闭绘图窗口）<br><br>\n",
    "**turtle.done()**<br><br>\n",
    "或<br><br>\n",
    "    **turtle.mainloop()**"
   ]
  },
  {
   "cell_type": "code",
   "execution_count": null,
   "metadata": {},
   "outputs": [],
   "source": [
    "import turtle\n",
    "turtle.circle(100)\n",
    "turtle.done()"
   ]
  },
  {
   "cell_type": "code",
   "execution_count": null,
   "metadata": {},
   "outputs": [],
   "source": [
    "import  turtle\n",
    "help(turtle)"
   ]
  },
  {
   "cell_type": "markdown",
   "metadata": {},
   "source": [
    "第二种:\n",
    ">from turtle import *\n",
    "    \n",
    "则对turtle库中函数调用直接采用**<函数名>()**形式，不在使用turtle.作为前导。"
   ]
  },
  {
   "cell_type": "code",
   "execution_count": null,
   "metadata": {},
   "outputs": [],
   "source": [
    "from turtle import circle, done\n",
    "circle(100)\n",
    "done()"
   ]
  },
  {
   "cell_type": "code",
   "execution_count": null,
   "metadata": {},
   "outputs": [],
   "source": [
    "#绘制五角星\n",
    "from turtle import *           #引入turtle库\n",
    "setup(300 , 300)          #设置画布大小300*300像素\n",
    "shape(name='turtle')    #设置画笔的形状为“海龟”\n",
    "color('red', 'red')          #设置背景及前景颜色为红色\n",
    "penup()                        #抬笔\n",
    "goto(-100 , 0)              #移动画笔至（-100，0）位置\n",
    "pendown()                   #落笔\n",
    "begin_fill()                  #开始填充颜色\n",
    "for i in range(5):                   #循环，i分别取0、1、2、3、4，控制循环执行5次\n",
    "    fd(200)                    #向前移动（爬行）200\n",
    "    rt(144)                    #右旋144度\n",
    "end_fill()                    #结束填充颜色\n",
    "done()                         #结束绘图"
   ]
  },
  {
   "cell_type": "markdown",
   "metadata": {},
   "source": [
    "第三种:\n",
    ">import turtle as t\n",
    "    \n",
    "则对turtle库中函数调用采用更简洁的**t.<函数名>()**形式，保留字as的作用是将turtle库给予别名t。"
   ]
  },
  {
   "cell_type": "code",
   "execution_count": null,
   "metadata": {},
   "outputs": [],
   "source": [
    "import turtle as t\n",
    "t.circle(100)\n",
    "t.done()"
   ]
  },
  {
   "cell_type": "code",
   "execution_count": null,
   "metadata": {},
   "outputs": [],
   "source": [
    "#绘制五角星\n",
    "import turtle  as t               #引入turtle库并设置别名为t\n",
    "t.setup(300 , 300)          #设置画布大小300*300像素\n",
    "t.shape(name='turtle')    #设置画笔的形状为“海龟”\n",
    "t.color('red', 'red')          #设置背景及前景颜色为红色\n",
    "t.penup()                        #抬笔\n",
    "t.goto(-100 , 0)              #移动画笔至（-100，0）位置\n",
    "t.pendown()                   #落笔\n",
    "t.begin_fill()                  #开始填充颜色\n",
    "for i in range(5):                   #循环，i分别取0、1、2、3、4，控制循环执行5次\n",
    "    t.fd(200)                    #向前移动（爬行）200\n",
    "    t.rt(144)                    #右旋144度\n",
    "t.end_fill()                    #结束填充颜色\n",
    "t.done()                         #结束绘图"
   ]
  },
  {
   "cell_type": "markdown",
   "metadata": {},
   "source": [
    "对初学者建议采用第一种或第三种库引入方式，使用**<库名>.<库函数名>()**或**<库别名>.<库函数名>()**调用库函数。"
   ]
  },
  {
   "cell_type": "markdown",
   "metadata": {},
   "source": [
    "## 9.2 turtle库与基本绘图"
   ]
  },
  {
   "cell_type": "markdown",
   "metadata": {},
   "source": [
    "<font size=3>  \n",
    "turtle库包含100多个功能函数，主要包括三类:<br>\n",
    "- 窗体函数<br><br>\n",
    "- 画笔状态函数<br><br>\n",
    "- 画笔运动函数<br><br>\n",
    "    \n",
    "使用turtle库，同学们头脑里需要有这样一个概念：\n",
    "<br>\n",
    "-\t想象一个小乌龟，在一个横轴为x、纵轴为y的坐标系原点，(0,0)位置开始\n",
    "<br><br>\n",
    "-\t它根据一组函数指令的控制，在这个平面坐标系中“前进”、“后退”、“旋转”等移动，从而在它爬行的路径上绘制了图形\n"
   ]
  },
  {
   "cell_type": "code",
   "execution_count": null,
   "metadata": {},
   "outputs": [],
   "source": []
  },
  {
   "cell_type": "markdown",
   "metadata": {},
   "source": [
    "### 9.1.1 turtle绘图窗体布局"
   ]
  },
  {
   "cell_type": "markdown",
   "metadata": {},
   "source": [
    "turtle中的**turtle.setup()**函数用于启动一个图形窗口，它有四个参数，其格式如下：\n",
    "<br><br>\n",
    ">turtle.setup(width, height, startx, starty)\n",
    "\n",
    "<br>  \n",
    "- 其功能：启动绘图窗口的宽度和高度以及起始位置\n",
    "<br><br>\n",
    "- 参数如下：\n",
    "<br><br>\n",
    "  - width：窗口宽度，为整数值，单位为像素；若其值为小数，则表示窗口宽度与屏幕的比例；\n",
    "  <br><br>\n",
    "  - height：窗口高度，为整数值，单位为像素；若其值为小数，则表示窗口高度与屏幕的比例；\n",
    "  <br><br>\n",
    "  - startx：窗口左侧与屏幕左侧的像素距离；若值是None，则窗口位于屏幕水平中央；\n",
    "  <br><br>\n",
    "  - starty：窗口顶部与屏幕顶部的像素距离；若值是None，则窗口位于屏幕垂直中央。\n",
    "<br><br>\n",
    "    - 显示屏幕也是一个坐标系，该坐标系以左上角为原点，向左和向下分别是x轴和y轴。"
   ]
  },
  {
   "cell_type": "code",
   "execution_count": null,
   "metadata": {},
   "outputs": [],
   "source": [
    "import turtle\n",
    "turtle.setup(800,400,0,0)\n",
    "turtle.mainloop()"
   ]
  },
  {
   "cell_type": "code",
   "execution_count": null,
   "metadata": {},
   "outputs": [],
   "source": []
  },
  {
   "cell_type": "markdown",
   "metadata": {},
   "source": [
    "import turtle\n",
    "turtle.setup(650, 350, 200, 200)"
   ]
  },
  {
   "cell_type": "code",
   "execution_count": null,
   "metadata": {},
   "outputs": [],
   "source": [
    "import turtle\n",
    "turtle.setup(650, 350, 200, 200)\n",
    "turtle.done()"
   ]
  },
  {
   "cell_type": "code",
   "execution_count": null,
   "metadata": {},
   "outputs": [],
   "source": []
  },
  {
   "cell_type": "markdown",
   "metadata": {},
   "source": [
    "### 9.2.2 turtle的画笔状态控制"
   ]
  },
  {
   "cell_type": "markdown",
   "metadata": {},
   "source": [
    "#### 1、画笔的粗细"
   ]
  },
  {
   "cell_type": "code",
   "execution_count": null,
   "metadata": {},
   "outputs": [],
   "source": [
    "import turtle                  #引入turtle绘图库\n",
    "turtle.setup(500 , 300)        #设置绘图窗体大小\n",
    "turtle.fd(200)                 #向前200\n",
    "turtle.rt(144)                 #右旋144度\n",
    "turtle.fd(200)                 #向前200\n",
    "turtle.rt(144)                 #右旋144度"
   ]
  },
  {
   "cell_type": "code",
   "execution_count": null,
   "metadata": {},
   "outputs": [],
   "source": [
    "import turtle                  #引入turtle绘图库\n",
    "turtle.setup(500 , 300)        #设置绘图窗体大小\n",
    "turtle.width(10)               #设置画笔宽度为10\n",
    "turtle.fd(200)                 #向前200\n",
    "turtle.rt(144)                 #右旋144度\n",
    "turtle.fd(200)                 #向前200\n",
    "turtle.rt(144)                 #右旋144度"
   ]
  },
  {
   "cell_type": "code",
   "execution_count": null,
   "metadata": {},
   "outputs": [],
   "source": [
    "import turtle                  #引入turtle绘图库\n",
    "turtle.setup(500 , 300)        #设置绘图窗体大小\n",
    "turtle.width(10)               #设置画笔宽度为10\n",
    "turtle.fd(200)                 #向前200\n",
    "turtle.rt(144)                 #右旋144度\n",
    "turtle.width(2)                #设置画笔宽度为2\n",
    "turtle.fd(200)                 #向前200\n",
    "turtle.rt(144)                 #右旋144度"
   ]
  },
  {
   "cell_type": "markdown",
   "metadata": {},
   "source": [
    "#### 2、绘图的颜色"
   ]
  },
  {
   "cell_type": "markdown",
   "metadata": {},
   "source": [
    "##### （2）画笔的颜色设置"
   ]
  },
  {
   "cell_type": "code",
   "execution_count": null,
   "metadata": {},
   "outputs": [],
   "source": [
    "import turtle                  #引入turtle绘图库\n",
    "turtle.setup(500 , 300)        #设置绘图窗体大小\n",
    "turtle.pencolor('red')         #用字符串设置画笔颜色\n",
    "turtle.fd(200)                 #向前200\n",
    "turtle.rt(144)                 #右旋144度\n",
    "turtle.pencolor(1, 0.84, 0)    #用小数值设置画笔颜色，默认小数模式\n",
    "turtle.fd(200)                 #向前200\n",
    "turtle.rt(144)                 #右旋144度\n",
    "turtle.colormode(255)          #设置颜色表达模式是为整数模式\n",
    "turtle.pencolor(160, 32, 240)  #用整数值设置画笔颜色\n",
    "turtle.fd(200)                 #向前200\n",
    "turtle.rt(144)                 #右旋144度\n",
    "turtle.pencolor('#0000ff')     #用6位十六进制值设置画笔颜色\n",
    "turtle.fd(200)                 #向前200\n",
    "turtle.rt(144)                 #右旋144度\n",
    "turtle.done()"
   ]
  },
  {
   "cell_type": "markdown",
   "metadata": {},
   "source": [
    "##### （3）画笔及填充颜色的设置"
   ]
  },
  {
   "cell_type": "code",
   "execution_count": null,
   "metadata": {},
   "outputs": [],
   "source": [
    "#绘制五角星\n",
    "import turtle  as t               #引入turtle库并设置别名为t\n",
    "t.color('red', 'red')          #设置背景及前景颜色为红色\n",
    "t.begin_fill()                  #开始填充颜色\n",
    "for i in range(5):                   #循环，i分别取0、1、2、3、4，控制循环执行5次\n",
    "    t.fd(200)                    #向前移动（爬行）200\n",
    "    t.rt(144)                    #右旋144度\n",
    "t.end_fill()                    #结束填充颜色\n",
    "t.done()                         #结束绘图"
   ]
  },
  {
   "cell_type": "code",
   "execution_count": null,
   "metadata": {},
   "outputs": [],
   "source": []
  },
  {
   "cell_type": "code",
   "execution_count": null,
   "metadata": {},
   "outputs": [],
   "source": [
    "#绘制五角星\n",
    "import turtle  as t               #引入turtle库并设置别名为t\n",
    "t.fillcolor( 'gold')              #设置背景及前景颜色为金色\n",
    "t.begin_fill()                  #开始填充颜色\n",
    "for i in range(5):                   #循环，i分别取0、1、2、3、4，控制循环执行5次\n",
    "    t.fd(200)                    #向前移动（爬行）200\n",
    "    t.rt(144)                    #右旋144度\n",
    "t.end_fill()                    #结束填充颜色\n",
    "t.done()                         #结束绘图"
   ]
  },
  {
   "cell_type": "code",
   "execution_count": null,
   "metadata": {},
   "outputs": [],
   "source": []
  },
  {
   "cell_type": "code",
   "execution_count": null,
   "metadata": {},
   "outputs": [],
   "source": [
    "import turtle\n",
    "turtle.getshapes()"
   ]
  },
  {
   "cell_type": "code",
   "execution_count": null,
   "metadata": {},
   "outputs": [],
   "source": []
  },
  {
   "cell_type": "code",
   "execution_count": null,
   "metadata": {},
   "outputs": [],
   "source": []
  },
  {
   "cell_type": "code",
   "execution_count": null,
   "metadata": {},
   "outputs": [],
   "source": [
    "from turtle import *         #引入turtle库\n",
    "setup(300 , 300)             #设置画布大小300*300像素\n",
    "hideturtle()                 #隐藏画笔的形状\n",
    "color('red', 'red')          #设置背景及前景颜色为红色\n",
    "penup()                      #抬笔\n",
    "goto(-100 , 0)              #移动画笔至（-100，0）位置\n",
    "pendown()                   #落笔\n",
    "begin_fill()                #开始填充颜色\n",
    "for i in range(5):          #循环，i分别取0、1、2、3、4，控制循环执行5次\n",
    "    fd(200)                 #向前移动（爬行）200\n",
    "    rt(144)                 #右旋144度\n",
    "end_fill()                  #结束填充颜色\n",
    "done()                      #结束绘图"
   ]
  },
  {
   "cell_type": "code",
   "execution_count": null,
   "metadata": {},
   "outputs": [],
   "source": []
  },
  {
   "cell_type": "code",
   "execution_count": null,
   "metadata": {},
   "outputs": [],
   "source": [
    "from turtle import *         #引入turtle库\n",
    "setup(300 , 300)             #设置画布大小300*300像素\n",
    "hideturtle()                 #隐藏画笔的形状\n",
    "color('red', 'red')          #设置背景及前景颜色为红色\n",
    "penup()                      #抬笔\n",
    "goto(-100 , 0)              #移动画笔至（-100，0）位置\n",
    "pendown()                   #落笔\n",
    "begin_fill()                #开始填充颜色\n",
    "for i in range(5):          #循环，i分别取0、1、2、3、4，控制循环执行5次\n",
    "    fd(200)                 #向前移动（爬行）200\n",
    "    rt(144)                 #右旋144度\n",
    "end_fill()                  #结束填充颜色\n",
    "penup()\n",
    "goto(0 , 90)\n",
    "pendown()\n",
    "write('五角星', align = 'center', font = ('HGZY_CNKI', 16 ,\"normal\"))\n",
    "done()                      #结束绘图"
   ]
  },
  {
   "cell_type": "code",
   "execution_count": null,
   "metadata": {},
   "outputs": [],
   "source": [
    "write?"
   ]
  },
  {
   "cell_type": "code",
   "execution_count": null,
   "metadata": {},
   "outputs": [],
   "source": [
    "import turtle\n",
    "turtle.goto( 100, 100)\n",
    "turtle.goto( 100,-100)\n",
    "turtle.goto(-100,-100)\n",
    "turtle.goto(-100, 100)\n",
    "turtle.goto(0,0)\n",
    "turtle.done()"
   ]
  },
  {
   "cell_type": "code",
   "execution_count": null,
   "metadata": {},
   "outputs": [],
   "source": []
  },
  {
   "cell_type": "code",
   "execution_count": null,
   "metadata": {},
   "outputs": [],
   "source": [
    "import turtle\n",
    "turtle.shape(name = 'turtle')\n",
    "turtle.seth(45)"
   ]
  },
  {
   "cell_type": "code",
   "execution_count": null,
   "metadata": {},
   "outputs": [],
   "source": [
    "turtle.seth(-135)\n",
    "turtle.done()"
   ]
  },
  {
   "cell_type": "code",
   "execution_count": null,
   "metadata": {},
   "outputs": [],
   "source": []
  },
  {
   "cell_type": "markdown",
   "metadata": {},
   "source": [
    "### 9.1.5 turtle角度坐标体系"
   ]
  },
  {
   "cell_type": "code",
   "execution_count": null,
   "metadata": {},
   "outputs": [],
   "source": [
    "import turtle\n",
    "turtle.left(45)\n",
    "turtle.fd(150)\n",
    "turtle.right(135)\n",
    "turtle.fd(300)\n",
    "turtle.left(135)\n",
    "turtle.fd(150)\n",
    "turtle.done()"
   ]
  },
  {
   "cell_type": "code",
   "execution_count": null,
   "metadata": {},
   "outputs": [],
   "source": []
  },
  {
   "cell_type": "code",
   "execution_count": null,
   "metadata": {},
   "outputs": [],
   "source": [
    "from turtle import *         #引入turtle库\n",
    "setup(300 , 300)             #设置画布大小300*300像素\n",
    "hideturtle()                 #隐藏画笔的形状\n",
    "color('red', 'red')          #设置背景及前景颜色为红色\n",
    "penup()                      #抬笔\n",
    "fd(-100)                     #后退-100位置\n",
    "pendown()                   #落笔\n",
    "begin_fill()                #开始填充颜色\n",
    "for i in range(5):          #循环，i分别取0、1、2、3、4，控制循环执行5次\n",
    "    fd(200)                 #向前移动（爬行）200\n",
    "    rt(144)                 #右旋144度\n",
    "end_fill()                  #结束填充颜色\n",
    "penup()\n",
    "goto(0 , 90)\n",
    "pendown()\n",
    "write('五角星', align = 'center', font = ('HGZY_CNKI', 16 ,\"normal\"))\n",
    "done()                      #结束绘图"
   ]
  },
  {
   "cell_type": "code",
   "execution_count": null,
   "metadata": {},
   "outputs": [],
   "source": [
    "circle?"
   ]
  },
  {
   "cell_type": "code",
   "execution_count": null,
   "metadata": {},
   "outputs": [],
   "source": [
    "import turtle\n",
    "turtle.setup(300,500)\n",
    "turtle.shape(name = 'turtle')\n",
    "turtle.circle(100)\n",
    "turtle.done()"
   ]
  },
  {
   "cell_type": "code",
   "execution_count": null,
   "metadata": {},
   "outputs": [],
   "source": [
    "import turtle\n",
    "turtle.shape(name = 'turtle')\n",
    "turtle.circle(100 , 90)\n",
    "turtle.done()"
   ]
  },
  {
   "cell_type": "code",
   "execution_count": null,
   "metadata": {},
   "outputs": [],
   "source": [
    "import turtle\n",
    "turtle.setup(300,500)\n",
    "turtle.shape(name = 'turtle')\n",
    "turtle.circle(100 , steps = 6)\n",
    "turtle.done()"
   ]
  },
  {
   "cell_type": "code",
   "execution_count": null,
   "metadata": {},
   "outputs": [],
   "source": [
    "import turtle\n",
    "turtle.setup(300,500)\n",
    "turtle.shape(name = 'turtle')\n",
    "turtle.circle(100, 180, steps=6)\n",
    "turtle.done()"
   ]
  },
  {
   "cell_type": "code",
   "execution_count": null,
   "metadata": {},
   "outputs": [],
   "source": []
  },
  {
   "cell_type": "markdown",
   "metadata": {},
   "source": [
    "### 9.2.8 综合例题：绘制五星红旗"
   ]
  },
  {
   "cell_type": "code",
   "execution_count": 11,
   "metadata": {},
   "outputs": [],
   "source": [
    "#Github地址\n",
    "#https://github.com/xuejing80/learnpython/blob/master/Code/Turtle/Turtle04.py\n",
    "'''\n",
    "功能：绘制五星红旗\n",
    "重点：函数的定义与调用、三角函数的使用、角度和弧度的换算\n",
    "作者：薛景\n",
    "最后修改于：2019/05/30\n",
    "'''\n",
    "\n",
    "#（1）引入相关的库\n",
    "import turtle as t\n",
    "import math         #需用三角函数计算绘制各五角星的起始角度\n",
    "\n",
    "#（2）画五星红旗的背景，把整个国旗看作600*400大小，左上角的坐标就是(-300,200)\n",
    "t.up()\n",
    "t.color(\"red\")\n",
    "t.goto(-300,200)\n",
    "t.down()\n",
    "t.begin_fill()\n",
    "for i in range(2):\n",
    "    t.forward(600)\n",
    "    t.right(90)\n",
    "    t.forward(400)\n",
    "    t.right(90)\n",
    "t.end_fill()\n",
    "\n",
    "#（3）绘制大五角星\n",
    "#绘制一个以(x,y)为圆心、以r为半径的五角星\n",
    "x , y = -200, 100\n",
    "r = 60\n",
    "color = 'yellow'\n",
    "heading = 90                  #计算五角星中心正上方的角度\n",
    "\n",
    "t.up()\n",
    "t.goto(x, y)                  #移动到五角星的中心点位置\n",
    "t.color(color)                #设置画笔及填充颜色\n",
    "t.setheading(heading)         #设置画笔朝向的绝对角度\n",
    "t.forward(r)                  #相对移动距离r\n",
    "t.down()\n",
    "t.left(180-18)                #相对当前角度左旋（180-18）度\n",
    "\n",
    "#根据半径r计算五角星每个边的长度edge,math.radians(x)函数将角度 x 从度数转换为弧度\n",
    "edge=r * math.sin(math.radians(36))/math.sin(math.radians(126))\n",
    "t.begin_fill()\n",
    "for i in range(5):\n",
    "    t.forward(edge)\n",
    "    t.right(72)\n",
    "    t.forward(edge)\n",
    "    t.left(144)\n",
    "t.end_fill()\n",
    "\n",
    "#（4）绘制第一个小五角星\n",
    "#绘制一个以(x,y)为圆心、以r为半径的五角星\n",
    "#最难的就是求每个小星星的朝向，利用小星星和大星星中心点构成的直角三角形可求\n",
    "# math函数库中反正切函数结果的单位是弧度，务必先用degrees先换算成角度\n",
    "# 又因为反正切函数的值域在(-90,90)上，所有记得要加180度哟\n",
    "x , y = -100, 160\n",
    "r = 20\n",
    "color = 'yellow'\n",
    "heading = math.degrees(math.atan(-60/-100))+180   #计算五角星中心正上方的角度\n",
    "\n",
    "t.up()\n",
    "t.goto(x, y)\n",
    "t.color(color)\n",
    "t.setheading(heading)\n",
    "edge=r * math.sin(math.radians(36))/math.sin(math.radians(126))\n",
    "t.forward(r)\n",
    "t.down()\n",
    "\n",
    "t.left(180-18)\n",
    "t.begin_fill()\n",
    "for i in range(5):\n",
    "    t.forward(edge)\n",
    "    t.right(72)\n",
    "    t.forward(edge)\n",
    "    t.left(144)\n",
    "t.end_fill()\n",
    "\n",
    "#（5）绘制第二个小五角星\n",
    "#绘制一个以(x,y)为圆心、以r为半径的五角星\n",
    "x , y = -60, 120\n",
    "r = 20\n",
    "color = 'yellow'\n",
    "heading = math.degrees(math.atan(-20/-140))+180\n",
    "\n",
    "t.up()\n",
    "t.goto(x, y)\n",
    "t.color(color)\n",
    "t.setheading(heading)\n",
    "edge=r * math.sin(math.radians(36))/math.sin(math.radians(126))\n",
    "t.forward(r)\n",
    "t.down()\n",
    "\n",
    "t.left(180-18)\n",
    "t.begin_fill()\n",
    "for i in range(5):\n",
    "    t.forward(edge)\n",
    "    t.right(72)\n",
    "    t.forward(edge)\n",
    "    t.left(144)\n",
    "t.end_fill()\n",
    "\n",
    "#（6）绘制第三个小五角星\n",
    "#绘制一个以(x,y)为圆心、以r为半径的五角星\n",
    "x , y = -60, 60\n",
    "r = 20\n",
    "color = 'yellow'\n",
    "heading = math.degrees(math.atan(40/-140))+180\n",
    "\n",
    "t.up()\n",
    "t.goto(x, y)                  #移动到五角星的中心点位置\n",
    "t.color(color)                #设置画笔及填充颜色\n",
    "t.setheading(heading)         #设置画笔朝向的绝对角度\n",
    "t.forward(r)                  #相对移动距离r\n",
    "t.down()\n",
    "t.left(180-18)                #相对当前角度左旋（180-18）度\n",
    "\n",
    "#根据半径r计算五角星每个边的长度edge\n",
    "edge=r * math.sin(math.radians(36))/math.sin(math.radians(126))\n",
    "t.begin_fill()\n",
    "for i in range(5):\n",
    "    t.forward(edge)\n",
    "    t.right(72)\n",
    "    t.forward(edge)\n",
    "    t.left(144)\n",
    "t.end_fill()\n",
    "\n",
    "#（7）绘制第四个小五角星\n",
    "#绘制一个以(x,y)为圆心、以r为半径的五角星\n",
    "x , y = -100, 20\n",
    "r = 20\n",
    "color = 'yellow'\n",
    "heading = math.degrees(math.atan(80/-100))+180\n",
    "\n",
    "t.up()\n",
    "t.goto(x, y)\n",
    "t.color(color)\n",
    "t.setheading(heading)\n",
    "edge=r * math.sin(math.radians(36))/math.sin(math.radians(126))\n",
    "t.forward(r)\n",
    "t.down()\n",
    "\n",
    "t.left(180-18)\n",
    "t.begin_fill()\n",
    "for i in range(5):\n",
    "    t.forward(edge)\n",
    "    t.right(72)\n",
    "    t.forward(edge)\n",
    "    t.left(144)\n",
    "t.end_fill()\n",
    "\n",
    "t.up()\n",
    "t.goto(0, 210)\n",
    "t.down()\n",
    "t.color('red')\n",
    "t.write('祖 国 万 岁', align = 'center', font = ('HGZY_CNKI', 32 ,\"normal\"))\n",
    "\n",
    "#（8）隐藏画笔形状并结束程序\n",
    "t.hideturtle()\n",
    "t.done()"
   ]
  },
  {
   "cell_type": "code",
   "execution_count": null,
   "metadata": {},
   "outputs": [],
   "source": []
  },
  {
   "cell_type": "markdown",
   "metadata": {},
   "source": [
    "例 9.2 使用turtle库绘制Python蟒蛇"
   ]
  },
  {
   "cell_type": "code",
   "execution_count": null,
   "metadata": {},
   "outputs": [],
   "source": [
    "import turtle\n",
    "turtle.setup(650, 350, 200, 200)\n",
    "turtle.pensize(25)\n",
    "turtle.pencolor(\"purple\")\n",
    "turtle.penup()\n",
    "turtle.fd(-250)\n",
    "turtle.pendown()\n",
    "turtle.seth(-40)\n",
    "for i in range(4):\n",
    "    turtle.circle(40, 80)\n",
    "    turtle.circle(-40, 80)\n",
    "turtle.circle(40, 80/2)\n",
    "turtle.fd(40)\n",
    "turtle.circle(16, 180)\n",
    "turtle.fd(40 * 2/3)\n",
    "turtle.done()"
   ]
  },
  {
   "cell_type": "code",
   "execution_count": null,
   "metadata": {},
   "outputs": [],
   "source": []
  },
  {
   "cell_type": "code",
   "execution_count": null,
   "metadata": {},
   "outputs": [],
   "source": []
  },
  {
   "cell_type": "code",
   "execution_count": null,
   "metadata": {},
   "outputs": [],
   "source": [
    "import turtle\n",
    "turtle.circle(50,steps=4) # 内切四边形;\n",
    "turtle.done()"
   ]
  },
  {
   "cell_type": "code",
   "execution_count": null,
   "metadata": {},
   "outputs": [],
   "source": [
    "import turtle\n",
    "turtle.pensize(3)\n",
    "\n",
    "#绘制三角形\n",
    "turtle.penup()\n",
    "turtle.goto(-200,-50)\n",
    "turtle.pendown()\n",
    "turtle.begin_fill()\n",
    "turtle.color('red')\n",
    "turtle.circle(40, steps = 3)    #绘制半径为40的圆的内切三角形\n",
    "turtle.end_fill()\n",
    "turtle.done()"
   ]
  },
  {
   "cell_type": "code",
   "execution_count": null,
   "metadata": {},
   "outputs": [],
   "source": [
    "import turtle\n",
    "turtle.pensize(3)\n",
    "\n",
    "#绘制长度为40的三角形\n",
    "turtle.penup()\n",
    "turtle.goto(-100,-50)\n",
    "turtle.pendown()\n",
    "turtle.begin_fill()\n",
    "turtle.color('red')\n",
    "for i in range(3):\n",
    "    turtle.fd(40)       #划线40\n",
    "    turtle.left(120)    #左转120度\n",
    "turtle.end_fill()\n",
    "turtle.done()"
   ]
  },
  {
   "cell_type": "code",
   "execution_count": null,
   "metadata": {},
   "outputs": [],
   "source": [
    "#绘制太阳花（三十六角星）\n",
    "from turtle import *    #引入turtle绘图库的所有函数\n",
    "color('red', 'yellow')     #设置背景及前景颜色\n",
    "begin_fill()            #开始填充颜色\n",
    "for i in range(36):      #循环，i分别取0、1、2、......、35\n",
    "    fd(200)                 #向前200\n",
    "    rt(170)                 #右旋144度\n",
    "end_fill()              #结束填充颜色\n",
    "done()                  #结束绘图"
   ]
  },
  {
   "cell_type": "code",
   "execution_count": null,
   "metadata": {},
   "outputs": [],
   "source": [
    "pos?"
   ]
  },
  {
   "cell_type": "code",
   "execution_count": null,
   "metadata": {},
   "outputs": [],
   "source": [
    "#绘制四边形\n",
    "import turtle\n",
    "turtle.penup()\n",
    "turtle.goto(-100,-50)\n",
    "turtle.pendown()\n",
    "turtle.begin_fill()\n",
    "turtle.color('blue')\n",
    "turtle.circle(40, steps = 4)\n",
    "turtle.end_fill()\n",
    "\n",
    "turtle.done()   #绘制结束"
   ]
  },
  {
   "cell_type": "code",
   "execution_count": null,
   "metadata": {},
   "outputs": [],
   "source": []
  },
  {
   "cell_type": "code",
   "execution_count": null,
   "metadata": {},
   "outputs": [],
   "source": [
    "#举一反三\n",
    "import turtle\n",
    "turtle.setup(650, 350, 200, 200)\n",
    "turtle.pensize(25)\n",
    "colors = ['blue', 'green','red',  \"purple\",'yellow','black']\n",
    "turtle.penup()\n",
    "turtle.fd(-250)\n",
    "turtle.pendown()\n",
    "turtle.seth(-40)\n",
    "for i in range(6):\n",
    "    turtle.pencolor(colors[i])\n",
    "    turtle.circle(40, 80)\n",
    "    turtle.circle(-40, 80)\n",
    "turtle.circle(40, 80/2)\n",
    "turtle.fd(40)\n",
    "turtle.circle(16, 180)\n",
    "turtle.fd(40 * 2/3)\n",
    "turtle.done()"
   ]
  },
  {
   "cell_type": "code",
   "execution_count": null,
   "metadata": {},
   "outputs": [],
   "source": []
  },
  {
   "cell_type": "markdown",
   "metadata": {
    "collapsed": true
   },
   "source": [
    "## 9.3 random库概述\n",
    "**使用random库主要目的是生成随机数。**<br><br>\n",
    "这个库提供了不同类型的随机数函数，其中最基本的函数是**random.random()**，它生成一个**[0.0, 1.0)**之间的随机小数，所有其他随机函数都是基于这个函数扩展而来。"
   ]
  },
  {
   "cell_type": "code",
   "execution_count": null,
   "metadata": {},
   "outputs": [],
   "source": [
    "from random import *\n",
    "random()"
   ]
  },
  {
   "cell_type": "code",
   "execution_count": null,
   "metadata": {},
   "outputs": [],
   "source": [
    "random()"
   ]
  },
  {
   "cell_type": "code",
   "execution_count": null,
   "metadata": {},
   "outputs": [],
   "source": []
  },
  {
   "cell_type": "markdown",
   "metadata": {},
   "source": [
    "## 9.4 random库与随机数运用"
   ]
  },
  {
   "cell_type": "markdown",
   "metadata": {},
   "source": [
    "<font size=4>  \n",
    "random库使用**random.seed(a)**对后续产生的 随机数设置种子a。"
   ]
  },
  {
   "cell_type": "code",
   "execution_count": null,
   "metadata": {},
   "outputs": [],
   "source": [
    "from random import *\n",
    "seed(100)\n",
    "random()"
   ]
  },
  {
   "cell_type": "code",
   "execution_count": null,
   "metadata": {},
   "outputs": [],
   "source": [
    "random()"
   ]
  },
  {
   "cell_type": "code",
   "execution_count": null,
   "metadata": {},
   "outputs": [],
   "source": [
    "#再次设置相同的种子，则后续产生的随机数相同\n",
    "seed(100)\n",
    "random()"
   ]
  },
  {
   "cell_type": "code",
   "execution_count": null,
   "metadata": {},
   "outputs": [],
   "source": [
    "random()"
   ]
  },
  {
   "cell_type": "code",
   "execution_count": null,
   "metadata": {},
   "outputs": [],
   "source": [
    "seed(10)\n",
    "random()"
   ]
  },
  {
   "cell_type": "code",
   "execution_count": null,
   "metadata": {},
   "outputs": [],
   "source": [
    "?seed"
   ]
  },
  {
   "cell_type": "code",
   "execution_count": null,
   "metadata": {},
   "outputs": [],
   "source": [
    "from random import *\n",
    "for i in range(10):\n",
    "    print(randint(1,100), end= ' ')"
   ]
  },
  {
   "cell_type": "code",
   "execution_count": null,
   "metadata": {},
   "outputs": [],
   "source": [
    "for i in range(10):\n",
    "    print(uniform(1, 100), end= ' ')"
   ]
  },
  {
   "cell_type": "code",
   "execution_count": null,
   "metadata": {},
   "outputs": [],
   "source": [
    "for i in range(10):\n",
    "    print(randrange(1,100, 2), end= ' ')"
   ]
  },
  {
   "cell_type": "code",
   "execution_count": null,
   "metadata": {},
   "outputs": [],
   "source": [
    "for n in range(1, 100, 2):\n",
    "    print(n, end = ' ')"
   ]
  },
  {
   "cell_type": "code",
   "execution_count": null,
   "metadata": {},
   "outputs": [],
   "source": [
    "for i in range(10):\n",
    "    print(randrange(1, 100, 2), end= ' ')"
   ]
  },
  {
   "cell_type": "code",
   "execution_count": null,
   "metadata": {
    "scrolled": true
   },
   "outputs": [],
   "source": [
    "for i in range(5):\n",
    "    print(choice('1234567890') , end= ' ')"
   ]
  },
  {
   "cell_type": "code",
   "execution_count": null,
   "metadata": {},
   "outputs": [],
   "source": [
    "sample('1234567890' , 5)"
   ]
  },
  {
   "cell_type": "code",
   "execution_count": null,
   "metadata": {},
   "outputs": [],
   "source": []
  },
  {
   "cell_type": "markdown",
   "metadata": {},
   "source": [
    "设置随机数种子的好处是可以准确复现随机数序列，用于重复程序的运行轨迹。<br>\n",
    "- 对于仅使用随机数但不需要复现的情形，可以不用设置随机数种子。<br><br>\n",
    "- 如果程序没有显式设置随机数种子，则使用随机数生成函数前，将默认以当前系统的运行时间为种子产生随机序列。\n"
   ]
  },
  {
   "cell_type": "code",
   "execution_count": null,
   "metadata": {},
   "outputs": [],
   "source": [
    "import random\n",
    "a = [1 ,2, 3, 4, 5, 6, 7, 8, 9, 10, 11, 12]\n",
    "random.shuffle(a)\n",
    "a"
   ]
  },
  {
   "cell_type": "code",
   "execution_count": null,
   "metadata": {},
   "outputs": [],
   "source": [
    "b = random.sample(a, 3)\n",
    "b"
   ]
  },
  {
   "cell_type": "code",
   "execution_count": null,
   "metadata": {},
   "outputs": [],
   "source": [
    "random.shuffle('1234567890')"
   ]
  },
  {
   "cell_type": "code",
   "execution_count": null,
   "metadata": {},
   "outputs": [],
   "source": [
    "random.shuffle(tuple('1234567890'))"
   ]
  },
  {
   "cell_type": "code",
   "execution_count": null,
   "metadata": {},
   "outputs": [],
   "source": [
    "x = list('1234567890')\n",
    "random.shuffle(x)\n",
    "print(x)"
   ]
  },
  {
   "cell_type": "code",
   "execution_count": null,
   "metadata": {},
   "outputs": [],
   "source": [
    "''.join(x)"
   ]
  },
  {
   "cell_type": "code",
   "execution_count": null,
   "metadata": {},
   "outputs": [],
   "source": [
    "#例 电话号码抽奖\n",
    "import random\n",
    "phone_no_list = ['13805311231','15012353211','13005329876','13103571234','18690129856',\n",
    "                 '13678812157','13753125678','13909126789','18012345678','13105398765']\n",
    "print(random.choice(phone_no_list))    #随机选取列表的一个元素"
   ]
  },
  {
   "cell_type": "code",
   "execution_count": null,
   "metadata": {},
   "outputs": [],
   "source": [
    "random.sample(phone_no_list, 3)"
   ]
  },
  {
   "cell_type": "code",
   "execution_count": null,
   "metadata": {},
   "outputs": [],
   "source": [
    "?random.shuffle()"
   ]
  },
  {
   "cell_type": "code",
   "execution_count": null,
   "metadata": {},
   "outputs": [],
   "source": [
    "#例 电话号码抽奖\n",
    "import random\n",
    "phone_no_list = [13805311231,15012353211,13005329876,13103571234,18690129856,13678812157,\n",
    "                13753125678,13909126789,18012345678,13105398765]\n",
    "random.shuffle(phone_no_list)             #打乱顺序\n",
    "print(random.choice(phone_no_list))       #任意选一个"
   ]
  },
  {
   "cell_type": "code",
   "execution_count": null,
   "metadata": {},
   "outputs": [],
   "source": [
    "#生成4位的验证码--方法1\n",
    "from random import *\n",
    "y = ''\n",
    "p = '1234567890abcdefghijklmnopqrstuvwxyzABCDEFGHIJKLMNOPQRSTUVWXYZ'\n",
    "for i in range(4):\n",
    "    y = y + choice(p)\n",
    "print(y)"
   ]
  },
  {
   "cell_type": "code",
   "execution_count": null,
   "metadata": {},
   "outputs": [],
   "source": [
    "#生成4位的验证码--方法2\n",
    "from random import *\n",
    "p = '1234567890abcdefghijklmnopqrstuvwxyzABCDEFGHIJKLMNOPQRSTUVWXYZ'\n",
    "sample(p,4)"
   ]
  },
  {
   "cell_type": "code",
   "execution_count": null,
   "metadata": {},
   "outputs": [],
   "source": [
    "''.join(sample(p,4))"
   ]
  },
  {
   "cell_type": "markdown",
   "metadata": {},
   "source": [
    "#### 随机生成10个4位的验证码，如何编写代码？"
   ]
  },
  {
   "cell_type": "code",
   "execution_count": null,
   "metadata": {},
   "outputs": [],
   "source": []
  },
  {
   "cell_type": "code",
   "execution_count": null,
   "metadata": {},
   "outputs": [],
   "source": []
  },
  {
   "cell_type": "markdown",
   "metadata": {},
   "source": [
    "## 9.5 time库概述\n",
    " \n",
    "time库是Python提供的处理时间标准库。提供系统级精确计时器的计时功能。可以用来：\n",
    "- 分析程序性能<br><br>\n",
    "- 让程序暂停运行时间<br><br>\n",
    "- 处理时间<br><br>\n",
    "- 等\n",
    "\n",
    "在Python中，通常的**时间表示方式**：\n",
    "  - 1）时间戳<br><br> \n",
    "  - 2）元组（struct_time）共九个元素<br><br>\n",
    "  - 3）格式化的时间字符串<br> \n",
    "    \n",
    "Python的time模块实现主要调用C库"
   ]
  },
  {
   "cell_type": "code",
   "execution_count": null,
   "metadata": {},
   "outputs": [],
   "source": [
    "import time\n",
    "time.time()"
   ]
  },
  {
   "cell_type": "code",
   "execution_count": null,
   "metadata": {},
   "outputs": [],
   "source": [
    "time.localtime() #当前的日期时间"
   ]
  },
  {
   "cell_type": "code",
   "execution_count": null,
   "metadata": {},
   "outputs": [],
   "source": [
    "now = time.time()\n",
    "time.ctime(now)"
   ]
  },
  {
   "cell_type": "code",
   "execution_count": null,
   "metadata": {},
   "outputs": [],
   "source": [
    "time.ctime()"
   ]
  },
  {
   "cell_type": "markdown",
   "metadata": {},
   "source": [
    "**两个重要概念：**\n",
    "- 1.**时间戳**：格林威治时间1970年01月01日00分00秒（北京时间1970年01月01日08时00分00秒）起至现在的总秒数。<br><br>\n",
    "  - Python中获取时间的常用方法是，先得到时间戳，再将其转换成想要的时间格式。<br>\n",
    "    \n",
    "    \n",
    "- 2.**元组struct_time**：日期、时间是包含许多变量的，所以在Python中定义了一个元组struct_time将所有这些变量组合在一起，包括：4位数年、月、日、小时、分钟、秒等。"
   ]
  },
  {
   "cell_type": "code",
   "execution_count": null,
   "metadata": {},
   "outputs": [],
   "source": [
    "import time\n",
    "now = time.localtime()  #当前日期时间struct_time对象\n",
    "now.tm_year             #struct_time对象的tm_year属性"
   ]
  },
  {
   "cell_type": "code",
   "execution_count": null,
   "metadata": {},
   "outputs": [],
   "source": [
    "now[0]                #struct_time对象序号为0的属性"
   ]
  },
  {
   "cell_type": "code",
   "execution_count": null,
   "metadata": {},
   "outputs": [],
   "source": []
  },
  {
   "cell_type": "markdown",
   "metadata": {},
   "source": [
    "time库的功能主要分为3个方面：\n",
    "- 时间处理<br><br>\n",
    "- 时间格式化<br><br>\n",
    "- 计时"
   ]
  },
  {
   "cell_type": "markdown",
   "metadata": {},
   "source": [
    "**时间处理主要包括4个函数 ：**    \n",
    "- time.time()<br><br>\n",
    "  - 获取当前时间戳<br><br>\n",
    "- time.gmtime([secs]):<br><br>\n",
    "  - 获取时间戳secs对应的struct_time对象,secs参数省略默认为当前时间，下同。<br><br>\n",
    "- time.localtime([secs]):<br><br>\n",
    "  - 获取时间戳secs对应的本地时间的struct_time对象<br><br>\n",
    "    - 注意结果与gmtime的区别，UTC时间已自动转换为北京时间<br><br>\n",
    "- time.ctime([secs]):<br><br>\n",
    "  - 获取时间戳secs对应的易读字符串表示<br><br>\n",
    "    - 内部会调用time.localtime()函数以**输出当地时间**\n",
    "    \n",
    "**注：time.gmtime()、time.localtime() 、time.ctime()省略参数secs，则取当前时间戳（即time.time()）**"
   ]
  },
  {
   "cell_type": "code",
   "execution_count": null,
   "metadata": {},
   "outputs": [],
   "source": [
    "import time\n",
    "time.time()   #格林威治时间1970年01月01日00分00秒（北京时间1970年01月01日08时00分00秒）起至现在的总秒数"
   ]
  },
  {
   "cell_type": "code",
   "execution_count": null,
   "metadata": {},
   "outputs": [],
   "source": [
    "now = time.time()"
   ]
  },
  {
   "cell_type": "code",
   "execution_count": null,
   "metadata": {},
   "outputs": [],
   "source": [
    "now"
   ]
  },
  {
   "cell_type": "code",
   "execution_count": null,
   "metadata": {},
   "outputs": [],
   "source": [
    "time.gmtime(now)"
   ]
  },
  {
   "cell_type": "code",
   "execution_count": null,
   "metadata": {},
   "outputs": [],
   "source": [
    "time.gmtime(200000000)   #2亿秒的时间戳对应的UTC时间的struct_time对象"
   ]
  },
  {
   "cell_type": "code",
   "execution_count": null,
   "metadata": {},
   "outputs": [],
   "source": [
    "time.gmtime()           #当前UTC时间的struct_time对象"
   ]
  },
  {
   "cell_type": "code",
   "execution_count": null,
   "metadata": {},
   "outputs": [],
   "source": [
    "time.localtime(now)"
   ]
  },
  {
   "cell_type": "code",
   "execution_count": null,
   "metadata": {},
   "outputs": [],
   "source": [
    "time.localtime()"
   ]
  },
  {
   "cell_type": "code",
   "execution_count": null,
   "metadata": {},
   "outputs": [],
   "source": [
    "now = time.localtime()\n",
    "now.tm_year"
   ]
  },
  {
   "cell_type": "code",
   "execution_count": null,
   "metadata": {},
   "outputs": [],
   "source": [
    "now.tm_hour"
   ]
  },
  {
   "cell_type": "code",
   "execution_count": null,
   "metadata": {},
   "outputs": [],
   "source": [
    "now.tm_min"
   ]
  },
  {
   "cell_type": "code",
   "execution_count": null,
   "metadata": {},
   "outputs": [],
   "source": [
    "now.tm_yday"
   ]
  },
  {
   "cell_type": "code",
   "execution_count": null,
   "metadata": {},
   "outputs": [],
   "source": []
  },
  {
   "cell_type": "code",
   "execution_count": null,
   "metadata": {},
   "outputs": [],
   "source": [
    "time.gmtime().tm_hour        #UTC时间"
   ]
  },
  {
   "cell_type": "code",
   "execution_count": null,
   "metadata": {},
   "outputs": [],
   "source": [
    "time.localtime().tm_hour     #北京时间"
   ]
  },
  {
   "cell_type": "code",
   "execution_count": null,
   "metadata": {},
   "outputs": [],
   "source": [
    "timestamp = time.time()"
   ]
  },
  {
   "cell_type": "code",
   "execution_count": null,
   "metadata": {},
   "outputs": [],
   "source": [
    "time.ctime(timestamp)"
   ]
  },
  {
   "cell_type": "code",
   "execution_count": null,
   "metadata": {},
   "outputs": [],
   "source": [
    "time.ctime()               #当前时间"
   ]
  },
  {
   "cell_type": "code",
   "execution_count": null,
   "metadata": {},
   "outputs": [],
   "source": [
    "time.ctime(100000000)"
   ]
  },
  {
   "cell_type": "markdown",
   "metadata": {},
   "source": [
    "**时间格式化主要包括3个函数：**  \n",
    "- time.mktime(t):<br><br>\n",
    "  - 将struct_time对象t转换为时间戳，注意t代表当地时间。<br><br>\n",
    "  - localtime()的反函数<br><br>\n",
    "- time.strftime('time format string'[,t]):<br><br>\n",
    "  - 将时间元组或struct_time表示的时间转换为与参数**'time format string'**格式相同的字符串.<br><br>\n",
    "    - 如果未提供t，则使用localtime()返回的当前时间。<br><br>\n",
    "    - 参数'time format string'必须是字符串。<br><br>\n",
    "    - 如果t中的任何字段超出允许范围，则会引发ValueError。<br><br>\n",
    "- time.strptime():<br><br>\n",
    "  - 方法与strftime()方法完全相反，用于提取字符串中时间来生成strut_time对象.<br><br>\n",
    "  - 可以很灵活的作为time模块的输入接口"
   ]
  },
  {
   "cell_type": "code",
   "execution_count": null,
   "metadata": {},
   "outputs": [],
   "source": []
  },
  {
   "cell_type": "markdown",
   "metadata": {},
   "source": [
    "time.strftime()函数是时间格式化最有效的方法，几乎可以以任何通用格式输出时间。<br><br>\n",
    "该方法利用一个格式字符串'time format string'，对时间格式进行表达。"
   ]
  },
  {
   "cell_type": "code",
   "execution_count": null,
   "metadata": {},
   "outputs": [],
   "source": [
    "lctime = time.localtime()\n",
    "lctime"
   ]
  },
  {
   "cell_type": "code",
   "execution_count": null,
   "metadata": {},
   "outputs": [],
   "source": [
    "lctime.tm_hour     #北京时间"
   ]
  },
  {
   "cell_type": "code",
   "execution_count": null,
   "metadata": {},
   "outputs": [],
   "source": [
    "time.mktime(lctime)"
   ]
  },
  {
   "cell_type": "code",
   "execution_count": null,
   "metadata": {},
   "outputs": [],
   "source": [
    "time.ctime(time.mktime(lctime))"
   ]
  },
  {
   "cell_type": "code",
   "execution_count": null,
   "metadata": {},
   "outputs": [],
   "source": [
    "help(time.strftime)"
   ]
  },
  {
   "cell_type": "code",
   "execution_count": null,
   "metadata": {},
   "outputs": [],
   "source": [
    "time.strftime(\"%a %Y-%b-%d %H:%M:%S\") #将当前时间转换"
   ]
  },
  {
   "cell_type": "code",
   "execution_count": null,
   "metadata": {},
   "outputs": [],
   "source": [
    "time.strftime(\"%a %Y-%b-%d %H:%M:%S\", lctime) "
   ]
  },
  {
   "cell_type": "code",
   "execution_count": null,
   "metadata": {},
   "outputs": [],
   "source": [
    "time.strftime(\"%Y%m%d %I:%M:%S%p\", lctime)"
   ]
  },
  {
   "cell_type": "code",
   "execution_count": null,
   "metadata": {},
   "outputs": [],
   "source": [
    "time.strftime(\"%A %Y-%b-%d %H:%M:%S\", lctime) "
   ]
  },
  {
   "cell_type": "code",
   "execution_count": null,
   "metadata": {},
   "outputs": [],
   "source": [
    "time.strftime(\"%A %Y-%b-%d %H:%M:%S\") "
   ]
  },
  {
   "cell_type": "code",
   "execution_count": null,
   "metadata": {},
   "outputs": [],
   "source": [
    "help(time.strptime)"
   ]
  },
  {
   "cell_type": "code",
   "execution_count": null,
   "metadata": {},
   "outputs": [],
   "source": [
    "timeString = '2018-01-26 12:55:20'\n",
    "t = time.strptime(timeString, \"%Y-%m-%d %H:%M:%S\") \n",
    "t"
   ]
  },
  {
   "cell_type": "code",
   "execution_count": null,
   "metadata": {},
   "outputs": [],
   "source": [
    "time.mktime(t)"
   ]
  },
  {
   "cell_type": "code",
   "execution_count": null,
   "metadata": {},
   "outputs": [],
   "source": [
    "time.strptime('19801120', \"%Y%m%d\")"
   ]
  },
  {
   "cell_type": "code",
   "execution_count": null,
   "metadata": {},
   "outputs": [],
   "source": [
    "#通过出生日期字符串计算年龄\n",
    "time.localtime().tm_year - time.strptime('19801120', \"%Y%m%d\").tm_year"
   ]
  },
  {
   "cell_type": "code",
   "execution_count": null,
   "metadata": {},
   "outputs": [],
   "source": [
    "time.localtime().tm_year - int('1980')"
   ]
  },
  {
   "cell_type": "code",
   "execution_count": null,
   "metadata": {},
   "outputs": [],
   "source": [
    "from time import *\n",
    "id = input(\"请输入身份证号：\") \n",
    "age = localtime().tm_year - int(id[6:10]) \n",
    "print ('年龄为：',age)"
   ]
  },
  {
   "cell_type": "markdown",
   "metadata": {},
   "source": [
    "**计时主要包括3个函数：**  \n",
    "- time.sleep(s)<br><br>\n",
    "  - s拟休眠的时间，单位是秒，可以是浮点数<br><br>\n",
    "- time.monotonic()<br><br>\n",
    "  - 系统从boot后到当前的时间,字面意思是单调时间，实际上它指的是系统启动以后流逝的时间<br><br>    \n",
    "- time.perf_counter()<br><br>\n",
    "  - 返回一个CPU级别的精确时间计数值，单位为秒<br><br>\n",
    "  - 程序计时指测量起止动作所经历时间的过程，由于这个计时起点不确定，需连续调用perf_counter()的差值才有意义。"
   ]
  },
  {
   "cell_type": "code",
   "execution_count": null,
   "metadata": {},
   "outputs": [],
   "source": [
    "time.perf_counter()"
   ]
  },
  {
   "cell_type": "code",
   "execution_count": null,
   "metadata": {},
   "outputs": [],
   "source": [
    "#统计运行时间\n",
    "start = time.perf_counter()\n",
    "time.sleep(5)\n",
    "end = time.perf_counter()\n",
    "end - start"
   ]
  },
  {
   "cell_type": "code",
   "execution_count": null,
   "metadata": {},
   "outputs": [],
   "source": [
    "time.monotonic()"
   ]
  },
  {
   "cell_type": "code",
   "execution_count": null,
   "metadata": {},
   "outputs": [],
   "source": [
    "time.sleep(5)"
   ]
  },
  {
   "cell_type": "markdown",
   "metadata": {},
   "source": [
    "## 9.6 time库与程序计时"
   ]
  },
  {
   "cell_type": "markdown",
   "metadata": {},
   "source": [
    " \n",
    "程序计时是非常常用的功能，尤其是对于运行时间较长的程序，往往需要先进行小规模（短时间）的实验，并根据实验结果预估最终程序的大致运行时间。<br><br>\n",
    "**程序计时主要要包含三个要素：**  \n",
    "- 程序开始/结束时间<br><br>\n",
    "- 程序运行总时间<br><br>\n",
    "- 程序各核心模块运行时间\n"
   ]
  },
  {
   "cell_type": "code",
   "execution_count": null,
   "metadata": {},
   "outputs": [],
   "source": [
    "#以1千万次循环为主体，模拟实际程序的核心块，用time.sleep()来模拟实际程序的其他模块\n",
    "\n",
    "import time\n",
    "\n",
    "def coreLoop():\n",
    "    limit = 10**8\n",
    "    while (limit > 0):\n",
    "        limit -= 1\n",
    "        \n",
    "def otherLoop1(): \n",
    "    time.sleep(0.2)\n",
    "    \n",
    "def otherLoop2(): \n",
    "    time.sleep(0.4)\n",
    "    \n",
    "def main():\n",
    "    startTime = time.localtime()\n",
    "    print('程序开始时间：', time.strftime('%Y-%m-%d %H:%M:%S', startTime))\n",
    "    \n",
    "    startPerfCounter = time.perf_counter() \n",
    "    otherLoop1()\n",
    "    otherLoop1PerfCounter = time.perf_counter() \n",
    "    otherLoop1Perf = otherLoop1PerfCounter - startPerfCounter \n",
    "    print(\"模块1运行时间是:{}秒\".format(otherLoop1Perf)) \n",
    "    \n",
    "    coreLoop()\n",
    "    coreLoopPerfCounter = time.perf_counter()\n",
    "    coreLoopPerf = coreLoopPerfCounter - otherLoop1PerfCounter \n",
    "    print(\"核心模块运行时间是:{}秒\".format(coreLoopPerf))\n",
    "    \n",
    "    otherLoop2()\n",
    "    otherLoop2PerfCounter = time.perf_counter() \n",
    "    otherLoop2Perf = otherLoop2PerfCounter - coreLoopPerfCounter \n",
    "    print(\"模块2运行时间是:{}秒\".format(otherLoop2Perf)) \n",
    "    \n",
    "    endPerfCounter = time.perf_counter()\n",
    "    totalPerf = endPerfCounter - startPerfCounter \n",
    "    endTime = time.localtime()\n",
    "    print(\"程序运行总时间是:{}秒\".format(totalPerf))\n",
    "    print('程序结束时间：', time.strftime('%Y-%m-%d %H:%M:%S', endTime))\n",
    "    \n",
    "main()"
   ]
  },
  {
   "cell_type": "code",
   "execution_count": null,
   "metadata": {},
   "outputs": [],
   "source": []
  },
  {
   "cell_type": "markdown",
   "metadata": {},
   "source": [
    "## 9.7 实例解析：雪景艺术绘图"
   ]
  },
  {
   "cell_type": "code",
   "execution_count": null,
   "metadata": {},
   "outputs": [],
   "source": []
  },
  {
   "cell_type": "code",
   "execution_count": null,
   "metadata": {},
   "outputs": [],
   "source": [
    "# SnowView.py\n",
    "from turtle import *\n",
    "from random import *\n",
    "\n",
    "setup(800,600,200,200)\n",
    "tracer(False)         #不延时\n",
    "bgcolor(\"black\")\n",
    "\n",
    "#绘制100个雪花\n",
    "hideturtle()   #隐藏箭头显示\n",
    "pensize(2)\n",
    "for i in range(100):                      #绘制100个雪花\n",
    "    #随机产生颜色的r,g,b值\n",
    "    r, g, b = random(), random(), random()\n",
    "    pencolor(r,g,b)\n",
    "        \n",
    "    #画笔移动到随机位置\n",
    "    penup()\n",
    "    setx(randint(-350,350))\n",
    "    sety(randint(1,270))\n",
    "    pendown()\n",
    "        \n",
    "    #随机产生雪花的线条数和线条长度\n",
    "    dens = randint(8,12)\n",
    "    snowsize = randint(10,14)\n",
    "        \n",
    "    #画雪花\n",
    "    for j in range(dens):\n",
    "        forward(snowsize)\n",
    "        backward(snowsize)\n",
    "        right(360/dens)\n",
    "\n",
    "#绘制地面\n",
    "hideturtle()\n",
    "for i in range(400):                #绘制400个粗线条\n",
    "    pensize(randint(5,10))\n",
    "    x = randint(-400,350)\n",
    "    y = randint(-280,-1)\n",
    "    r, g, b = -y/280, -y/280, -y/280\n",
    "    pencolor((r,g,b))\n",
    "    penup()\n",
    "    goto(x,y)\n",
    "    pendown()\n",
    "    forward(randint(40,100))\n",
    "\n",
    "done()"
   ]
  },
  {
   "cell_type": "code",
   "execution_count": null,
   "metadata": {},
   "outputs": [],
   "source": [
    "?tracer"
   ]
  },
  {
   "cell_type": "code",
   "execution_count": null,
   "metadata": {},
   "outputs": [],
   "source": [
    "print( round(0.1 + 0.2, 5) == 0.3 )"
   ]
  },
  {
   "cell_type": "code",
   "execution_count": null,
   "metadata": {},
   "outputs": [],
   "source": [
    "print( 0.1 + 0.2 )"
   ]
  },
  {
   "cell_type": "code",
   "execution_count": null,
   "metadata": {},
   "outputs": [],
   "source": [
    "a = 10.99 \n",
    "print(complex(a))"
   ]
  },
  {
   "cell_type": "code",
   "execution_count": null,
   "metadata": {},
   "outputs": [],
   "source": [
    "a = input(\"请输入立方体的棱长：\") \n",
    "volume = float(a) ** 3 \n",
    "print('volume of the cube:', volume)"
   ]
  },
  {
   "cell_type": "code",
   "execution_count": null,
   "metadata": {},
   "outputs": [],
   "source": [
    "id = input(\"请输入身份证号：\") \n",
    "if len(id) != 18:\n",
    "    print(\"输入的位数不正确\")\n",
    "else:\n",
    "    birthday = id[6:14] \n",
    "    print ('出生日期为：', birthday)\n"
   ]
  },
  {
   "cell_type": "code",
   "execution_count": null,
   "metadata": {},
   "outputs": [],
   "source": []
  },
  {
   "cell_type": "code",
   "execution_count": null,
   "metadata": {},
   "outputs": [],
   "source": []
  }
 ],
 "metadata": {
  "kernelspec": {
   "display_name": "Python 3 (ipykernel)",
   "language": "python",
   "name": "python3"
  },
  "language_info": {
   "codemirror_mode": {
    "name": "ipython",
    "version": 3
   },
   "file_extension": ".py",
   "mimetype": "text/x-python",
   "name": "python",
   "nbconvert_exporter": "python",
   "pygments_lexer": "ipython3",
   "version": "3.9.13"
  }
 },
 "nbformat": 4,
 "nbformat_minor": 2
}
