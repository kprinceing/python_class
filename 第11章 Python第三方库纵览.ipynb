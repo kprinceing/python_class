{
 "cells": [
  {
   "cell_type": "markdown",
   "metadata": {},
   "source": [
    "# 第11章 Python第三方库纵览"
   ]
  },
  {
   "cell_type": "markdown",
   "metadata": {},
   "source": [
    "## 11.1 网络爬虫方向"
   ]
  },
  {
   "cell_type": "markdown",
   "metadata": {},
   "source": [
    "### 抓取“电视猫”网站上“长安十二时辰”的剧情介绍"
   ]
  },
  {
   "cell_type": "markdown",
   "metadata": {},
   "source": [
    "#### 1、抓取“电视猫”网站上“长安十二时辰”第1集的剧情介绍"
   ]
  },
  {
   "cell_type": "code",
   "execution_count": 1,
   "metadata": {},
   "outputs": [
    {
     "name": "stdout",
     "output_type": "stream",
     "text": [
      "\n",
      "                    第1集：李必启用死刑犯张小敬 张小敬临危受命查命案\n",
      "                \n",
      "天保三载元月十四日，巳正。\n",
      "天保三载的上元节，大唐国都长安城里，家家户户张灯结彩，繁华的西市更是商贾云集，热闹非凡，来自遥远的波斯和拂林等地的胡商驼队也日夜兼程赶来，就为了赶上这个不同寻常的的元宵节，毛修大师花了整整一年时间亲手制作的大仙灯，要在上元节当晚公开亮相，圣上会亲临花萼相辉楼与百姓一同观赏。\n",
      "西市署的署吏站在高高的望楼，大声宣布西市开市，还当众宣读了圣上的口谕，从现在开始一直到上元节结束的十二个时辰，长安城暂停宵禁，来自各地的商人可以在城中108坊间自由行走，百姓和商人一起欢呼雀跃，本来就熙熙攘攘的西市一下子沸腾了。此时的靖安司里却气氛凝重，35个官员都各司其职，行色匆匆，仔细翻阅着成堆的案牍，从中梳理有用的线索，他们每个人清楚长安城里处处暗藏杀机，危机四伏，圣上的口谕无疑为那些伺机而动的突厥狼卫打开了方便之门，而百姓们不会知道，上元节华灯初上之时，等待他们的将是吞噬一切的大劫难。\n",
      "靖安司是圣上下旨，太子一手建立的新机构，才短短四个月时间，就遭遇了前所未有的考验，靖安司司丞李必派贴身女婢檀棋到大理寺死牢，把死刑犯张小敬带出来。张小敬蓬头垢面，衣衫褴褛，根本看不出他原来的模样，通身上下只有那一双鹰一样的眼睛炯炯发光，张小敬曾出任万年县不良帅长达九年之久，熟知黑白两道，通三教九流，懂多方语言，却因涉嫌杀害县蔚谭同寿被判死刑，檀棋派人给张小敬简单清洗身上的污垢，就带他去见靖安司司丞李必，张小敬久未见天日，他沐浴在温暖的阳光里，深深吸了一口气，首先闻到花的清香，他一眼就认出这是景龙观旧址残垣，而且是太子的私地，张小敬也猜到要见的人是李必。\n",
      "张小敬抬眼望去，看到眼前站立着一位青涩之气尚未褪尽的翩翩少年，眉宇之间却隐隐已有了三道浅纹，显然是思虑过甚，他腰间挂着银鱼袋，手里却拿着一把道家的拂尘，李必自诩天资聪慧，七岁就拜名师修道法，历经十年的磨炼，练就超人的修为，人称少年神童，九岁就和太子李玙交好，圣上也常找他攻辩道法之意，现任靖安司司丞，李必开门见山提出让张小敬剿灭潜入长安城里的突厥狼卫，答应事成之后给他自由。李必说明事先派崔六郎做卧底，不料他身份暴露被狼卫杀死，紧接着李必带张小敬来到停尸间，看到旅贲军旅帅崔器守在哥哥崔六郎的尸体旁暗自垂泪，李必对他好言相劝，承诺会好好安葬崔六郎，张小敬看到给拔舌而死的崔六郎，不由地倒吸口凉气。\n",
      "李必向张小敬讲明利害关系，如果他办事不利，就会和崔六郎一样的下场，张小敬知道自己没有退路，如果拒绝也是死路一条，他只能硬着头皮答应下来，随后，李必带他参观了靖安司，靖安司负责掌管朝中三省六部，一台九寺五监的机密要件，35个官员是李必亲自从各部精心挑选出来的精英，他们每个人都心思缜密，行事严谨。李必首先介绍了擅长大案推理的主事徐宾，他用大案犊术推算出接替崔六郎最合适的人选是张小敬，就向李必力荐，张小敬看到徐宾顿时楞了一下，很快又恢复了平静。\n",
      "李必带张小敬来看长安城的沙盘，用赤黏土捏的外郭城墙，黄蜂蜡捏的坊市墙垣，一百零八坊和二十五条大街排列严整如棋盘，就连坊内曲巷和漕运水渠都纤毫毕现，每一坊都设有二到三栋望楼，有专门的执旗武侯，他们用约定的旗语传递情报，晚上用灯笼明暗，任何一栋望楼发现情况，都能通过通传武侯传到靖安司，同样，靖安司也可以第一时间发出命令，这样一来，整个长安城都尽在掌握，李必警告张小敬不要伺机逃走，他们能精准地监视他的一举一动。\n",
      "李必向张小敬介绍案情，一批来自突厥的十六个狼卫乔装改扮成商人混进长安城，他们想趁上元节的时候在长安兴风作浪，李必赦免崔六郎死罪，派他打入狼卫里做暗桩，首先取得首领曹破延的信任，然后查到他们藏身于丙六货栈，李必派崔器带旅贲军前去围捕，狼卫们拼命反抗，崔六郎身份败露被害，旅贲军一举歼灭15个狼卫，可狼卫首领曹破延趁机跳河逃走，崔器带人去追却一无所获，李必派张小敬去抓曹破延。就在这时，秘书监何执正醉醺醺骑马赶回靖安司，他的养子何孚紧随其后，疯疯癫癫地举着一个拨浪鼓，李必忙不迭给老师施礼，可何执正却醉得不省人事。\n",
      "焦遂和何执正喝完酒回家，看到被冲到岸边的曹破延，就把他救起来，曹破延看到焦遂腰间的金鱼袋，认出那是朝中三品以上大员进宫用的信物，曹破延担心身份败露，残忍地把焦遂杀人灭口。何执正酒醒之后，就苦苦逼问张小敬的身份，李必极力替他隐瞒，让张小敬全力去办事就好。张小敬向崔器了解了崔六郎的情况，得知他贩私入狱，其实是为了疏通关系把崔器调回长安，张小敬当即对崔六郎的尸体进行解剖。\n",
      "徐宾很快查出丙六货栈的店主是李陆苟，李必就派崔器前去抓人，没想到他们一家五口被城里隐藏的狼卫全部杀死，李必了解到李陆苟曾经是食不果腹的流民，突然在短短几个月时间就筹措到五万块钱，而且货栈开业后还有渣土运出，李必因此断定货栈内挖了暗道，曹破延有可能从那里逃走的。\n",
      "张小敬解剖完崔六郎的尸体，从腹内找出一张残缺了一角的长安城舆图，张小敬因此判定狼卫今日有大的阴谋，地点就在那残缺的舆图上，李必决定派死士去那些地方埋伏。与此同时，曹破延乔装改扮来剃头馆理发，拐弯抹角向季师傅打听出今晚丑正之时，圣上要和百姓一起观看毛修大师亲手制作的大仙灯。\n"
     ]
    }
   ],
   "source": [
    "import requests  \n",
    "from bs4 import BeautifulSoup\n",
    "\n",
    "headers = {'User-Agent': 'MMozilla/5.0 (Windows NT 6.1; WOW64; rv:31.0) Gecko/20100101 Firefox/31.0'}  \n",
    "r = requests.get('https://www.tvmao.com/drama/X2BrIV1h/episode/0-1' , headers = headers) \n",
    "bs = BeautifulSoup(r.text , \"lxml\")\n",
    "#st = bs.select(\"div.wd700 > p.epi_t\")\n",
    "st = bs.select(\"p.epi_t\")\n",
    "print(st[0].string)\n",
    "contents = bs.select(\"article.clear > p\")\n",
    "for p in contents:\n",
    "    print(p.string)"
   ]
  },
  {
   "cell_type": "code",
   "execution_count": null,
   "metadata": {},
   "outputs": [],
   "source": [
    "#将抓取的剧情介绍保存到文本文件中\n",
    "with open('changan.txt', 'a+') as f:\n",
    "    f.write(st[0].string + '\\n')\n",
    "    for p in contents:\n",
    "        f.write(p.string+'\\n')"
   ]
  },
  {
   "cell_type": "markdown",
   "metadata": {},
   "source": [
    "#### 2、抓取“电视猫”网站上“长安十二时辰”全部48集的剧情介绍"
   ]
  },
  {
   "cell_type": "code",
   "execution_count": null,
   "metadata": {},
   "outputs": [],
   "source": [
    "import requests  \n",
    "from bs4 import BeautifulSoup\n",
    "\n",
    "headers = {'User-Agent': 'MMozilla/5.0 (Windows NT 6.1; WOW64; rv:31.0) Gecko/20100101 Firefox/31.0'}  \n",
    "for i in range(16):\n",
    "    for j in range(1,4):\n",
    "        url = 'https://www.tvmao.com/drama/X2BrIV1h/episode/' + str(i) + '-' + str(i*3+j)\n",
    "        r = requests.get(url , headers = headers) \n",
    "        bs = BeautifulSoup(r.text , \"lxml\")\n",
    "        #st = bs.select(\"div.wd700 > p.epi_t\")\n",
    "        st = bs.select(\"p.epi_t\")\n",
    "        contents = bs.select(\"article.clear > p\")\n",
    "        with open('Q-changan.txt', 'a+', encoding='utf-8') as f:\n",
    "            f.write(st[0].string + '\\n')\n",
    "            for p in contents:\n",
    "                f.write(p.string+'\\n')"
   ]
  },
  {
   "cell_type": "code",
   "execution_count": null,
   "metadata": {},
   "outputs": [],
   "source": []
  },
  {
   "cell_type": "markdown",
   "metadata": {},
   "source": [
    "## 11.2 数据分析方向"
   ]
  },
  {
   "cell_type": "code",
   "execution_count": 2,
   "metadata": {},
   "outputs": [
    {
     "name": "stdout",
     "output_type": "stream",
     "text": [
      "   total_bill   tip     sex smoker  day    time  size   tip_pct\n",
      "0       16.99  1.01  Female     No  Sun  Dinner     2  0.059447\n",
      "1       10.34  1.66    Male     No  Sun  Dinner     3  0.160542\n",
      "2       21.01  3.50    Male     No  Sun  Dinner     3  0.166587\n",
      "3       23.68  3.31    Male     No  Sun  Dinner     2  0.139780\n",
      "4       24.59  3.61  Female     No  Sun  Dinner     4  0.146808\n"
     ]
    }
   ],
   "source": [
    "import numpy as np \n",
    "import pandas as pd \n",
    "from pandas import Series,DataFrame \n",
    "import matplotlib.pyplot as plt \n",
    "#下面说明更高级的聚合功能，用数据集tips\n",
    "tips = pd.read_csv('tips.csv') \n",
    "#增加小费占比一列 \n",
    "tips['tip_pct'] = tips['tip'] / tips['total_bill'] \n",
    "print (tips.head()) "
   ]
  },
  {
   "cell_type": "code",
   "execution_count": 3,
   "metadata": {},
   "outputs": [
    {
     "name": "stdout",
     "output_type": "stream",
     "text": [
      "<pandas.core.groupby.generic.SeriesGroupBy object at 0x0000025EDBAE7580> \n",
      "\n"
     ]
    }
   ],
   "source": [
    "#按照性别、是否吸烟进行分组\n",
    "grouped = tips.groupby(['sex','smoker']) \n",
    "grouped_pct = grouped['tip_pct'] \n",
    "print (grouped_pct,'\\n') "
   ]
  },
  {
   "cell_type": "code",
   "execution_count": 4,
   "metadata": {},
   "outputs": [
    {
     "name": "stdout",
     "output_type": "stream",
     "text": [
      "sex     smoker\n",
      "Female  No        0.156921\n",
      "        Yes       0.182150\n",
      "Male    No        0.160669\n",
      "        Yes       0.152771\n",
      "Name: tip_pct, dtype: float64 \n",
      "\n"
     ]
    }
   ],
   "source": [
    "#分组求均值\n",
    "print (grouped_pct.mean(),'\\n') "
   ]
  },
  {
   "cell_type": "code",
   "execution_count": null,
   "metadata": {},
   "outputs": [],
   "source": []
  },
  {
   "cell_type": "markdown",
   "metadata": {},
   "source": [
    "## 11.3 文本处理方向"
   ]
  },
  {
   "cell_type": "markdown",
   "metadata": {},
   "source": [
    "### 11.3.1 读取并解析PDF文件"
   ]
  },
  {
   "cell_type": "markdown",
   "metadata": {},
   "source": [
    "#### 1.解析第一页的文本信息"
   ]
  },
  {
   "cell_type": "code",
   "execution_count": 5,
   "metadata": {},
   "outputs": [
    {
     "name": "stdout",
     "output_type": "stream",
     "text": [
      "证券代码：600725 证券简称：ST云维 公告编号：临 2017-123\n",
      "云南云维股份有限公司\n",
      "委托理财公告\n",
      "公司董事会及全体董事保证本公告内容不存在任何虚假记载、误导性陈述或者\n",
      "重大遗漏，并对其内容的真实性、准确性和完整性承担个别及连带责任。\n",
      "重要内容提示：\n",
      " 委托理财受托方：太平洋证券股份有限公司\n",
      " 委托理财金额：人民币2000万元\n",
      " 委托理财投资类型：本金保障型固定收益凭证\n",
      " 委托理财期限：182天\n",
      "公司于 2017 年 8 月 15 日召开的第七届董事会第二十二次会议审议通过了\n",
      "《关于使用闲置资金开展委托理财的议案》，该议案提请 2017 年 8 月 31 日召开\n",
      "的公司2017年第三次临时股东大会审议批准（详见公司临 2017-089、091、095\n",
      "号公告）。经股东大会审议批准，同意公司在不影响公司日常业务正常开展的前\n",
      "提下，在保证资金流动性和安全性的基础上，可使用最高不超过人民币 1.2亿元\n",
      "的阶段性闲置资金，投资于安全性、流动性较高的低风险理财产品业务（不用于\n",
      "投资股票及其衍生产品）。在 1.2 亿元的额度范围内，公司股东大会授权公司总\n",
      "经理行使该项投资决策权并签署相关合同文件，授权期限自公司股东大会审议通\n",
      "过之日起12个月内，具体投资活动由公司财务部门及证券事务部负责组织实施。\n",
      "根据上述情况，公司于2017年9月14日与太平洋证券股份有限公司（以下\n",
      "简称“太平洋证券”）签订了《太平洋证券股份有限公司太平洋证券本金保障型\n",
      "收益凭证荣耀专享 14 号客户认购协议书》，相关情况详见公司临 2017-099 号公\n",
      "告。现上述理财协议已于 2017 年 12 月 20 日到期并清盘，公司确认收到相应资\n",
      "金及收益。2017 年 12 月 22 日，公司与太平洋证券签订了《太平洋证券股份有\n",
      "限公司太平洋证券本金保障型收益凭证荣耀专享 30号客户认购协议书》，相关情\n",
      "况公告如下：\n"
     ]
    }
   ],
   "source": [
    "import pdfplumber\n",
    "pdf = pdfplumber.open('公司A理财公告.PDF')  # 打开PDF文件\n",
    "pages = pdf.pages  # 通过pages属性获取所有页的信息，此时pages是一个列表\n",
    "page = pages[0]  # 获取第一页内容\n",
    "text = page.extract_text()  # 通过extract_text()\n",
    "print(text)  # 打印第一页内容\n",
    "pdf.close()  # 关闭PDF文件"
   ]
  },
  {
   "cell_type": "markdown",
   "metadata": {},
   "source": [
    "#### 2.解析全部页数的文本信息"
   ]
  },
  {
   "cell_type": "code",
   "execution_count": 6,
   "metadata": {},
   "outputs": [
    {
     "name": "stdout",
     "output_type": "stream",
     "text": [
      "证券代码：600725 证券简称：ST云维 公告编号：临 2017-123\n",
      "云南云维股份有限公司\n",
      "委托理财公告\n",
      "公司董事会及全体董事保证本公告内容不存在任何虚假记载、误导性陈述或者\n",
      "重大遗漏，并对其内容的真实性、准确性和完整性承担个别及连带责任。\n",
      "重要内容提示：\n",
      " 委托理财受托方：太平洋证券股份有限公司\n",
      " 委托理财金额：人民币2000万元\n",
      " 委托理财投资类型：本金保障型固定收益凭证\n",
      " 委托理财期限：182天\n",
      "公司于 2017 年 8 月 15 日召开的第七届董事会第二十二次会议审议通过了\n",
      "《关于使用闲置资金开展委托理财的议案》，该议案提请 2017 年 8 月 31 日召开\n",
      "的公司2017年第三次临时股东大会审议批准（详见公司临 2017-089、091、095\n",
      "号公告）。经股东大会审议批准，同意公司在不影响公司日常业务正常开展的前\n",
      "提下，在保证资金流动性和安全性的基础上，可使用最高不超过人民币 1.2亿元\n",
      "的阶段性闲置资金，投资于安全性、流动性较高的低风险理财产品业务（不用于\n",
      "投资股票及其衍生产品）。在 1.2 亿元的额度范围内，公司股东大会授权公司总\n",
      "经理行使该项投资决策权并签署相关合同文件，授权期限自公司股东大会审议通\n",
      "过之日起12个月内，具体投资活动由公司财务部门及证券事务部负责组织实施。\n",
      "根据上述情况，公司于2017年9月14日与太平洋证券股份有限公司（以下\n",
      "简称“太平洋证券”）签订了《太平洋证券股份有限公司太平洋证券本金保障型\n",
      "收益凭证荣耀专享 14 号客户认购协议书》，相关情况详见公司临 2017-099 号公\n",
      "告。现上述理财协议已于 2017 年 12 月 20 日到期并清盘，公司确认收到相应资\n",
      "金及收益。2017 年 12 月 22 日，公司与太平洋证券签订了《太平洋证券股份有\n",
      "限公司太平洋证券本金保障型收益凭证荣耀专享 30号客户认购协议书》，相关情\n",
      "况公告如下：一、购买理财产品情况\n",
      "1、 产品名称：太平洋证券本金保障型收益凭证荣耀专享 30号\n",
      "2、 产品类型：本金保障型固定收益凭证\n",
      "3、 理财金额：2000万元\n",
      "4、 产品起息日：2017年12月25日\n",
      "5、 产品到期日：2018年6月25日\n",
      "6、 投资收益率：5.35%\n",
      "7、 产品投资范围：用于补充太平洋证券股份有限公司营运资金。\n",
      "二、主要风险提示\n",
      "（一）、受益凭证产品的相关风险\n",
      "本产品为本金保障型固定收益凭证，存在实际收益率可能低于通货膨胀率，\n",
      "从而导致您实际收益率为负的风险。\n",
      "若市场利率发生变化，已参与的收益率也不会进行调整，可能面临无法获取\n",
      "更高收益的风险。\n",
      "（二）、与发行人有关的风险\n",
      "1、流动性风险。根据证监会和证券业协会对证券公司风险管理的相关要求，\n",
      "太平洋证券目前具备充足的流动资金，可以满足日常运营及偿付到期债务的需\n",
      "求。但如出现流动性短缺、无法及时获得充足资金的情况，在收益凭证产品到\n",
      "期时可能无法及时、全额支付，导致您的本金及收益发生损失。\n",
      "2、信用风险。收益凭证产品以太平洋证券的信用发行。在收益凭证存续期\n",
      "间，太平洋证券可能发生解散、破产、无力清偿到期债务、资产被查封、冻结\n",
      "或强制执行等情形，将按照《破产法》规定的破产清算程序，在依法处置其财\n",
      "产后，按照一般债权人顺序对您进行补偿，因此，在最不利情况下，该收益凭\n",
      "证产品本金及收益可能无法按照认购协议约定偿付。\n",
      "3、操作风险。由于太平洋证券内部管理流程缺陷、人员操作失误等事件，\n",
      "可能导致收益凭证认购、交易失败、资金划拨失败等，从而导致本金及收益发\n",
      "生损失。\n",
      "4、信息技术系统风险。太平洋证券信息技术系统存在因不可抗力、软硬件\n",
      "故障、通讯系统中断、第三方服务不到位等原因无法正常运行的可能，从而可\n",
      "能影响其业务顺利开展；随着新业务的推出和业务规模的扩张，对信息技术系统的要求日益增强，太平洋证券近年虽然在信息系统开发和技术创新方面保持\n",
      "行业领先地位，但仍可能存在因信息技术系统更新升级不及时对业务开展产生\n",
      "制约的风险。\n",
      "（三）、政策法律风险\n",
      "因国家宏观政策、金融政策、地方政府政策发生变化，或者现有法律缺位\n",
      "无法解决相关法律问题、个别地区执法环境不完善等，可能对太平洋证券产生\n",
      "不确定性影响，进而对太平洋证券正常的经营活动及收益凭证业务产生不利影\n",
      "响。\n",
      "（四）、不可抗力及意外事件风险\n",
      "自然灾害、社会动乱、战争等不能预见、不能避免、不能克服的不可抗力\n",
      "事件或监管部门暂停或停止柜台交易等意外事件的出现，可能对收益凭证产品\n",
      "的成立、投资运作、资金返还、信息披露、公告通知等产生影响，导致收益凭\n",
      "证产品的本金及收益发生损失。对于不可抗力及意外事件风险导致的任何损失，\n",
      "投资者须自行承担，太平洋证券对此不承担任何责任。\n",
      "（五）、信息传递风险\n",
      "公司可通过太平洋证券网站或交易终端等，及时了解收益凭证产品的相关\n",
      "信息和公告，并充分理解柜台交易规则及相关配套制度。如未及时查询，或对\n",
      "交易规则和配套制度的理解不够准确，导致投资决策失误，由此产生的责任和\n",
      "风险由公司自行承担。\n",
      "三、风险应对措施\n",
      "公司将在保证公司资金需求的情况下，公司按照决策、执行、监督职能相分\n",
      "离的原则建立健全委托业务的审批和执行程序，确保委托理财业务事宜的有效开\n",
      "展和规范运行，公司委托理财着重考虑收益和风险是否匹配，把资金安全放在第\n",
      "一位，定期关注委托资金的相关情况，确保资金到期收回。公司将根据中国证监\n",
      "会及上海证券交易所的相关规定，在定期报告中披露报告期内委托理财产品及相\n",
      "关损益情况。\n",
      "四、关联关系\n",
      "公司与太平洋证券无关联关系，本交易不构成关联交易。\n",
      "五、对公司的影响\n",
      "公司运用阶段性闲置资金开展委托理财业务，在确保公司日常运营和资金安全的前提下实施，并对理财产品的风险、收益、资金需求等进行充分的预估和测\n",
      "算，相应的资金使用将不会影响公司日常资金正常周转需要，不影响公司主营业\n",
      "务的正常开展，开展本次委托理财业务将有利于提高公司阶段性闲置资金提高资\n",
      "金使用效率，获取一定的投资效益，有利于改善公司整体业绩。\n",
      "六、独立董事意见\n",
      "公司于 2017 年 8 月 15 日召开的第七届董事会第二十二次会议审议通过了\n",
      "《关于使用闲置资金开展委托理财的议案》，公司独立董事对议案发表了独立意\n",
      "见认为：在符合国家法律法规及保障投资资金安全的前提下，在公司董事会和股\n",
      "东大会批准的额度内，将阶段性闲置资金用于开展委托理财业务，可以进一步提\n",
      "高资金使用效率，能够获得一定的投资收益，有利于提高公司整体收益，且不影\n",
      "响公司日常资金正常周转需要及公司主营业务的正常开展，不影响公司主营业务\n",
      "的发展，符合公司和全体股东的利益。在遵循安全性和公允性原则前提下开展委\n",
      "托理财业务，符合公司和全体股东的利益，不存在损害公司及全体股东，特别是\n",
      "中小股东利益的情形；相关审批程序符合法律法规及《公司章程》的有关规定，\n",
      "同意公司利用阶段性闲置资金开展委托理财业务。（详见公司 2017 年 8 月 16 日\n",
      "披露的《ST 云维独立董事关于公司拟使用闲置资金开展委托理财的独立意见》）\n",
      "七、 截至本公告日，公司委托理财累计余额为 1.2 亿元。除上述购买理\n",
      "财产品外，公告日前 12个月内，公司开展的委托理财业务情况如下：\n",
      "委托理财 预计年化 产品\n",
      "受托人 是否 产品\n",
      "产品序号 产品名称 金额（亿 资金来源 收益率 资金 备注\n",
      "类型 保本 期限\n",
      "元） （%） 投向\n",
      "“乾元—特享 102天\n",
      "银行 详见公司\n",
      "型”2017年第 （不\n",
      "4.65% 理财 临\n",
      "ZH070417009102D61 107期理财产 0.1 银行 自有资金 否 含产\n",
      "资金 2017-098\n",
      "品 品到\n",
      "池 号公告\n",
      "期日）\n",
      "荣耀专享14\n",
      "详见公司\n",
      "号（已于 补充\n",
      "证券公 临\n",
      "SAA937 2017年12 0.2 自有资金 是 4.9% 96天 营运\n",
      "司 2017-099\n",
      "月20日清 资金\n",
      "号公告\n",
      "盘）\n",
      "中国工商银 银行 详见公司\n",
      "GGHJ035 行法人挂钩 0.3 银行 自有资金 否 4.3%-4.5% 105天 理财 临\n",
      "黄金人民币 资金 2017-102理财产品 池 号公告\n",
      "（35天投资\n",
      "周期）\n",
      "“金钥匙\n",
      "银行 详见公司\n",
      "*安心得\n",
      "理财 临\n",
      "AD2012090 利*90天” 0.1 银行 自有资金 否 4.3% 90天\n",
      "资金 2017-102\n",
      "人民币理\n",
      "池 号公告\n",
      "财产品\n",
      "中国工商\n",
      "详见公司\n",
      "银行“e 灵\n",
      "无固 银行 临\n",
      "通”净值\n",
      "定期、 理财 2017-104\n",
      "1701ELT 型法人无 0.5 银行 自有资金 否 3%\n",
      "开放 资金 号公告、临\n",
      "固定期限\n",
      "式 池 2017-105\n",
      "人民币理\n",
      "号公告\n",
      "财产品\n",
      "上述理财产品中“中国工商银行“e 灵通”净值型法人无固定期限人民币理财\n",
      "产品”为开放式无固定期理财产品。公司前期根据资金需求情况进行了部分赎回，\n",
      "目前公司对该产品购买余额为 3704万元，后续公司将在初始购买额度 5000万元\n",
      "内适时根据资金需求情况进行赎回或再购买。\n",
      "八、备查文件\n",
      "1、公司2017年第三次临时股东大会会议决议；\n",
      "2、《太平洋证券股份有限公司太平洋证券本金保障型收益凭证荣耀专享 30\n",
      "号客户认购协议书》。\n",
      "特此公告。\n",
      "云南云维股份有限公司董事会\n",
      "2017年 12月26日\n"
     ]
    }
   ],
   "source": [
    "import pdfplumber\n",
    "with pdfplumber.open('公司A理财公告.PDF') as pdf:\n",
    "    pages = pdf.pages\n",
    "    text_all = []\n",
    "    for page in pages:  # 遍历pages中每一页的信息\n",
    "        text = page.extract_text()  # 提取当页的文本内容\n",
    "        text_all.append(text)  # 通过列表.append()方法汇总每一页内容\n",
    "    text_all = ''.join(text_all)  # 把列表转换成字符串\n",
    "    print(text_all)  # 打印全部文本内容"
   ]
  },
  {
   "cell_type": "markdown",
   "metadata": {},
   "source": [
    "#### 3.解析表格内容"
   ]
  },
  {
   "cell_type": "code",
   "execution_count": 7,
   "metadata": {},
   "outputs": [
    {
     "name": "stdout",
     "output_type": "stream",
     "text": [
      "[['产品序号', '产品名称', '委托理财\\n金额（亿\\n元）', '受托人\\n类型', '资金来源', '是否\\n保本', '预计年化\\n收益率\\n（%）', '产品\\n期限', '产品\\n资金\\n投向', '备注'], ['ZH070417009102D61', '“乾元—特享\\n型”2017年第\\n107期理财产\\n品', '0.1', '银行', '自有资金', '否', '4.65%', '102天\\n（不\\n含产\\n品到\\n期日）', '银行\\n理财\\n资金\\n池', '详见公司\\n临\\n2017-098\\n号公告'], ['SAA937', '荣耀专享14\\n号（已于\\n2017年12\\n月20日清\\n盘）', '0.2', '证券公\\n司', '自有资金', '是', '4.9%', '96天', '补充\\n营运\\n资金', '详见公司\\n临\\n2017-099\\n号公告'], ['GGHJ035', '中国工商银\\n行法人挂钩\\n黄金人民币', '0.3', '银行', '自有资金', '否', '4.3%-4.5%', '105天', '银行\\n理财\\n资金', '详见公司\\n临\\n2017-102']]\n",
      "[['产品序号', '产品名称', '委托理财金额（亿元）', '受托人类型', '资金来源', '是否保本', '预计年化收益率（%）', '产品期限', '产品资金投向', '备注'], ['ZH070417009102D61', '“乾元—特享型”2017年第107期理财产品', '0.1', '银行', '自有资金', '否', '4.65%', '102天（不含产品到期日）', '银行理财资金池', '详见公司临2017-098号公告'], ['SAA937', '荣耀专享14号（已于2017年12月20日清盘）', '0.2', '证券公司', '自有资金', '是', '4.9%', '96天', '补充营运资金', '详见公司临2017-099号公告'], ['GGHJ035', '中国工商银行法人挂钩黄金人民币', '0.3', '银行', '自有资金', '否', '4.3%-4.5%', '105天', '银行理财资金', '详见公司临2017-102']]\n"
     ]
    }
   ],
   "source": [
    "import pdfplumber\n",
    "pdf = pdfplumber.open('公司A理财公告.PDF')\n",
    "pages = pdf.pages\n",
    "page = pages[3]  # 因为表格在第四页，所以提取第四页，也即pages[3]\n",
    "tables = page.extract_tables()  # 通过extract_tables方法获取该页所有表格\n",
    "table = tables[0]  # 因为第四页只有一个表格，所以通过tables[0]提取\n",
    "print(table)\n",
    "# 替换原来table中的换行符\n",
    "for i in range(len(table)):  # 遍历大列表中的每一个子列表\n",
    "    for j in range(len(table[i])):  # 遍历子列表中的每一个元素\n",
    "        table[i][j] = table[i][j].replace('\\n', '')  # 替换换行符\n",
    "print(table)"
   ]
  },
  {
   "cell_type": "markdown",
   "metadata": {},
   "source": [
    "### 11.3.2 解除PDF文档的密码"
   ]
  },
  {
   "cell_type": "code",
   "execution_count": null,
   "metadata": {},
   "outputs": [],
   "source": [
    "import pikepdf\n",
    "with pikepdf.open(\"韩振《Python语言程序设计》--Ch11 Python第三方库纵览.pdf\") as pdf:\n",
    "    num_pages = len(pdf.pages)\n",
    "    del pdf.pages[-1]\n",
    "    pdf.save(\"新转存无密码文件.pdf\")"
   ]
  },
  {
   "cell_type": "markdown",
   "metadata": {},
   "source": [
    "### 11.3.3 Word文档的处理"
   ]
  },
  {
   "cell_type": "code",
   "execution_count": 8,
   "metadata": {},
   "outputs": [
    {
     "ename": "ModuleNotFoundError",
     "evalue": "No module named 'docx'",
     "output_type": "error",
     "traceback": [
      "\u001b[1;31m---------------------------------------------------------------------------\u001b[0m",
      "\u001b[1;31mModuleNotFoundError\u001b[0m                       Traceback (most recent call last)",
      "\u001b[1;32m~\\AppData\\Local\\Temp\\ipykernel_23476\\1110447456.py\u001b[0m in \u001b[0;36m<module>\u001b[1;34m\u001b[0m\n\u001b[0;32m      1\u001b[0m \u001b[1;32mimport\u001b[0m \u001b[0mpandas\u001b[0m \u001b[1;32mas\u001b[0m \u001b[0mpd\u001b[0m\u001b[1;33m\u001b[0m\u001b[1;33m\u001b[0m\u001b[0m\n\u001b[0;32m      2\u001b[0m \u001b[1;32mimport\u001b[0m \u001b[0mmatplotlib\u001b[0m\u001b[1;33m.\u001b[0m\u001b[0mpyplot\u001b[0m \u001b[1;32mas\u001b[0m \u001b[0mplt\u001b[0m\u001b[1;33m\u001b[0m\u001b[1;33m\u001b[0m\u001b[0m\n\u001b[1;32m----> 3\u001b[1;33m \u001b[1;32mfrom\u001b[0m \u001b[0mdocx\u001b[0m \u001b[1;32mimport\u001b[0m \u001b[0mDocument\u001b[0m\u001b[1;33m\u001b[0m\u001b[1;33m\u001b[0m\u001b[0m\n\u001b[0m\u001b[0;32m      4\u001b[0m \u001b[1;33m\u001b[0m\u001b[0m\n\u001b[0;32m      5\u001b[0m \u001b[1;31m#获取xlsx对象\u001b[0m\u001b[1;33m\u001b[0m\u001b[1;33m\u001b[0m\u001b[0m\n",
      "\u001b[1;31mModuleNotFoundError\u001b[0m: No module named 'docx'"
     ]
    }
   ],
   "source": [
    "import pandas as pd\n",
    "import matplotlib.pyplot as plt\n",
    "from docx import Document\n",
    " \n",
    "#获取xlsx对象\n",
    "students = pd.read_excel('students.xlsx')\n",
    "#就地排序\n",
    "students.sort_values(by='Score',inplace=True,ascending=False)\n",
    "#绘制柱状图\n",
    "plt.bar(students['Name'],students['Score'],color='orange')\n",
    "plt.title('Student Score',fontsize=16)\n",
    "plt.xlabel('Name')\n",
    "plt.ylabel('Score')\n",
    "plt.xticks(students.Name,rotation='90')\n",
    "plt.tight_layout()\n",
    " \n",
    "plt.savefig('student_score.png')\n",
    " \n",
    "######制作分析报告#######\n",
    "doc = Document()\n",
    "doc.add_heading('数据分析报告',level=0)\n",
    "#获取绝对位置第一的信息\n",
    "first_student = students.iloc[0,:]['Name']\n",
    "first_score = students.iloc[0,:]['Score']\n",
    " \n",
    "p = doc.add_paragraph('分数排在第一位的学生是')\n",
    "p.add_run(str(first_student)).bold =True\n",
    "p.add_run(',分数为')\n",
    "p.add_run(str(first_score)).bold =True\n",
    " \n",
    "p1 = doc.add_paragraph(f'总共有{len(students[\"Name\"])}名学生参加了考试，学生考试总体情况：')\n",
    "table = doc.add_table(rows=len(students[\"Name\"])+1,cols=2)\n",
    "table.style = 'Light Shading Accent 1'\n",
    "table.cell(0,0).text = '学生姓名'\n",
    "table.cell(0,1).text = '学生分数'\n",
    "for i,(index,row) in enumerate(students.iterrows()):\n",
    "    table.cell(i+1,0).text = str(row['Name'])\n",
    "    table.cell(i+1,1).text = str(row['Score'])\n",
    "doc.add_picture('student_score.png')\n",
    "doc.save('student_score_analyze.docx')\n",
    "print(\"Done!\")"
   ]
  },
  {
   "cell_type": "code",
   "execution_count": 9,
   "metadata": {},
   "outputs": [
    {
     "name": "stdout",
     "output_type": "stream",
     "text": [
      "Collecting docx\n",
      "  Downloading docx-0.2.4.tar.gz (54 kB)\n",
      "     -------------------------------------- 54.9/54.9 kB 150.5 kB/s eta 0:00:00\n",
      "  Preparing metadata (setup.py): started\n",
      "  Preparing metadata (setup.py): finished with status 'done'\n",
      "Requirement already satisfied: lxml in c:\\users\\12125\\anaconda3\\lib\\site-packages (from docx) (4.9.1)\n",
      "Requirement already satisfied: Pillow>=2.0 in c:\\users\\12125\\anaconda3\\lib\\site-packages (from docx) (9.2.0)\n",
      "Building wheels for collected packages: docx\n",
      "  Building wheel for docx (setup.py): started\n",
      "  Building wheel for docx (setup.py): finished with status 'done'\n",
      "  Created wheel for docx: filename=docx-0.2.4-py3-none-any.whl size=53897 sha256=f74163e2795120b9b492327da4e6a57cb43cd44ca43e09c869f00bd4a4924729\n",
      "  Stored in directory: c:\\users\\12125\\appdata\\local\\pip\\cache\\wheels\\0f\\8e\\9d\\7003eed35a84cf960876aae6bdf60d02041ddfcca66eceee94\n",
      "Successfully built docx\n",
      "Installing collected packages: docx\n",
      "Successfully installed docx-0.2.4\n"
     ]
    }
   ],
   "source": [
    "!pip install docx"
   ]
  },
  {
   "cell_type": "code",
   "execution_count": null,
   "metadata": {},
   "outputs": [],
   "source": [
    "f = open('trip_data_1.csv')\n",
    "f.readline()"
   ]
  },
  {
   "cell_type": "code",
   "execution_count": null,
   "metadata": {},
   "outputs": [],
   "source": [
    "f.readline()"
   ]
  },
  {
   "cell_type": "markdown",
   "metadata": {},
   "source": [
    "## 11.4 数据可视化方向"
   ]
  },
  {
   "cell_type": "markdown",
   "metadata": {},
   "source": [
    "#### 例12-1 matplotlib简单绘图"
   ]
  },
  {
   "cell_type": "code",
   "execution_count": null,
   "metadata": {},
   "outputs": [],
   "source": [
    "#让绘制的图形嵌入Jupyter\n",
    "%matplotlib inline   \n",
    "\n",
    "#让绘制的图形独立显示绘图窗口\n",
    "#%matplotlib qt5       \n",
    "\n",
    "from matplotlib import pyplot as plt \n",
    "\n",
    "plt.rcParams['font.sans-serif'] = ['FangSong'] # 指定默认字体\n",
    "plt.rcParams['axes.unicode_minus'] = False # 解决保存图像是负号'-'显示为方块的问题\n",
    "plt.rcParams['lines.marker']=''\n",
    "years = [1950, 1960, 1970, 1980, 1990, 2000, 2010] \n",
    "gdp = [300.2, 543.3, 1075.9, 2862.5, 5979.6, 10289.7, 14958.3] \n",
    "\n",
    "# 创建一幅线图， x轴是年份， y轴是gdp \n",
    "plt.plot(years, gdp, color='green', linestyle='solid') \n",
    "plt.title(\"名义GDP\")       # 给图形添加一个标题 \n",
    "plt.ylabel(\"十亿美元\")   # 给y轴加标题\n",
    "plt.xlabel(\"年度\")       # 给x轴加标题\n",
    "\n",
    "plt.show()               #显示图形"
   ]
  },
  {
   "cell_type": "code",
   "execution_count": null,
   "metadata": {},
   "outputs": [],
   "source": []
  },
  {
   "cell_type": "markdown",
   "metadata": {},
   "source": [
    "## 11.5 用户图形界面方向"
   ]
  },
  {
   "cell_type": "markdown",
   "metadata": {},
   "source": [
    "### 简易计算器"
   ]
  },
  {
   "cell_type": "code",
   "execution_count": 10,
   "metadata": {},
   "outputs": [],
   "source": [
    "# coding: utf-8\n",
    "# 将tkinter改为Tkinter兼容Python 2.x\n",
    "from tkinter import *\n",
    "class App:\n",
    "    def __init__(self, master):\n",
    "        self.master = master\n",
    "        self.initWidgets()\n",
    "        self.hi = None\n",
    "    def initWidgets(self):\n",
    "        # 创建一个输入组件\n",
    "        self.show = Label(relief=SUNKEN, font=('Courier New', 24),\\\n",
    "        width=23, bg='white', anchor=W)\n",
    "        # 对该输入组件使用Pack布局，放在容器顶部\n",
    "        self.show.pack(side=TOP, pady=10)\n",
    "        p = Frame(self.master)\n",
    "        p.pack(side=TOP)\n",
    "        # 定义字符串的元组\n",
    "        names = (\"+\", \"1\" , \"2\" , \"3\" , \"↺\"\n",
    "   ,\"-\", \"4\" , \"5\" , \"6\" , \"**\" , \"*\", \"7\" , \"8\"\n",
    "   , \"9\", \"//\", \"/\" , \".\" , \"0\" , \"%\", \"=\")\n",
    "        # 遍历字符串元组\n",
    "        for i in range(len(names)):\n",
    "        # 创建Button，将Button放入p组件中\n",
    "            b = Button(p, text=names[i], font=('Verdana', 20), width=5)\n",
    "            b.grid(row=i // 5, column=i % 5)\n",
    "             # 为鼠标左键的单击事件绑定事件处理方法\n",
    "            b.bind('<Button-1>', self.click)\n",
    "            # 为鼠标左键的双击事件绑定事件处理方法\n",
    "            if b['text'] == '↺': b.bind('<Button-1>', self.clean)\n",
    "            # 定义一个记录输入数字次数的变量\n",
    "        self.i = 0\n",
    "    def click(self, event):\n",
    "     # 如果用户单击的是数字键或点号\n",
    "        if(event.widget['text'] in ('0', '1', '2', '3',\\\n",
    "   '4', '5', '6', '7', '8', '9', '.')):\n",
    "         # 判断self.i是否为0，0的话清空show['text']的值\n",
    "            if self.i == 0 :\n",
    "                self.show['text'] = ''\n",
    "            self.show['text'] = self.show['text'] + event.widget['text']\n",
    "            self.i = self.i + 1\n",
    "            #print(self.i)\n",
    "        # 如果用户单击了运算符\n",
    "        elif(event.widget['text'] in ('+', '-', '*', '/', '%', '**', '//')):\n",
    "        # 把输入的数字与输入的字符相结合，组成一个数学运算式\n",
    "            self.show['text'] = self.show['text'] + event.widget['text']\n",
    "        elif(event.widget['text'] == '=' and self.show['text'] is not None):\n",
    "            # 赋值给self.hi\n",
    "            self.hi = self.show['text']\n",
    "            # 其实这一步可以不要，主要作用是在调试时可以在后台看输入的数据\n",
    "            #print(self.hi)\n",
    "            # 使用eval函数计算表达式的值\n",
    "            self.show['text'] = str(eval(self.hi))\n",
    "            self.hi = None\n",
    "            self.i = 0\n",
    "    # 点击↺（恢复）按钮时，程序清空计算结果、将表达式设为None\n",
    "    def clean(self, event):\n",
    "        self.hi = None\n",
    "        self.show['text'] = ''\n",
    "root = Tk()\n",
    "root.title(\"简单科学计算器\")\n",
    "App(root)\n",
    "root.mainloop()"
   ]
  },
  {
   "cell_type": "code",
   "execution_count": null,
   "metadata": {},
   "outputs": [],
   "source": []
  },
  {
   "cell_type": "markdown",
   "metadata": {},
   "source": [
    "## 11.6 机器学习方向（略）"
   ]
  },
  {
   "cell_type": "code",
   "execution_count": null,
   "metadata": {},
   "outputs": [],
   "source": []
  },
  {
   "cell_type": "markdown",
   "metadata": {},
   "source": [
    "## 11.7 Web开发方向（略）"
   ]
  },
  {
   "cell_type": "code",
   "execution_count": null,
   "metadata": {},
   "outputs": [],
   "source": []
  },
  {
   "cell_type": "markdown",
   "metadata": {},
   "source": [
    "## 11.8 游戏开发方向"
   ]
  },
  {
   "cell_type": "markdown",
   "metadata": {},
   "source": [
    "### 贪吃蛇游戏开发"
   ]
  },
  {
   "cell_type": "code",
   "execution_count": 13,
   "metadata": {},
   "outputs": [
    {
     "name": "stdout",
     "output_type": "stream",
     "text": [
      "pygame 2.5.2 (SDL 2.28.3, Python 3.9.13)\n",
      "Hello from the pygame community. https://www.pygame.org/contribute.html\n"
     ]
    },
    {
     "ename": "SystemExit",
     "evalue": "",
     "output_type": "error",
     "traceback": [
      "An exception has occurred, use %tb to see the full traceback.\n",
      "\u001b[1;31mSystemExit\u001b[0m\n"
     ]
    },
    {
     "name": "stderr",
     "output_type": "stream",
     "text": [
      "C:\\Users\\12125\\anaconda3\\lib\\site-packages\\IPython\\core\\interactiveshell.py:3465: UserWarning: To exit: use 'exit', 'quit', or Ctrl-D.\n",
      "  warn(\"To exit: use 'exit', 'quit', or Ctrl-D.\", stacklevel=1)\n"
     ]
    }
   ],
   "source": [
    "import pygame, sys, random\n",
    "from pygame.locals import *\n",
    "\n",
    "\n",
    "# 定义颜色\n",
    "pinkColor = pygame.Color(255, 182, 193)\n",
    "blackColor = pygame.Color(0, 0, 0)\n",
    "whiteColor = pygame.Color(255, 255, 255)\n",
    "\n",
    "\n",
    "# 定义游戏结束的函数\n",
    "def gameover():\n",
    "    pygame.quit()\n",
    "    sys.exit()\n",
    "\n",
    "\n",
    "def main():\n",
    "    # 初始化\n",
    "    pygame.init()\n",
    "    # 定义一个变量来控制速度\n",
    "    time_clock = pygame.time.Clock()\n",
    "\n",
    "    # 创建窗口，定义标题\n",
    "    screen = pygame.display.set_mode((640, 480))\n",
    "    pygame.display.set_caption(\"贪吃蛇\")\n",
    "\n",
    "    # 定义蛇的初始化变量\n",
    "    snakePosition = [100, 100]  # 蛇头位置\n",
    "    # 定义一个贪吃蛇的长度列表，其中有几个元素就代表有几段身体\n",
    "    snakeSegments = [[100, 100], [80, 100], [60, 100], [40, 100], [20, 100]]\n",
    "    # 初始化食物位置\n",
    "    foodPostion = [300, 300]\n",
    "    # 食物数量，1是没被吃，0是被吃了\n",
    "    foodTotal = 1\n",
    "    # 初始方向，向右\n",
    "    direction = 'right'\n",
    "    # 定义一个改变方向的变量，按键\n",
    "    changeDirection = direction\n",
    "\n",
    "    # 通过键盘控制蛇的运动\n",
    "    while True:\n",
    "        # 从队列中获取事件\n",
    "        for event in pygame.event.get():\n",
    "            # 判断是否为退出事件\n",
    "            if event.type == QUIT:\n",
    "                pygame.quit()\n",
    "                sys.exit()\n",
    "            # 按键事件\n",
    "            elif event.type == KEYDOWN:\n",
    "                # 如果是右键头或者是d，蛇向右移动\n",
    "                if event.key == K_RIGHT or event.key == K_d:\n",
    "                    changeDirection = 'right'\n",
    "                # 如果是左键头或者是a，蛇向左移动\n",
    "                if event.key == K_LEFT or event.key == K_a:\n",
    "                    changeDirection = 'left'\n",
    "                if event.key == K_UP or event.key == K_w:\n",
    "                    changeDirection = 'up'\n",
    "                if event.key == K_DOWN or event.key == K_s:\n",
    "                    changeDirection = 'down'\n",
    "                # 对应键盘上的Esc键，表示退出\n",
    "                if event.key == K_ESCAPE:\n",
    "                    pygame.event.post(pygame.event.Event(QUIT))\n",
    "\n",
    "        # 确认方向，判断是否输入了反方向运动\n",
    "        if changeDirection == 'right' and not direction == 'left':\n",
    "            direction = changeDirection\n",
    "        if changeDirection == 'left' and not direction == 'right':\n",
    "            direction = changeDirection\n",
    "        if changeDirection == 'up' and not direction == 'down':\n",
    "            direction = changeDirection\n",
    "        if changeDirection == 'down' and not direction == 'up':\n",
    "            direction = changeDirection\n",
    "\n",
    "        # 根据方向移动蛇头\n",
    "        if direction == 'right':\n",
    "            snakePosition[0] += 20\n",
    "        if direction == 'left':\n",
    "            snakePosition[0] -= 20\n",
    "        if direction == 'up':\n",
    "            snakePosition[1] -= 20\n",
    "        if direction == 'down':\n",
    "            snakePosition[1] += 20\n",
    "\n",
    "        # 增加蛇的长度\n",
    "        snakeSegments.insert(0, list(snakePosition))\n",
    "        # 判断是否吃到食物\n",
    "        if snakePosition[0] == foodPostion[0] and snakePosition[1] == foodPostion[1]:\n",
    "            foodTotal = 0\n",
    "        else:\n",
    "            snakeSegments.pop()  # 每次将最后一单位蛇身剔除列表\n",
    "\n",
    "        # 如果食物为0 重新生成食物\n",
    "        if foodTotal == 0:\n",
    "            x = random.randrange(1, 32)\n",
    "            y = random.randrange(1, 24)\n",
    "            foodPostion = [int(x * 20), int(y * 20)]\n",
    "            foodTotal = 1\n",
    "\n",
    "        # 绘制pygame显示层\n",
    "        screen.fill(blackColor)\n",
    "\n",
    "\n",
    "        for position in snakeSegments:  # 蛇身为白色\n",
    "            # 化蛇\n",
    "            pygame.draw.rect(screen, pinkColor, Rect(position[0], position[1], 20, 20))\n",
    "            pygame.draw.rect(screen, whiteColor, Rect(foodPostion[0], foodPostion[1], 20, 20))\n",
    "\n",
    "        # 更新显示到屏幕表面\n",
    "        pygame.display.flip()\n",
    "\n",
    "        # 判断游戏是否结束\n",
    "        if snakePosition[0] > 620 or snakePosition[0] < 0:\n",
    "            gameover()\n",
    "        elif snakePosition[1] > 460 or snakePosition[1] < 0:\n",
    "            gameover()\n",
    "        # 如果碰到自己的身体\n",
    "        for body in snakeSegments[1:]:\n",
    "            if snakePosition[0] == body[0] and snakePosition[1] == body[1]:\n",
    "                gameover()\n",
    "\n",
    "        # 控制游戏速度\n",
    "        time_clock.tick(5)\n",
    "\n",
    "\n",
    "\n",
    "#  启动入口函数\n",
    "if __name__ == '__main__':\n",
    "    main()"
   ]
  },
  {
   "cell_type": "code",
   "execution_count": 12,
   "metadata": {},
   "outputs": [
    {
     "name": "stdout",
     "output_type": "stream",
     "text": [
      "Collecting pygame\n",
      "  Downloading pygame-2.5.2-cp39-cp39-win_amd64.whl (10.8 MB)\n",
      "     --------------------------------------- 10.8/10.8 MB 10.5 MB/s eta 0:00:00\n",
      "Installing collected packages: pygame\n",
      "Successfully installed pygame-2.5.2\n"
     ]
    }
   ],
   "source": [
    "!pip install pygame"
   ]
  },
  {
   "cell_type": "markdown",
   "metadata": {},
   "source": [
    "## 11.9 更多第三方库（略）"
   ]
  },
  {
   "cell_type": "code",
   "execution_count": null,
   "metadata": {},
   "outputs": [],
   "source": []
  }
 ],
 "metadata": {
  "kernelspec": {
   "display_name": "Python 3 (ipykernel)",
   "language": "python",
   "name": "python3"
  },
  "language_info": {
   "codemirror_mode": {
    "name": "ipython",
    "version": 3
   },
   "file_extension": ".py",
   "mimetype": "text/x-python",
   "name": "python",
   "nbconvert_exporter": "python",
   "pygments_lexer": "ipython3",
   "version": "3.9.13"
  }
 },
 "nbformat": 4,
 "nbformat_minor": 2
}
