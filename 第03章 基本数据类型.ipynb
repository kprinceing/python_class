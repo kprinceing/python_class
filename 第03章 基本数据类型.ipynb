{
 "cells": [
  {
   "cell_type": "markdown",
   "metadata": {},
   "source": [
    "# 第3章 基本数据类型 "
   ]
  },
  {
   "cell_type": "code",
   "execution_count": null,
   "metadata": {
    "scrolled": true
   },
   "outputs": [],
   "source": [
    "print(type('201700201021') , type('张三') , type('男'))"
   ]
  },
  {
   "cell_type": "code",
   "execution_count": null,
   "metadata": {
    "scrolled": true
   },
   "outputs": [],
   "source": [
    "print(type(21))"
   ]
  },
  {
   "cell_type": "code",
   "execution_count": null,
   "metadata": {
    "scrolled": true
   },
   "outputs": [],
   "source": [
    "type(True)"
   ]
  },
  {
   "cell_type": "code",
   "execution_count": null,
   "metadata": {
    "scrolled": true
   },
   "outputs": [],
   "source": [
    "3 + 5.2"
   ]
  },
  {
   "cell_type": "code",
   "execution_count": null,
   "metadata": {
    "scrolled": true
   },
   "outputs": [],
   "source": [
    "3 + '张三'"
   ]
  },
  {
   "cell_type": "code",
   "execution_count": null,
   "metadata": {
    "scrolled": true
   },
   "outputs": [],
   "source": [
    "pow(1.5 , 3.1)"
   ]
  },
  {
   "cell_type": "code",
   "execution_count": null,
   "metadata": {},
   "outputs": [],
   "source": [
    "'I am a teacher'.split()"
   ]
  },
  {
   "cell_type": "code",
   "execution_count": null,
   "metadata": {},
   "outputs": [],
   "source": [
    "f = 'hello world'    #定义一个字符串\n",
    "f.upper()            #字符串转换为大写的方法，不改变f"
   ]
  },
  {
   "cell_type": "code",
   "execution_count": null,
   "metadata": {},
   "outputs": [],
   "source": []
  },
  {
   "cell_type": "markdown",
   "metadata": {},
   "source": [
    "## 3.1 数值类型\n",
    "### 3.1.1 数值类型概述\n",
    "\n",
    "对数字识别和处理的两个基本要求：**确定性**和**高效性**。<br>\n",
    "- 确定性：程序能够正确且无歧义地解读数据所代表的类型含义。<br><br>\n",
    "  - 例如，程序元素：1010，要明确是用来计算的数值1010，还是类似于编号的字符串\"1010\"，两者使用方式不同、操作不同、存储方式不同等；<br><br>\n",
    "  - 另外，1010为数字，还需明确是二进制数，还是十进制、八进制、十六进制数。<br><br>\n",
    "- 高效性：程序能够为数字运算提供较高的计算速度，并花费较少的存储空间代价。<br><br>\n",
    "  - 整数加法比小数加法快5-20倍。\n",
    "  \n",
    "<br><br>\n",
    "**Python语言包括三种数值类型**\n",
    "<br>\n",
    "- 整数类型\n",
    "<br><br>\n",
    "- 浮点数类型\n",
    "<br><br>\n",
    "- 复数类型"
   ]
  },
  {
   "cell_type": "code",
   "execution_count": null,
   "metadata": {
    "scrolled": true
   },
   "outputs": [],
   "source": []
  },
  {
   "cell_type": "markdown",
   "metadata": {},
   "source": [
    "### 3.1.2 整数类型\n",
    "\n",
    "- 与数学中的整数概念一致，没有取值范围限制<br><br>\n",
    "- 共有4种进制表示：二进制数、八进制、十进制、十六进制数<br><br>\n",
    "- 默认十进制，其它进制数需加引导符号：二进制**0b**，八进制**0o**，十六进制**0x**（字母大小写均可）<br><br>\n",
    "  - 不同进制的整数之间可以直接运算<br><br>\n",
    "pow(x, y)函数：计算$x^y$\n",
    "<br><br>\n",
    "程序1：pow(2,10) , pow(2,15)\n",
    "<br><br>\n",
    " 程序2：pow(2, 1000)\n",
    "<br><br>\n",
    " 程序3：pow(2, pow(2,15))\n",
    "<br><br>\n",
    "示例\n",
    "<br><br>\n",
    " 1010, 99, -217 \n",
    "<br><br>\n",
    " 0x9a, -0X89   (0x, 0X开头表示16进制数) \n",
    "<br><br>\n",
    " 0b010, -0B101  (0b, 0B开头表示2进制数) \n",
    "<br><br>\n",
    " 0o123, -0O456  (0o, 0O开头表示8进制数)"
   ]
  },
  {
   "cell_type": "code",
   "execution_count": null,
   "metadata": {
    "scrolled": true
   },
   "outputs": [],
   "source": [
    "1010, -1010, 0b1010, 0o1010, 0x1010    #不同进制整数都转换成是进制整数"
   ]
  },
  {
   "cell_type": "code",
   "execution_count": null,
   "metadata": {
    "scrolled": true
   },
   "outputs": [],
   "source": [
    "0x9a, -0X89, 0xabc   #0x或0X开头表示十六进制整数"
   ]
  },
  {
   "cell_type": "code",
   "execution_count": null,
   "metadata": {
    "scrolled": true
   },
   "outputs": [],
   "source": [
    "0b010, -0B101       #0b或0B开头表示二进制整数"
   ]
  },
  {
   "cell_type": "code",
   "execution_count": null,
   "metadata": {
    "scrolled": true
   },
   "outputs": [],
   "source": [
    "0o123, -0O456       #0o或0O开头表示八进制整数"
   ]
  },
  {
   "cell_type": "code",
   "execution_count": null,
   "metadata": {
    "scrolled": true
   },
   "outputs": [],
   "source": [
    "-1010 + 0b1010 + 0x1010      #不同进制整数的运算"
   ]
  },
  {
   "cell_type": "code",
   "execution_count": null,
   "metadata": {
    "scrolled": true
   },
   "outputs": [],
   "source": []
  },
  {
   "cell_type": "markdown",
   "metadata": {},
   "source": [
    "### 2.1.3 浮点数类型"
   ]
  },
  {
   "cell_type": "code",
   "execution_count": null,
   "metadata": {
    "scrolled": true
   },
   "outputs": [],
   "source": [
    " -77."
   ]
  },
  {
   "cell_type": "code",
   "execution_count": null,
   "metadata": {
    "scrolled": true
   },
   "outputs": [],
   "source": [
    "#我国现有14亿人口\n",
    "1.4e9"
   ]
  },
  {
   "cell_type": "code",
   "execution_count": null,
   "metadata": {
    "scrolled": true
   },
   "outputs": [],
   "source": [
    "import sys\n",
    "sys.float_info"
   ]
  },
  {
   "cell_type": "code",
   "execution_count": null,
   "metadata": {
    "scrolled": true
   },
   "outputs": [],
   "source": [
    "sys.float_info.max    #max是sys . float_info的属性"
   ]
  },
  {
   "cell_type": "code",
   "execution_count": null,
   "metadata": {
    "scrolled": true
   },
   "outputs": [],
   "source": [
    "1234567890.987654321 * 1234567890.987654321"
   ]
  },
  {
   "cell_type": "code",
   "execution_count": null,
   "metadata": {
    "scrolled": true
   },
   "outputs": [],
   "source": [
    "9876543210.123456789 / 1234567890.987654321"
   ]
  },
  {
   "cell_type": "markdown",
   "metadata": {},
   "source": [
    "#### 整数与浮点数"
   ]
  },
  {
   "cell_type": "code",
   "execution_count": null,
   "metadata": {
    "scrolled": true
   },
   "outputs": [],
   "source": [
    "pow ( 1010 , 32 )"
   ]
  },
  {
   "cell_type": "code",
   "execution_count": null,
   "metadata": {
    "scrolled": true
   },
   "outputs": [],
   "source": [
    "pow ( 1010.0 , 32 )"
   ]
  },
  {
   "cell_type": "markdown",
   "metadata": {},
   "source": [
    "#### 浮点数运算的“不确定尾数”问题\n",
    "<font size=3>  \n",
    "    主要原因在于：计算机内部使用二进制表达数据的<br>  \n",
    "    解决办法：使用四舍五入函数**round()**保留指定的小数位数"
   ]
  },
  {
   "cell_type": "code",
   "execution_count": null,
   "metadata": {
    "scrolled": true
   },
   "outputs": [],
   "source": [
    "0.1 + 0.2"
   ]
  },
  {
   "cell_type": "code",
   "execution_count": null,
   "metadata": {
    "scrolled": true
   },
   "outputs": [],
   "source": [
    " 0.1 + 0.2 == 0.3"
   ]
  },
  {
   "cell_type": "code",
   "execution_count": null,
   "metadata": {
    "scrolled": true
   },
   "outputs": [],
   "source": [
    "round ( 0.1 + 0.2, 3 ) == 0.3"
   ]
  },
  {
   "cell_type": "code",
   "execution_count": null,
   "metadata": {
    "scrolled": true
   },
   "outputs": [],
   "source": []
  },
  {
   "cell_type": "markdown",
   "metadata": {},
   "source": [
    "### 3.1.4 复数类型\n",
    "\n",
    "- 与数学中的复数概念一致.复数有一个基本单位元素j，叫作“虚数单位”。含有虚数单位的数被称为复数。\n",
    "<br><br>\n",
    "  - 示例：<br><br>\n",
    "&nbsp;&nbsp;&nbsp;&nbsp;12.3+4j,&nbsp;-5.6+7j<br><br>\n",
    "- Python语言中，复数可以看作是二元有序实数对（a, b），表示为：a + bj<br><br>\n",
    "    - 其中，a是实数部分，简称**实部**，b是虚数部分，简称**虚部**。虚数部分通过后缀“J”或者“j”来表示。<br><br>\n",
    "    - 复数类型中实部a和虚部b都是浮点类型，<br><br>\n",
    "    - 需要注意，当b为1时，1不能省略，即 1j表示复数，而如果直接用j则表示Python程序中的一个变量。\n",
    "<br><br>\n",
    "z = 1.23e-4+5.6e+89j #（实部和虚部是什么？）\n",
    "<br><br>\n",
    "对于复数z，可以用**z.real**获得实数部分，**z.imag**获得虚数部分\n",
    "<br><br>\n",
    "z.real: 0.000123<br><br>\n",
    "z.imag: 5.6e+89\n",
    "<br>"
   ]
  },
  {
   "cell_type": "code",
   "execution_count": null,
   "metadata": {
    "scrolled": true
   },
   "outputs": [],
   "source": [
    "1+1j"
   ]
  },
  {
   "cell_type": "code",
   "execution_count": null,
   "metadata": {
    "scrolled": true
   },
   "outputs": [],
   "source": [
    "1 + j"
   ]
  },
  {
   "cell_type": "code",
   "execution_count": null,
   "metadata": {
    "scrolled": false
   },
   "outputs": [],
   "source": [
    "z = 1.23e-4 + 5.6e+89j\n",
    "print (z.real , z.imag)"
   ]
  },
  {
   "cell_type": "code",
   "execution_count": null,
   "metadata": {
    "scrolled": true
   },
   "outputs": [],
   "source": [
    "(1.23e4+5.67e4j).imag"
   ]
  },
  {
   "cell_type": "code",
   "execution_count": null,
   "metadata": {
    "scrolled": true
   },
   "outputs": [],
   "source": [
    "1.23e4+5.67e4j.imag   # 先获得5.67e4j的虚部，再与1.23e4进行求和计算"
   ]
  },
  {
   "cell_type": "markdown",
   "metadata": {},
   "source": [
    "## 3.2 数值类型数据的运算\n",
    "### 3.2.1 内置的数值运算操作符  \n",
    "<font size=3>  \n",
    "- 内置的数值运算操作符：不需要引入第三方函数库，由Python解释器直接提供的。\n",
    "<br><br>\n",
    "- 9个基本的数值运算操作符。"
   ]
  },
  {
   "cell_type": "code",
   "execution_count": null,
   "metadata": {
    "scrolled": true
   },
   "outputs": [],
   "source": [
    "print (17 / 3)"
   ]
  },
  {
   "cell_type": "code",
   "execution_count": null,
   "metadata": {
    "scrolled": true
   },
   "outputs": [],
   "source": [
    "print (17 // 3 , 17 % 3)"
   ]
  },
  {
   "cell_type": "code",
   "execution_count": null,
   "metadata": {
    "scrolled": true
   },
   "outputs": [],
   "source": [
    "print (17.5 // 3.1 , 17.5 % 3.1)"
   ]
  },
  {
   "cell_type": "code",
   "execution_count": null,
   "metadata": {
    "scrolled": true
   },
   "outputs": [],
   "source": [
    "print ( 11.2 ** 3 )\n",
    "print ( pow ( 11.2 , 3 ) )"
   ]
  },
  {
   "cell_type": "code",
   "execution_count": null,
   "metadata": {
    "scrolled": true
   },
   "outputs": [],
   "source": []
  },
  {
   "cell_type": "code",
   "execution_count": null,
   "metadata": {
    "scrolled": true
   },
   "outputs": [],
   "source": [
    "x = 99\n",
    "x **= 3           # 与x = x**3等价\n",
    "print(x)"
   ]
  },
  {
   "cell_type": "code",
   "execution_count": null,
   "metadata": {
    "scrolled": true
   },
   "outputs": [],
   "source": [
    "x = 99\n",
    "x = x ** 3 \n",
    "print(x)"
   ]
  },
  {
   "cell_type": "markdown",
   "metadata": {},
   "source": [
    "操作符运算的结果可改变数字类型，三种类型存在一种逐渐“扩展”的关系：\n",
    "- **整数 -> 浮点数 -> 复数**<br><br>  \n",
    "    - 整数是浮点数特例，浮点数是复数特例<br><br>  \n",
    "\n",
    "不同数字类型之间可以进行混合运算，运算后生成结果为最宽类型<br>  \n",
    "123 + 4.0结果是127.0  (整数 + 浮点数 = 浮点数)<br>  \n",
    "  - 数字类型之间相互运算所生成的结果是“更宽”的类型，基本规则是：<br><br>  \n",
    "    - 整数之间运算，产生结果类型与操作符相关，/ （除法）的结果是浮点数；<br><br>  \n",
    "   - 整数和浮点数混合运算，输出结果是浮点数；<br> <br> \n",
    "    - 整数或浮点数与复数运算，输出结果是复数。"
   ]
  },
  {
   "cell_type": "code",
   "execution_count": null,
   "metadata": {
    "scrolled": true
   },
   "outputs": [],
   "source": [
    "3 / 3"
   ]
  },
  {
   "cell_type": "code",
   "execution_count": null,
   "metadata": {
    "scrolled": true
   },
   "outputs": [],
   "source": [
    "1010 / 10         # 除法/运算的结果是浮点数"
   ]
  },
  {
   "cell_type": "code",
   "execution_count": null,
   "metadata": {
    "scrolled": true
   },
   "outputs": [],
   "source": [
    "1010.0 // 3       # 浮点数与整数的整除运算，产生结果是浮点数"
   ]
  },
  {
   "cell_type": "code",
   "execution_count": null,
   "metadata": {
    "scrolled": true
   },
   "outputs": [],
   "source": [
    "1010 // 3       # 整数与整数的整除运算，产生结果是整数"
   ]
  },
  {
   "cell_type": "code",
   "execution_count": null,
   "metadata": {
    "scrolled": true
   },
   "outputs": [],
   "source": [
    "1010.5 % 3      # 浮点数与整数的整除取余运算，产生结果是浮点数"
   ]
  },
  {
   "cell_type": "code",
   "execution_count": null,
   "metadata": {
    "scrolled": true
   },
   "outputs": [],
   "source": [
    "1010 % 3      # 整数与整数的整除取余运算，产生结果是整数"
   ]
  },
  {
   "cell_type": "code",
   "execution_count": null,
   "metadata": {
    "scrolled": true
   },
   "outputs": [],
   "source": [
    "10 - 1 + 1j     # 等价于 (10 – 1) + 1j"
   ]
  },
  {
   "cell_type": "code",
   "execution_count": null,
   "metadata": {
    "scrolled": true
   },
   "outputs": [],
   "source": []
  },
  {
   "cell_type": "markdown",
   "metadata": {},
   "source": [
    "**增强赋值操作符（自变赋值）：**<br>  \n",
    "- 包含+=、-=、\\*=、/=、//=、%=、**=<br><br>\n",
    "- 自变赋值语句的语法格式：<br><br>\n",
    "&nbsp;&nbsp;&nbsp;&nbsp;x  op=  y&nbsp;&nbsp;&nbsp;&nbsp;&nbsp;&nbsp;&nbsp;&nbsp;#注：op=为赋值操作符，op与=之间没有空格<br><br>\n",
    "等价于<br>  \n",
    "&nbsp;&nbsp;&nbsp;x = x op y<br><br>\n",
    "例如<br><br>\n",
    "&nbsp;&nbsp;&nbsp;&nbsp;a, b = 4, -32.5<br><br>\n",
    "&nbsp;&nbsp;&nbsp;&nbsp;a \\*= b    #等同于 a = a * b"
   ]
  },
  {
   "cell_type": "code",
   "execution_count": null,
   "metadata": {
    "scrolled": true
   },
   "outputs": [],
   "source": [
    "a, b = 4, -32.5\n",
    "a *= b                 #自变赋值语句\n",
    "print (a)"
   ]
  },
  {
   "cell_type": "code",
   "execution_count": null,
   "metadata": {
    "scrolled": true
   },
   "outputs": [],
   "source": [
    "a, b = 4, -32.5\n",
    "a = a * b             #与自变赋值语句等同\n",
    "print (a)"
   ]
  },
  {
   "cell_type": "code",
   "execution_count": null,
   "metadata": {
    "scrolled": true
   },
   "outputs": [],
   "source": []
  },
  {
   "cell_type": "markdown",
   "metadata": {},
   "source": [
    "### 3.2.2 内置的数值运算函数\n",
    "\n",
    "Python解释器提供了一些内置函数，其中有6个函数与数值运算相关:"
   ]
  },
  {
   "cell_type": "code",
   "execution_count": null,
   "metadata": {
    "scrolled": true
   },
   "outputs": [],
   "source": []
  },
  {
   "cell_type": "markdown",
   "metadata": {},
   "source": [
    "#### abs()——求绝对值函数\n",
    "abs()可计算复数的绝对值：而为坐标系中复数位置到坐标原点的长度。"
   ]
  },
  {
   "cell_type": "code",
   "execution_count": null,
   "metadata": {
    "scrolled": true
   },
   "outputs": [],
   "source": [
    "print (abs(3 - 6j))"
   ]
  },
  {
   "cell_type": "markdown",
   "metadata": {},
   "source": [
    "#### pow()函数"
   ]
  },
  {
   "cell_type": "code",
   "execution_count": null,
   "metadata": {
    "scrolled": true
   },
   "outputs": [],
   "source": [
    "pow(3.2 , 0.5)"
   ]
  },
  {
   "cell_type": "code",
   "execution_count": null,
   "metadata": {
    "scrolled": true
   },
   "outputs": [],
   "source": [
    "3.2 ** 0.5"
   ]
  },
  {
   "cell_type": "code",
   "execution_count": null,
   "metadata": {
    "scrolled": true
   },
   "outputs": [],
   "source": [
    "print (pow(2,10))"
   ]
  },
  {
   "cell_type": "code",
   "execution_count": null,
   "metadata": {
    "scrolled": true
   },
   "outputs": [],
   "source": [
    "print(pow(2, 10, 3))"
   ]
  },
  {
   "cell_type": "markdown",
   "metadata": {},
   "source": [
    "#### divmod()——模运算函数"
   ]
  },
  {
   "cell_type": "code",
   "execution_count": null,
   "metadata": {
    "scrolled": true
   },
   "outputs": [],
   "source": [
    "divmod(10,3)"
   ]
  },
  {
   "cell_type": "code",
   "execution_count": null,
   "metadata": {
    "scrolled": true
   },
   "outputs": [],
   "source": [
    "print( 10 // 3 , 10 % 3 )"
   ]
  },
  {
   "cell_type": "code",
   "execution_count": null,
   "metadata": {
    "scrolled": true
   },
   "outputs": [],
   "source": [
    "a , b = divmod(10,3)\n",
    "print( a , b )"
   ]
  },
  {
   "cell_type": "code",
   "execution_count": null,
   "metadata": {
    "scrolled": true
   },
   "outputs": [],
   "source": [
    "c = divmod(10,3)     #结果是一个元组类型数据\n",
    "c"
   ]
  },
  {
   "cell_type": "code",
   "execution_count": null,
   "metadata": {
    "scrolled": true
   },
   "outputs": [],
   "source": [
    "print( c[0] , c[1] )"
   ]
  },
  {
   "cell_type": "markdown",
   "metadata": {},
   "source": [
    "#### round()——四舍五入函数"
   ]
  },
  {
   "cell_type": "code",
   "execution_count": null,
   "metadata": {
    "scrolled": true
   },
   "outputs": [],
   "source": [
    "round(17 / 3)"
   ]
  },
  {
   "cell_type": "code",
   "execution_count": null,
   "metadata": {
    "scrolled": true
   },
   "outputs": [],
   "source": [
    "round(17 / 3 , 3)"
   ]
  },
  {
   "cell_type": "code",
   "execution_count": null,
   "metadata": {
    "scrolled": true
   },
   "outputs": [],
   "source": [
    "int(17/3)"
   ]
  },
  {
   "cell_type": "markdown",
   "metadata": {},
   "source": [
    "### 3.2.5 内置第三方数学库math（自学）\n",
    "**函数库：**\n",
    "- 内置函数库或标准函数库；<br><br>\n",
    "- 第三方函数库，需提前安装(见后续介绍)<br><br>\n",
    "\n",
    "**模块编程：**<br><br>\n",
    "**math库是Python提供的内置数学类函数库**\n",
    "<br><br>\n",
    "- math库不支持复数类型\n",
    "<br><br>\n",
    "- math库一共提供了4个数学常数和44个函数。\n",
    "<br><br>\n",
    "  - 44个函数共分为4类，包括：16个数值表示函数、8个幂对数函数、16个三角对数函数和4个高等特殊函数\n",
    "<br><br>\n",
    "  - 使用math库的函数之前，先引入math库：<br><br>\n",
    "   **import math** \n",
    "<br><br>\n",
    "    - 该引入方式下对math库中函数使用的形式：${math.<b>()}$\n",
    "\n",
    "    <br>  \n",
    "**from math import <函数名>**\n",
    "    <br><br>\n",
    "    - 该引入方式下对math库中函数使用的形式：**<函数名>()**\n",
    "\n",
    "<br><br>\n",
    "**math库包括4个数学常数**"
   ]
  },
  {
   "cell_type": "code",
   "execution_count": null,
   "metadata": {
    "scrolled": true
   },
   "outputs": [],
   "source": [
    "import math\n",
    "r = eval(input('请输入圆的半径：'))\n",
    "print (math.pi * r * r)"
   ]
  },
  {
   "cell_type": "code",
   "execution_count": null,
   "metadata": {
    "scrolled": true
   },
   "outputs": [],
   "source": [
    "r = eval(input('请输入圆的半径：'))\n",
    "print (3.1415926 * r * r)"
   ]
  },
  {
   "cell_type": "code",
   "execution_count": null,
   "metadata": {
    "scrolled": true
   },
   "outputs": [],
   "source": []
  },
  {
   "cell_type": "markdown",
   "metadata": {},
   "source": [
    "**math库包括16个数值表示函数**"
   ]
  },
  {
   "cell_type": "code",
   "execution_count": null,
   "metadata": {
    "scrolled": true
   },
   "outputs": [],
   "source": [
    "import math\n",
    "print (math.ceil(4.7),math.ceil(-4.7))"
   ]
  },
  {
   "cell_type": "code",
   "execution_count": null,
   "metadata": {
    "scrolled": true
   },
   "outputs": [],
   "source": [
    "print (math.floor(4.7),math.floor(-4.7))"
   ]
  },
  {
   "cell_type": "code",
   "execution_count": null,
   "metadata": {
    "scrolled": true
   },
   "outputs": [],
   "source": []
  },
  {
   "cell_type": "markdown",
   "metadata": {},
   "source": [
    "<font size=3>\n",
    "\n",
    "**math库中包括8个幂对数函数**<br><br>\n",
    "**math库包括六个三角双曲函数**<br><br>\n",
    "**math库包括4个高等特殊函数**"
   ]
  },
  {
   "cell_type": "code",
   "execution_count": null,
   "metadata": {
    "scrolled": true
   },
   "outputs": [],
   "source": [
    "print (math.atan(1) * 4)"
   ]
  },
  {
   "cell_type": "code",
   "execution_count": null,
   "metadata": {
    "scrolled": true
   },
   "outputs": [],
   "source": [
    "print (math.log10(10))"
   ]
  },
  {
   "cell_type": "code",
   "execution_count": null,
   "metadata": {
    "scrolled": true
   },
   "outputs": [],
   "source": []
  },
  {
   "cell_type": "markdown",
   "metadata": {},
   "source": [
    "### 3.2.4 数值型数据综合例题"
   ]
  },
  {
   "cell_type": "code",
   "execution_count": null,
   "metadata": {
    "scrolled": true
   },
   "outputs": [],
   "source": [
    "#例3.1 GDP2019为2019年各省的GDP值，求平均值和中位数。\n",
    "GDP2019=[107671.07, 99631.52, 71067.5, 62352, 54259.2, 46615.82, 45828.31, 42395, 39752.12,38155.32, 37114, 35371.3, 35104.5, 25793.17, 24909.5, 24757.5, 23605.77, 23223.75, 21237.14, 17212.5, 17026.68, 16769.34, 14104.28, 13612.7, 13597.11, 11726.8, 8718.3, 5308.94, 3748.48, 2965.95, 1697.82]\n",
    "Total = 0\n",
    "for gdp in GDP2019:\n",
    "    Total += gdp\n",
    "print('2019年各省平均GDP为：', Total / 31)\n",
    "n = len(GDP2019)\n",
    "if n % 2 == 0:\n",
    "    print('2019年各省GDP中位数为：', GDP2019[n / 2 - 1], GDP2019[n / 2 ])\n",
    "else:\n",
    "    print('2019年各省GDP中位数为：', GDP2019[int(n / 2)])\n",
    "print('2019年山东省超出各省平均GDP：', 71067.5-Total / n)"
   ]
  },
  {
   "cell_type": "code",
   "execution_count": null,
   "metadata": {
    "scrolled": true
   },
   "outputs": [],
   "source": [
    "'''例题3.2 ，中国银行当前年存款利率为1年期为1.65%，5年期2.65%，初始本金为10000元:\n",
    "（1）按单利计算，5年后本利和为多少？\n",
    "（2）按复利计算，5年后本利和为多少？\n",
    "（3）按复利计算，多少年后本利和才能超出初始本金1倍？\n",
    "'''\n",
    "import math\n",
    "p = 10000\n",
    "r1 = 0.0155\n",
    "r5 = 0.0225\n",
    "\n",
    "print(\"按单利计算，5年后本利和为:\", p * (1 + 5 * r5) )\n",
    "print(\"按复利计算，5年后本利和为:\", p * pow(1 + r1, 5) )\n",
    "print(\"按复利计算，本利和要超出初始本金需要存款年数为:\", math.log(2) / math.log(1 + r1) )"
   ]
  },
  {
   "cell_type": "code",
   "execution_count": null,
   "metadata": {},
   "outputs": [],
   "source": [
    "#例3.3 计算高利贷，利滚利\n",
    "r = float(input('请输入借款日利息：'))\n",
    "p = float(input('请输入借款金额：'))\n",
    "d = int(input('请输入借款天数：'))\n",
    "paybacks = p * ( 1 + r ) ** d \n",
    "print(\"借款{}元，日息{:.2%}，借款{}天到期还款金额为{:.2f}元。\".format(p , r , d , paybacks ))"
   ]
  },
  {
   "cell_type": "code",
   "execution_count": null,
   "metadata": {
    "scrolled": true
   },
   "outputs": [],
   "source": [
    "#例3.3 计算高利贷，利滚利\n",
    "r = float(input('请输入借款日利息：'))\n",
    "p = float(input('请输入借款金额：'))\n",
    "d = int(input('请输入借款天数：'))\n",
    "paybacks = p * ( 1 + r ) ** d \n",
    "print(\"借款{}元，日息{:.2%}，借款{}天到期还款金额为{:.2f}元。\".format(p , r , d , paybacks ))"
   ]
  },
  {
   "cell_type": "code",
   "execution_count": null,
   "metadata": {},
   "outputs": [],
   "source": []
  },
  {
   "cell_type": "code",
   "execution_count": null,
   "metadata": {},
   "outputs": [],
   "source": []
  },
  {
   "cell_type": "markdown",
   "metadata": {},
   "source": [
    "## 3.3 字符串类型及其操作\n",
    "\n",
    "### 3.3.1 字符串类型数据的表示\n",
    "\n",
    "<br>**文本数据**<br>\n",
    "- 计算机应用<br><br>\n",
    "  - 科学计算<br><br>\n",
    "  - 信息管理<br><br>\n",
    "- 信息管理中大量的数据都是文本数据.<br><br>\n",
    "  - 如：姓名,地址,简历等等<br><br>\n",
    "- 小测验：身份证号码、电话号码等用数值类型数据表示吗？?<br><br>\n",
    "- 计算机中用**字符串**来表示文本数据.<br><br>\n",
    "\n",
    "<br>**字符串数据**<br>\n",
    "- 字符串是字符的序列表示，根据字符串的内容多少分为**单行字符串**和**多行字符串**。<br><br>\n",
    "- **单行字符串**可以由一对单引号（'）或双引号（\"）作为边界来表示，单引号和双引号作用相同。<br><br>\n",
    "- **多行字符串**可以由一对三单引号（'''）或三双引号（\"\"\"）作为边界来表示，两者作用相同。也可以在三引号中自由的使用单引号和双引号。\n",
    "<br><br>\n",
    "  - 例如<br><br>\n",
    "'hello world'<br><br>\n",
    "\"~!@#$%^&*\"<br><br>\n",
    "\"汉字也是字符\"<br><br><br><br>\n",
    "'''line one,<br><br>\n",
    "   line two''' <br><br><br><br>\n",
    "\"\"\"line one,<br><br>\n",
    "   line two\"\"\"<br><br>\n",
    "\n",
    "  - 字符串本身含有引号怎么办?<br><br>\n",
    "    - 含有单引号:串用双引号括住<br><br>\n",
    "\"I'm a student.\"<br><br>\n",
    "    - 含有双引号:串用单引号括住<br><br>\n",
    "'He said, \"OK.\"'<br><br>\n",
    "    - 两者都有时用什么引号? （用三引号或转义字符）<br><br>\n",
    "\"\"\"He said, \" I'm a student.\"\"\"\"<br><br>\n",
    "\n",
    "- 字符串可以保存在变量中，也可以单独存在。\n",
    "<br><br>\n",
    "- 可以用**type()**函数测试一个字符串的类型\n",
    "<br><br>\n",
    "- **imput()**函数将用户输入的内容当做一个字符串数据\n",
    "<br><br>\n",
    "- **print()**函数可直接输出字符串"
   ]
  },
  {
   "cell_type": "code",
   "execution_count": null,
   "metadata": {
    "scrolled": true
   },
   "outputs": [],
   "source": [
    "'山东大学经济学院'"
   ]
  },
  {
   "cell_type": "code",
   "execution_count": null,
   "metadata": {
    "scrolled": true
   },
   "outputs": [],
   "source": [
    "\"山东大学经济学院\""
   ]
  },
  {
   "cell_type": "code",
   "execution_count": null,
   "metadata": {
    "scrolled": true
   },
   "outputs": [],
   "source": [
    "'''山东大学\n",
    "经济学院'''"
   ]
  },
  {
   "cell_type": "code",
   "execution_count": null,
   "metadata": {
    "scrolled": true
   },
   "outputs": [],
   "source": [
    "print('''山东大学\n",
    "经济学院''')"
   ]
  },
  {
   "cell_type": "code",
   "execution_count": null,
   "metadata": {
    "scrolled": true
   },
   "outputs": [],
   "source": [
    "\"I'm a student.\""
   ]
  },
  {
   "cell_type": "code",
   "execution_count": null,
   "metadata": {
    "scrolled": true
   },
   "outputs": [],
   "source": [
    "'He said,\"OK!\"'"
   ]
  },
  {
   "cell_type": "code",
   "execution_count": null,
   "metadata": {
    "scrolled": true
   },
   "outputs": [],
   "source": [
    "\"\"\"He said, \" I'm a student.\" \"\"\""
   ]
  },
  {
   "cell_type": "code",
   "execution_count": null,
   "metadata": {
    "scrolled": true
   },
   "outputs": [],
   "source": [
    "a=input()\n",
    "a"
   ]
  },
  {
   "cell_type": "code",
   "execution_count": null,
   "metadata": {
    "scrolled": true
   },
   "outputs": [],
   "source": [
    "type(a)"
   ]
  },
  {
   "cell_type": "markdown",
   "metadata": {},
   "source": [
    "**Python语言转义符： \\**\n",
    "<br>\n",
    "- 输出带有引号的字符串，可以使用转义符<br><br>\n",
    "  - 例如<br><br>\n",
    "  'What\\'s your name?'\n",
    "<br><br>\n",
    "- 转义字符\\可以转义很多字符，比如\\n表示换行，\\t表示制表符(Tab)，\\b表示退格符(Backspace)，字符\\本身也要转义，所以\\\\\\\\表示的字符就是\\。\n",
    "- 例如"
   ]
  },
  {
   "cell_type": "code",
   "execution_count": null,
   "metadata": {
    "scrolled": true
   },
   "outputs": [],
   "source": [
    "print(\"既需要'单引号'又需要\\\"双引号\\\"\")"
   ]
  },
  {
   "cell_type": "code",
   "execution_count": null,
   "metadata": {
    "scrolled": true
   },
   "outputs": [],
   "source": [
    "print ('I\\'m ok.')"
   ]
  },
  {
   "cell_type": "code",
   "execution_count": null,
   "metadata": {
    "scrolled": true
   },
   "outputs": [],
   "source": [
    "print ('I\\'m learning\\nPython.')"
   ]
  },
  {
   "cell_type": "code",
   "execution_count": null,
   "metadata": {
    "scrolled": true
   },
   "outputs": [],
   "source": [
    "print ('ac\\b\\\\')"
   ]
  },
  {
   "cell_type": "code",
   "execution_count": null,
   "metadata": {
    "scrolled": true
   },
   "outputs": [],
   "source": [
    "print ('I\\'m learning Python\\b.')"
   ]
  },
  {
   "cell_type": "code",
   "execution_count": null,
   "metadata": {
    "scrolled": true
   },
   "outputs": [],
   "source": [
    "print ('I am ', end = '' )   #end=''为不换行\n",
    "print ('\\rlearning Python.')"
   ]
  },
  {
   "cell_type": "code",
   "execution_count": null,
   "metadata": {
    "scrolled": true
   },
   "outputs": [],
   "source": [
    "print (\"\"\"line one,\\b\\b line two\"\"\")"
   ]
  },
  {
   "cell_type": "code",
   "execution_count": null,
   "metadata": {
    "scrolled": true
   },
   "outputs": [],
   "source": [
    "print('a\\tb')"
   ]
  },
  {
   "cell_type": "markdown",
   "metadata": {},
   "source": [
    "**Python语言转义符： \\(续)**\n",
    "<br>\n",
    "- 值得注意的一件事是，在一个字符串中，行末的单独一个反斜杠表示字符串在下一行继续，而不是开始一个新的行."
   ]
  },
  {
   "cell_type": "code",
   "execution_count": null,
   "metadata": {
    "scrolled": true
   },
   "outputs": [],
   "source": [
    "\"This is the first sentence.\\\n",
    "This is the second sentence.\" "
   ]
  },
  {
   "cell_type": "code",
   "execution_count": null,
   "metadata": {
    "scrolled": true
   },
   "outputs": [],
   "source": [
    "\"This is the first sentence.\n",
    "This is the second sentence.\" "
   ]
  },
  {
   "cell_type": "markdown",
   "metadata": {},
   "source": [
    "<font size=3>  \n",
    "**Python语言转义符： \\(续)**\n",
    "<br>\n",
    "- 如果字符串里面有很多字符都需要转义，就需要加很多\\，为了简化，Python还允许用**r**'<字符串> '表示<字符串>内部的字符都不转义（即\\将不起转义作用）："
   ]
  },
  {
   "cell_type": "code",
   "execution_count": null,
   "metadata": {
    "scrolled": true
   },
   "outputs": [],
   "source": [
    "print ( '\\\\\\t\\\\')"
   ]
  },
  {
   "cell_type": "code",
   "execution_count": null,
   "metadata": {
    "scrolled": true
   },
   "outputs": [],
   "source": [
    "print ( r'\\\\\\t\\\\')"
   ]
  },
  {
   "cell_type": "code",
   "execution_count": null,
   "metadata": {
    "scrolled": true
   },
   "outputs": [],
   "source": [
    "print (\"Newlines are indicated by \\nhello\")\n",
    "print (r\"Newlines are indicated by \\nhello\")"
   ]
  },
  {
   "cell_type": "code",
   "execution_count": null,
   "metadata": {
    "scrolled": true
   },
   "outputs": [],
   "source": []
  },
  {
   "cell_type": "markdown",
   "metadata": {},
   "source": [
    "### 3.3.2 字符串的索引\n",
    "**子串**<br>\n",
    "- 一个字符串的任一连续部分称为该字符串的子串。<br><br>\n",
    "  - 字符串自身也是自己的一个子串。 <br><br>\n",
    "    - 例如：对于字符串”abc”，”a”、”b”、”c”、”ab”、”bc”、”abc”都是它的子串，”ac”不是\n",
    "    \n",
    "<br><br>\n",
    "字符串是一个字符序列：字符串最左端位置标记为0，依次增加。字符串中的编号叫做“**索引**”\n",
    "<br>\n",
    "![](pic/p1-3.jpg)\n",
    "<br>\n",
    "- 单个索引辅助访问字符串中的特定位置\n",
    "<br><br>\n",
    "    格式为$<string>[<索引>]$<br><br>\n",
    "  - 如果字符串长度为L，正向递增需要以最左侧字符序号为0，向右依次递增，最右侧字符序号为L-1；反向递减序号以最右侧字符序号为-1，向左依次递减，最左侧字符序号为-L。<br><br>\n",
    "    - 字符串以Unicode编码存储，字符串的英文字符和中文字符都算作1个字符。"
   ]
  },
  {
   "cell_type": "code",
   "execution_count": null,
   "metadata": {
    "scrolled": true
   },
   "outputs": [],
   "source": [
    "\"山东大学经济学院\"[5]"
   ]
  },
  {
   "cell_type": "code",
   "execution_count": null,
   "metadata": {
    "scrolled": true
   },
   "outputs": [],
   "source": [
    "\"山东大学经济学院\"[-5]"
   ]
  },
  {
   "cell_type": "markdown",
   "metadata": {},
   "source": [
    "### 3.3.3 字符串的切片\n",
    "- 可以通过两个索引值确定一个位置范围，返回这个范围的子串，称为字符串的“**切片**”。\n",
    "<br><br>\n",
    "   格式： $<string>[N: M]$\n",
    "<br><br>\n",
    "  - 切片获取字符串从N到M-1（不包含M）的子字符串。<br><br>\n",
    "  其中：\n",
    "<br><br>\n",
    "    - N和M为字符串的索引序号，要求都需在字符串的索引区间，可混合使用正向递增序号和反向递减序号。<br><br>\n",
    "    - 若N大于M，则返回空字符串；<br><br>\n",
    "    - 若N缺失，则表示从字符串起始位置（第一个字符）开始；<br><br>\n",
    "    - 若M缺失，则表示到字符串末尾（最后一个字符）为止。"
   ]
  },
  {
   "cell_type": "code",
   "execution_count": null,
   "metadata": {
    "scrolled": true
   },
   "outputs": [],
   "source": [
    "\"山东大学经济学院\"[4:]"
   ]
  },
  {
   "cell_type": "code",
   "execution_count": null,
   "metadata": {
    "scrolled": true
   },
   "outputs": [],
   "source": [
    "\"山东大学经济学院\"[:4]"
   ]
  },
  {
   "cell_type": "code",
   "execution_count": null,
   "metadata": {
    "scrolled": true
   },
   "outputs": [],
   "source": [
    "\"山东大学经济学院\"[3:5]"
   ]
  },
  {
   "cell_type": "code",
   "execution_count": null,
   "metadata": {
    "scrolled": true
   },
   "outputs": [],
   "source": [
    "\"山东大学经济学院\"[::2]"
   ]
  },
  {
   "cell_type": "code",
   "execution_count": null,
   "metadata": {
    "scrolled": true
   },
   "outputs": [],
   "source": [
    "\"山东大学经济学院\"[::-1]"
   ]
  },
  {
   "cell_type": "markdown",
   "metadata": {},
   "source": [
    "**微程序3.1 获取程序字符串**<br><br>\n",
    "输入一个表示星期几的数字(1-7），输出对应的星期字符串名。"
   ]
  },
  {
   "cell_type": "code",
   "execution_count": null,
   "metadata": {
    "scrolled": true
   },
   "outputs": [],
   "source": [
    "weekstr = \"星期一星期二星期三星期四星期五星期六星期日\"\n",
    "weekid = eval(input(\"请输入星期数字(1-7): \"))\n",
    "pos = (weekid - 1) * 3              #通过规律（3个汉字）找出其起始序号\n",
    "print( weekstr[pos : pos+3] )"
   ]
  },
  {
   "cell_type": "code",
   "execution_count": null,
   "metadata": {
    "scrolled": true
   },
   "outputs": [],
   "source": [
    "str1 = 'I am a teacher.'\n",
    "for i in str1:          #字符串是字符的序列，i依次从str1中取字符\n",
    "    print (i)"
   ]
  },
  {
   "cell_type": "code",
   "execution_count": null,
   "metadata": {
    "scrolled": true
   },
   "outputs": [],
   "source": [
    "str1 = 'I am a teacher.'\n",
    "for i in str1:          #字符串是字符的序列，i依次从str1中取字符\n",
    "    print (i , end = ',')"
   ]
  },
  {
   "cell_type": "code",
   "execution_count": null,
   "metadata": {
    "scrolled": true
   },
   "outputs": [],
   "source": [
    "x='370111198801207561'\n",
    "x[6:14]"
   ]
  },
  {
   "cell_type": "code",
   "execution_count": null,
   "metadata": {
    "scrolled": true
   },
   "outputs": [],
   "source": [
    "x[:6]"
   ]
  },
  {
   "cell_type": "code",
   "execution_count": null,
   "metadata": {
    "scrolled": true
   },
   "outputs": [],
   "source": [
    "x[14:]"
   ]
  },
  {
   "cell_type": "code",
   "execution_count": null,
   "metadata": {
    "scrolled": true
   },
   "outputs": [],
   "source": [
    "x[:]"
   ]
  },
  {
   "cell_type": "code",
   "execution_count": null,
   "metadata": {
    "scrolled": true
   },
   "outputs": [],
   "source": []
  },
  {
   "cell_type": "markdown",
   "metadata": {},
   "source": [
    "### 3.3.4 字符串类型的格式化\n",
    "\n",
    "字符串格式化：用于解决字符串和变量值同时输出时的格式安排。"
   ]
  },
  {
   "cell_type": "markdown",
   "metadata": {},
   "source": [
    "### 3.3.4.1 format()方法的基本使用\n",
    "字符串format()**方法**的基本使用格式是：\n",
    "<br>  \n",
    "> **<模板字符串>.format(<逗号分隔的参数>)**<br> \n",
    "> - 其中，模板字符串是一个由**字符串**和**槽**组成的字符串，用来控制字符串和变量的显示效果。<br><br>\n",
    "    - 槽用大括号(**{}**)表示，对应format()方法中逗号分隔的参数。<br><br>\n",
    "    - 如果模板字符串有多个槽，且槽内没有指定序号，则按照槽出现的顺序分别对应.format()方法中的不同参数。"
   ]
  },
  {
   "cell_type": "code",
   "execution_count": null,
   "metadata": {
    "scrolled": true
   },
   "outputs": [],
   "source": [
    "\"{}：计算机{}的CPU占用率为{}%\".format(\"2016-12-31\" , \"PYTHON\" , 10)"
   ]
  },
  {
   "cell_type": "code",
   "execution_count": null,
   "metadata": {
    "scrolled": true
   },
   "outputs": [],
   "source": [
    "import time\n",
    "today = time.localtime()\n",
    "print(''' {}月{}日\n",
    "今日已消毒'''.format(today.tm_mon, today.tm_mday))"
   ]
  },
  {
   "cell_type": "markdown",
   "metadata": {},
   "source": [
    "<font size=3>format()方法的基本使用<br>\n",
    "  - 可以通过在模板字符串槽中指定format()参数的序号来使用参数的值，参数从0开始编号"
   ]
  },
  {
   "cell_type": "code",
   "execution_count": null,
   "metadata": {
    "scrolled": false
   },
   "outputs": [],
   "source": [
    "\"{1}：计算机{0}的CPU占用率为{2}%\".format(\"2016-12-31\" , \"PYTHON\" , 10)"
   ]
  },
  {
   "cell_type": "code",
   "execution_count": null,
   "metadata": {
    "scrolled": true
   },
   "outputs": [],
   "source": [
    "#例题3.1 ，键盘输入圆的半径，求圆的周长\n",
    "import math\n",
    "r = float(input('请输入圆的半径：'))\n",
    "c = 2 * math.pi * r\n",
    "print('半径{}的圆周长是{}。'.format(r, c) )"
   ]
  },
  {
   "cell_type": "markdown",
   "metadata": {},
   "source": [
    "### 3.3.4.2 format()方法的格式控制\n",
    "\n",
    "format()方法中模板字符串的**槽{}**除了包括参数序号，还可以包括格式控制信息。此时，其语法格式如下：\n",
    ">${<参数序号>: <格式控制标记>} $ \n",
    "<br><br>\n",
    "- 其中，格式控制标记用来控制参数显示时的格式 。注：冒号前后不可有空格。<br><br>\n",
    "- 格式控制标记包括：$<填充>、<对齐>、<宽度>、<.精度>、<类型>$等6个字段，这些字段都是可选的，可以组合使用，这里按照使用方式逐一介绍。"
   ]
  },
  {
   "cell_type": "code",
   "execution_count": null,
   "metadata": {
    "scrolled": true
   },
   "outputs": [],
   "source": [
    "'''\n",
    ":冒号 \n",
    "*多余空白填充符号 \n",
    ">右对齐 \n",
    "固定宽度18(空白填充) \n",
    ",千分位 \n",
    "浮点精度.2 浮点数声明f\n",
    "\n",
    "''' \n",
    "\n",
    "'{:*>18,.2f}'.format(70305084.0)"
   ]
  },
  {
   "cell_type": "code",
   "execution_count": null,
   "metadata": {
    "scrolled": true
   },
   "outputs": [],
   "source": []
  },
  {
   "cell_type": "markdown",
   "metadata": {},
   "source": [
    "**$<填充>、<对齐>和<宽度>$主要用于对显示格式的规范：**\n",
    " \n",
    "- 宽度指当前槽的设定输出字符宽度；<br><br>\n",
    "    - 如果该槽参数实际值比宽度设定值大，则使用参数实际长度。<br><br>\n",
    "    - 如果该值的实际位数小于指定宽度，则按照对齐指定方式在宽度内对齐，默认以空格字符补充。<br><br>\n",
    "- 对齐字段分别使用<、>和^三个符号表示左对齐、右对齐和居中对齐。<br><br>\n",
    "- 填充字段可以修改默认填充字符，填充字符只能有一个。"
   ]
  },
  {
   "cell_type": "code",
   "execution_count": null,
   "metadata": {
    "scrolled": true
   },
   "outputs": [],
   "source": [
    "s = \"山东大学经济学院\"\n",
    "\"{:18}\".format(s) #左对齐，默认"
   ]
  },
  {
   "cell_type": "code",
   "execution_count": null,
   "metadata": {
    "scrolled": true
   },
   "outputs": [],
   "source": [
    "\"{:^18}\".format(s) #居中对齐"
   ]
  },
  {
   "cell_type": "code",
   "execution_count": null,
   "metadata": {
    "scrolled": true
   },
   "outputs": [],
   "source": [
    "\"{:>18}\".format(s) #右对齐"
   ]
  },
  {
   "cell_type": "code",
   "execution_count": null,
   "metadata": {
    "scrolled": true
   },
   "outputs": [],
   "source": [
    "\"{:=^18}\".format(s) #居中对齐且填充*号"
   ]
  },
  {
   "cell_type": "code",
   "execution_count": null,
   "metadata": {
    "scrolled": true
   },
   "outputs": [],
   "source": [
    "\"{:^1}\".format(s) #指定宽度为1，不足则以变量s的值的宽度"
   ]
  },
  {
   "cell_type": "code",
   "execution_count": null,
   "metadata": {
    "scrolled": true
   },
   "outputs": [],
   "source": []
  },
  {
   "cell_type": "markdown",
   "metadata": {},
   "source": [
    "**$<.精度><类型>$主要用于对数值本身的规范**\n",
    "- <.精度>由小数点（.）开头。<br><br>\n",
    "    - 对于浮点数，精度表示小数部分输出的有效位数。<br><br>\n",
    "    - 对于字符串，精度表示输出的最大长度。<br><br>\n",
    "    - 小数点可以理解为对数值的有效截断。"
   ]
  },
  {
   "cell_type": "code",
   "execution_count": null,
   "metadata": {
    "scrolled": true
   },
   "outputs": [],
   "source": [
    "\"{:.2f}\".format(12345.67890)"
   ]
  },
  {
   "cell_type": "code",
   "execution_count": null,
   "metadata": {
    "scrolled": true
   },
   "outputs": [],
   "source": [
    "\"金额为：{:>15.3f}\".format(12345.67890)"
   ]
  },
  {
   "cell_type": "code",
   "execution_count": null,
   "metadata": {
    "scrolled": true
   },
   "outputs": [],
   "source": [
    "\"金额为：{:*>15.3f}\".format(12345.67890)"
   ]
  },
  {
   "cell_type": "code",
   "execution_count": null,
   "metadata": {
    "scrolled": true
   },
   "outputs": [],
   "source": [
    "\"{:.4}\".format('山东大学经济学院')"
   ]
  },
  {
   "cell_type": "code",
   "execution_count": null,
   "metadata": {
    "scrolled": true
   },
   "outputs": [],
   "source": []
  },
  {
   "cell_type": "markdown",
   "metadata": {},
   "source": [
    "$<类型>$表示输出整数和浮点数类型的格式规则。\n",
    "- 对于整数类型，输出格式包括6种：<br><br>\n",
    "    - b: 输出整数的二进制方式；<br><br>\n",
    "    - c: 输出整数对应的Unicode字符；<br><br>\n",
    "    - d: 输出整数的十进制方式；<br><br>\n",
    "    - o: 输出整数的八进制方式；<br><br>\n",
    "    - x: 输出整数的小写十六进制方式；<br><br>\n",
    "    - X: 输出整数的大写十六进制方式。"
   ]
  },
  {
   "cell_type": "code",
   "execution_count": null,
   "metadata": {
    "scrolled": true
   },
   "outputs": [],
   "source": [
    "\"{0:b},{0:c},{0:d},{0:o},{0:x},{0:X}\".format(425)"
   ]
  },
  {
   "cell_type": "code",
   "execution_count": null,
   "metadata": {
    "scrolled": true
   },
   "outputs": [],
   "source": []
  },
  {
   "cell_type": "markdown",
   "metadata": {},
   "source": [
    "- 对于浮点数类型，输出格式包括4种：<br><br>\n",
    "  - e: 输出浮点数对应的小写字母e的指数形式；<br><br>\n",
    "  - E: 输出浮点数对应的大写字母E的指数形式；<br><br>\n",
    "  - f: 输出浮点数的标准浮点形式；<br><br>\n",
    "  - %: 输出浮点数的百分形式。"
   ]
  },
  {
   "cell_type": "code",
   "execution_count": null,
   "metadata": {
    "scrolled": true
   },
   "outputs": [],
   "source": [
    "\"{0:e},{0:E},{0:f},{0:%}\".format(3.14 + 10)"
   ]
  },
  {
   "cell_type": "code",
   "execution_count": null,
   "metadata": {
    "scrolled": true
   },
   "outputs": [],
   "source": [
    "\"{0:.2e},{0:.2E},{0:.2f},{0:.2%}\".format(3.14 + 10)   # 对比输出"
   ]
  },
  {
   "cell_type": "code",
   "execution_count": null,
   "metadata": {
    "scrolled": true
   },
   "outputs": [],
   "source": []
  },
  {
   "cell_type": "code",
   "execution_count": null,
   "metadata": {
    "scrolled": true
   },
   "outputs": [],
   "source": [
    "#例题3.1 ，键盘输入圆的半径，求圆的周长\n",
    "import math\n",
    "r = float(input('请输入圆的半径：'))\n",
    "c = 2 * math.pi * r\n",
    "print('半径{0:.2f}的圆周长是{1:.2f}。'.format(r, c) )"
   ]
  },
  {
   "cell_type": "markdown",
   "metadata": {},
   "source": [
    "#### f-字符串"
   ]
  },
  {
   "cell_type": "code",
   "execution_count": null,
   "metadata": {},
   "outputs": [],
   "source": [
    "#例题3.1 ，键盘输入圆的半径，求圆的周长\n",
    "import math\n",
    "r = float(input('请输入圆的半径：'))\n",
    "c = 2 * math.pi * r\n",
    "print(f'半径{r:.2f}的圆周长是{c:.2f}。' )"
   ]
  },
  {
   "cell_type": "code",
   "execution_count": null,
   "metadata": {
    "scrolled": true
   },
   "outputs": [],
   "source": []
  },
  {
   "cell_type": "markdown",
   "metadata": {},
   "source": [
    "### 3.3.4.3 字符串格式化表达式（自学）\n",
    "Python可以用**%**操作符编写格式化的字符串<br><br>\n",
    "**格式化字符串：**<br>\n",
    "- （1）在%操作符左侧放置一个需要进行格式化的字符串，这个字符串带有一个或多个嵌入的转换目标，都以%开头，如%d、%f、%s等<br><br>\n",
    "- （2）在%操作符右侧放置一个对象（或多个，在括号内），这些对象会被插入到左侧格式化字符串的转换目标的位置上<br><br>\n",
    "  - 例如<br><br>\n",
    "  bookcount = 10<br><br>\n",
    "\"there are %d books\"%bookcount &nbsp;&nbsp;&nbsp;&nbsp;&nbsp;#结果为'there are 10 books'"
   ]
  },
  {
   "cell_type": "code",
   "execution_count": null,
   "metadata": {
    "scrolled": true
   },
   "outputs": [],
   "source": [
    "bookcount = 10\n",
    "\"there are %d books\"%bookcount      #结果为'there are 10 books'"
   ]
  },
  {
   "cell_type": "code",
   "execution_count": null,
   "metadata": {
    "scrolled": true
   },
   "outputs": [],
   "source": []
  },
  {
   "cell_type": "markdown",
   "metadata": {},
   "source": [
    "#### 格式化运算符%\n",
    ">$<模板串> % <值元组>$\n",
    "- 模板串中用%标记“空位”,输出时用值填入。<br><br>\n",
    "- 格式化运算的结果是一个字符串。<br><br>\n",
    "- 例如<br><br>\n",
    "print(\"The price is ¥%0.2f\" % (100)"
   ]
  },
  {
   "cell_type": "code",
   "execution_count": null,
   "metadata": {
    "scrolled": true
   },
   "outputs": [],
   "source": [
    "print(\"The price is ¥%0.2f\" % (100))"
   ]
  },
  {
   "cell_type": "code",
   "execution_count": null,
   "metadata": {
    "scrolled": true
   },
   "outputs": [],
   "source": []
  },
  {
   "cell_type": "markdown",
   "metadata": {},
   "source": [
    "空位:格式指示符,描述了填入的值的输出形式.<br>\n",
    "> %$<width>.<precision><type-char>$<br><br>\n",
    "- $<type-char>$三种类型字符:decimal, float, string<br><br>\n",
    "- $<width>$宽度:用多少位置显示数值.<br><br>\n",
    "  - 省略或指定为0:根据值的实际长度显示.<br><br>\n",
    "  - 宽度超出值的长度时:右对齐显示<br><br>\n",
    "  - 宽度前加负号:左对齐.<br><br>\n",
    "  - 对浮点数用超长宽度会怎样?试试…<br><br>\n",
    "- <precision>精度:指示浮点数值的小数位数.<br><br>\n",
    "  - 省略:按系统默认的小数位数显示.<br><br>\n",
    ">import math<br><br>\n",
    "print( \"%f\" % (math.pi) )"
   ]
  },
  {
   "cell_type": "code",
   "execution_count": null,
   "metadata": {
    "scrolled": true
   },
   "outputs": [],
   "source": [
    "import math\n",
    "print( \"%f\" % (math.pi) )"
   ]
  },
  {
   "cell_type": "code",
   "execution_count": null,
   "metadata": {
    "scrolled": true
   },
   "outputs": [],
   "source": [
    "\"Hello %s %s, you may have already won $%d\" % (\"Mr.\", \"Smith\", 10000)"
   ]
  },
  {
   "cell_type": "code",
   "execution_count": null,
   "metadata": {
    "scrolled": true
   },
   "outputs": [],
   "source": [
    "'This int, %5d, was placed in a field of width 5' % (7)"
   ]
  },
  {
   "cell_type": "code",
   "execution_count": null,
   "metadata": {
    "scrolled": true
   },
   "outputs": [],
   "source": [
    "'This float, %10.5f, has width 10 and precision 5.' % (3.1415926)"
   ]
  },
  {
   "cell_type": "code",
   "execution_count": null,
   "metadata": {
    "scrolled": true
   },
   "outputs": [],
   "source": [
    "'This float, %0.5f, has width 0 and precision 5.' % (3.1415926)"
   ]
  },
  {
   "cell_type": "code",
   "execution_count": null,
   "metadata": {
    "scrolled": true
   },
   "outputs": [],
   "source": [
    "'Compare %f and %0.20f' % (3.14, 3.14)"
   ]
  },
  {
   "cell_type": "code",
   "execution_count": null,
   "metadata": {
    "scrolled": true
   },
   "outputs": [],
   "source": []
  },
  {
   "cell_type": "markdown",
   "metadata": {},
   "source": [
    "## 3.4 字符类型数据的操作"
   ]
  },
  {
   "cell_type": "markdown",
   "metadata": {},
   "source": [
    "### 3.4.1 基本的字符串运算符\n",
    "\n",
    "**字符串之间可以通过+或*进行连接**\n",
    "<br>\n",
    "- 加法操作(+)将两个字符串连接成为一个新的字符串\n",
    "<br><br>\n",
    "- 乘法操作(*)生成一个由其本身字符串重复连接而成的字符串"
   ]
  },
  {
   "cell_type": "code",
   "execution_count": null,
   "metadata": {
    "scrolled": true
   },
   "outputs": [],
   "source": [
    "\"Hi,\" + \"good afternoon!\""
   ]
  },
  {
   "cell_type": "code",
   "execution_count": null,
   "metadata": {
    "scrolled": true
   },
   "outputs": [],
   "source": [
    "2 * \"Bye\""
   ]
  },
  {
   "cell_type": "code",
   "execution_count": null,
   "metadata": {
    "scrolled": true
   },
   "outputs": [],
   "source": [
    "\"ok\" in \"cook\""
   ]
  },
  {
   "cell_type": "code",
   "execution_count": null,
   "metadata": {
    "scrolled": true
   },
   "outputs": [],
   "source": [
    "\"Ok\" in \"cook\""
   ]
  },
  {
   "cell_type": "code",
   "execution_count": null,
   "metadata": {
    "scrolled": true
   },
   "outputs": [],
   "source": [
    "\"Ok\" not in \"cook\""
   ]
  },
  {
   "cell_type": "markdown",
   "metadata": {},
   "source": [
    "### 3.4.2 内置的字符串处理函数"
   ]
  },
  {
   "cell_type": "markdown",
   "metadata": {},
   "source": [
    "**内置的字符串处理函数**\n",
    "- 字符串类型的转换\n",
    "<br><br>\n",
    "  - 数值类型或其它数据类型的数据都可以通过**str()**函数转换为字符串<br><br>\n",
    "    - 例如<br><br>\n",
    "    str(123.45)"
   ]
  },
  {
   "cell_type": "code",
   "execution_count": null,
   "metadata": {
    "scrolled": true
   },
   "outputs": [],
   "source": [
    "str(123.45)"
   ]
  },
  {
   "cell_type": "code",
   "execution_count": null,
   "metadata": {
    "scrolled": true
   },
   "outputs": [],
   "source": [
    "str(12)"
   ]
  },
  {
   "cell_type": "code",
   "execution_count": null,
   "metadata": {
    "scrolled": true
   },
   "outputs": [],
   "source": [
    "str(True)"
   ]
  },
  {
   "cell_type": "code",
   "execution_count": null,
   "metadata": {
    "scrolled": true
   },
   "outputs": [],
   "source": []
  },
  {
   "cell_type": "markdown",
   "metadata": {},
   "source": [
    "**字符串的长度**\n",
    "<br>\n",
    "- 字符串中包含字符的**个数**（不包括两端的引号定界符）称为字符串的长度。<br><br>\n",
    "  - 空字符串\"\"，其长度为0。<br><br>\n",
    "  - 空格字符串是由空格组成，如\"&nbsp;&nbsp;&nbsp;&nbsp;\"由4个空格组成的，其长度为4。<br><br>\n",
    "- len()函数能否返回一个字符串的长度<br><br>\n",
    "  - 例如<br><br>\n",
    "  len(\"新同学，欢迎您!\")"
   ]
  },
  {
   "cell_type": "code",
   "execution_count": null,
   "metadata": {
    "scrolled": true
   },
   "outputs": [],
   "source": [
    "len(\"Shandong University\")"
   ]
  },
  {
   "cell_type": "code",
   "execution_count": null,
   "metadata": {
    "scrolled": true
   },
   "outputs": [],
   "source": [
    "len('山东大学 经济学院')"
   ]
  },
  {
   "cell_type": "code",
   "execution_count": null,
   "metadata": {
    "scrolled": true
   },
   "outputs": [],
   "source": [
    "len(( '201500201002',  \"张三\",  '男', '社会学', '社会学'))"
   ]
  },
  {
   "cell_type": "markdown",
   "metadata": {},
   "source": [
    "**chr(x)**和**ord(x)**函数用于在单个字符和Unicode编码值之间进行转换。\n",
    "- chr(x)函数返回Unicode编码值x对应的字符。<br><br>\n",
    "- ord(x)函数返回单个字符x对应的Unicode编码值。"
   ]
  },
  {
   "cell_type": "code",
   "execution_count": null,
   "metadata": {
    "scrolled": true
   },
   "outputs": [],
   "source": [
    "chr(100)"
   ]
  },
  {
   "cell_type": "code",
   "execution_count": null,
   "metadata": {
    "scrolled": true
   },
   "outputs": [],
   "source": [
    "ord('A')"
   ]
  },
  {
   "cell_type": "code",
   "execution_count": null,
   "metadata": {
    "scrolled": true
   },
   "outputs": [],
   "source": []
  },
  {
   "cell_type": "markdown",
   "metadata": {},
   "source": [
    "**常用函数**<br><br>\n",
    "- len()、str()、chr()、ord()\n",
    "\n",
    "<br>  \n",
    "**其它常用内置字符串函数**<br>\n",
    "- int()、float()、eval()、max()、min()等<br><br>\n",
    "  - 例如<br><br>"
   ]
  },
  {
   "cell_type": "code",
   "execution_count": null,
   "metadata": {
    "scrolled": true
   },
   "outputs": [],
   "source": [
    "int('+16')      #将由数字字符组成的字符串转换为整数"
   ]
  },
  {
   "cell_type": "code",
   "execution_count": null,
   "metadata": {
    "scrolled": true
   },
   "outputs": [],
   "source": [
    "float('123e45')    #将字符串转换为浮点数。注意：字符串去掉引号后必须能转成浮点数，若有其它符号或不符合浮点数的格式则出现错误"
   ]
  },
  {
   "cell_type": "code",
   "execution_count": null,
   "metadata": {
    "scrolled": true
   },
   "outputs": [],
   "source": [
    "float('1.3.5')"
   ]
  },
  {
   "cell_type": "code",
   "execution_count": null,
   "metadata": {
    "scrolled": true
   },
   "outputs": [],
   "source": [
    "max('abc','12345','xy')"
   ]
  },
  {
   "cell_type": "code",
   "execution_count": null,
   "metadata": {
    "scrolled": true
   },
   "outputs": [],
   "source": [
    "print ('123456'+chr(97))     #小写\"a\"的Unicode码为97，大写\"A\"的Unicode码为65"
   ]
  },
  {
   "cell_type": "code",
   "execution_count": null,
   "metadata": {
    "scrolled": true
   },
   "outputs": [],
   "source": [
    "print (ord('中'))"
   ]
  },
  {
   "cell_type": "code",
   "execution_count": null,
   "metadata": {
    "scrolled": true
   },
   "outputs": [],
   "source": [
    "print (chr(20051))"
   ]
  },
  {
   "cell_type": "code",
   "execution_count": null,
   "metadata": {
    "scrolled": true
   },
   "outputs": [],
   "source": []
  },
  {
   "cell_type": "markdown",
   "metadata": {},
   "source": [
    "### 3.4.3 内置的字符串处理方法\n",
    "**字符串对象的方法**\n",
    "  - 程序设计的一个专有名词，属于**面向对象**程序设计领域。<br><br>\n",
    "  - 在Python揭示其内部，所有数据类型都采用面向对象方式实现，因此，大部分数据类型都有一些处理方法。<br><br>\n",
    "  - 方法也是一个函数，只是调用方式不同。<br><br>\n",
    "    - 函数采用$func(x)$方式调用；<br><br>\n",
    "    - 而方法则采用$<a>.func(x)$形式调用。方法仅作用于前导对象$<a>$。<br><br>\n",
    "\n",
    "**字符串中字符大小写的变换：**<br>\n",
    "\n",
    "**常用字符串处理方法**\n",
    "- str.lower()、str.upper()、str.swapcase()、str.capitalize()\n",
    "<br><br>\n",
    "- 例如<br><br>\n",
    "f = 'hello world！'&nbsp;&nbsp;&nbsp;&nbsp;#定义一个字符串<br><br>\n",
    "f.upper()&nbsp;&nbsp;&nbsp;&nbsp;#转换为大写方法，不改变f；等同于string.upper(f)<br><br>"
   ]
  },
  {
   "cell_type": "code",
   "execution_count": null,
   "metadata": {
    "scrolled": true
   },
   "outputs": [],
   "source": [
    "f = 'hello everyone！'   #定义一个字符串"
   ]
  },
  {
   "cell_type": "code",
   "execution_count": null,
   "metadata": {
    "scrolled": true
   },
   "outputs": [],
   "source": [
    "f.upper()     #转换为大写方法，不改变f"
   ]
  },
  {
   "cell_type": "code",
   "execution_count": null,
   "metadata": {
    "scrolled": true
   },
   "outputs": [],
   "source": [
    "f"
   ]
  },
  {
   "cell_type": "code",
   "execution_count": null,
   "metadata": {
    "scrolled": true
   },
   "outputs": [],
   "source": [
    "f1 = f.title()   #f的所有单词首字母变为大写\n",
    "print (f1)"
   ]
  },
  {
   "cell_type": "code",
   "execution_count": null,
   "metadata": {
    "scrolled": true
   },
   "outputs": [],
   "source": [
    "f.capitalize()   #f的所有单词首字母变为大写"
   ]
  },
  {
   "cell_type": "code",
   "execution_count": null,
   "metadata": {
    "scrolled": true
   },
   "outputs": [],
   "source": [
    "f1.swapcase()"
   ]
  },
  {
   "cell_type": "markdown",
   "metadata": {},
   "source": [
    "#### 例3.4 英文文章的词频基本分析（I），以《 AliceInWonderland 》为例"
   ]
  },
  {
   "cell_type": "code",
   "execution_count": null,
   "metadata": {
    "scrolled": true
   },
   "outputs": [],
   "source": [
    "#(1)把字母都转换为小写字母\n",
    "txt = open(\"开篇例题/data/AliceInWonderland.txt \", \"r\").read()\n",
    "txt"
   ]
  },
  {
   "cell_type": "code",
   "execution_count": null,
   "metadata": {
    "scrolled": true
   },
   "outputs": [],
   "source": [
    "txt = txt.lower()\n",
    "txt"
   ]
  },
  {
   "cell_type": "markdown",
   "metadata": {},
   "source": [
    "### 3.4.3 内置的字符串处理方法（续）\n",
    "\n",
    "**字符串中的搜索和替换：**\n",
    "\n",
    "**重点使用的方法**\n",
    "  - str.count()、str.replace()、str.strip()、str.find()、str.index()"
   ]
  },
  {
   "cell_type": "markdown",
   "metadata": {},
   "source": [
    "<font size=3>  \n",
    "**str.strip(chars)**\n",
    "- 从字符串str中去掉在其左侧和右侧chars中列出的字符。<br><br>\n",
    "    - chars是一个字符串，其中出现的每个字符都会被去掉。<br><br>\n",
    "- chars缺省，默认空格。"
   ]
  },
  {
   "cell_type": "code",
   "execution_count": null,
   "metadata": {
    "scrolled": true
   },
   "outputs": [],
   "source": [
    "\"    Hello,  world! \\t\\t\\n\".strip()"
   ]
  },
  {
   "cell_type": "code",
   "execution_count": null,
   "metadata": {
    "scrolled": true
   },
   "outputs": [],
   "source": [
    "\" ==Py thon== \".strip(' ')"
   ]
  },
  {
   "cell_type": "code",
   "execution_count": null,
   "metadata": {
    "scrolled": true
   },
   "outputs": [],
   "source": [
    "\" ==Py thon== \".strip()"
   ]
  },
  {
   "cell_type": "code",
   "execution_count": null,
   "metadata": {
    "scrolled": true
   },
   "outputs": [],
   "source": [
    "\" ==Pyt =hon== \".strip(' =')"
   ]
  },
  {
   "cell_type": "code",
   "execution_count": null,
   "metadata": {
    "scrolled": true
   },
   "outputs": [],
   "source": [
    "\" ==Py thon== \".strip(' =n')"
   ]
  },
  {
   "cell_type": "code",
   "execution_count": null,
   "metadata": {
    "scrolled": true
   },
   "outputs": [],
   "source": [
    "\" ==Python== \".strip('n =')"
   ]
  },
  {
   "cell_type": "code",
   "execution_count": null,
   "metadata": {
    "scrolled": true
   },
   "outputs": [],
   "source": [
    "f.strip('o')"
   ]
  },
  {
   "cell_type": "code",
   "execution_count": null,
   "metadata": {
    "scrolled": true
   },
   "outputs": [],
   "source": [
    "f.strip('H')"
   ]
  },
  {
   "cell_type": "code",
   "execution_count": null,
   "metadata": {
    "scrolled": true
   },
   "outputs": [],
   "source": [
    "f"
   ]
  },
  {
   "cell_type": "code",
   "execution_count": null,
   "metadata": {
    "scrolled": true
   },
   "outputs": [],
   "source": [
    "f.find('o')"
   ]
  },
  {
   "cell_type": "code",
   "execution_count": null,
   "metadata": {
    "scrolled": true
   },
   "outputs": [],
   "source": [
    "f.rfind('o')"
   ]
  },
  {
   "cell_type": "code",
   "execution_count": null,
   "metadata": {
    "scrolled": true
   },
   "outputs": [],
   "source": [
    "\"知之为知之不知为不知\".index(\"不知\")"
   ]
  },
  {
   "cell_type": "code",
   "execution_count": null,
   "metadata": {
    "scrolled": true
   },
   "outputs": [],
   "source": [
    "\"知之为知之不知为不知\".rindex(\"不知\")"
   ]
  },
  {
   "cell_type": "code",
   "execution_count": null,
   "metadata": {
    "scrolled": true
   },
   "outputs": [],
   "source": [
    "\"知之为知之不知为不知\".count(\"不知\")"
   ]
  },
  {
   "cell_type": "code",
   "execution_count": null,
   "metadata": {
    "scrolled": true
   },
   "outputs": [],
   "source": []
  },
  {
   "cell_type": "markdown",
   "metadata": {},
   "source": [
    "**str.replace(old, new)方法**\n",
    "- 将字符串str中出现的old字符串替换为new字符串，old和new的长度可以不同。"
   ]
  },
  {
   "cell_type": "code",
   "execution_count": null,
   "metadata": {
    "scrolled": true
   },
   "outputs": [],
   "source": [
    "f='Hello World!'  #定义一个字符串<br><br>\n",
    "f.replace('World', 'Hanzhen')   #字符串中\"World\"用\"Hanzhen\"替换"
   ]
  },
  {
   "cell_type": "code",
   "execution_count": null,
   "metadata": {
    "scrolled": true
   },
   "outputs": [],
   "source": [
    "'北京大学在北京'.replace(\"北京\" , '山东')"
   ]
  },
  {
   "cell_type": "markdown",
   "metadata": {},
   "source": [
    "#### 例3.4 英文文章的词频基本分析（I），以《 AliceInWonderland 》为例"
   ]
  },
  {
   "cell_type": "code",
   "execution_count": null,
   "metadata": {
    "scrolled": true
   },
   "outputs": [],
   "source": [
    "#(1)把字母都转换为小写字母\n",
    "txt = open(\"开篇例题/data/ch0/AliceInWonderland.txt \", \"r\").read()\n",
    "txt = txt.lower()"
   ]
  },
  {
   "cell_type": "code",
   "execution_count": null,
   "metadata": {
    "scrolled": true
   },
   "outputs": [],
   "source": [
    "#(2)把标点符号等都替换为一个空格\n",
    "for ch in '!\"#$%&()*+,-./:;<=>?@[\\\\]^_‘{|}~\\'0123456789':\n",
    "    txt = txt.replace(ch, \" \")   #将文本中特殊字符替换为空格\n",
    "txt"
   ]
  },
  {
   "cell_type": "markdown",
   "metadata": {},
   "source": [
    "### 3.4.3 内置的字符串处理方法（续）\n",
    "**字符串的分割和组合：**\n",
    "\n",
    "**str.split(sep)**<br>\n",
    "- 能够根据sep分隔字符串str，分割后的内容以列表类型返回。<br><br>\n",
    "    - sep缺省，默认用空格、换行符、Tab等字符分割。<br><br>\n",
    "\n",
    "**str.split()是非常有用的方法**<br>\n",
    "- 例如<br><br>\n",
    "f='Hello World!'&nbsp;&nbsp;&nbsp;&nbsp;#定义一个字符串<br><br>\n",
    "f.split('o')&nbsp;&nbsp;&nbsp;&nbsp;#用\"o\"将字符串分割成列表"
   ]
  },
  {
   "cell_type": "code",
   "execution_count": null,
   "metadata": {
    "scrolled": true
   },
   "outputs": [],
   "source": [
    "f='Hello World!'    #定义一个字符串\n",
    "f.split('o')    #用\"o\"将字符串分割成列表"
   ]
  },
  {
   "cell_type": "code",
   "execution_count": null,
   "metadata": {
    "scrolled": true
   },
   "outputs": [],
   "source": [
    "\"    Hello,  world! \\t\\t\\n\".split()   #逗号后有两个空格"
   ]
  },
  {
   "cell_type": "code",
   "execution_count": null,
   "metadata": {
    "scrolled": true
   },
   "outputs": [],
   "source": [
    "\"    Hello,  world! \\t\\t\\n\".split(',')"
   ]
  },
  {
   "cell_type": "code",
   "execution_count": null,
   "metadata": {
    "scrolled": true
   },
   "outputs": [],
   "source": [
    "\"www.sdu.edu.cn\".split()"
   ]
  },
  {
   "cell_type": "code",
   "execution_count": null,
   "metadata": {
    "scrolled": true
   },
   "outputs": [],
   "source": [
    "\"www.sdu.edu.cn\".split('.')"
   ]
  },
  {
   "cell_type": "markdown",
   "metadata": {},
   "source": [
    "#### 例3.4 英文文章的词频基本分析（I），以《 AliceInWonderland 》为例"
   ]
  },
  {
   "cell_type": "code",
   "execution_count": null,
   "metadata": {
    "scrolled": true
   },
   "outputs": [],
   "source": [
    "#(3)用空格、\\n、\\t等分割单词，得到单词列表\n",
    "words  = txt.split()\n",
    "words"
   ]
  },
  {
   "cell_type": "code",
   "execution_count": null,
   "metadata": {
    "scrolled": true
   },
   "outputs": [],
   "source": []
  },
  {
   "cell_type": "markdown",
   "metadata": {},
   "source": [
    "**str.join(iter)**\n",
    "- 该方法中iter是一个具备迭代性质的变量，该方法将str字符串插入iter变量的元素之间，连接形成新的字符串。"
   ]
  },
  {
   "cell_type": "code",
   "execution_count": null,
   "metadata": {
    "scrolled": true
   },
   "outputs": [],
   "source": [
    "#列表的字符串元素连接方法\n",
    "' ,'.join([\"alpha\",\"bravo\",\"charlie\",'davis'])"
   ]
  },
  {
   "cell_type": "code",
   "execution_count": null,
   "metadata": {
    "scrolled": true
   },
   "outputs": [],
   "source": [
    "\" \".join('PYTHON')"
   ]
  },
  {
   "cell_type": "code",
   "execution_count": null,
   "metadata": {
    "scrolled": true
   },
   "outputs": [],
   "source": [
    "\"This string\\n\\r   has    many\\t\\tspaces\""
   ]
  },
  {
   "cell_type": "code",
   "execution_count": null,
   "metadata": {
    "scrolled": true
   },
   "outputs": [],
   "source": [
    "print(\"This string\\n\\r   has    many\\t\\tspaces\")"
   ]
  },
  {
   "cell_type": "code",
   "execution_count": null,
   "metadata": {
    "scrolled": true
   },
   "outputs": [],
   "source": [
    "\"This string\\n\\r   has    many\\t\\tspaces\".split()"
   ]
  },
  {
   "cell_type": "code",
   "execution_count": null,
   "metadata": {
    "scrolled": true
   },
   "outputs": [],
   "source": [
    "' '.join(\"This string\\n\\r   has    many\\t\\tspaces\".split())"
   ]
  },
  {
   "cell_type": "markdown",
   "metadata": {},
   "source": [
    "#### 例3.5 生成中文文章的词云图"
   ]
  },
  {
   "cell_type": "code",
   "execution_count": null,
   "metadata": {
    "scrolled": true
   },
   "outputs": [],
   "source": [
    "import jieba\n",
    "from wordcloud import WordCloud\n",
    "\n",
    "#读取文章内容\n",
    "oldtxt = open('开篇例题/data/长安十二时辰.txt', 'r', encoding='utf-8').read()   \n",
    "\n",
    "words = jieba.lcut(oldtxt)     #中文分词 \n",
    "words"
   ]
  },
  {
   "cell_type": "code",
   "execution_count": null,
   "metadata": {
    "scrolled": true
   },
   "outputs": [],
   "source": [
    "newtxt = ' '.join(words)      #用空格将中文词拼接成一个字符串 \n",
    "wordcloud = WordCloud(font_path=\"C:/Windows/Fonts/msyh.ttc\").generate(newtxt)   #生成词云，font_path=\"msyh.ttc\"为选择微软雅黑字体\n",
    "image = wordcloud.to_image()             #将词云对象转换成图片\n",
    "image.show()                             #显示词云图片            \n",
    "#wordcloud.to_file('data/ch0/长安十二时辰.png')\t# 保存图片"
   ]
  },
  {
   "cell_type": "code",
   "execution_count": null,
   "metadata": {
    "scrolled": true
   },
   "outputs": [],
   "source": [
    "?open"
   ]
  },
  {
   "cell_type": "markdown",
   "metadata": {},
   "source": [
    "<font size=3>  \n",
    "**str.count(sub[,start[, end]])方法**\n",
    "- 返回字符串str[start:end]中出现sub的次数，sub是一个字符串。"
   ]
  },
  {
   "cell_type": "code",
   "execution_count": null,
   "metadata": {
    "scrolled": true
   },
   "outputs": [],
   "source": [
    "f='山东大学是山东省的最高学府，主校区位于山东省济南市。'\n",
    "f.count('山东')"
   ]
  },
  {
   "cell_type": "markdown",
   "metadata": {},
   "source": [
    "#### 例3.4 英文文章的词频基本分析（I），以《 AliceInWonderland 》为例"
   ]
  },
  {
   "cell_type": "code",
   "execution_count": null,
   "metadata": {
    "scrolled": true
   },
   "outputs": [],
   "source": [
    "#(4)统计某个词出现的频数\n",
    "txt.count('alice')"
   ]
  },
  {
   "cell_type": "code",
   "execution_count": null,
   "metadata": {
    "scrolled": true
   },
   "outputs": [],
   "source": []
  },
  {
   "cell_type": "markdown",
   "metadata": {},
   "source": [
    "### 综合例题3.4 英文文本的词频简单分析(I)"
   ]
  },
  {
   "cell_type": "code",
   "execution_count": null,
   "metadata": {
    "scrolled": true
   },
   "outputs": [],
   "source": [
    "#(1)把字母都转换为小写字母\n",
    "txt = open(\"开篇例题/data/AliceInWonderland.txt \", \"r\").read()\n",
    "txt = txt.lower()\n",
    "\n",
    "#(2)把标点符号等都替换为一个空格\n",
    "for ch in '!\"#$%&()*+,-./:;<=>?@[\\\\]^_‘{|}~\\'0123456789':\n",
    "    txt = txt.replace(ch, \" \")   #将文本中特殊字符替换为空格\n",
    "\n",
    "#(3)用空格、\\n、\\t等分割单词，得到单词列表\n",
    "words  = txt.split()\n",
    "\n",
    "#(4)统计某个词出现的频数\n",
    "txt.count('alice')"
   ]
  },
  {
   "cell_type": "code",
   "execution_count": null,
   "metadata": {
    "scrolled": true
   },
   "outputs": [],
   "source": []
  },
  {
   "cell_type": "markdown",
   "metadata": {},
   "source": [
    "### 3.4.3 内置的字符串处理方法（续）\n",
    "**字符串在输出时的对齐：**\n",
    "\n",
    "**str.center(width, fillchar)方法**\n",
    "- 返回长度为width的字符串，其中:<br><br>\n",
    "    - str处于新字符串中心位置，两侧新增字符采用fillchar填充，当width小于字符串长度时，返回str。<br><br>\n",
    "    - 其中，fillchar是单个字符。<br><br>\n",
    "- 例如<br><br>\n",
    "f='Hello World!'&nbsp;&nbsp;&nbsp;&nbsp;#定义一个字符串<br><br>\n",
    "f.center(30,'-')&nbsp;&nbsp;&nbsp;&nbsp;#按30个字符输出，居中，不足用‘-’填充"
   ]
  },
  {
   "cell_type": "code",
   "execution_count": null,
   "metadata": {
    "scrolled": true
   },
   "outputs": [],
   "source": [
    "f='Hello World!'    #定义一个字符串"
   ]
  },
  {
   "cell_type": "code",
   "execution_count": null,
   "metadata": {
    "scrolled": true
   },
   "outputs": [],
   "source": [
    "print (f.center(30,'-'))    #按30个字符宽度输出，居中，不足用‘-’填充"
   ]
  },
  {
   "cell_type": "code",
   "execution_count": null,
   "metadata": {
    "scrolled": true
   },
   "outputs": [],
   "source": [
    "print (f.center(2,'-'))    #宽度参数比实际字符串长度小则按字符串长度（不用填充字符）"
   ]
  },
  {
   "cell_type": "markdown",
   "metadata": {},
   "source": [
    "### 3.4.3 内置的字符串处理方法（续）\n",
    "**字符串的测试**<br><br>\n",
    "这些方法返回的都是bool值：<br>\n",
    "    \n",
    "**字符串的测试方法都是非常有用的，用于判定字符串中的字符是否符合要求的**<br><br>\n",
    "- 例如"
   ]
  },
  {
   "cell_type": "code",
   "execution_count": null,
   "metadata": {
    "scrolled": true
   },
   "outputs": [],
   "source": [
    "grade = input(\"请输入成绩（0~100）：\")\n",
    "print (\"成绩为：\", grade)"
   ]
  },
  {
   "cell_type": "code",
   "execution_count": null,
   "metadata": {
    "scrolled": true
   },
   "outputs": [],
   "source": [
    "grade = input(\"请输入成绩（0~100）：\")\n",
    "if grade.isdigit():\n",
    "    print (\"成绩为：\", grade)\n",
    "else:\n",
    "    print(\"输入格式错误\")   "
   ]
  },
  {
   "cell_type": "code",
   "execution_count": null,
   "metadata": {
    "scrolled": true
   },
   "outputs": [],
   "source": [
    "'Aasd'.isalpha()"
   ]
  },
  {
   "cell_type": "markdown",
   "metadata": {},
   "source": [
    "### 3.4.3 内置的字符串处理方法（续）\n",
    "[点击可阅读更多的有关字符串对象的方法案例](http://www.cnblogs.com/Andy963/p/5073128.html)\n"
   ]
  },
  {
   "cell_type": "code",
   "execution_count": null,
   "metadata": {
    "scrolled": true
   },
   "outputs": [],
   "source": []
  },
  {
   "cell_type": "markdown",
   "metadata": {},
   "source": [
    "### 3.4.4 字符串的内部编码（补充）\n",
    "- Python3默认字符串的内部编码为Unicode\n",
    "<br><br>\n",
    "- 编码标准<br><br>\n",
    "  - 不同计算机若用不同内部编码，则彼此无法沟通.<br><br>\n",
    "- 标准化<br><br>\n",
    "  - ASCII:单字节编码,但只用到7位(0~127)<br><br>\n",
    "    - 96个可打印字符,32个控制字符<br><br>\n",
    "  - GB2312:两字节(7445字符/6763汉字)<br><br>\n",
    "  - GBK:两字节(21886字符/21003汉字),中文缺省编码<br><br>\n",
    "  - GB18030:最多四字节(76556字符/70244汉字)<br><br>\n",
    "  - ISO/IEC 10646或Unicode:最多四字节.<br><br>\n",
    "  - UTF-8用1到4个字节编码Unicode字符。用在网页上可以统一页面显示中文简繁体及其它语言（如英文，日文，韩文）。<br><br>\n",
    "\n",
    "- **Python程序中使用汉字**<br><br>\n",
    "  - 国际化:希望程序中显示中文信息<br><br>\n",
    "  - **中文Windows的缺省编码是GBK**<br><br>\n",
    "  - **Python3.X 源码文件默认使用utf-8编码，所以可以正常解析中文，无需指定 UTF-8 编码。**"
   ]
  },
  {
   "cell_type": "markdown",
   "metadata": {},
   "source": [
    "#### 编码与解码\n",
    "**编码(encode)**：\n",
    "- 在Unicode中，每一个字符都有一个唯一的数字表示，那么将Unicode字符串转换为特定字符编码（ASCII、UTF-8、GBK）对应的字节串的过程和规则就是编码。<br>\n",
    "\n",
    "**解码(decode)**：\n",
    "- 将特定字符编码（ASCII、UTF-8、GBK）的字节串转换为对应的Unicode字符串的过程和规则就是解码。\n",
    "\n",
    "**简单理解：编码是给计算机底层用的，解码是显示给人看的。**\n"
   ]
  },
  {
   "cell_type": "markdown",
   "metadata": {},
   "source": [
    "#### 字符编码的转换\n",
    "Unicode字符串可以与任意字符编码的字节串进行相互转换。\n",
    "\n",
    "从上图可以看出不同字节编码之间是可以通过Unicode来实现相互转换的。<br><br>\n",
    "对于单个字符的编码，Python提供了**ord()函数**获取字符的整数表示，**chr()函数**把编码转换为对应的字符："
   ]
  },
  {
   "cell_type": "code",
   "execution_count": null,
   "metadata": {
    "scrolled": true
   },
   "outputs": [],
   "source": [
    "ord('A')"
   ]
  },
  {
   "cell_type": "code",
   "execution_count": null,
   "metadata": {
    "scrolled": true
   },
   "outputs": [],
   "source": [
    "ord('中')"
   ]
  },
  {
   "cell_type": "code",
   "execution_count": null,
   "metadata": {
    "scrolled": true
   },
   "outputs": [],
   "source": [
    "chr(97)"
   ]
  },
  {
   "cell_type": "code",
   "execution_count": null,
   "metadata": {
    "scrolled": true
   },
   "outputs": [],
   "source": [
    "chr(20013)"
   ]
  },
  {
   "cell_type": "markdown",
   "metadata": {},
   "source": [
    "如果知道字符的整数编码，还可以用十六进制这么写字符串"
   ]
  },
  {
   "cell_type": "code",
   "execution_count": null,
   "metadata": {
    "scrolled": true
   },
   "outputs": [],
   "source": [
    "'\\u4e2d\\u6587'"
   ]
  },
  {
   "cell_type": "code",
   "execution_count": null,
   "metadata": {
    "scrolled": true
   },
   "outputs": [],
   "source": []
  },
  {
   "cell_type": "markdown",
   "metadata": {},
   "source": [
    "以Unicode表示的字符串通过**encode()方法**可以编码为指定的代码字节串。<br><br>\n",
    "在bytes中，无法显示为ASCII字符的字节，用\\x##显示。"
   ]
  },
  {
   "cell_type": "code",
   "execution_count": null,
   "metadata": {
    "scrolled": true
   },
   "outputs": [],
   "source": [
    "'ABC'.encode('ascii')"
   ]
  },
  {
   "cell_type": "code",
   "execution_count": null,
   "metadata": {
    "scrolled": true
   },
   "outputs": [],
   "source": [
    "'中文'.encode('utf-8')"
   ]
  },
  {
   "cell_type": "code",
   "execution_count": null,
   "metadata": {
    "scrolled": true
   },
   "outputs": [],
   "source": [
    "'中文'.encode('ascii')"
   ]
  },
  {
   "cell_type": "markdown",
   "metadata": {},
   "source": [
    "反过来，如果从网络或磁盘上读取了字节流，那么读到的数据就是bytes。要把bytes变为str，就需要用**decode()方法**："
   ]
  },
  {
   "cell_type": "code",
   "execution_count": null,
   "metadata": {
    "scrolled": true
   },
   "outputs": [],
   "source": [
    "b'ABC'.decode('ascii')"
   ]
  },
  {
   "cell_type": "code",
   "execution_count": null,
   "metadata": {
    "scrolled": true
   },
   "outputs": [],
   "source": [
    "b'\\xe4\\xb8\\xad\\xe6\\x96\\x87'.decode('utf-8')"
   ]
  },
  {
   "cell_type": "code",
   "execution_count": null,
   "metadata": {
    "scrolled": true
   },
   "outputs": [],
   "source": [
    "import urllib.request  \n",
    "response = urllib.request.urlopen('http://www.sdu.edu.cn/')  \n",
    "html = response.read() \n",
    "html"
   ]
  },
  {
   "cell_type": "code",
   "execution_count": null,
   "metadata": {
    "scrolled": true
   },
   "outputs": [],
   "source": [
    "html.decode('utf-8')"
   ]
  },
  {
   "cell_type": "markdown",
   "metadata": {},
   "source": [
    "Python3中定义的字符串默认就是unicode，因此不需要先解码，可以直接编码成新的字符编码：\n",
    "\n",
    "**字符串(str就是Unicode字符串)-->encode('新的字符编码')-->字节串**"
   ]
  },
  {
   "cell_type": "code",
   "execution_count": null,
   "metadata": {
    "scrolled": true
   },
   "outputs": [],
   "source": []
  },
  {
   "cell_type": "markdown",
   "metadata": {},
   "source": [
    "## 3.5 数据类型的判断和数据类型间的转换"
   ]
  },
  {
   "cell_type": "markdown",
   "metadata": {},
   "source": [
    "### 3.5.1 数据类型的判断\n",
    "函数：**type(x)**<br><br>\n",
    "功能：返回x的数据类型，适用于任何数据类型的判断\n",
    "<br><br>\n",
    "示例："
   ]
  },
  {
   "cell_type": "code",
   "execution_count": null,
   "metadata": {
    "scrolled": true
   },
   "outputs": [],
   "source": [
    "type(4.5)"
   ]
  },
  {
   "cell_type": "code",
   "execution_count": null,
   "metadata": {
    "scrolled": true
   },
   "outputs": [],
   "source": [
    "type(\"hello\")"
   ]
  },
  {
   "cell_type": "code",
   "execution_count": null,
   "metadata": {
    "scrolled": true
   },
   "outputs": [],
   "source": [
    "x = 4.5 + 3j\n",
    "type( x )"
   ]
  },
  {
   "cell_type": "code",
   "execution_count": null,
   "metadata": {
    "scrolled": true
   },
   "outputs": [],
   "source": [
    "type(3 > 5 )"
   ]
  },
  {
   "cell_type": "code",
   "execution_count": null,
   "metadata": {
    "scrolled": true
   },
   "outputs": [],
   "source": []
  },
  {
   "cell_type": "code",
   "execution_count": null,
   "metadata": {
    "scrolled": true
   },
   "outputs": [],
   "source": [
    "n = eval(input('请输入一个数字:'))\n",
    "if type(n) == type(123):\n",
    "    print(\"输入的数字是整数。\")\n",
    "elif type(n) == type(11.3):\n",
    "    print(\"输入的数字是浮点数。\")\n",
    "else:\n",
    "    print(\"无法判断输入类型。\")"
   ]
  },
  {
   "cell_type": "code",
   "execution_count": null,
   "metadata": {
    "scrolled": true
   },
   "outputs": [],
   "source": []
  },
  {
   "cell_type": "markdown",
   "metadata": {},
   "source": [
    "### 3.5.2 数字数据类型间的转换\n",
    "- 数值运算操作符可以**隐式地转换**输出结果的数字类型\n",
    "<br><br>\n",
    "  - 例如，两个整数采用运算符“/”的除法将可能输出浮点数结果。<br><br>\n",
    "&nbsp;&nbsp;&nbsp;&nbsp;print (10/3)"
   ]
  },
  {
   "cell_type": "code",
   "execution_count": null,
   "metadata": {
    "scrolled": true
   },
   "outputs": [],
   "source": [
    "print (10 / 2)"
   ]
  },
  {
   "cell_type": "code",
   "execution_count": null,
   "metadata": {
    "scrolled": true
   },
   "outputs": [],
   "source": [
    "print(3 ** 2)"
   ]
  },
  {
   "cell_type": "code",
   "execution_count": null,
   "metadata": {},
   "outputs": [],
   "source": [
    "print(2.1 + 6)"
   ]
  },
  {
   "cell_type": "markdown",
   "metadata": {},
   "source": [
    "- 此外，通过内置的数字类型转换函数可以**显式**地在数字类型之间进行转换  \n",
    "<br><br>\n",
    "  - 三种类型可以相互转换函数：\n",
    "<br><br>\n",
    "  - int()<br><br>\n",
    "  - float()<br><br>\n",
    "  - complex()\n",
    "<br><br>\n",
    "    - 示例：\n",
    "<br><br>\n",
    " int(4.5) 为 4 （直接去掉小数部分）\n",
    "<br><br>\n",
    " float(4) 为 4.0 （增加小数部分）\n",
    "<br><br>\n",
    " complex(4) 为 4 + 0J\n",
    "<br><br>\n",
    "complex(4.5) 为 4.5 + 0J"
   ]
  },
  {
   "cell_type": "code",
   "execution_count": null,
   "metadata": {
    "scrolled": true
   },
   "outputs": [],
   "source": [
    "int(4.5)"
   ]
  },
  {
   "cell_type": "code",
   "execution_count": null,
   "metadata": {
    "scrolled": true
   },
   "outputs": [],
   "source": [
    "float(5)"
   ]
  },
  {
   "cell_type": "code",
   "execution_count": null,
   "metadata": {
    "scrolled": false
   },
   "outputs": [],
   "source": [
    "int(4+6j)"
   ]
  },
  {
   "cell_type": "code",
   "execution_count": null,
   "metadata": {
    "scrolled": true
   },
   "outputs": [],
   "source": [
    "complex(4,6)"
   ]
  },
  {
   "cell_type": "code",
   "execution_count": null,
   "metadata": {
    "scrolled": true
   },
   "outputs": [],
   "source": []
  },
  {
   "cell_type": "markdown",
   "metadata": {},
   "source": [
    "### 3.5.3 数字类型与字符类型间的转换\n",
    "<br>**字符类型的数据转换为数字类型的数据**<br>\n",
    "- 可通过下面三个函数将类似于整数、浮点数或复数格式的字符串转为对应的数值类型数据。  \n",
    "<br>\n",
    "  - int()<br><br>\n",
    "  - float()<br><br>\n",
    "  - complex()"
   ]
  },
  {
   "cell_type": "code",
   "execution_count": null,
   "metadata": {
    "scrolled": true
   },
   "outputs": [],
   "source": [
    "int('+123')"
   ]
  },
  {
   "cell_type": "code",
   "execution_count": null,
   "metadata": {
    "scrolled": true
   },
   "outputs": [],
   "source": [
    "x = 4.5 + 2.1j\n",
    "x.real, x.imag"
   ]
  },
  {
   "cell_type": "code",
   "execution_count": null,
   "metadata": {
    "scrolled": true
   },
   "outputs": [],
   "source": [
    "print (int('123') + 10)"
   ]
  },
  {
   "cell_type": "code",
   "execution_count": null,
   "metadata": {
    "scrolled": true
   },
   "outputs": [],
   "source": [
    "int('123e3')"
   ]
  },
  {
   "cell_type": "code",
   "execution_count": null,
   "metadata": {
    "scrolled": true
   },
   "outputs": [],
   "source": [
    "float('123e3')"
   ]
  },
  {
   "cell_type": "code",
   "execution_count": null,
   "metadata": {
    "scrolled": true
   },
   "outputs": [],
   "source": [
    "complex('4.5+6j')"
   ]
  },
  {
   "cell_type": "code",
   "execution_count": null,
   "metadata": {
    "scrolled": true
   },
   "outputs": [],
   "source": [
    "float(True)"
   ]
  },
  {
   "cell_type": "code",
   "execution_count": null,
   "metadata": {
    "scrolled": true
   },
   "outputs": [],
   "source": [
    "complex(True)"
   ]
  },
  {
   "cell_type": "code",
   "execution_count": null,
   "metadata": {
    "scrolled": true
   },
   "outputs": [],
   "source": [
    "int(False)"
   ]
  },
  {
   "cell_type": "markdown",
   "metadata": {},
   "source": [
    "**数字类型的数据转换为字符类型的数据**<br>\n",
    "- 使用**str()**函数将数值表达式的运算结果转换为字符串数据。"
   ]
  },
  {
   "cell_type": "code",
   "execution_count": null,
   "metadata": {
    "scrolled": true
   },
   "outputs": [],
   "source": [
    "str(101 + 5.6)"
   ]
  },
  {
   "cell_type": "code",
   "execution_count": null,
   "metadata": {
    "scrolled": true
   },
   "outputs": [],
   "source": [
    "str(False)"
   ]
  },
  {
   "cell_type": "markdown",
   "metadata": {},
   "source": [
    "## 3.6 实例解析——恺撒密码\n",
    "- 凯撒密码是古罗马凯撒大帝用来对军事情报进行加密的算法，它采用了替换方法对信息中的每一个英文字符循环替换为字母表序列该字符后面第三个字符，对应关系如下：\n",
    "<br><br>\n",
    "原文：A B C D E F G H I J K L M N O P Q R S T U V W X Y Z\n",
    "<br><br>\n",
    "密文：D E F G H I J K L M N O P Q R S T U V W X Y Z A B C\n",
    "<br><br>\n",
    "原文字符P，其密文字符C满足如下条件：\n",
    "<br><br>\n",
    "C = ( P + 3 ) mod 26\n",
    "<br><br>\n",
    "解密方法反之，满足：\n",
    "<br><br>\n",
    "P = ( C – 3 ) mod 26"
   ]
  },
  {
   "cell_type": "code",
   "execution_count": null,
   "metadata": {
    "scrolled": true
   },
   "outputs": [],
   "source": []
  },
  {
   "cell_type": "markdown",
   "metadata": {},
   "source": [
    "#### 恺撒密码-加密\n",
    "恺撒密码的加密算法程序首先接收用户输入的文本，然后对字母a-z和字母A-Z按照密码算法进行转换。"
   ]
  },
  {
   "cell_type": "code",
   "execution_count": null,
   "metadata": {
    "scrolled": true
   },
   "outputs": [],
   "source": [
    "# CaesarEncode.py\n",
    "ptxt = input(\"请输入明文文本: \")\n",
    "print (\"密文为：\", end = ' ')\n",
    "for p in ptxt:\n",
    "    if \"a\" <= p <= \"z\":\n",
    "        print(chr(ord(\"a\")+(ord(p)-ord(\"a\")+3)%26), end='')\n",
    "    elif \"A\" <= p <= \"Z\":\n",
    "        print(chr(ord(\"A\")+(ord(p)-ord(\"A\")+3)%26), end='')\n",
    "    else:\n",
    "        print(p, end='')"
   ]
  },
  {
   "cell_type": "code",
   "execution_count": null,
   "metadata": {
    "scrolled": true
   },
   "outputs": [],
   "source": []
  },
  {
   "cell_type": "code",
   "execution_count": null,
   "metadata": {
    "scrolled": true
   },
   "outputs": [],
   "source": [
    "for ch in 'abcdefghijklmnopqrstuvwxyz':\n",
    "    print(ord(ch), end = ' ')"
   ]
  },
  {
   "cell_type": "code",
   "execution_count": null,
   "metadata": {
    "scrolled": true
   },
   "outputs": [],
   "source": [
    "#以输入'x'为例，'x'的内码为120\n",
    "print (ord('a'), ord('x'))"
   ]
  },
  {
   "cell_type": "code",
   "execution_count": null,
   "metadata": {
    "scrolled": true
   },
   "outputs": [],
   "source": [
    "#在凯撒密码加密过程中，'x'应装换为'a'，但\n",
    "print (chr(ord('x') + 3))"
   ]
  },
  {
   "cell_type": "code",
   "execution_count": null,
   "metadata": {
    "scrolled": true
   },
   "outputs": [],
   "source": [
    "#因此，先求在26个英文字符的顺序号，假设'a'的序号为0，则'x'的为23，最大'z'的为25\n",
    "print (ord('x') - ord('a'))"
   ]
  },
  {
   "cell_type": "code",
   "execution_count": null,
   "metadata": {
    "scrolled": true
   },
   "outputs": [],
   "source": [
    "print (ord('x') - ord('a') + 3)"
   ]
  },
  {
   "cell_type": "code",
   "execution_count": null,
   "metadata": {
    "scrolled": true
   },
   "outputs": [],
   "source": [
    "print ((ord('x') - ord('a') + 3) % 26)    #转换为'a'的序号"
   ]
  },
  {
   "cell_type": "code",
   "execution_count": null,
   "metadata": {
    "scrolled": true
   },
   "outputs": [],
   "source": [
    "print (ord('a') + (ord('x') - ord('a') + 3) % 26)  #转换为'a'的内码"
   ]
  },
  {
   "cell_type": "code",
   "execution_count": null,
   "metadata": {
    "scrolled": true
   },
   "outputs": [],
   "source": [
    "print (chr(ord('a') + (ord('x') - ord('a') + 3) % 26))  #转换为'a'的字符"
   ]
  },
  {
   "cell_type": "code",
   "execution_count": null,
   "metadata": {
    "scrolled": true
   },
   "outputs": [],
   "source": []
  },
  {
   "cell_type": "markdown",
   "metadata": {},
   "source": [
    "#### 恺撒密码-解密\n",
    "恺撒密码的解密算法程序首先接收用户输入的加密文本，然后对字母a-z和字 母A-Z按照密 码算法进行反向转换。"
   ]
  },
  {
   "cell_type": "code",
   "execution_count": null,
   "metadata": {
    "scrolled": true
   },
   "outputs": [],
   "source": [
    "# CaesarDecode.py\n",
    "etxt = input(\"请输入加密后文本: \")\n",
    "print (\"解密后明文为：\", end = ' ')\n",
    "for p in etxt:\n",
    "    if \"a\" <= p <= \"z\":\n",
    "        print(chr(ord(\"a\")+(ord(p)-ord(\"a\")-3)%26), end='')  \n",
    "    elif \"A\" <= p <= \"Z\":\n",
    "        print(chr(ord(\"A\")+(ord(p)-ord(\"A\")-3)%26), end='')\n",
    "    else:\n",
    "        print(p, end='')"
   ]
  },
  {
   "cell_type": "code",
   "execution_count": null,
   "metadata": {
    "scrolled": true
   },
   "outputs": [],
   "source": [
    "-3%26"
   ]
  },
  {
   "cell_type": "markdown",
   "metadata": {},
   "source": [
    "## 3.7 布尔类型及其运算符和表达式\n",
    "\n",
    "### 3.7.1 布尔常量\n",
    "**True**和**False**"
   ]
  },
  {
   "cell_type": "code",
   "execution_count": null,
   "metadata": {
    "scrolled": true
   },
   "outputs": [],
   "source": [
    "True"
   ]
  },
  {
   "cell_type": "code",
   "execution_count": null,
   "metadata": {
    "scrolled": true
   },
   "outputs": [],
   "source": [
    "False"
   ]
  },
  {
   "cell_type": "code",
   "execution_count": null,
   "metadata": {
    "scrolled": true
   },
   "outputs": [],
   "source": []
  },
  {
   "cell_type": "markdown",
   "metadata": {},
   "source": [
    "### 3.7.2 比较（关系）运算符及其表达式\n",
    "- 两个相同或相类似数据类型的表达式进行比较运算，其值为布尔值（True或False）。<br><br>\n",
    "- 用于判定两个数据是否满足比较运算符给定的关系。<br><br>\n",
    "- 主要用于条件语句或循环语句等的简单条件。<br><br>\n",
    "  \n",
    "**试想：两个字符串按照什么规则比较？**\n"
   ]
  },
  {
   "cell_type": "code",
   "execution_count": null,
   "metadata": {},
   "outputs": [],
   "source": [
    "print(ord('Z') , ord('a') , 'Z' < 'a')"
   ]
  },
  {
   "cell_type": "code",
   "execution_count": null,
   "metadata": {},
   "outputs": [],
   "source": []
  },
  {
   "cell_type": "code",
   "execution_count": null,
   "metadata": {
    "scrolled": true
   },
   "outputs": [],
   "source": [
    "\"like\" < \"layke\""
   ]
  },
  {
   "cell_type": "code",
   "execution_count": null,
   "metadata": {
    "scrolled": true
   },
   "outputs": [],
   "source": [
    "\"Like\" < \"like\""
   ]
  },
  {
   "cell_type": "code",
   "execution_count": null,
   "metadata": {
    "scrolled": true
   },
   "outputs": [],
   "source": [
    "\"like\" > \"li\""
   ]
  },
  {
   "cell_type": "code",
   "execution_count": null,
   "metadata": {
    "scrolled": true
   },
   "outputs": [],
   "source": [
    "age = eval(input('请输入一个年龄：'))\n",
    "if age >= 18:\n",
    "    print ('adult')\n",
    "else:\n",
    "    print ('teenager')"
   ]
  },
  {
   "cell_type": "code",
   "execution_count": null,
   "metadata": {
    "scrolled": true
   },
   "outputs": [],
   "source": []
  },
  {
   "cell_type": "code",
   "execution_count": null,
   "metadata": {},
   "outputs": [],
   "source": [
    "courses = ('Python与数据分析', '高级计量经济学', '高级宏观经济学', '高级微观经济学')\n",
    "course = input('请输入所选课程：')\n",
    "if course in courses:\n",
    "    print('该课程在培养计划中！')\n",
    "else:\n",
    "    print('该课程不在培养计划中，不能选这门课程！')"
   ]
  },
  {
   "cell_type": "code",
   "execution_count": null,
   "metadata": {},
   "outputs": [],
   "source": []
  },
  {
   "cell_type": "code",
   "execution_count": null,
   "metadata": {},
   "outputs": [],
   "source": [
    "a = 1\n",
    "b = 1\n",
    "c = 1.0\n",
    "print( a is b , a == b , a is c , a == c , a is True , a == True)"
   ]
  },
  {
   "cell_type": "code",
   "execution_count": null,
   "metadata": {},
   "outputs": [],
   "source": [
    "print(id(a) , id(b), id(c), id(True))"
   ]
  },
  {
   "cell_type": "markdown",
   "metadata": {},
   "source": [
    "### 3.7.3 逻辑运算符及其表达式\n",
    "- 一个或两个其值为布尔值的表达式进行逻辑运算，其值为布尔值（True或False）。<br><br>\n",
    "- 主要用于条件语句或循环语句等的复杂条件（两个或两个以上的条件组合）。<br><br>\n",
    ">逻辑运算符及其运算如下：  \n",
    "\n",
    "  - and运算是与运算，要求两个都必须为True，and运算的结果才为True；否则只要有一个为False， and运算的结果就为False。<br><br>\n",
    "  - or运算是或运算，只要其中有一个为True，or运算结果就是True；否则两个都为False， or运算结果才为False。<br><br>\n",
    "  - not运算是非运算，它是一个单目运算符，把True变成False，False变成True："
   ]
  },
  {
   "cell_type": "code",
   "execution_count": null,
   "metadata": {
    "scrolled": true
   },
   "outputs": [],
   "source": [
    "not True"
   ]
  },
  {
   "cell_type": "code",
   "execution_count": null,
   "metadata": {
    "scrolled": true
   },
   "outputs": [],
   "source": [
    "not False"
   ]
  },
  {
   "cell_type": "code",
   "execution_count": null,
   "metadata": {
    "scrolled": true
   },
   "outputs": [],
   "source": [
    "age = eval(input('请输入一个年龄：'))\n",
    "if not age < 18:\n",
    "    print ('adult')\n",
    "else:\n",
    "    print ('teenager')"
   ]
  },
  {
   "cell_type": "code",
   "execution_count": null,
   "metadata": {},
   "outputs": [],
   "source": []
  },
  {
   "cell_type": "code",
   "execution_count": null,
   "metadata": {
    "scrolled": true
   },
   "outputs": [],
   "source": [
    "True and True"
   ]
  },
  {
   "cell_type": "code",
   "execution_count": null,
   "metadata": {
    "scrolled": true
   },
   "outputs": [],
   "source": [
    "True and False"
   ]
  },
  {
   "cell_type": "code",
   "execution_count": null,
   "metadata": {
    "scrolled": true
   },
   "outputs": [],
   "source": [
    "False and False"
   ]
  },
  {
   "cell_type": "code",
   "execution_count": null,
   "metadata": {
    "scrolled": true
   },
   "outputs": [],
   "source": [
    "# CaesarEncode.py\n",
    "etxt = input(\"请输入原文文本: \")\n",
    "print (\"加密后密文为：\", end = ' ')\n",
    "for p in etxt:\n",
    "    if \"a\" <= p <= \"z\":\n",
    "        print(chr(ord(\"a\")+(ord(p)-ord(\"a\")+3)%26), end='')  \n",
    "    elif \"A\" <= p <= \"Z\":\n",
    "        print(chr(ord(\"A\")+(ord(p)-ord(\"A\")+3)%26), end='')\n",
    "    else:\n",
    "        print(p, end='')"
   ]
  },
  {
   "cell_type": "code",
   "execution_count": null,
   "metadata": {
    "scrolled": true
   },
   "outputs": [],
   "source": [
    "# CaesarEncode.py\n",
    "etxt = input(\"请输入原文文本: \")\n",
    "print (\"加密后密文为：\", end = ' ')\n",
    "for p in etxt:\n",
    "    if \"a\" <= p and p <= \"z\":\n",
    "        print(chr(ord(\"a\")+(ord(p)-ord(\"a\")+3)%26), end='')  \n",
    "    elif \"A\" <= p and p <= \"Z\":\n",
    "        print(chr(ord(\"A\")+(ord(p)-ord(\"A\")+3)%26), end='')\n",
    "    else:\n",
    "        print(p, end='')"
   ]
  },
  {
   "cell_type": "code",
   "execution_count": null,
   "metadata": {
    "scrolled": true
   },
   "outputs": [],
   "source": []
  },
  {
   "cell_type": "code",
   "execution_count": null,
   "metadata": {
    "scrolled": true
   },
   "outputs": [],
   "source": [
    "True or True"
   ]
  },
  {
   "cell_type": "code",
   "execution_count": null,
   "metadata": {
    "scrolled": true
   },
   "outputs": [],
   "source": [
    "True or False"
   ]
  },
  {
   "cell_type": "code",
   "execution_count": null,
   "metadata": {
    "scrolled": true
   },
   "outputs": [],
   "source": [
    "False or False"
   ]
  },
  {
   "cell_type": "markdown",
   "metadata": {},
   "source": [
    "**例题 输入一个年份，输出是否为闰年。**\n",
    "\n",
    "闰年条件：能被4整除但不能被100整除，或者能被400整除的年份都是闰年。"
   ]
  },
  {
   "cell_type": "code",
   "execution_count": null,
   "metadata": {},
   "outputs": [],
   "source": [
    "y = eval(input('请输入年份：'))\n",
    "if y % 4 == 0 and y % 100 != 0 or y % 400 == 0:\n",
    "    print('{}是闰年。'.format(y))\n",
    "else:\n",
    "    print('{}不是闰年。'.format(y))"
   ]
  },
  {
   "cell_type": "markdown",
   "metadata": {},
   "source": [
    "**特殊真值表**"
   ]
  },
  {
   "cell_type": "code",
   "execution_count": null,
   "metadata": {
    "scrolled": true
   },
   "outputs": [],
   "source": [
    "n = eval(input('请输入一个数：'))\n",
    "if n:\n",
    "    print ('{}是一个非零数！'.format(n))\n",
    "else:\n",
    "    print ('{}是一个零！'.format(n))"
   ]
  },
  {
   "cell_type": "code",
   "execution_count": null,
   "metadata": {
    "scrolled": true
   },
   "outputs": [],
   "source": [
    "print( 12 + True , 12 + False )"
   ]
  },
  {
   "cell_type": "markdown",
   "metadata": {},
   "source": [
    "## 3.8 运算符优先级\n",
    "如果有一个如2 + 3 * 4那样的表达式，是先做加法呢，还是先做乘法？ <br><br>\n",
    "- 应当先做乘法——这意味着乘法运算符的优先级高于加法运算符 。 <br><br>\n",
    "**下面给出Python运算符优先级（由高向低）。** <br>\n",
    "\n",
    "- 建议使用**圆括号**来分组运算符和操作数，以便能够明确地指出运算的先后顺序，使程序尽可能地易读。<br><br>\n",
    "  - 例如，$2 + (3 * 4)$显然比$2 + 3 * 4$清晰。<br><br>\n",
    "  - 与此同时，圆括号也应该正确使用，而不应该用得过滥，比如：(2 + (3 + 4))。 \n",
    "\n",
    "<br><br>\n",
    "**计算顺序**<br><br>\n",
    "- 默认地，运算符优先级表决定了哪个运算符在别的运算符之前计算。然而，如果想要改变它们的计算顺序，可以使用圆括号（用**圆括号**来改变运算的优先级）。<br><br>\n",
    "  - 例如，想要在一个表达式中让加法在乘法之前计算，那么就可以写成类似(2 + 3) * 4的样子。\n",
    "\n",
    "<br><br>\n",
    "**结合规律**<br><br>\n",
    "- 运算符通常由左向右结合，即具有相同优先级的运算符按照从左向右的顺序计算。<br><br>\n",
    "  - 例如，2 + 3 + 4被计算成(2 + 3) + 4。<br><br>\n",
    "- 一些如赋值运算符那样的运算符是由右向左结合的，即a = b = c被处理为a = (b = c)。\n"
   ]
  },
  {
   "cell_type": "code",
   "execution_count": null,
   "metadata": {
    "scrolled": true
   },
   "outputs": [],
   "source": []
  }
 ],
 "metadata": {
  "kernelspec": {
   "display_name": "Python 3 (ipykernel)",
   "language": "python",
   "name": "python3"
  },
  "language_info": {
   "codemirror_mode": {
    "name": "ipython",
    "version": 3
   },
   "file_extension": ".py",
   "mimetype": "text/x-python",
   "name": "python",
   "nbconvert_exporter": "python",
   "pygments_lexer": "ipython3",
   "version": "3.9.13"
  }
 },
 "nbformat": 4,
 "nbformat_minor": 2
}
