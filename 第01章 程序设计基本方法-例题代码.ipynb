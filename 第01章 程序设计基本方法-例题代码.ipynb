{
 "cells": [
  {
   "cell_type": "markdown",
   "metadata": {},
   "source": [
    "# 第1章 程序设计基本方法"
   ]
  },
  {
   "cell_type": "markdown",
   "metadata": {},
   "source": [
    "### 例1.1 求圆面积的Python程序"
   ]
  },
  {
   "cell_type": "code",
   "execution_count": 2,
   "metadata": {},
   "outputs": [
    {
     "name": "stdout",
     "output_type": "stream",
     "text": [
      "圆面积为： 452.38933440000005\n"
     ]
    }
   ],
   "source": [
    "r = 10\n",
    "print('圆面积为：', 3.1415926 * r * r)        #显示计算的圆面积"
   ]
  },
  {
   "cell_type": "code",
   "execution_count": 4,
   "metadata": {},
   "outputs": [
    {
     "name": "stdout",
     "output_type": "stream",
     "text": [
      "请输入圆的半径：10\n",
      "圆面积为： 314.15926\n"
     ]
    }
   ],
   "source": [
    "r = eval(input('请输入圆的半径：'))      #键盘输入圆半径\n",
    "s = 3.1415926 * r * r                    #计算圆的面积\n",
    "print('圆面积为：', s)                   #显示处理的结果"
   ]
  },
  {
   "cell_type": "code",
   "execution_count": 2,
   "metadata": {},
   "outputs": [
    {
     "name": "stdout",
     "output_type": "stream",
     "text": [
      "请输入圆的半径：20\n"
     ]
    }
   ],
   "source": [
    "r = eval(input('请输入圆的半径：'))    #键盘输入圆半径\n",
    "\n",
    "s = 3.1415926 * r * r                  #计算圆的面积\n",
    "\n",
    "print('圆面积为：', s)                 #显示处理的结果"
   ]
  },
  {
   "cell_type": "markdown",
   "metadata": {},
   "source": [
    "### 例1.2 求一元二次方程的实数根"
   ]
  },
  {
   "cell_type": "code",
   "execution_count": 7,
   "metadata": {
    "scrolled": false
   },
   "outputs": [
    {
     "name": "stdout",
     "output_type": "stream",
     "text": [
      "请输入系数a:5\n",
      "请输入系数b:1\n",
      "请输入系数c:6\n",
      "无实根！\n"
     ]
    }
   ],
   "source": [
    "a = eval(input('请输入系数a:'))\n",
    "b = eval(input('请输入系数b:'))\n",
    "c = eval(input('请输入系数c:'))\n",
    "d = b ** 2 -4 * a * c\n",
    "if d > 0 :\n",
    "     print('两个实根：', (- b + d ** 0.5) / (2 * a), (- b - d ** 0.5) / (2 * a))\n",
    "elif d == 0 :\n",
    "     print('一个实根：', - b / (2 * a))\n",
    "else:\n",
    "     print('无实根！')"
   ]
  },
  {
   "cell_type": "code",
   "execution_count": null,
   "metadata": {},
   "outputs": [],
   "source": []
  },
  {
   "cell_type": "markdown",
   "metadata": {},
   "source": [
    "### 案例：例1.3 欧几里德算法--求最大公约数"
   ]
  },
  {
   "cell_type": "code",
   "execution_count": null,
   "metadata": {},
   "outputs": [],
   "source": [
    "#欧几里德算法--求最大公约数\n",
    "a = eval(input(\"请输入自然数a的值：\"))\n",
    "b = eval(input(\"请输入自然数b的值：\"))\n",
    "r = a % b                    #a被b整除，取余数\n",
    "while r != 0:               #余数r不等于零\n",
    "    a = b                   #除数b赋给a作为被除数\n",
    "    b = r                   #余数r赋给b作为除数\n",
    "    r = a % b               #a被b整除，取余数\n",
    "print (\"a, b的最大公约数:\",b)"
   ]
  },
  {
   "cell_type": "code",
   "execution_count": null,
   "metadata": {},
   "outputs": [],
   "source": [
    "#案例：欧几里德算法--求最大公约数，程序代码（Python语言实现——子算法，函数）\n",
    "def GCD(x, y):\n",
    "    r = x % y                    #x被y整除，取余数\n",
    "    while r != 0:               #余数r不等于零\n",
    "        x = y                       #除数y赋给x作为被除数\n",
    "        y = r                       #余数r赋给y作为除数\n",
    "        r = x % y               #x被y整除，取余数\n",
    "    return y"
   ]
  },
  {
   "cell_type": "code",
   "execution_count": null,
   "metadata": {
    "scrolled": true
   },
   "outputs": [],
   "source": [
    "a = eval(input(\"请输入自然数a的值：\"))\n",
    "b = eval(input(\"请输入自然数b的值：\"))\n",
    "print ('a, b的最大公约数:', GCD(a, b))"
   ]
  },
  {
   "cell_type": "code",
   "execution_count": null,
   "metadata": {},
   "outputs": [],
   "source": []
  },
  {
   "cell_type": "markdown",
   "metadata": {},
   "source": [
    "### 例1.4 Python的Hello程序只有一行代码"
   ]
  },
  {
   "cell_type": "code",
   "execution_count": null,
   "metadata": {},
   "outputs": [],
   "source": [
    "print('Hello, World!')"
   ]
  },
  {
   "cell_type": "code",
   "execution_count": null,
   "metadata": {},
   "outputs": [],
   "source": []
  },
  {
   "cell_type": "markdown",
   "metadata": {},
   "source": [
    "### 例1.5 程序的构成——以求圆面积的Python程序为例"
   ]
  },
  {
   "cell_type": "code",
   "execution_count": null,
   "metadata": {},
   "outputs": [],
   "source": [
    "raduis = eval(input('请输入圆的半径：'))        #键盘输入圆半径\n",
    "area = 3.1415926 * raduis * raduis              #计算圆面积\n",
    "print('圆面积为：', area)                       #显示结果"
   ]
  },
  {
   "cell_type": "code",
   "execution_count": null,
   "metadata": {},
   "outputs": [],
   "source": []
  },
  {
   "cell_type": "markdown",
   "metadata": {},
   "source": [
    "## 1.5 Python实例展示"
   ]
  },
  {
   "cell_type": "code",
   "execution_count": 8,
   "metadata": {},
   "outputs": [
    {
     "name": "stdout",
     "output_type": "stream",
     "text": [
      "0,1,1,2,3,5,8,13,21,34,55,89,144,233,377,610,987,"
     ]
    }
   ],
   "source": [
    "#实例1 斐波那契数列的计算\n",
    "a, b = 0, 1\n",
    "while a < 1000:  # 输出不大于1000的序列\n",
    "    print(a, end=',')\n",
    "    a, b = b, a + b      #b为f(n-1)赋值给a（变为f(n-2))，原a的值f(n-2）"
   ]
  },
  {
   "cell_type": "code",
   "execution_count": 9,
   "metadata": {
    "scrolled": true
   },
   "outputs": [
    {
     "name": "stdout",
     "output_type": "stream",
     "text": [
      "请输入圆半径：12\n",
      "452.376\n",
      "452.38\n"
     ]
    }
   ],
   "source": [
    "#实例2 圆面积的计算\n",
    "r = eval(input('请输入圆半径：'))   # 圆的半径是25\n",
    "area = 3.1415 * r * r  \n",
    "print(area)\n",
    "print(\"{:.2f}\".format(area))    # 只输出两位小数"
   ]
  },
  {
   "cell_type": "code",
   "execution_count": 1,
   "metadata": {},
   "outputs": [],
   "source": [
    "#实例3 绘制五角红星\n",
    "from turtle import *    #引入turtle绘图库的所有函数\n",
    "setup(300 , 300)\n",
    "shape(name='turtle') #设置画笔的形状 \n",
    "color('red', 'red')     #设置背景及前景颜色\n",
    "penup()\n",
    "goto(-100 , 0)\n",
    "pendown()"
   ]
  },
  {
   "cell_type": "code",
   "execution_count": 2,
   "metadata": {},
   "outputs": [],
   "source": [
    "begin_fill()            #开始填充颜色\n",
    "\n",
    "fd(200)                 #向前200\n",
    "rt(144)                 #右旋144度"
   ]
  },
  {
   "cell_type": "code",
   "execution_count": 2,
   "metadata": {},
   "outputs": [],
   "source": [
    "fd(200)                 #向前200\n",
    "rt(144)                 #右旋144度"
   ]
  },
  {
   "cell_type": "code",
   "execution_count": 3,
   "metadata": {},
   "outputs": [],
   "source": [
    "fd(200)                 #向前200\n",
    "rt(144)                 #右旋144度"
   ]
  },
  {
   "cell_type": "code",
   "execution_count": 4,
   "metadata": {},
   "outputs": [],
   "source": [
    "fd(200)                 #向前200\n",
    "rt(144)                 #右旋144度"
   ]
  },
  {
   "cell_type": "code",
   "execution_count": 5,
   "metadata": {},
   "outputs": [],
   "source": [
    "fd(200)                 #向前200\n",
    "rt(144)                 #右旋144度"
   ]
  },
  {
   "cell_type": "code",
   "execution_count": 6,
   "metadata": {},
   "outputs": [],
   "source": [
    "end_fill()              #结束填充颜色\n",
    "done()                  #结束绘图"
   ]
  },
  {
   "cell_type": "code",
   "execution_count": 3,
   "metadata": {},
   "outputs": [],
   "source": [
    "#实例3 绘制五角红星，用循环\n",
    "from turtle import *    #引入turtle绘图库的所有函数\n",
    "color('red', 'red')     #设置背景及前景颜色\n",
    "begin_fill()            #开始填充颜色\n",
    "for i in range(5):      #循环，i分别取0、1、2、3、4，range(n)产生0~n-1的n个自然数\n",
    "    fd(200)                 #向前200\n",
    "    rt(144)                 #右旋144度\n",
    "end_fill()              #结束填充颜色\n",
    "done()                  #结束绘图"
   ]
  },
  {
   "cell_type": "code",
   "execution_count": 1,
   "metadata": {},
   "outputs": [],
   "source": [
    "for i in range(5):\n",
    "    fd(220)\n",
    "    rt(144)\n"
   ]
  },
  {
   "cell_type": "code",
   "execution_count": 6,
   "metadata": {},
   "outputs": [
    {
     "name": "stdout",
     "output_type": "stream",
     "text": [
      "程序运行时间是:0.8686809000000721秒\n"
     ]
    }
   ],
   "source": [
    "#实例4 程序运行计时，对一个循环计数一千万次的程序记录并输出其运行时间\n",
    "import time                                          #引入time库\n",
    "limit = 10*1000*1000          \n",
    "start = time.perf_counter()                          #返回计时器的精准时间\n",
    "while True:                                          #循环，条件为真值     \n",
    "    limit -= 1                                            #limit减1\n",
    "    if limit <= 0:                                        #判定limit是否小于或等于0\n",
    "        break                                                  #如果满足判定条件，强行退出循环\n",
    "delta = time.perf_counter() - start                  #计算所用时间\n",
    "print(\"程序运行时间是:{}秒\".format(delta))           #输出所用时间"
   ]
  },
  {
   "cell_type": "code",
   "execution_count": 4,
   "metadata": {},
   "outputs": [
    {
     "data": {
      "text/plain": [
       "6674.5597913"
      ]
     },
     "execution_count": 4,
     "metadata": {},
     "output_type": "execute_result"
    }
   ],
   "source": [
    "import time\n",
    "time.perf_counter()"
   ]
  },
  {
   "cell_type": "code",
   "execution_count": 5,
   "metadata": {},
   "outputs": [
    {
     "data": {
      "text/plain": [
       "6689.1517654"
      ]
     },
     "execution_count": 5,
     "metadata": {},
     "output_type": "execute_result"
    }
   ],
   "source": [
    "time.perf_counter()"
   ]
  },
  {
   "cell_type": "code",
   "execution_count": null,
   "metadata": {},
   "outputs": [],
   "source": []
  },
  {
   "cell_type": "code",
   "execution_count": 8,
   "metadata": {},
   "outputs": [],
   "source": [
    "#实例5 绘制七彩圆圈\n",
    "import turtle                                                                #引入turtle库\n",
    "colors = ['red', 'orange', 'yellow', 'green', 'blue', 'indigo', 'purple']    #将由7种颜色字符串组成的序列数据赋给colors变量\n",
    "for i in range(7):                                                           #循环，i每次循环分别取0、1、2、3、4、5、6\n",
    "    c = colors[i]                                                           #将colors变量中第i个元素（颜色字符串）赋给变量c\n",
    "    turtle.color(c, c)\n",
    "    turtle.begin_fill()\n",
    "    turtle.rt(360/7)                                                        #右旋360/7度\n",
    "    turtle.circle(50)                                                       #画圆，半径为50\n",
    "    turtle.end_fill()\n",
    "turtle.done()"
   ]
  },
  {
   "cell_type": "code",
   "execution_count": null,
   "metadata": {},
   "outputs": [],
   "source": []
  }
 ],
 "metadata": {
  "kernelspec": {
   "display_name": "Python 3 (ipykernel)",
   "language": "python",
   "name": "python3"
  },
  "language_info": {
   "codemirror_mode": {
    "name": "ipython",
    "version": 3
   },
   "file_extension": ".py",
   "mimetype": "text/x-python",
   "name": "python",
   "nbconvert_exporter": "python",
   "pygments_lexer": "ipython3",
   "version": "3.9.13"
  }
 },
 "nbformat": 4,
 "nbformat_minor": 2
}
